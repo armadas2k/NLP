{
  "cells": [
    {
      "cell_type": "code",
      "execution_count": null,
      "id": "4ba86a1b",
      "metadata": {
        "id": "4ba86a1b"
      },
      "outputs": [],
      "source": [
        "import pandas as pd\n",
        "import warnings\n",
        "warnings.filterwarnings('ignore')\n",
        "warnings.simplefilter('ignore')"
      ]
    },
    {
      "cell_type": "code",
      "execution_count": null,
      "id": "375c20ee",
      "metadata": {
        "id": "375c20ee"
      },
      "outputs": [],
      "source": [
        "data = pd.read_excel('DataText.xlsx')"
      ]
    },
    {
      "cell_type": "code",
      "execution_count": null,
      "id": "27f840d3",
      "metadata": {
        "id": "27f840d3",
        "outputId": "8921fced-6483-4789-ed6d-e0360a9d0734"
      },
      "outputs": [
        {
          "data": {
            "text/html": [
              "<div>\n",
              "<style scoped>\n",
              "    .dataframe tbody tr th:only-of-type {\n",
              "        vertical-align: middle;\n",
              "    }\n",
              "\n",
              "    .dataframe tbody tr th {\n",
              "        vertical-align: top;\n",
              "    }\n",
              "\n",
              "    .dataframe thead th {\n",
              "        text-align: right;\n",
              "    }\n",
              "</style>\n",
              "<table border=\"1\" class=\"dataframe\">\n",
              "  <thead>\n",
              "    <tr style=\"text-align: right;\">\n",
              "      <th></th>\n",
              "      <th>activity name</th>\n",
              "    </tr>\n",
              "  </thead>\n",
              "  <tbody>\n",
              "    <tr>\n",
              "      <th>0</th>\n",
              "      <td>Юмор Мемуары ценителей научных мемов</td>\n",
              "    </tr>\n",
              "    <tr>\n",
              "      <th>1</th>\n",
              "      <td>Юмор мемгу</td>\n",
              "    </tr>\n",
              "    <tr>\n",
              "      <th>2</th>\n",
              "      <td>Финансы Рофлы с Волк Стрит</td>\n",
              "    </tr>\n",
              "    <tr>\n",
              "      <th>3</th>\n",
              "      <td>Объявления Хабр Карьера</td>\n",
              "    </tr>\n",
              "    <tr>\n",
              "      <th>4</th>\n",
              "      <td>Финансы Фиксируем Прибыль</td>\n",
              "    </tr>\n",
              "    <tr>\n",
              "      <th>...</th>\n",
              "      <td>...</td>\n",
              "    </tr>\n",
              "    <tr>\n",
              "      <th>4295</th>\n",
              "      <td>Городское сообщество ОРЕНБУРГ ОЧЕВИДЕЦ</td>\n",
              "    </tr>\n",
              "    <tr>\n",
              "      <th>4296</th>\n",
              "      <td>Книга I N F I N I T Y ?</td>\n",
              "    </tr>\n",
              "    <tr>\n",
              "      <th>4297</th>\n",
              "      <td>Творчество ТФП Оренбург | TFP Orenburg</td>\n",
              "    </tr>\n",
              "    <tr>\n",
              "      <th>4298</th>\n",
              "      <td>Сайты НОВОТРОИЦК</td>\n",
              "    </tr>\n",
              "    <tr>\n",
              "      <th>4299</th>\n",
              "      <td>Юмор Реально смешно</td>\n",
              "    </tr>\n",
              "  </tbody>\n",
              "</table>\n",
              "<p>4300 rows × 1 columns</p>\n",
              "</div>"
            ],
            "text/plain": [
              "                               activity name\n",
              "0       Юмор Мемуары ценителей научных мемов\n",
              "1                                 Юмор мемгу\n",
              "2                 Финансы Рофлы с Волк Стрит\n",
              "3                    Объявления Хабр Карьера\n",
              "4                  Финансы Фиксируем Прибыль\n",
              "...                                      ...\n",
              "4295  Городское сообщество ОРЕНБУРГ ОЧЕВИДЕЦ\n",
              "4296                 Книга I N F I N I T Y ?\n",
              "4297  Творчество ТФП Оренбург | TFP Orenburg\n",
              "4298                        Сайты НОВОТРОИЦК\n",
              "4299                     Юмор Реально смешно\n",
              "\n",
              "[4300 rows x 1 columns]"
            ]
          },
          "execution_count": 3,
          "metadata": {},
          "output_type": "execute_result"
        }
      ],
      "source": [
        "data"
      ]
    },
    {
      "cell_type": "code",
      "execution_count": null,
      "id": "26716ebb",
      "metadata": {
        "id": "26716ebb",
        "outputId": "a05e7f4a-a7f1-4be9-ac5c-cd4f1b7763e2"
      },
      "outputs": [
        {
          "name": "stdout",
          "output_type": "stream",
          "text": [
            "<class 'pandas.core.frame.DataFrame'>\n",
            "RangeIndex: 4300 entries, 0 to 4299\n",
            "Data columns (total 1 columns):\n",
            " #   Column         Non-Null Count  Dtype \n",
            "---  ------         --------------  ----- \n",
            " 0   activity name  4299 non-null   object\n",
            "dtypes: object(1)\n",
            "memory usage: 33.7+ KB\n"
          ]
        }
      ],
      "source": [
        "data.info()"
      ]
    },
    {
      "cell_type": "markdown",
      "id": "f9b624ba",
      "metadata": {
        "id": "f9b624ba"
      },
      "source": [
        "## Функция для токенизации"
      ]
    },
    {
      "cell_type": "code",
      "execution_count": null,
      "id": "18c9fd64",
      "metadata": {
        "id": "18c9fd64",
        "outputId": "36f320c4-cc92-4365-d3a8-1e40c494e9b7"
      },
      "outputs": [
        {
          "name": "stderr",
          "output_type": "stream",
          "text": [
            "[nltk_data] Downloading package punkt to\n",
            "[nltk_data]     C:\\Users\\User\\AppData\\Roaming\\nltk_data...\n",
            "[nltk_data]   Unzipping tokenizers\\punkt.zip.\n"
          ]
        },
        {
          "data": {
            "text/plain": [
              "True"
            ]
          },
          "execution_count": 4,
          "metadata": {},
          "output_type": "execute_result"
        }
      ],
      "source": [
        "from nltk.tokenize import word_tokenize        # Импорт токенезации слов\n",
        "from nltk import download as nltk_download     # Паке с токенизатором\n",
        "\n",
        "nltk_download(\"punkt\")"
      ]
    },
    {
      "cell_type": "code",
      "execution_count": null,
      "id": "e417c959",
      "metadata": {
        "id": "e417c959",
        "outputId": "08a52e24-70b3-4a3f-e054-cf35e9396be1"
      },
      "outputs": [
        {
          "name": "stderr",
          "output_type": "stream",
          "text": [
            "--2022-07-21 00:37:25--  https://raw.githubusercontent.com/dhhse/dh2020/master/data/stop_ru.txt\n",
            "Распознаётся raw.githubusercontent.com (raw.githubusercontent.com)… 185.199.108.133, 185.199.109.133, 185.199.110.133, ...\n",
            "Подключение к raw.githubusercontent.com (raw.githubusercontent.com)|185.199.108.133|:443... соединение установлено.\n",
            "HTTP-запрос отправлен. Ожидание ответа… 200 OK\n",
            "Длина: 5823 (5,7K) [text/plain]\n",
            "Сохранение в: «stop_ru.txt»\n",
            "\n",
            "     0K .....                                                 100% 2,84M=0,002s\n",
            "\n",
            "2022-07-21 00:37:25 (2,84 MB/s) - «stop_ru.txt» сохранён [5823/5823]\n",
            "\n"
          ]
        }
      ],
      "source": [
        "!wget https://raw.githubusercontent.com/dhhse/dh2020/master/data/stop_ru.txt\n",
        "with open (\"stop_ru.txt\", \"r\") as stop_ru:\n",
        "    rus_stops = [word.strip() for word in stop_ru.readlines()]\n",
        "punctuation = '!\\\"#$%&\\'()*+,-./:;<=>?@[\\]^_`{|}~—»«...–'    \n",
        "filter = rus_stops + list (punctuation)"
      ]
    },
    {
      "cell_type": "code",
      "execution_count": null,
      "id": "e5d606d7",
      "metadata": {
        "id": "e5d606d7"
      },
      "outputs": [],
      "source": [
        "# Установка лематизатора\n",
        "from pymorphy2 import MorphAnalyzer\n",
        "parser = MorphAnalyzer()"
      ]
    },
    {
      "cell_type": "markdown",
      "id": "369f7fec",
      "metadata": {
        "id": "369f7fec"
      },
      "source": [
        "## Функция предообработки текста\n",
        "1. Приводим текст к нижнему регистру;\n",
        "2. Токенизируем его;\n",
        "3. Выбрасываем слова, которые входят в наш список, объединяющий знаки препинания и стоп-слова;\n",
        "4. Очищенный токенизированный текст мы лемматизируем — это как раз то, что нужно для тематического моделирования."
      ]
    },
    {
      "cell_type": "code",
      "execution_count": null,
      "id": "6c66c250",
      "metadata": {
        "id": "6c66c250"
      },
      "outputs": [],
      "source": [
        "def preprocess(input_text):\n",
        "    \"\"\"\n",
        "    Функция для предобработки текста. Слова приводятся к нижнему регистру,\n",
        "    стоп-слова удаляются, далее слова лемматизируются\n",
        "    :param input_text: Входной текст для очистки и лемматизации\n",
        "    :return: Очищенный и лемматизированный текст\n",
        "    \"\"\"\n",
        "   \n",
        "    text = input_text.lower()\n",
        "    tokenized_text = word_tokenize(text)\n",
        "    clean_text = [word for word in tokenized_text if word not in filter]\n",
        "    lemmatized_text = [parser.parse(word)[0].normal_form for word in \n",
        "                       clean_text]\n",
        "    \n",
        "    return lemmatized_text"
      ]
    },
    {
      "cell_type": "code",
      "execution_count": null,
      "id": "a5be9954",
      "metadata": {
        "id": "a5be9954"
      },
      "outputs": [],
      "source": [
        "# Удалим все числа из данных\n",
        "data[\"activity name\"] = data[\"activity name\"].astype(str)"
      ]
    },
    {
      "cell_type": "code",
      "execution_count": null,
      "id": "c8e96a5e",
      "metadata": {
        "id": "c8e96a5e"
      },
      "outputs": [],
      "source": [
        "# Применим функцию предобработки текста\n",
        "data[\"text_processed\"] = data[\"activity name\"].map(preprocess)"
      ]
    },
    {
      "cell_type": "markdown",
      "id": "9016d6af",
      "metadata": {
        "id": "9016d6af"
      },
      "source": [
        "### Тематическое моделирование"
      ]
    },
    {
      "cell_type": "code",
      "execution_count": null,
      "id": "dbc2ef0e",
      "metadata": {
        "id": "dbc2ef0e"
      },
      "outputs": [],
      "source": [
        "import gensim\n",
        " \n",
        "gensim_dictionary = gensim.corpora.Dictionary(data[\"text_processed\"])\n",
        "gensim_dictionary.filter_extremes(no_above=0.1, no_below=20)\n",
        "gensim_dictionary.compactify()"
      ]
    },
    {
      "cell_type": "markdown",
      "id": "0e5150a8",
      "metadata": {
        "id": "0e5150a8"
      },
      "source": [
        "### Создадим корпус в виде мешка слов"
      ]
    },
    {
      "cell_type": "code",
      "execution_count": null,
      "id": "2bb43c6b",
      "metadata": {
        "id": "2bb43c6b"
      },
      "outputs": [],
      "source": [
        "corpus = [gensim_dictionary.doc2bow(text) \n",
        "          for text in data['text_processed']]"
      ]
    },
    {
      "cell_type": "markdown",
      "id": "84be8bd1",
      "metadata": {
        "id": "84be8bd1"
      },
      "source": [
        "### Тематическое моделирование\n",
        "Установим количество топиков равное 20"
      ]
    },
    {
      "cell_type": "code",
      "execution_count": null,
      "id": "90a84340",
      "metadata": {
        "id": "90a84340"
      },
      "outputs": [],
      "source": [
        "# 20 Топиков \n",
        "lda_20 = gensim.models.LdaMulticore(corpus, \n",
        "                                 num_topics=20, \n",
        "                                 id2word=gensim_dictionary, \n",
        "                                 passes=10, random_state=6457)"
      ]
    },
    {
      "cell_type": "code",
      "execution_count": null,
      "id": "98370f1d",
      "metadata": {
        "id": "98370f1d"
      },
      "outputs": [],
      "source": [
        "# 7 топиков\n",
        "lda_7 = gensim.models.LdaMulticore(corpus, \n",
        "                                 num_topics=7, \n",
        "                                 id2word=gensim_dictionary, \n",
        "                                 passes=10, random_state=6457)"
      ]
    },
    {
      "cell_type": "code",
      "execution_count": null,
      "id": "a8a50d92",
      "metadata": {
        "id": "a8a50d92",
        "outputId": "dc3f8722-eb85-4a61-bdf7-78bd96bf124c"
      },
      "outputs": [
        {
          "data": {
            "text/plain": [
              "[(0,\n",
              "  '0.445*\"образование\" + 0.099*\"за\" + 0.099*\"общество\" + 0.093*\"себя\" + 0.078*\"уход\" + 0.057*\"дополнительный\" + 0.046*\"мир\" + 0.023*\"школа\" + 0.010*\"красота\" + 0.008*\"дизайн\"'),\n",
              " (1,\n",
              "  '0.276*\"в\" + 0.148*\"объявление\" + 0.134*\"рецепт\" + 0.105*\"кулинария\" + 0.097*\"автомобиль\" + 0.071*\"e\" + 0.058*\"спортивный\" + 0.030*\"москва\" + 0.019*\"подслушать\" + 0.012*\"на\"'),\n",
              " (2,\n",
              "  '0.213*\"литература\" + 0.213*\"университет\" + 0.133*\"программный\" + 0.133*\"обеспечение\" + 0.094*\"блогер\" + 0.067*\"мы\" + 0.065*\"искусство\" + 0.029*\"книга\" + 0.006*\"нижний\" + 0.006*\"новгород\"'),\n",
              " (3,\n",
              "  '0.403*\"интернет-сми\" + 0.152*\"нижний\" + 0.144*\"новгород\" + 0.121*\"новость\" + 0.077*\"школа\" + 0.054*\"журнал\" + 0.006*\"красота\" + 0.004*\"объявление\" + 0.004*\"и\" + 0.003*\"москва\"'),\n",
              " (4,\n",
              "  '0.459*\"группа\" + 0.376*\"открытый\" + 0.052*\"музыкальный\" + 0.034*\"страница\" + 0.032*\"публичный\" + 0.014*\"россия\" + 0.009*\"в\" + 0.003*\"of\" + 0.001*\"работа\" + 0.001*\"и\"'),\n",
              " (5,\n",
              "  '0.343*\"сообщество\" + 0.328*\"городской\" + 0.070*\"типичный\" + 0.059*\"москва\" + 0.045*\"мой\" + 0.035*\"новость\" + 0.026*\"нижний\" + 0.024*\"новгород\" + 0.014*\"это\" + 0.010*\"томск\"'),\n",
              " (6,\n",
              "  '0.242*\"группа\" + 0.227*\"закрытый\" + 0.170*\"отношение\" + 0.153*\"пол\" + 0.102*\"книга\" + 0.012*\"журнал\" + 0.011*\"открытый\" + 0.006*\"о\" + 0.006*\"школа\" + 0.003*\"с\"'),\n",
              " (7,\n",
              "  '0.174*\"работа\" + 0.113*\"программирование\" + 0.108*\"культура\" + 0.096*\"путешествие\" + 0.083*\"поиск\" + 0.083*\"туризм\" + 0.071*\"шоу\" + 0.063*\"передача\" + 0.054*\"в\" + 0.044*\"блог\"'),\n",
              " (8,\n",
              "  '0.374*\"музыкант\" + 0.216*\"мем\" + 0.114*\"мода\" + 0.099*\"стиль\" + 0.056*\"ребёнок\" + 0.044*\"для\" + 0.019*\"по\" + 0.008*\"или\" + 0.003*\"и\" + 0.002*\"видеоигра\"'),\n",
              " (9,\n",
              "  '0.368*\"кино\" + 0.112*\"история\" + 0.108*\"футбол\" + 0.091*\"фильм\" + 0.079*\"дом\" + 0.063*\"товар\" + 0.058*\"хороший\" + 0.046*\"о\" + 0.036*\"для\" + 0.003*\"от\"'),\n",
              " (10,\n",
              "  '0.250*\"видеоигра\" + 0.148*\"игра\" + 0.129*\"и\" + 0.113*\"животное\" + 0.099*\"домашний\" + 0.099*\"дикий\" + 0.061*\"техника\" + 0.044*\"электроника\" + 0.012*\"of\" + 0.005*\"в\"'),\n",
              " (11,\n",
              "  '0.240*\"творчество\" + 0.161*\"музыка\" + 0.142*\"фотография\" + 0.124*\"я\" + 0.104*\"другой\" + 0.097*\"с\" + 0.054*\"вконтакте\" + 0.028*\"ты\" + 0.013*\"это\" + 0.007*\"e\"'),\n",
              " (12,\n",
              "  '0.183*\"жизнь\" + 0.142*\"для\" + 0.117*\"здоровый\" + 0.111*\"язык\" + 0.105*\"образ\" + 0.077*\"английский\" + 0.074*\"финансы\" + 0.070*\"барахолка\" + 0.042*\"объявление\" + 0.022*\"с\"'),\n",
              " (13,\n",
              "  '0.163*\"молодёжный\" + 0.163*\"the\" + 0.156*\"движение\" + 0.128*\"фан-клуб\" + 0.115*\"•\" + 0.075*\"сайт\" + 0.062*\"психология\" + 0.051*\"красота\" + 0.027*\"of\" + 0.005*\"общество\"'),\n",
              " (14,\n",
              "  '0.200*\"наука\" + 0.154*\"организация\" + 0.151*\"или\" + 0.082*\"художник\" + 0.075*\"художница\" + 0.065*\"общественный\" + 0.060*\"россия\" + 0.047*\"от\" + 0.044*\"томск\" + 0.041*\"по\"'),\n",
              " (15,\n",
              "  '0.244*\"одежда\" + 0.230*\"обувь\" + 0.184*\"стиль\" + 0.076*\"модель\" + 0.072*\"отдых\" + 0.055*\"искать\" + 0.026*\"мода\" + 0.026*\"это\" + 0.014*\"красота\" + 0.014*\"и\"'),\n",
              " (16,\n",
              "  '0.191*\"``\" + 0.185*\"\\'\\'\" + 0.111*\"курс\" + 0.096*\"философия\" + 0.084*\"обучать\" + 0.081*\"интерьер\" + 0.069*\"институт\" + 0.063*\"дизайн\" + 0.024*\"психология\" + 0.021*\"для\"'),\n",
              " (17,\n",
              "  '0.198*\"бизнес\" + 0.176*\"клуб\" + 0.164*\"на\" + 0.152*\"знакомство\" + 0.091*\"дискуссионный\" + 0.061*\"русский\" + 0.044*\"из\" + 0.030*\"подслушать\" + 0.012*\"ты\" + 0.011*\"искать\"'),\n",
              " (18,\n",
              "  '0.246*\"казань\" + 0.208*\"подслушать\" + 0.160*\"не\" + 0.107*\"факт\" + 0.081*\"of\" + 0.064*\"art\" + 0.056*\"творчество\" + 0.016*\"школа\" + 0.007*\"образование\" + 0.003*\"городской\"'),\n",
              " (19,\n",
              "  '0.531*\"и\" + 0.132*\"центр\" + 0.077*\"дизайн\" + 0.072*\"графика\" + 0.062*\"культурный\" + 0.038*\"ребёнок\" + 0.009*\"другой\" + 0.008*\"москва\" + 0.008*\"для\" + 0.008*\"art\"')]"
            ]
          },
          "execution_count": 62,
          "metadata": {},
          "output_type": "execute_result"
        }
      ],
      "source": [
        "lda_20.print_topics()"
      ]
    },
    {
      "cell_type": "code",
      "execution_count": null,
      "id": "bfa334d7",
      "metadata": {
        "id": "bfa334d7",
        "outputId": "b45b74de-c1df-41fa-b217-f922c8b1e2bd"
      },
      "outputs": [
        {
          "data": {
            "text/plain": [
              "[(0,\n",
              "  '0.148*\"кино\" + 0.067*\"клуб\" + 0.058*\"культура\" + 0.052*\"общество\" + 0.051*\"за\" + 0.049*\"себя\" + 0.041*\"уход\" + 0.037*\"образование\" + 0.037*\"фильм\" + 0.036*\"организация\"'),\n",
              " (1,\n",
              "  '0.177*\"образование\" + 0.063*\"объявление\" + 0.057*\"или\" + 0.055*\"на\" + 0.052*\"для\" + 0.049*\"в\" + 0.044*\"рецепт\" + 0.039*\"история\" + 0.034*\"кулинария\" + 0.034*\"язык\"'),\n",
              " (2,\n",
              "  '0.172*\"творчество\" + 0.083*\"литература\" + 0.083*\"университет\" + 0.063*\"нижний\" + 0.059*\"новгород\" + 0.052*\"программный\" + 0.052*\"обеспечение\" + 0.048*\"шоу\" + 0.043*\"передача\" + 0.043*\"the\"'),\n",
              " (3,\n",
              "  '0.128*\"интернет-сми\" + 0.126*\"и\" + 0.077*\"музыка\" + 0.073*\"наука\" + 0.060*\"другой\" + 0.049*\"``\" + 0.048*\"\\'\\'\" + 0.047*\"знакомство\" + 0.038*\"футбол\" + 0.035*\"новость\"'),\n",
              " (4,\n",
              "  '0.215*\"группа\" + 0.165*\"открытый\" + 0.058*\"работа\" + 0.049*\"фотография\" + 0.045*\"бизнес\" + 0.039*\"и\" + 0.037*\"музыкант\" + 0.034*\"центр\" + 0.033*\"дизайн\" + 0.033*\"путешествие\"'),\n",
              " (5,\n",
              "  '0.157*\"сообщество\" + 0.150*\"городской\" + 0.114*\"видеоигра\" + 0.053*\"жизнь\" + 0.039*\"молодёжный\" + 0.037*\"движение\" + 0.035*\"здоровый\" + 0.033*\"типичный\" + 0.032*\"образ\" + 0.030*\"мем\"'),\n",
              " (6,\n",
              "  '0.088*\"одежда\" + 0.083*\"обувь\" + 0.076*\"игра\" + 0.070*\"и\" + 0.066*\"стиль\" + 0.063*\"программирование\" + 0.059*\"животное\" + 0.057*\"с\" + 0.052*\"дикий\" + 0.052*\"домашний\"')]"
            ]
          },
          "execution_count": 63,
          "metadata": {},
          "output_type": "execute_result"
        }
      ],
      "source": [
        "lda_7.print_topics()"
      ]
    },
    {
      "cell_type": "code",
      "execution_count": null,
      "id": "ba2c5747",
      "metadata": {
        "id": "ba2c5747",
        "outputId": "5b63a3b3-f7c3-43f7-e7ce-d86349695d50"
      },
      "outputs": [
        {
          "name": "stdout",
          "output_type": "stream",
          "text": [
            "\n",
            "Coherence Score 20 topics 0.500812117706907\n"
          ]
        }
      ],
      "source": [
        "# метрика c_v (20 топиков)\n",
        "from gensim.models import CoherenceModel\n",
        "coherence_model_lda = CoherenceModel(model=lda_20,\n",
        "                                     texts=data[\"text_processed\"],\n",
        "                                     dictionary=gensim_dictionary,\n",
        "                                     coherence=\"c_v\")\n",
        "coherence_lda = coherence_model_lda.get_coherence()\n",
        " \n",
        "print(\"\\nCoherence Score 20 topics\", coherence_lda)"
      ]
    },
    {
      "cell_type": "code",
      "execution_count": null,
      "id": "b16f15f3",
      "metadata": {
        "id": "b16f15f3",
        "outputId": "4ca3d0d2-457f-4e3d-8c4e-fcced849252d"
      },
      "outputs": [
        {
          "name": "stdout",
          "output_type": "stream",
          "text": [
            "\n",
            "Coherence Score:  0.5822552835817504\n"
          ]
        }
      ],
      "source": [
        "# метрика c_v (7 топиков)\n",
        "from gensim.models import CoherenceModel\n",
        "coherence_model_lda = CoherenceModel(model=lda_7,\n",
        "                                     texts=data[\"text_processed\"],\n",
        "                                     dictionary=gensim_dictionary,\n",
        "                                     coherence=\"c_v\")\n",
        "coherence_lda = coherence_model_lda.get_coherence()\n",
        " \n",
        "print(\"\\nCoherence Score: \", coherence_lda)"
      ]
    },
    {
      "cell_type": "code",
      "execution_count": null,
      "id": "d63d27b0",
      "metadata": {
        "id": "d63d27b0"
      },
      "outputs": [],
      "source": [
        "def coherence_score(dictionary, corpus, texts, max, start=2, step=3,\n",
        "                    measure=\"c_uci\"):\n",
        "    \"\"\"\n",
        "    Функция вычисляет метрики для оценки тем. моделирования и выводит \n",
        "    график, где по оси x отложено количество топиков, а по оси y — значение \n",
        "    метрики\n",
        "    :param dictionary: словарь для тематического моделирования\n",
        "    :param corpus: корпус в виде мешка слов\n",
        "    :param texts: тексты документов\n",
        "    :param max: максимальное количество топиков\n",
        "    :param start: стартовое количество топиков\n",
        "    :param step: промежуток, с которым вычисляются топики\n",
        "    :param measure: метрика\n",
        "    \"\"\"\n",
        "    coherence_values = []\n",
        "    for num_topics in range(start, max, step):\n",
        "        model = gensim.models.LdaMulticore(corpus=corpus, id2word=dictionary, \n",
        "                                           passes=10, num_topics=num_topics, \n",
        "                                           random_state=6457)\n",
        "        coherencemodel = CoherenceModel(model=model, texts=texts, \n",
        "                                        dictionary=dictionary, \n",
        "                                        coherence=measure)\n",
        "        coherence_values.append(coherencemodel.get_coherence())\n",
        "    x = range(start, max, step)\n",
        "    plt.plot(x, coherence_values)\n",
        "    plt.xlabel(\"Number of Topics\")\n",
        "    plt.ylabel(measure + \"score\")\n",
        "    plt.legend((\"coherence_score\"), loc='best')\n",
        "    plt.show()"
      ]
    },
    {
      "cell_type": "code",
      "execution_count": null,
      "id": "425a0c6a",
      "metadata": {
        "id": "425a0c6a",
        "outputId": "eb9c99eb-9158-4cdb-f26d-a96f647f8152"
      },
      "outputs": [
        {
          "data": {
            "image/png": "[encoded data removed]",
            "text/plain": [
              "<Figure size 432x288 with 1 Axes>"
            ]
          },
          "metadata": {
            "needs_background": "light"
          },
          "output_type": "display_data"
        }
      ],
      "source": [
        "import matplotlib.pyplot as plt\n",
        " \n",
        "coherence_score(dictionary=gensim_dictionary, corpus=corpus, texts=data[\"text_processed\"], start=2, max=30, step=3, measure=\"c_v\")"
      ]
    },
    {
      "cell_type": "code",
      "execution_count": null,
      "id": "c1b68c0a",
      "metadata": {
        "id": "c1b68c0a",
        "outputId": "ba463b8c-558a-4b8f-caf8-9e7405a22e5b"
      },
      "outputs": [
        {
          "data": {
            "text/html": [
              "\n",
              "<link rel=\"stylesheet\" type=\"text/css\" href=\"https://cdn.jsdelivr.net/gh/bmabey/pyLDAvis@3.3.1/pyLDAvis/js/ldavis.v1.0.0.css\">\n",
              "\n",
              "\n",
              "<div id=\"ldavis_el128015681542236642294946282\"></div>\n",
              "<script type=\"text/javascript\">\n",
              "\n",
              "var ldavis_el128015681542236642294946282_data = {\"mdsDat\": {\"x\": [0.37317355980387973, 0.0073751454097826736, 0.006781548134538684, -0.11574764599010955, -0.04624720654758087, -0.040868204576346705, -0.1477413532083645, -0.022330807456823632, -0.03940098316191303, -0.02289256621002323, -0.11771721185653093, 0.016293606894732495, -0.021990504049146986, -0.07245643819073061, -0.032131164631576725, 0.10586602302391178, -0.02787294202795422, -0.025573969443236005, 0.34012214720425643, -0.11664103312076433], \"y\": [0.12839387551117912, -0.10323966006078153, -0.2063812191975009, 0.1981437512338313, -0.07359412361060344, -0.03023338331163028, 0.2037929768372212, 0.014674127983758837, 0.030965224147257484, -0.17317333228356768, 0.11128723530459765, -0.17538704148715767, -0.13703615176316886, 0.015797090432541665, 0.06454005013496093, -0.02955549504403966, -0.008595296528054056, -0.10462419667622838, 0.10639644861794707, 0.16782911975943698], \"topics\": [1, 2, 3, 4, 5, 6, 7, 8, 9, 10, 11, 12, 13, 14, 15, 16, 17, 18, 19, 20], \"cluster\": [1, 1, 1, 1, 1, 1, 1, 1, 1, 1, 1, 1, 1, 1, 1, 1, 1, 1, 1, 1], \"Freq\": [7.916520537452248, 6.4945439186375244, 6.277058278317519, 6.12373348001106, 6.0326515995437635, 6.0313456137989965, 5.252308265895286, 5.214676916336999, 5.023344163205336, 4.956322405103163, 4.89579636704143, 4.794898905108698, 4.7008750231934595, 4.658341374433768, 4.610205190412665, 4.015655574260317, 3.7442148844867678, 3.623239955219954, 2.9838596163205477, 2.6504079312204976]}, \"tinfo\": {\"Term\": [\"\\u0433\\u0440\\u0443\\u043f\\u043f\\u0430\", \"\\u0438\", \"\\u043e\\u0442\\u043a\\u0440\\u044b\\u0442\\u044b\\u0439\", \"\\u043e\\u0431\\u0440\\u0430\\u0437\\u043e\\u0432\\u0430\\u043d\\u0438\\u0435\", \"\\u0438\\u043d\\u0442\\u0435\\u0440\\u043d\\u0435\\u0442-\\u0441\\u043c\\u0438\", \"\\u0441\\u043e\\u043e\\u0431\\u0449\\u0435\\u0441\\u0442\\u0432\\u043e\", \"\\u043a\\u0438\\u043d\\u043e\", \"\\u0433\\u043e\\u0440\\u043e\\u0434\\u0441\\u043a\\u043e\\u0439\", \"\\u0432\\u0438\\u0434\\u0435\\u043e\\u0438\\u0433\\u0440\\u0430\", \"\\u0442\\u0432\\u043e\\u0440\\u0447\\u0435\\u0441\\u0442\\u0432\\u043e\", \"\\u0432\", \"\\u043c\\u0443\\u0437\\u044b\\u043a\\u0430\\u043d\\u0442\", \"\\u043e\\u0434\\u0435\\u0436\\u0434\\u0430\", \"\\u043e\\u0431\\u0443\\u0432\\u044c\", \"\\u043d\\u0430\\u0443\\u043a\\u0430\", \"\\u0441\\u0442\\u0438\\u043b\\u044c\", \"\\u043a\\u0430\\u0437\\u0430\\u043d\\u044c\", \"\\u0440\\u0430\\u0431\\u043e\\u0442\\u0430\", \"\\u0431\\u0438\\u0437\\u043d\\u0435\\u0441\", \"\\u043b\\u0438\\u0442\\u0435\\u0440\\u0430\\u0442\\u0443\\u0440\\u0430\", \"\\u0443\\u043d\\u0438\\u0432\\u0435\\u0440\\u0441\\u0438\\u0442\\u0435\\u0442\", \"``\", \"\\u043c\\u0443\\u0437\\u044b\\u043a\\u0430\", \"\\u043f\\u043e\\u0434\\u0441\\u043b\\u0443\\u0448\\u0430\\u0442\\u044c\", \"''\", \"\\u0436\\u0438\\u0437\\u043d\\u044c\", \"\\u043a\\u043b\\u0443\\u0431\", \"\\u0438\\u0433\\u0440\\u0430\", \"\\u0437\\u0430\\u043a\\u0440\\u044b\\u0442\\u044b\\u0439\", \"\\u0444\\u043e\\u0442\\u043e\\u0433\\u0440\\u0430\\u0444\\u0438\\u044f\", \"\\u043e\\u0442\\u043a\\u0440\\u044b\\u0442\\u044b\\u0439\", \"\\u043c\\u0443\\u0437\\u044b\\u043a\\u0430\\u043b\\u044c\\u043d\\u044b\\u0439\", \"\\u0441\\u0442\\u0440\\u0430\\u043d\\u0438\\u0446\\u0430\", \"\\u043f\\u0443\\u0431\\u043b\\u0438\\u0447\\u043d\\u044b\\u0439\", \"\\u0433\\u0440\\u0443\\u043f\\u043f\\u0430\", \"\\u0440\\u043e\\u0441\\u0441\\u0438\\u044f\", \"of\", \"\\u0432\", \"\\u043f\\u043e\", \"\\u0434\\u043e\\u043c\", \"\\u0446\\u0435\\u043d\\u0442\\u0440\", \"\\u0440\\u0430\\u0431\\u043e\\u0442\\u0430\", \"\\u043d\\u0435\", \"\\u0431\\u0430\\u0440\\u0430\\u0445\\u043e\\u043b\\u043a\\u0430\", \"\\u0433\\u0440\\u0430\\u0444\\u0438\\u043a\\u0430\", \"\\u043a\\u0440\\u0430\\u0441\\u043e\\u0442\\u0430\", \"\\u043a\\u0443\\u043b\\u044c\\u0442\\u0443\\u0440\\u043d\\u044b\\u0439\", \"\\u0440\\u0443\\u0441\\u0441\\u043a\\u0438\\u0439\", \"\\u044f\", \"\\u043e\\u0442\\u0434\\u044b\\u0445\", \"\\u043e\\u0442\", \"\\u0442\\u044b\", \"\\u043a\\u0443\\u0440\\u0441\", \"\\u0445\\u0443\\u0434\\u043e\\u0436\\u043d\\u0438\\u043a\", \"\\u043c\\u043e\\u0434\\u0435\\u043b\\u044c\", \"\\u043f\\u0443\\u0442\\u0435\\u0448\\u0435\\u0441\\u0442\\u0432\\u0438\\u0435\", \"\\u0438\\u0437\", \"\\u0442\\u0443\\u0440\\u0438\\u0437\\u043c\", \"\\u0445\\u0443\\u0434\\u043e\\u0436\\u043d\\u0438\\u0446\\u0430\", \"\\u043f\\u0441\\u0438\\u0445\\u043e\\u043b\\u043e\\u0433\\u0438\\u044f\", \"\\u0431\\u0438\\u0437\\u043d\\u0435\\u0441\", \"\\u0438\", \"\\u043a\\u0430\\u0437\\u0430\\u043d\\u044c\", \"\\u0438\\u0433\\u0440\\u0430\", \"\\u0438\\u043d\\u0442\\u0435\\u0440\\u043d\\u0435\\u0442-\\u0441\\u043c\\u0438\", \"\\u0434\\u0438\\u0437\\u0430\\u0439\\u043d\", \"\\u043e\\u0431\\u044a\\u044f\\u0432\\u043b\\u0435\\u043d\\u0438\\u0435\", \"``\", \"\\u043f\\u0440\\u043e\\u0433\\u0440\\u0430\\u043c\\u043c\\u0438\\u0440\\u043e\\u0432\\u0430\\u043d\\u0438\\u0435\", \"\\u043a\\u0443\\u043b\\u044c\\u0442\\u0443\\u0440\\u0430\", \"\\u0440\\u0430\\u0431\\u043e\\u0442\\u0430\", \"\\u0448\\u043e\\u0443\", \"\\u043f\\u0443\\u0442\\u0435\\u0448\\u0435\\u0441\\u0442\\u0432\\u0438\\u0435\", \"\\u043f\\u0435\\u0440\\u0435\\u0434\\u0430\\u0447\\u0430\", \"\\u043f\\u043e\\u0438\\u0441\\u043a\", \"\\u0442\\u0443\\u0440\\u0438\\u0437\\u043c\", \"\\u0431\\u043b\\u043e\\u0433\", \"\\u0441\\u043f\\u043e\\u0440\\u0442\", \"\\u043e\", \"\\u0432\", \"\\u0434\\u0440\\u0443\\u0433\\u043e\\u0439\", \"\\u0436\\u0443\\u0440\\u043d\\u0430\\u043b\", \"\\u0438\\u0441\\u043a\\u0430\\u0442\\u044c\", \"\\u043c\\u043e\\u0441\\u043a\\u0432\\u0430\", \"\\u0442\\u043e\\u043c\\u0441\\u043a\", \"\\u0431\\u0438\\u0437\\u043d\\u0435\\u0441\", \"\\u043c\\u0443\\u0437\\u044b\\u043a\\u0430\", \"\\u0444\\u0430\\u043a\\u0442\", \"\\u0438\\u043d\\u0442\\u0435\\u0440\\u044c\\u0435\\u0440\", \"\\u0445\\u043e\\u0440\\u043e\\u0448\\u0438\\u0439\", \"\\u043a\\u0440\\u0430\\u0441\\u043e\\u0442\\u0430\", \"\\u043a\\u0430\\u0437\\u0430\\u043d\\u044c\", \"\\u0434\\u0438\\u0437\\u0430\\u0439\\u043d\", \"\\u0437\\u043d\\u0430\\u043a\\u043e\\u043c\\u0441\\u0442\\u0432\\u043e\", \"\\u043c\\u043e\\u0439\", \"\\u0441\\u0442\\u0440\\u0430\\u043d\\u0438\\u0446\\u0430\", \"\\u043f\\u043e\", \"\\u0437\\u0430\", \"art\", \"\\u0434\\u043b\\u044f\", \"\\u0438\\u0433\\u0440\\u0430\", \"\\u0444\\u043e\\u0442\\u043e\\u0433\\u0440\\u0430\\u0444\\u0438\\u044f\", \"\\u0438\", \"\\u043e\\u0442\\u043a\\u0440\\u044b\\u0442\\u044b\\u0439\", \"\\u0433\\u0440\\u0443\\u043f\\u043f\\u0430\", \"\\u0433\\u043e\\u0440\\u043e\\u0434\\u0441\\u043a\\u043e\\u0439\", \"\\u0441\\u043e\\u043e\\u0431\\u0449\\u0435\\u0441\\u0442\\u0432\\u043e\", \"\\u043c\\u043e\\u0439\", \"\\u0442\\u0438\\u043f\\u0438\\u0447\\u043d\\u044b\\u0439\", \"\\u043c\\u043e\\u0441\\u043a\\u0432\\u0430\", \"\\u044d\\u0442\\u043e\", \"\\u043d\\u043e\\u0432\\u043e\\u0441\\u0442\\u044c\", \"\\u0442\\u043e\\u043c\\u0441\\u043a\", \"\\u043d\\u0438\\u0436\\u043d\\u0438\\u0439\", \"\\u043d\\u043e\\u0432\\u0433\\u043e\\u0440\\u043e\\u0434\", \"\\u0438\\u0437\", \"\\u044f\", \"\\u0432\", \"\\u0438\\u0441\\u043a\\u0430\\u0442\\u044c\", \"\\u043a\\u0430\\u0437\\u0430\\u043d\\u044c\", \"\\u044d\\u043b\\u0435\\u043a\\u0442\\u0440\\u043e\\u043d\\u0438\\u043a\\u0430\", \"\\u0442\\u0435\\u0445\\u043d\\u0438\\u043a\\u0430\", \"\\u0430\\u043d\\u0433\\u043b\\u0438\\u0439\\u0441\\u043a\\u0438\\u0439\", \"\\u043c\\u043e\\u0434\\u0435\\u043b\\u044c\", \"\\u0432\\u043a\\u043e\\u043d\\u0442\\u0430\\u043a\\u0442\\u0435\", \"\\u043e\\u0431\\u0449\\u0435\\u0441\\u0442\\u0432\\u0435\\u043d\\u043d\\u044b\\u0439\", \"\\u0440\\u043e\\u0441\\u0441\\u0438\\u044f\", \"e\", \"\\u0441\\u043f\\u043e\\u0440\\u0442\", \"\\u043a\\u0443\\u043b\\u0438\\u043d\\u0430\\u0440\\u0438\\u044f\", \"\\u043e\\u0431\\u044a\\u044f\\u0432\\u043b\\u0435\\u043d\\u0438\\u0435\", \"\\u0440\\u0443\\u0441\\u0441\\u043a\\u0438\\u0439\", \"\\u043f\\u0443\\u0431\\u043b\\u0438\\u0447\\u043d\\u044b\\u0439\", \"\\u0438\\u0441\\u043a\\u0443\\u0441\\u0441\\u0442\\u0432\\u043e\", \"\\u0440\\u0435\\u0446\\u0435\\u043f\\u0442\", \"''\", \"``\", \"\\u0433\\u0440\\u0443\\u043f\\u043f\\u0430\", \"\\u043e\\u0442\\u043a\\u0440\\u044b\\u0442\\u044b\\u0439\", \"\\u043d\\u0430\", \"\\u0438\", \"\\u0438\\u043d\\u0442\\u0435\\u0440\\u043d\\u0435\\u0442-\\u0441\\u043c\\u0438\", \"\\u043e\\u0431\\u0443\\u0432\\u044c\", \"\\u0432\\u0438\\u0434\\u0435\\u043e\\u0438\\u0433\\u0440\\u0430\", \"\\u0432\\u0438\\u0434\\u0435\\u043e\\u0438\\u0433\\u0440\\u0430\", \"\\u0438\\u0433\\u0440\\u0430\", \"\\u0436\\u0438\\u0432\\u043e\\u0442\\u043d\\u043e\\u0435\", \"\\u0434\\u043e\\u043c\\u0430\\u0448\\u043d\\u0438\\u0439\", \"\\u0434\\u0438\\u043a\\u0438\\u0439\", \"\\u0442\\u0435\\u0445\\u043d\\u0438\\u043a\\u0430\", \"\\u044d\\u043b\\u0435\\u043a\\u0442\\u0440\\u043e\\u043d\\u0438\\u043a\\u0430\", \"\\u0438\", \"of\", \"\\u043c\\u044b\", \"\\u043e\", \"\\u0442\\u044b\", \"\\u043d\\u0435\", \"\\u0432\", \"\\u043d\\u043e\\u0432\\u043e\\u0441\\u0442\\u044c\", \"the\", \"\\u043c\\u043e\\u043b\\u043e\\u0434\\u0451\\u0436\\u043d\\u044b\\u0439\", \"\\u043f\\u043e\", \"\\u0434\\u0432\\u0438\\u0436\\u0435\\u043d\\u0438\\u0435\", \"\\u0431\\u043b\\u043e\\u0433\", \"\\u043c\\u0438\\u0440\", \"\\u043e\\u0442\", \"\\u0434\\u043b\\u044f\", \"\\u043d\\u0430\", \"\\u0440\\u043e\\u0441\\u0441\\u0438\\u044f\", \"\\u043f\\u043e\\u043b\", \"\\u0436\\u0438\\u0437\\u043d\\u044c\", \"\\u043e\\u0442\\u043d\\u043e\\u0448\\u0435\\u043d\\u0438\\u0435\", \"\\u044d\\u0442\\u043e\", \"\\u0434\\u043e\\u043f\\u043e\\u043b\\u043d\\u0438\\u0442\\u0435\\u043b\\u044c\\u043d\\u044b\\u0439\", \"\\u043e\\u0431\\u0435\\u0441\\u043f\\u0435\\u0447\\u0435\\u043d\\u0438\\u0435\", \"\\u043f\\u0440\\u043e\\u0433\\u0440\\u0430\\u043c\\u043c\\u043d\\u044b\\u0439\", \"\\u043d\\u0430\\u0443\\u043a\\u0430\", \"\\u043c\\u043e\\u0441\\u043a\\u0432\\u0430\", \"\\u043e\\u0434\\u0435\\u0436\\u0434\\u0430\", \"\\u043e\\u0431\\u0443\\u0432\\u044c\", \"\\u0441\\u043e\\u043e\\u0431\\u0449\\u0435\\u0441\\u0442\\u0432\\u043e\", \"\\u043a\\u0438\\u043d\\u043e\", \"\\u043c\\u0443\\u0437\\u044b\\u043a\\u0430\", \"\\u0444\\u043e\\u0442\\u043e\\u0433\\u0440\\u0430\\u0444\\u0438\\u044f\", \"\\u0432\\u043a\\u043e\\u043d\\u0442\\u0430\\u043a\\u0442\\u0435\", \"\\u044f\", \"\\u0442\\u0432\\u043e\\u0440\\u0447\\u0435\\u0441\\u0442\\u0432\\u043e\", \"\\u0434\\u0440\\u0443\\u0433\\u043e\\u0439\", \"\\u0441\", \"\\u0442\\u044b\", \"\\u044d\\u0442\\u043e\", \"e\", \"\\u043d\\u0435\", \"\\u043e\", \"\\u0445\\u043e\\u0440\\u043e\\u0448\\u0438\\u0439\", \"of\", \"\\u043d\\u0430\", \"\\u0442\\u043e\\u043c\\u0441\\u043a\", \"\\u0444\\u0438\\u043d\\u0430\\u043d\\u0441\\u044b\", \"\\u043b\\u0438\\u0442\\u0435\\u0440\\u0430\\u0442\\u0443\\u0440\\u0430\", \"\\u0438\\u0441\\u043a\\u0443\\u0441\\u0441\\u0442\\u0432\\u043e\", \"\\u0441\\u043f\\u043e\\u0440\\u0442\", \"\\u0442\\u043e\\u0432\\u0430\\u0440\", \"\\u043d\\u043e\\u0432\\u043e\\u0441\\u0442\\u044c\", \"\\u043e\\u0431\\u044a\\u044f\\u0432\\u043b\\u0435\\u043d\\u0438\\u0435\", \"\\u043c\\u0435\\u043c\", \"\\u043f\\u043e\\u0438\\u0441\\u043a\", \"\\u0431\\u0430\\u0440\\u0430\\u0445\\u043e\\u043b\\u043a\\u0430\", \"art\", \"\\u044d\\u043b\\u0435\\u043a\\u0442\\u0440\\u043e\\u043d\\u0438\\u043a\\u0430\", \"\\u043c\\u043e\\u0434\\u0435\\u043b\\u044c\", \"''\", \"\\u0438\", \"\\u0440\\u0430\\u0431\\u043e\\u0442\\u0430\", \"``\", \"\\u043f\\u0440\\u043e\\u0433\\u0440\\u0430\\u043c\\u043c\\u0438\\u0440\\u043e\\u0432\\u0430\\u043d\\u0438\\u0435\", \"\\u0432\", \"\\u0438\\u043d\\u0442\\u0435\\u0440\\u043d\\u0435\\u0442-\\u0441\\u043c\\u0438\", \"\\u0437\\u0430\", \"\\u0434\\u043e\\u043f\\u043e\\u043b\\u043d\\u0438\\u0442\\u0435\\u043b\\u044c\\u043d\\u044b\\u0439\", \"\\u043c\\u0438\\u0440\", \"\\u043e\\u0431\\u0449\\u0435\\u0441\\u0442\\u0432\\u043e\", \"\\u0441\\u0435\\u0431\\u044f\", \"\\u0443\\u0445\\u043e\\u0434\", \"\\u043e\\u0431\\u0440\\u0430\\u0437\\u043e\\u0432\\u0430\\u043d\\u0438\\u0435\", \"\\u0448\\u043a\\u043e\\u043b\\u0430\", \"\\u043a\\u0440\\u0430\\u0441\\u043e\\u0442\\u0430\", \"\\u043e\", \"\\u0434\\u0438\\u0437\\u0430\\u0439\\u043d\", \"\\u043c\\u043e\\u0441\\u043a\\u0432\\u0430\", \"\\u0444\\u0430\\u043a\\u0442\", \"\\u0441\\u043f\\u043e\\u0440\\u0442\\u0438\\u0432\\u043d\\u044b\\u0439\", \"\\u0432\", \"\\u0444\\u0443\\u0442\\u0431\\u043e\\u043b\", \"\\u0445\\u043e\\u0440\\u043e\\u0448\\u0438\\u0439\", \"\\u043f\\u043e\", \"\\u044d\\u043b\\u0435\\u043a\\u0442\\u0440\\u043e\\u043d\\u0438\\u043a\\u0430\", \"\\u0441\\u0442\\u0440\\u0430\\u043d\\u0438\\u0446\\u0430\", \"\\u043c\\u043e\\u0434\\u0435\\u043b\\u044c\", \"\\u043f\\u0443\\u0431\\u043b\\u0438\\u0447\\u043d\\u044b\\u0439\", \"\\u043c\\u043e\\u0434\\u0430\", \"\\u0442\\u043e\\u043c\\u0441\\u043a\", \"\\u0438\\u0437\", \"\\u0431\\u043b\\u043e\\u0433\\u0435\\u0440\", \"\\u0442\\u0435\\u0445\\u043d\\u0438\\u043a\\u0430\", \"\\u043c\\u0435\\u043c\", \"\\u0434\\u0438\\u0441\\u043a\\u0443\\u0441\\u0441\\u0438\\u043e\\u043d\\u043d\\u044b\\u0439\", \"\\u043e\\u0440\\u0433\\u0430\\u043d\\u0438\\u0437\\u0430\\u0446\\u0438\\u044f\", \"\\u043a\\u0438\\u043d\\u043e\", \"\\u043d\\u043e\\u0432\\u043e\\u0441\\u0442\\u044c\", \"\\u043f\\u043e\\u0434\\u0441\\u043b\\u0443\\u0448\\u0430\\u0442\\u044c\", \"\\u0441\", \"\\u0438\", \"\\u043a\\u043b\\u0443\\u0431\", \"\\u0434\\u0438\\u043a\\u0438\\u0439\", \"\\u0446\\u0435\\u043d\\u0442\\u0440\", \"\\u0433\\u0440\\u0443\\u043f\\u043f\\u0430\", \"\\u0432\\u0438\\u0434\\u0435\\u043e\\u0438\\u0433\\u0440\\u0430\", \"\\u0434\\u043b\\u044f\", \"\\u043e\\u0442\\u043a\\u0440\\u044b\\u0442\\u044b\\u0439\", \"\\u0446\\u0435\\u043d\\u0442\\u0440\", \"\\u0433\\u0440\\u0430\\u0444\\u0438\\u043a\\u0430\", \"\\u043a\\u0443\\u043b\\u044c\\u0442\\u0443\\u0440\\u043d\\u044b\\u0439\", \"\\u0438\", \"\\u0440\\u0435\\u0431\\u0451\\u043d\\u043e\\u043a\", \"\\u0434\\u0438\\u0437\\u0430\\u0439\\u043d\", \"art\", \"\\u043c\\u043e\\u0441\\u043a\\u0432\\u0430\", \"\\u0434\\u0440\\u0443\\u0433\\u043e\\u0439\", \"\\u0434\\u043b\\u044f\", \"\\u0442\\u043e\\u0432\\u0430\\u0440\", \"\\u043f\\u0441\\u0438\\u0445\\u043e\\u043b\\u043e\\u0433\\u0438\\u044f\", \"\\u0444\\u0430\\u043a\\u0442\", \"\\u043d\\u0430\\u0443\\u043a\\u0430\", \"\\u0444\\u043e\\u0442\\u043e\\u0433\\u0440\\u0430\\u0444\\u0438\\u044f\", \"\\u0440\\u0443\\u0441\\u0441\\u043a\\u0438\\u0439\", \"\\u043f\\u043e\", \"\\u0442\\u0435\\u0445\\u043d\\u0438\\u043a\\u0430\", \"\\u043e\\u0431\\u0440\\u0430\\u0437\\u043e\\u0432\\u0430\\u043d\\u0438\\u0435\", \"\\u043f\\u043e\\u0438\\u0441\\u043a\", \"\\u043e\\u0431\\u0443\\u0447\\u0430\\u0442\\u044c\", \"\\u043d\\u043e\\u0432\\u043e\\u0441\\u0442\\u044c\", \"\\u043a\\u0443\\u0440\\u0441\", \"\\u0444\\u0438\\u043b\\u043e\\u0441\\u043e\\u0444\\u0438\\u044f\", \"\\u0433\\u043e\\u0440\\u043e\\u0434\\u0441\\u043a\\u043e\\u0439\", \"\\u0437\\u0430\", \"\\u0441\\u043e\\u043e\\u0431\\u0449\\u0435\\u0441\\u0442\\u0432\\u043e\", \"\\u0438\\u0441\\u0442\\u043e\\u0440\\u0438\\u044f\", \"\\u0442\\u044b\", \"\\u0434\\u043e\\u043f\\u043e\\u043b\\u043d\\u0438\\u0442\\u0435\\u043b\\u044c\\u043d\\u044b\\u0439\", \"\\u043c\\u0443\\u0437\\u044b\\u043a\\u0430\", \"\\u0440\\u0430\\u0431\\u043e\\u0442\\u0430\", \"\\u043b\\u0438\\u0442\\u0435\\u0440\\u0430\\u0442\\u0443\\u0440\\u0430\", \"''\", \"``\", \"\\u043d\\u0438\\u0436\\u043d\\u0438\\u0439\", \"\\u0432\", \"\\u043d\\u0430\\u0443\\u043a\\u0430\", \"\\u0445\\u0443\\u0434\\u043e\\u0436\\u043d\\u0438\\u043a\", \"\\u0445\\u0443\\u0434\\u043e\\u0436\\u043d\\u0438\\u0446\\u0430\", \"\\u043e\\u0440\\u0433\\u0430\\u043d\\u0438\\u0437\\u0430\\u0446\\u0438\\u044f\", \"\\u043e\\u0431\\u0449\\u0435\\u0441\\u0442\\u0432\\u0435\\u043d\\u043d\\u044b\\u0439\", \"\\u0438\\u043b\\u0438\", \"\\u043e\\u0442\", \"\\u043f\\u043e\", \"\\u0442\\u043e\\u043c\\u0441\\u043a\", \"\\u0440\\u043e\\u0441\\u0441\\u0438\\u044f\", \"\\u0441\\u043f\\u043e\\u0440\\u0442\\u0438\\u0432\\u043d\\u044b\\u0439\", \"art\", \"\\u0441\\u043f\\u043e\\u0440\\u0442\", \"\\u043e\\u0442\\u0434\\u044b\\u0445\", \"\\u0432\", \"\\u0441\", \"\\u043c\\u044b\", \"\\u0434\\u043e\\u043f\\u043e\\u043b\\u043d\\u0438\\u0442\\u0435\\u043b\\u044c\\u043d\\u044b\\u0439\", \"\\u043d\\u043e\\u0432\\u043e\\u0441\\u0442\\u044c\", \"\\u0438\", \"\\u0430\\u0432\\u0442\\u043e\\u043c\\u043e\\u0431\\u0438\\u043b\\u044c\", \"\\u0434\\u0432\\u0438\\u0436\\u0435\\u043d\\u0438\\u0435\", \"\\u043e\", \"\\u0431\\u0438\\u0437\\u043d\\u0435\\u0441\", \"\\u0441\\u0430\\u0439\\u0442\", \"\\u0433\\u0440\\u0430\\u0444\\u0438\\u043a\\u0430\", \"\\u0438\\u0437\", \"\\u0442\\u044b\", \"\\u043a\\u043b\\u0443\\u0431\", \"\\u043a\\u0443\\u043b\\u044c\\u0442\\u0443\\u0440\\u043d\\u044b\\u0439\", \"\\u043c\\u043e\\u0441\\u043a\\u0432\\u0430\", \"\\u043c\\u043e\\u043b\\u043e\\u0434\\u0451\\u0436\\u043d\\u044b\\u0439\", \"\\u0434\\u0438\\u0437\\u0430\\u0439\\u043d\", \"\\u0433\\u043e\\u0440\\u043e\\u0434\\u0441\\u043a\\u043e\\u0439\", \"\\u043e\\u0431\\u0440\\u0430\\u0437\\u043e\\u0432\\u0430\\u043d\\u0438\\u0435\", \"\\u0441\\u043e\\u043e\\u0431\\u0449\\u0435\\u0441\\u0442\\u0432\\u043e\", \"\\u043a\\u0438\\u043d\\u043e\", \"\\u0444\\u0443\\u0442\\u0431\\u043e\\u043b\", \"\\u0438\\u0441\\u0442\\u043e\\u0440\\u0438\\u044f\", \"\\u0434\\u043e\\u043c\", \"\\u0444\\u0438\\u043b\\u044c\\u043c\", \"\\u0442\\u043e\\u0432\\u0430\\u0440\", \"\\u0445\\u043e\\u0440\\u043e\\u0448\\u0438\\u0439\", \"\\u043e\", \"\\u0434\\u043b\\u044f\", \"\\u043e\\u0442\", \"\\u043d\\u0430\", \"\\u0442\\u0443\\u0440\\u0438\\u0437\\u043c\", \"\\u043f\\u0443\\u0442\\u0435\\u0448\\u0435\\u0441\\u0442\\u0432\\u0438\\u0435\", \"\\u0431\\u043b\\u043e\\u0433\", \"\\u0431\\u0430\\u0440\\u0430\\u0445\\u043e\\u043b\\u043a\\u0430\", \"\\u043e\\u0440\\u0433\\u0430\\u043d\\u0438\\u0437\\u0430\\u0446\\u0438\\u044f\", \"\\u0440\\u043e\\u0441\\u0441\\u0438\\u044f\", \"\\u0442\\u0432\\u043e\\u0440\\u0447\\u0435\\u0441\\u0442\\u0432\\u043e\", \"the\", \"\\u0441\\u0430\\u0439\\u0442\", \"\\u043e\\u0431\\u0449\\u0435\\u0441\\u0442\\u0432\\u0435\\u043d\\u043d\\u044b\\u0439\", \"\\u0442\\u044b\", \"\\u0440\\u0443\\u0441\\u0441\\u043a\\u0438\\u0439\", \"\\u043a\\u0443\\u043b\\u044c\\u0442\\u0443\\u0440\\u0430\", \"\\u0438\\u0441\\u043a\\u0443\\u0441\\u0441\\u0442\\u0432\\u043e\", \"\\u043f\\u043e\", \"\\u043e\\u0442\\u0434\\u044b\\u0445\", \"\\u044f\\u0437\\u044b\\u043a\", \"\\u0436\\u0443\\u0440\\u043d\\u0430\\u043b\", \"\\u044f\", \"\\u043d\\u043e\\u0432\\u043e\\u0441\\u0442\\u044c\", \"''\", \"``\", \"\\u0438\", \"\\u0443\\u043d\\u0438\\u0432\\u0435\\u0440\\u0441\\u0438\\u0442\\u0435\\u0442\", \"\\u0444\\u043e\\u0442\\u043e\\u0433\\u0440\\u0430\\u0444\\u0438\\u044f\", \"\\u0441\\u043e\\u043e\\u0431\\u0449\\u0435\\u0441\\u0442\\u0432\\u043e\", \"\\u0433\\u043e\\u0440\\u043e\\u0434\\u0441\\u043a\\u043e\\u0439\", \"\\u0430\\u0432\\u0442\\u043e\\u043c\\u043e\\u0431\\u0438\\u043b\\u044c\", \"\\u0440\\u0435\\u0446\\u0435\\u043f\\u0442\", \"\\u043a\\u0443\\u043b\\u0438\\u043d\\u0430\\u0440\\u0438\\u044f\", \"e\", \"\\u043e\\u0431\\u044a\\u044f\\u0432\\u043b\\u0435\\u043d\\u0438\\u0435\", \"\\u0432\", \"\\u0441\\u043f\\u043e\\u0440\\u0442\\u0438\\u0432\\u043d\\u044b\\u0439\", \"\\u043c\\u043e\\u0441\\u043a\\u0432\\u0430\", \"\\u043f\\u043e\\u0434\\u0441\\u043b\\u0443\\u0448\\u0430\\u0442\\u044c\", \"\\u0445\\u043e\\u0440\\u043e\\u0448\\u0438\\u0439\", \"\\u043d\\u0430\", \"\\u0443\\u043d\\u0438\\u0432\\u0435\\u0440\\u0441\\u0438\\u0442\\u0435\\u0442\", \"\\u043e\\u0440\\u0433\\u0430\\u043d\\u0438\\u0437\\u0430\\u0446\\u0438\\u044f\", \"\\u0442\\u043e\\u0432\\u0430\\u0440\", \"\\u043e\\u0431\\u0440\\u0430\\u0437\\u043e\\u0432\\u0430\\u043d\\u0438\\u0435\", \"\\u0431\\u0430\\u0440\\u0430\\u0445\\u043e\\u043b\\u043a\\u0430\", \"\\u0440\\u0443\\u0441\\u0441\\u043a\\u0438\\u0439\", \"\\u044d\\u0442\\u043e\", \"\\u0438\\u043b\\u0438\", \"\\u044f\\u0437\\u044b\\u043a\", \"\\u043d\\u043e\\u0432\\u0433\\u043e\\u0440\\u043e\\u0434\", \"\\u043d\\u0438\\u0436\\u043d\\u0438\\u0439\", \"\\u0434\\u0432\\u0438\\u0436\\u0435\\u043d\\u0438\\u0435\", \"\\u0438\\u0437\", \"\\u043c\\u043e\\u043b\\u043e\\u0434\\u0451\\u0436\\u043d\\u044b\\u0439\", \"\\u0445\\u0443\\u0434\\u043e\\u0436\\u043d\\u0438\\u0446\\u0430\", \"\\u043f\\u0443\\u0431\\u043b\\u0438\\u0447\\u043d\\u044b\\u0439\", \"\\u0445\\u0443\\u0434\\u043e\\u0436\\u043d\\u0438\\u043a\", \"\\u043a\\u0443\\u0440\\u0441\", \"\\u0441\\u0442\\u0440\\u0430\\u043d\\u0438\\u0446\\u0430\", \"\\u0442\\u0432\\u043e\\u0440\\u0447\\u0435\\u0441\\u0442\\u0432\\u043e\", \"\\u043d\\u0435\", \"\\u0440\\u0430\\u0431\\u043e\\u0442\\u0430\", \"\\u0433\\u043e\\u0440\\u043e\\u0434\\u0441\\u043a\\u043e\\u0439\", \"\\u0441\\u043e\\u043e\\u0431\\u0449\\u0435\\u0441\\u0442\\u0432\\u043e\", \"\\u043e\\u0431\\u0443\\u0432\\u044c\", \"\\u043e\\u0434\\u0435\\u0436\\u0434\\u0430\", \"\\u043c\\u043e\\u0434\\u0435\\u043b\\u044c\", \"\\u043e\\u0442\\u0434\\u044b\\u0445\", \"\\u0441\\u0442\\u0438\\u043b\\u044c\", \"\\u0438\\u0441\\u043a\\u0430\\u0442\\u044c\", \"\\u044d\\u0442\\u043e\", \"\\u043c\\u043e\\u0434\\u0430\", \"\\u043a\\u0440\\u0430\\u0441\\u043e\\u0442\\u0430\", \"\\u0441\", \"\\u043c\\u043e\\u0441\\u043a\\u0432\\u0430\", \"\\u043e\\u0431\\u0440\\u0430\\u0437\", \"\\u0443\\u0445\\u043e\\u0434\", \"\\u0441\\u0435\\u0431\\u044f\", \"\\u0438\", \"\\u0437\\u0434\\u043e\\u0440\\u043e\\u0432\\u044b\\u0439\", \"\\u0437\\u0430\", \"\\u0436\\u0438\\u0437\\u043d\\u044c\", \"\\u043a\\u0430\\u0437\\u0430\\u043d\\u044c\", \"\\u043c\\u044b\", \"\\u0441\\u0430\\u0439\\u0442\", \"\\u0434\\u043b\\u044f\", \"\\u0441\\u043f\\u043e\\u0440\\u0442\", \"\\u0434\\u043e\\u043c\", \"\\u0444\\u0438\\u043b\\u044c\\u043c\", \"\\u043e\\u0442\", \"\\u2022\", \"\\u0432\", \"\\u0444\\u0430\\u043d-\\u043a\\u043b\\u0443\\u0431\", \"\\u0442\\u043e\\u0432\\u0430\\u0440\", \"\\u0440\\u0430\\u0431\\u043e\\u0442\\u0430\", \"\\u043d\\u0438\\u0436\\u043d\\u0438\\u0439\", \"\\u043a\\u043b\\u0443\\u0431\", \"\\u0433\\u043e\\u0440\\u043e\\u0434\\u0441\\u043a\\u043e\\u0439\", \"\\u0441\\u043e\\u043e\\u0431\\u0449\\u0435\\u0441\\u0442\\u0432\\u043e\", \"\\u043a\\u0438\\u043d\\u043e\", \"\\u0438\\u043d\\u0442\\u0435\\u0440\\u043d\\u0435\\u0442-\\u0441\\u043c\\u0438\", \"\\u043d\\u043e\\u0432\\u0433\\u043e\\u0440\\u043e\\u0434\", \"\\u043d\\u0438\\u0436\\u043d\\u0438\\u0439\", \"\\u0436\\u0443\\u0440\\u043d\\u0430\\u043b\", \"\\u043d\\u043e\\u0432\\u043e\\u0441\\u0442\\u044c\", \"\\u0448\\u043a\\u043e\\u043b\\u0430\", \"\\u043a\\u0440\\u0430\\u0441\\u043e\\u0442\\u0430\", \"\\u043c\\u043e\\u0441\\u043a\\u0432\\u0430\", \"\\u043e\\u0431\\u044a\\u044f\\u0432\\u043b\\u0435\\u043d\\u0438\\u0435\", \"\\u0442\\u0435\\u0445\\u043d\\u0438\\u043a\\u0430\", \"\\u0438\\u0441\\u043a\\u0443\\u0441\\u0441\\u0442\\u0432\\u043e\", \"\\u043e\", \"\\u043a\\u0443\\u043b\\u0438\\u043d\\u0430\\u0440\\u0438\\u044f\", \"\\u0438\\u0441\\u0442\\u043e\\u0440\\u0438\\u044f\", \"\\u0438\\u0437\", \"\\u0438\", \"\\u0440\\u0435\\u0446\\u0435\\u043f\\u0442\", \"\\u2022\", \"\\u0437\\u043d\\u0430\\u043a\\u043e\\u043c\\u0441\\u0442\\u0432\\u043e\", \"\\u043f\\u043e\\u0438\\u0441\\u043a\", \"the\", \"\\u0436\\u0438\\u0437\\u043d\\u044c\", \"\\u0440\\u043e\\u0441\\u0441\\u0438\\u044f\", \"\\u043c\\u0443\\u0437\\u044b\\u043a\\u0430\", \"\\u043f\\u0441\\u0438\\u0445\\u043e\\u043b\\u043e\\u0433\\u0438\\u044f\", \"\\u0440\\u0443\\u0441\\u0441\\u043a\\u0438\\u0439\", \"\\u0442\\u044b\", \"\\u0441\\u043f\\u043e\\u0440\\u0442\", \"\\u0433\\u0440\\u0430\\u0444\\u0438\\u043a\\u0430\", \"\\u0442\\u043e\\u043c\\u0441\\u043a\", \"\\u0437\\u0434\\u043e\\u0440\\u043e\\u0432\\u044b\\u0439\", \"\\u043d\\u0430\\u0443\\u043a\\u0430\", \"\\u043a\\u0430\\u0437\\u0430\\u043d\\u044c\", \"\\u0436\\u0438\\u0432\\u043e\\u0442\\u043d\\u043e\\u0435\", \"\\u0434\\u043e\\u043c\\u0430\\u0448\\u043d\\u0438\\u0439\", \"\\u0432\", \"\\u043a\\u0443\\u043b\\u044c\\u0442\\u0443\\u0440\\u0430\", \"\\u0434\\u0440\\u0443\\u0433\\u043e\\u0439\", \"\\u0434\\u043b\\u044f\", \"\\u0432\\u0438\\u0434\\u0435\\u043e\\u0438\\u0433\\u0440\\u0430\", \"\\u043e\\u0431\\u0440\\u0430\\u0437\\u043e\\u0432\\u0430\\u043d\\u0438\\u0435\", \"\\u0431\\u0438\\u0437\\u043d\\u0435\\u0441\", \"\\u0434\\u0438\\u0441\\u043a\\u0443\\u0441\\u0441\\u0438\\u043e\\u043d\\u043d\\u044b\\u0439\", \"\\u0437\\u043d\\u0430\\u043a\\u043e\\u043c\\u0441\\u0442\\u0432\\u043e\", \"\\u0440\\u0443\\u0441\\u0441\\u043a\\u0438\\u0439\", \"\\u043a\\u043b\\u0443\\u0431\", \"\\u043d\\u0430\", \"\\u0438\\u0437\", \"\\u0442\\u044b\", \"\\u0438\\u0441\\u043a\\u0430\\u0442\\u044c\", \"\\u043f\\u043e\\u0434\\u0441\\u043b\\u0443\\u0448\\u0430\\u0442\\u044c\", \"\\u043c\\u043e\\u0441\\u043a\\u0432\\u0430\", \"\\u0442\\u0438\\u043f\\u0438\\u0447\\u043d\\u044b\\u0439\", \"\\u043e\\u0442\\u0434\\u044b\\u0445\", \"\\u0432\", \"\\u043d\\u043e\\u0432\\u0433\\u043e\\u0440\\u043e\\u0434\", \"\\u0444\\u0430\\u043a\\u0442\", \"\\u043d\\u0438\\u0436\\u043d\\u0438\\u0439\", \"\\u0434\\u043e\\u043c\", \"\\u0448\\u043a\\u043e\\u043b\\u0430\", \"\\u043a\\u0440\\u0430\\u0441\\u043e\\u0442\\u0430\", \"\\u0441\", \"\\u043e\\u0431\\u0435\\u0441\\u043f\\u0435\\u0447\\u0435\\u043d\\u0438\\u0435\", \"\\u043f\\u0440\\u043e\\u0433\\u0440\\u0430\\u043c\\u043c\\u043d\\u044b\\u0439\", \"\\u043f\\u0443\\u0431\\u043b\\u0438\\u0447\\u043d\\u044b\\u0439\", \"\\u0441\\u0442\\u0440\\u0430\\u043d\\u0438\\u0446\\u0430\", \"\\u043a\\u043d\\u0438\\u0433\\u0430\", \"\\u043b\\u0438\\u0442\\u0435\\u0440\\u0430\\u0442\\u0443\\u0440\\u0430\", \"\\u044f\", \"\\u0432\\u043a\\u043e\\u043d\\u0442\\u0430\\u043a\\u0442\\u0435\", \"\\u0436\\u0438\\u0437\\u043d\\u044c\", \"\\u0438\", \"\\u0433\\u043e\\u0440\\u043e\\u0434\\u0441\\u043a\\u043e\\u0439\", \"\\u0441\\u043e\\u043e\\u0431\\u0449\\u0435\\u0441\\u0442\\u0432\\u043e\", \"\\u043c\\u0443\\u0437\\u044b\\u043a\\u0430\", \"\\u043e\\u0442\\u043a\\u0440\\u044b\\u0442\\u044b\\u0439\", \"\\u0433\\u0440\\u0443\\u043f\\u043f\\u0430\", \"\\u0438\\u043d\\u0442\\u0435\\u0440\\u043d\\u0435\\u0442-\\u0441\\u043c\\u0438\", \"\\u0436\\u0438\\u0437\\u043d\\u044c\", \"\\u0444\\u0438\\u043d\\u0430\\u043d\\u0441\\u044b\", \"\\u0437\\u0434\\u043e\\u0440\\u043e\\u0432\\u044b\\u0439\", \"\\u044f\\u0437\\u044b\\u043a\", \"\\u0430\\u043d\\u0433\\u043b\\u0438\\u0439\\u0441\\u043a\\u0438\\u0439\", \"\\u043e\\u0431\\u0440\\u0430\\u0437\", \"\\u0431\\u0430\\u0440\\u0430\\u0445\\u043e\\u043b\\u043a\\u0430\", \"\\u0434\\u043b\\u044f\", \"\\u043e\\u0431\\u044a\\u044f\\u0432\\u043b\\u0435\\u043d\\u0438\\u0435\", \"\\u0441\", \"\\u043d\\u0430\", \"\\u043e\\u0431\\u0440\\u0430\\u0437\\u043e\\u0432\\u0430\\u043d\\u0438\\u0435\", \"\\u0436\\u0443\\u0440\\u043d\\u0430\\u043b\", \"\\u043e\\u0442\", \"\\u043e\", \"\\u043c\\u043e\\u0441\\u043a\\u0432\\u0430\", \"\\u0431\\u043b\\u043e\\u0433\", \"\\u043e\\u0440\\u0433\\u0430\\u043d\\u0438\\u0437\\u0430\\u0446\\u0438\\u044f\", \"\\u0440\\u0430\\u0431\\u043e\\u0442\\u0430\", \"\\u0431\\u043b\\u043e\\u0433\\u0435\\u0440\", \"\\u0442\\u0438\\u043f\\u0438\\u0447\\u043d\\u044b\\u0439\", \"\\u043c\\u0443\\u0437\\u044b\\u043a\\u0430\\u043b\\u044c\\u043d\\u044b\\u0439\", \"\\u043e\\u0431\\u0449\\u0435\\u0441\\u0442\\u0432\\u0435\\u043d\\u043d\\u044b\\u0439\", \"e\", \"\\u0441\\u043f\\u043e\\u0440\\u0442\", \"the\", \"\\u0441\\u0430\\u0439\\u0442\", \"\\u0438\\u043d\\u0441\\u0442\\u0438\\u0442\\u0443\\u0442\", \"\\u0434\\u043e\\u043f\\u043e\\u043b\\u043d\\u0438\\u0442\\u0435\\u043b\\u044c\\u043d\\u044b\\u0439\", \"\\u043a\\u0443\\u043b\\u044c\\u0442\\u0443\\u0440\\u0430\", \"\\u0438\", \"\\u043d\\u043e\\u0432\\u0433\\u043e\\u0440\\u043e\\u0434\", \"\\u0433\\u0440\\u0443\\u043f\\u043f\\u0430\", \"\\u043d\\u0438\\u0436\\u043d\\u0438\\u0439\", \"\\u043e\\u0442\\u043a\\u0440\\u044b\\u0442\\u044b\\u0439\", \"\\u0443\\u043d\\u0438\\u0432\\u0435\\u0440\\u0441\\u0438\\u0442\\u0435\\u0442\", \"\\u0433\\u043e\\u0440\\u043e\\u0434\\u0441\\u043a\\u043e\\u0439\", \"\\u0441\\u043e\\u043e\\u0431\\u0449\\u0435\\u0441\\u0442\\u0432\\u043e\", \"``\", \"''\", \"\\u043a\\u0443\\u0440\\u0441\", \"\\u0444\\u0438\\u043b\\u043e\\u0441\\u043e\\u0444\\u0438\\u044f\", \"\\u043e\\u0431\\u0443\\u0447\\u0430\\u0442\\u044c\", \"\\u0438\\u043d\\u0442\\u0435\\u0440\\u044c\\u0435\\u0440\", \"\\u0438\\u043d\\u0441\\u0442\\u0438\\u0442\\u0443\\u0442\", \"\\u0434\\u0438\\u0437\\u0430\\u0439\\u043d\", \"\\u043f\\u0441\\u0438\\u0445\\u043e\\u043b\\u043e\\u0433\\u0438\\u044f\", \"\\u0441\\u043f\\u043e\\u0440\\u0442\\u0438\\u0432\\u043d\\u044b\\u0439\", \"\\u0434\\u043b\\u044f\", \"\\u043a\\u043b\\u0443\\u0431\", \"\\u044f\\u0437\\u044b\\u043a\", \"\\u043a\\u0430\\u0437\\u0430\\u043d\\u044c\", \"\\u043c\\u043e\\u0441\\u043a\\u0432\\u0430\", \"\\u0432\", \"\\u0441\", \"\\u0430\\u043d\\u0433\\u043b\\u0438\\u0439\\u0441\\u043a\\u0438\\u0439\", \"\\u043e\\u0442\\u0434\\u044b\\u0445\", \"\\u043e\\u0442\", \"\\u043f\\u0440\\u043e\\u0433\\u0440\\u0430\\u043c\\u043c\\u0438\\u0440\\u043e\\u0432\\u0430\\u043d\\u0438\\u0435\", \"\\u043e\\u0442\\u043a\\u0440\\u044b\\u0442\\u044b\\u0439\", \"\\u0442\\u0432\\u043e\\u0440\\u0447\\u0435\\u0441\\u0442\\u0432\\u043e\", \"\\u043e\\u0431\\u044a\\u044f\\u0432\\u043b\\u0435\\u043d\\u0438\\u0435\", \"\\u0442\\u043e\\u043c\\u0441\\u043a\", \"\\u0433\\u0440\\u0443\\u043f\\u043f\\u0430\", \"\\u043d\\u0430\", \"\\u0430\\u0432\\u0442\\u043e\\u043c\\u043e\\u0431\\u0438\\u043b\\u044c\", \"e\", \"\\u0442\\u044b\", \"\\u043e\\u0431\\u0440\\u0430\\u0437\\u043e\\u0432\\u0430\\u043d\\u0438\\u0435\", \"\\u0438\", \"\\u043e\\u0440\\u0433\\u0430\\u043d\\u0438\\u0437\\u0430\\u0446\\u0438\\u044f\", \"\\u043c\\u0443\\u0437\\u044b\\u043a\\u0430\\u043d\\u0442\", \"\\u043b\\u0438\\u0442\\u0435\\u0440\\u0430\\u0442\\u0443\\u0440\\u0430\", \"\\u043f\\u0440\\u043e\\u0433\\u0440\\u0430\\u043c\\u043c\\u043d\\u044b\\u0439\", \"\\u043e\\u0431\\u0435\\u0441\\u043f\\u0435\\u0447\\u0435\\u043d\\u0438\\u0435\", \"\\u0431\\u043b\\u043e\\u0433\\u0435\\u0440\", \"\\u0443\\u043d\\u0438\\u0432\\u0435\\u0440\\u0441\\u0438\\u0442\\u0435\\u0442\", \"\\u0438\\u0441\\u043a\\u0443\\u0441\\u0441\\u0442\\u0432\\u043e\", \"\\u043c\\u044b\", \"\\u043a\\u043d\\u0438\\u0433\\u0430\", \"\\u043d\\u043e\\u0432\\u0433\\u043e\\u0440\\u043e\\u0434\", \"\\u043d\\u0438\\u0436\\u043d\\u0438\\u0439\", \"\\u2022\", \"\\u043e\\u0442\\u0434\\u044b\\u0445\", \"\\u0444\\u0438\\u043d\\u0430\\u043d\\u0441\\u044b\", \"\\u043f\\u0435\\u0440\\u0435\\u0434\\u0430\\u0447\\u0430\", \"\\u0448\\u043e\\u0443\", \"\\u043d\\u043e\\u0432\\u043e\\u0441\\u0442\\u044c\", \"\\u0440\\u0443\\u0441\\u0441\\u043a\\u0438\\u0439\", \"\\u0442\\u0432\\u043e\\u0440\\u0447\\u0435\\u0441\\u0442\\u0432\\u043e\", \"\\u043e\\u0442\\u043a\\u0440\\u044b\\u0442\\u044b\\u0439\", \"\\u043c\\u0443\\u0437\\u044b\\u043a\\u0430\\u043b\\u044c\\u043d\\u044b\\u0439\", \"\\u043f\\u043e\\u0438\\u0441\\u043a\", \"\\u0433\\u0440\\u0443\\u043f\\u043f\\u0430\", \"\\u0438\\u0437\", \"\\u0440\\u0430\\u0431\\u043e\\u0442\\u0430\", \"\\u044d\\u0442\\u043e\", \"\\u043c\\u0438\\u0440\", \"\\u043f\\u043e\", \"\\u043a\\u0440\\u0430\\u0441\\u043e\\u0442\\u0430\", \"\\u0431\\u043b\\u043e\\u0433\", \"\\u0442\\u043e\\u043c\\u0441\\u043a\", \"\\u0438\\u043b\\u0438\", \"\\u0432\", \"\\u043f\\u043e\\u0434\\u0441\\u043b\\u0443\\u0448\\u0430\\u0442\\u044c\", \"\\u043e\\u0434\\u0435\\u0436\\u0434\\u0430\", \"\\u0437\\u0430\\u043a\\u0440\\u044b\\u0442\\u044b\\u0439\", \"\\u0433\\u043e\\u0440\\u043e\\u0434\\u0441\\u043a\\u043e\\u0439\", \"\\u0441\\u043e\\u043e\\u0431\\u0449\\u0435\\u0441\\u0442\\u0432\\u043e\", \"\\u043e\\u0431\\u0443\\u0432\\u044c\", \"\\u0438\", \"\\u043d\\u0430\", \"\\u0444\\u0430\\u043d-\\u043a\\u043b\\u0443\\u0431\", \"\\u043c\\u043e\\u043b\\u043e\\u0434\\u0451\\u0436\\u043d\\u044b\\u0439\", \"\\u0434\\u0432\\u0438\\u0436\\u0435\\u043d\\u0438\\u0435\", \"the\", \"\\u2022\", \"\\u0441\\u0430\\u0439\\u0442\", \"\\u043f\\u0441\\u0438\\u0445\\u043e\\u043b\\u043e\\u0433\\u0438\\u044f\", \"\\u043a\\u0440\\u0430\\u0441\\u043e\\u0442\\u0430\", \"of\", \"\\u0438\\u0437\", \"\\u0444\\u0438\\u043b\\u044c\\u043c\", \"\\u043e\\u0431\\u0449\\u0435\\u0441\\u0442\\u0432\\u043e\", \"\\u043f\\u043e\", \"\\u0442\\u043e\\u043c\\u0441\\u043a\", \"\\u0446\\u0435\\u043d\\u0442\\u0440\", \"\\u043d\\u0430\", \"\\u0436\\u0438\\u0437\\u043d\\u044c\", \"\\u0445\\u043e\\u0440\\u043e\\u0448\\u0438\\u0439\", \"\\u0444\\u0438\\u043b\\u043e\\u0441\\u043e\\u0444\\u0438\\u044f\", \"\\u043e\\u0431\\u044a\\u044f\\u0432\\u043b\\u0435\\u043d\\u0438\\u0435\", \"\\u043e\", \"\\u043e\\u0431\\u0440\\u0430\\u0437\\u043e\\u0432\\u0430\\u043d\\u0438\\u0435\", \"\\u0430\\u043d\\u0433\\u043b\\u0438\\u0439\\u0441\\u043a\\u0438\\u0439\", \"\\u043e\\u0442\", \"\\u043e\\u0431\\u0449\\u0435\\u0441\\u0442\\u0432\\u0435\\u043d\\u043d\\u044b\\u0439\", \"\\u0441\\u0442\\u0440\\u0430\\u043d\\u0438\\u0446\\u0430\", \"\\u0432\", \"\\u0437\\u0434\\u043e\\u0440\\u043e\\u0432\\u044b\\u0439\", \"\\u043f\\u0443\\u0431\\u043b\\u0438\\u0447\\u043d\\u044b\\u0439\", \"\\u043e\\u0431\\u0440\\u0430\\u0437\", \"\\u0438\\u043d\\u0442\\u0435\\u0440\\u043d\\u0435\\u0442-\\u0441\\u043c\\u0438\", \"\\u0438\\u0441\\u0442\\u043e\\u0440\\u0438\\u044f\", \"\\u0444\\u043e\\u0442\\u043e\\u0433\\u0440\\u0430\\u0444\\u0438\\u044f\", \"\\u043b\\u0438\\u0442\\u0435\\u0440\\u0430\\u0442\\u0443\\u0440\\u0430\", \"\\u044f\", \"\\u0433\\u0440\\u0443\\u043f\\u043f\\u0430\", \"\\u043a\\u0430\\u0437\\u0430\\u043d\\u044c\", \"\\u0444\\u0430\\u043a\\u0442\", \"\\u043d\\u0435\", \"\\u043f\\u043e\\u0434\\u0441\\u043b\\u0443\\u0448\\u0430\\u0442\\u044c\", \"art\", \"of\", \"\\u0442\\u0432\\u043e\\u0440\\u0447\\u0435\\u0441\\u0442\\u0432\\u043e\", \"\\u0448\\u043a\\u043e\\u043b\\u0430\", \"\\u0438\\u0437\", \"\\u0437\\u043d\\u0430\\u043a\\u043e\\u043c\\u0441\\u0442\\u0432\\u043e\", \"\\u043e\\u0431\\u0440\\u0430\\u0437\\u043e\\u0432\\u0430\\u043d\\u0438\\u0435\", \"\\u0438\\u043d\\u0441\\u0442\\u0438\\u0442\\u0443\\u0442\", \"\\u043c\\u043e\\u0441\\u043a\\u0432\\u0430\", \"\\u043a\\u0443\\u043b\\u0438\\u043d\\u0430\\u0440\\u0438\\u044f\", \"\\u0433\\u043e\\u0440\\u043e\\u0434\\u0441\\u043a\\u043e\\u0439\", \"\\u0441\\u043e\\u043e\\u0431\\u0449\\u0435\\u0441\\u0442\\u0432\\u043e\", \"\\u0434\\u043e\\u043c\", \"\\u0445\\u0443\\u0434\\u043e\\u0436\\u043d\\u0438\\u043a\", \"\\u0442\\u043e\\u0432\\u0430\\u0440\", \"\\u0445\\u0443\\u0434\\u043e\\u0436\\u043d\\u0438\\u0446\\u0430\", \"\\u043c\\u043e\\u0439\", \"\\u0434\\u0438\\u0441\\u043a\\u0443\\u0441\\u0441\\u0438\\u043e\\u043d\\u043d\\u044b\\u0439\", \"\\u0440\\u0435\\u0446\\u0435\\u043f\\u0442\", \"\\u043e\\u0431\\u0449\\u0435\\u0441\\u0442\\u0432\\u0435\\u043d\\u043d\\u044b\\u0439\", \"\\u043e\\u0442\", \"\\u0444\\u0430\\u043d-\\u043a\\u043b\\u0443\\u0431\", \"\\u0441\\u0430\\u0439\\u0442\", \"\\u0430\\u043d\\u0433\\u043b\\u0438\\u0439\\u0441\\u043a\\u0438\\u0439\", \"\\u0442\\u043e\\u043c\\u0441\\u043a\", \"\\u0442\\u044b\", \"\\u043a\\u043b\\u0443\\u0431\", \"\\u0438\\u043b\\u0438\", \"\\u043e\\u0442\\u043a\\u0440\\u044b\\u0442\\u044b\\u0439\", \"\\u043e\\u0440\\u0433\\u0430\\u043d\\u0438\\u0437\\u0430\\u0446\\u0438\\u044f\", \"\\u0433\\u0440\\u0443\\u043f\\u043f\\u0430\", \"\\u043e\\u0431\\u0449\\u0435\\u0441\\u0442\\u0432\\u043e\", \"\\u0441\\u0435\\u0431\\u044f\", \"\\u0432\", \"\\u043a\\u0438\\u043d\\u043e\", \"\\u0434\\u043b\\u044f\", \"\\u0437\\u0430\\u043a\\u0440\\u044b\\u0442\\u044b\\u0439\", \"\\u043e\\u0442\\u043d\\u043e\\u0448\\u0435\\u043d\\u0438\\u0435\", \"\\u043f\\u043e\\u043b\", \"\\u043a\\u043d\\u0438\\u0433\\u0430\", \"\\u0433\\u0440\\u0443\\u043f\\u043f\\u0430\", \"\\u0436\\u0443\\u0440\\u043d\\u0430\\u043b\", \"\\u043e\", \"\\u0448\\u043a\\u043e\\u043b\\u0430\", \"\\u0441\", \"\\u043e\\u0442\\u043a\\u0440\\u044b\\u0442\\u044b\\u0439\", \"\\u043f\\u0440\\u043e\\u0433\\u0440\\u0430\\u043c\\u043c\\u0438\\u0440\\u043e\\u0432\\u0430\\u043d\\u0438\\u0435\", \"\\u0440\\u0435\\u0446\\u0435\\u043f\\u0442\", \"\\u043e\\u0442\", \"\\u0440\\u0435\\u0431\\u0451\\u043d\\u043e\\u043a\", \"\\u0445\\u043e\\u0440\\u043e\\u0448\\u0438\\u0439\", \"\\u0432\\u043a\\u043e\\u043d\\u0442\\u0430\\u043a\\u0442\\u0435\", \"\\u043c\\u043e\\u0439\", \"\\u0444\\u0430\\u043d-\\u043a\\u043b\\u0443\\u0431\", \"\\u0438\\u0441\\u0442\\u043e\\u0440\\u0438\\u044f\", \"\\u2022\", \"\\u043f\\u0435\\u0440\\u0435\\u0434\\u0430\\u0447\\u0430\", \"\\u043e\\u0431\\u0435\\u0441\\u043f\\u0435\\u0447\\u0435\\u043d\\u0438\\u0435\", \"\\u043f\\u0440\\u043e\\u0433\\u0440\\u0430\\u043c\\u043c\\u043d\\u044b\\u0439\", \"\\u043a\\u0443\\u043b\\u044c\\u0442\\u0443\\u0440\\u0430\", \"\\u0448\\u043e\\u0443\", \"\\u044d\\u043b\\u0435\\u043a\\u0442\\u0440\\u043e\\u043d\\u0438\\u043a\\u0430\", \"\\u0438\\u043d\\u0442\\u0435\\u0440\\u044c\\u0435\\u0440\", \"\\u0441\\u043f\\u043e\\u0440\\u0442\", \"\\u0438\\u0441\\u043a\\u0443\\u0441\\u0441\\u0442\\u0432\\u043e\", \"\\u0438\\u0437\", \"\\u0436\\u0438\\u0432\\u043e\\u0442\\u043d\\u043e\\u0435\", \"\\u0441\\u043e\\u043e\\u0431\\u0449\\u0435\\u0441\\u0442\\u0432\\u043e\", \"\\u043d\\u043e\\u0432\\u043e\\u0441\\u0442\\u044c\", \"\\u0433\\u043e\\u0440\\u043e\\u0434\\u0441\\u043a\\u043e\\u0439\", \"\\u0438\\u0433\\u0440\\u0430\", \"\\u0443\\u043d\\u0438\\u0432\\u0435\\u0440\\u0441\\u0438\\u0442\\u0435\\u0442\", \"\\u043e\\u0431\\u0440\\u0430\\u0437\\u043e\\u0432\\u0430\\u043d\\u0438\\u0435\", \"\\u0438\", \"\\u043e\\u0434\\u0435\\u0436\\u0434\\u0430\", \"\\u044f\", \"\\u043c\\u043e\\u0441\\u043a\\u0432\\u0430\", \"\\u043a\\u0438\\u043d\\u043e\", \"\\u043e\\u0431\\u0443\\u0432\\u044c\", \"\\u043c\\u0443\\u0437\\u044b\\u043a\\u0430\\u043d\\u0442\", \"\\u043c\\u0435\\u043c\", \"\\u043c\\u043e\\u0434\\u0430\", \"\\u0440\\u0435\\u0431\\u0451\\u043d\\u043e\\u043a\", \"\\u0441\\u0442\\u0438\\u043b\\u044c\", \"\\u043f\\u043e\", \"\\u0434\\u043b\\u044f\", \"\\u0438\\u043b\\u0438\", \"\\u043f\\u0443\\u0431\\u043b\\u0438\\u0447\\u043d\\u044b\\u0439\", \"\\u0441\\u0442\\u0440\\u0430\\u043d\\u0438\\u0446\\u0430\", \"\\u043d\\u0435\", \"\\u0442\\u0435\\u0445\\u043d\\u0438\\u043a\\u0430\", \"\\u0432\\u043a\\u043e\\u043d\\u0442\\u0430\\u043a\\u0442\\u0435\", \"\\u0438\\u0441\\u043a\\u0430\\u0442\\u044c\", \"\\u0431\\u043b\\u043e\\u0433\\u0435\\u0440\", \"\\u0445\\u0443\\u0434\\u043e\\u0436\\u043d\\u0438\\u0446\\u0430\", \"\\u0430\\u043d\\u0433\\u043b\\u0438\\u0439\\u0441\\u043a\\u0438\\u0439\", \"\\u0442\\u044b\", \"\\u0445\\u0443\\u0434\\u043e\\u0436\\u043d\\u0438\\u043a\", \"\\u0438\\u043d\\u0442\\u0435\\u0440\\u044c\\u0435\\u0440\", \"\\u0432\\u0438\\u0434\\u0435\\u043e\\u0438\\u0433\\u0440\\u0430\", \"\\u043f\\u043e\\u043b\", \"\\u043e\\u0442\", \"\\u043f\\u043e\\u0438\\u0441\\u043a\", \"\\u043f\\u043e\\u0434\\u0441\\u043b\\u0443\\u0448\\u0430\\u0442\\u044c\", \"\\u044d\\u043b\\u0435\\u043a\\u0442\\u0440\\u043e\\u043d\\u0438\\u043a\\u0430\", \"\\u0441\", \"\\u043c\\u043e\\u0439\", \"\\u043e\\u0442\\u043d\\u043e\\u0448\\u0435\\u043d\\u0438\\u0435\", \"\\u0444\\u043e\\u0442\\u043e\\u0433\\u0440\\u0430\\u0444\\u0438\\u044f\", \"\\u0440\\u0430\\u0431\\u043e\\u0442\\u0430\", \"\\u0438\", \"\\u043c\\u043e\\u0434\\u0435\\u043b\\u044c\", \"\\u0438\\u0433\\u0440\\u0430\", \"\\u043e\\u0431\\u0440\\u0430\\u0437\\u043e\\u0432\\u0430\\u043d\\u0438\\u0435\", \"\\u0432\", \"\\u043a\\u043b\\u0443\\u0431\", \"\\u0441\\u043e\\u043e\\u0431\\u0449\\u0435\\u0441\\u0442\\u0432\\u043e\"], \"Freq\": [333.0, 282.0, 230.0, 216.0, 147.0, 166.0, 141.0, 159.0, 117.0, 127.0, 150.0, 75.0, 91.0, 86.0, 81.0, 88.0, 71.0, 88.0, 72.0, 66.0, 67.0, 68.0, 75.0, 76.0, 66.0, 67.0, 69.0, 69.0, 52.0, 67.0, 223.7411878146921, 31.053099901376704, 20.492526789791054, 18.80332419119371, 273.5963918211277, 8.61660765469107, 1.6807866385441959, 5.571381360845593, 0.4060815801950042, 0.3639831320218607, 0.4846253530142147, 0.7464019735095807, 0.30050042133661, 0.15947853318568653, 0.1450586748417104, 0.13398237243011948, 0.11184871880279545, 0.10053142338343067, 0.2584311235168573, 0.11558169711371286, 0.08029722203412736, 0.0710034585331527, 0.1455741612336579, 0.11234257639508084, 0.09264283862973628, 0.15368140829932114, 0.06464999429970875, 0.1261224007759781, 0.08478332624097237, 0.07275507068655974, 0.18753214352438022, 0.6359640746193621, 0.18174032185331662, 0.17043300029148833, 0.2505146708866752, 0.1261223747798247, 0.131632814086053, 0.112311710295563, 55.354579381116395, 52.530712109782385, 85.01726607590814, 34.56511959079389, 46.878904681626864, 30.975520729772253, 40.60037517454211, 40.551708014708886, 21.561671963218796, 18.33212309482614, 6.941330654284644, 26.488170917168535, 9.576537611324632, 3.1620914750212554, 1.8228350959068527, 3.7001004482141946, 0.3073028668479792, 0.9126911208646068, 0.9246222935785156, 0.3723048191536198, 0.1420592555180793, 0.12837364995920167, 0.13168352343621537, 0.3072641660189152, 0.24512769589226366, 0.21443906165009094, 0.08473820216044221, 0.08010345087082367, 0.07709821490811523, 0.16505356210796823, 0.0899836218222599, 0.19478579393666764, 0.14041176890243415, 0.13333300054270142, 0.18313570696507864, 0.14134294895339478, 0.1421136385714113, 154.68176669657495, 161.93874972849346, 21.254161883032122, 33.24938502450593, 27.963203457734206, 6.525039896300299, 16.31445343764636, 4.671763825722504, 12.452137109762967, 11.542147167848379, 2.7702146824827647, 2.1943261776202365, 4.211130151101961, 0.7454131095284224, 1.1482615596403767, 0.25564279800146594, 0.20764503978400892, 0.15907083207157802, 0.16359794421780768, 0.12567391885038254, 0.12101374607196064, 0.13503500847150915, 0.12022427314207562, 0.07742864559553563, 0.13792731485196222, 0.24849000918111658, 0.07632065439718173, 0.06177997732181804, 0.06150914953398773, 0.15253912570431064, 0.1750563019114131, 0.1746857714057401, 0.6631494008657207, 0.41609443473116364, 0.15340413661779173, 0.22299921710676132, 0.1705665258942412, 0.15037815122980316, 0.1512094812995888, 115.24389940046574, 68.13394879875757, 51.88638796042065, 45.67655265020124, 45.670817877807714, 28.173112693057043, 20.449199660646602, 59.565464407591605, 5.545373041173728, 1.2955937475093138, 1.8808253827010462, 1.0502279199848292, 0.9983725876530076, 2.1680517669052444, 0.8400688138346142, 0.5203202900030134, 0.49940427566540707, 0.22809697377734447, 0.4379454893221653, 0.2042837582608294, 0.1638624179585633, 0.14051546371861984, 0.5414083303527234, 0.4269169488753767, 0.19454128385153557, 0.17357837526592906, 0.30719722070846894, 0.1735773966266769, 0.08840116735345913, 0.10431246077362887, 0.14587166359376644, 0.145870309586034, 0.24812556340350927, 0.18485540964666053, 0.21771121163497734, 0.20334150293923325, 0.1962457784964011, 0.19112151612401374, 73.10529821403398, 64.61021092830062, 24.565810522569482, 56.07530684064068, 108.69584599437623, 46.9934347773259, 43.91949449857333, 12.532972324229416, 5.921095606249969, 3.251598288121471, 2.127403536719026, 1.3255383611638123, 1.018302791617102, 0.4111459814146789, 0.6348704565946476, 0.21021857833288196, 0.16342718785583277, 0.3776701803675308, 0.11635819419285418, 0.10194947948690343, 0.09541452616271988, 0.22843744298888954, 0.24745183490992237, 0.13733773140724082, 0.11473473061340929, 0.06997385160329897, 0.07012005550766774, 0.05651202525247512, 0.06639975020432251, 0.1465410826247183, 0.5657964975835293, 0.1854670583048484, 0.14625117086746223, 0.1223938843942558, 0.2029705730955347, 0.1157995805126238, 45.08719935640303, 25.990132394108777, 20.736447809834186, 45.00454422539823, 42.325423483994875, 35.3115138372148, 202.0351133498489, 10.575453260991065, 4.650322070902488, 2.754276769063789, 3.664494512697367, 2.7287299180335305, 0.6040214867531449, 0.3103180754337818, 1.16609388049342, 0.29628593523533664, 0.1578970095292945, 0.1254102344984045, 0.11635674461607332, 0.10252705770871474, 0.13451606409545994, 0.08812081530611154, 0.1455208324140629, 0.0941768464326439, 0.08269488753382086, 0.11557386712731672, 0.11396807834177022, 0.1648884017963224, 0.12137533631388275, 0.2299164569898839, 0.4471435172094683, 0.18645367143521166, 0.2112085739918458, 0.16647636550243453, 0.3843765535365101, 0.17071898527929788, 0.13653543433517093, 0.14246014744132232, 0.23734114392855446, 0.17383737069435556, 0.1554996947905251, 0.1783094190491828, 52.34280640945643, 28.440011862832183, 24.585326372943676, 209.74369260641902, 15.138040636673354, 30.425190513097164, 3.020062960197089, 3.316846451653573, 3.546291841315673, 3.06148002667004, 0.7180981889733089, 0.7274096056261854, 0.7486187289227734, 1.560155060571799, 0.9536957219302251, 0.27306734746055333, 0.21984575658036548, 0.2923357184168675, 2.0844755915641255, 0.3661349228710803, 0.2509718890805007, 0.4446268601830057, 0.2525104078328735, 0.20137925418368308, 0.8422193196040321, 0.22902984104090254, 0.80413216128545, 0.21173844207502185, 0.08933326623839852, 0.12756742459427176, 0.34236515079631, 0.38579998523390596, 0.2804642738940972, 0.2694013439493055, 0.2684195039724355, 0.2600217653643189, 0.2872265630670326, 78.54042701607956, 32.22453158830715, 29.405783625917138, 60.27357063092966, 25.527322710540442, 59.380760246957095, 18.482149301524124, 16.21498934256124, 17.44379087614708, 23.43582982425956, 12.29670823887949, 4.815831012103597, 0.895054479755819, 0.9771890977763377, 1.3326003702790346, 0.4288674172243543, 0.1612325558016946, 0.19072493301244495, 0.36003168324836293, 1.501750140206494, 0.19664464663115352, 0.23723620861394573, 0.16802251637655924, 0.33175196208197355, 0.09754024150539009, 0.12409343042896376, 0.08323333748073518, 0.06370403844558722, 0.23102199852099492, 0.07843084281972376, 0.16226083333089927, 0.12354827461119569, 0.12409371582695018, 0.17657041438866694, 0.1923547267537788, 0.17664845361407763, 139.07134060339385, 40.74196224432772, 42.274129049646355, 29.861787148424117, 34.20388502150928, 23.778605860854338, 22.06704311857544, 17.39713797182687, 13.668400615061886, 1.1515101454236745, 1.1228858652200964, 0.6486955078139377, 0.6727079307851573, 0.3139043559973845, 0.2740649045169802, 0.40449563730407545, 0.2139082167249048, 0.7644709703680858, 0.27100363213473694, 0.12012347842676216, 0.13709920438643478, 0.09271540659845814, 0.11266429653030928, 0.25385387776901414, 0.09336303420418963, 0.09185817511156923, 0.11684447533921799, 0.1456099027523793, 0.09098620757007637, 0.20241334633405145, 0.1764232018732603, 0.159028466098275, 0.15890347356347775, 0.2879090099292593, 0.15334028303882294, 0.1515028070002693, 0.17100368788099385, 0.1549953509149024, 36.333276218244215, 50.013158523157735, 39.08630933216102, 26.3812222699583, 55.35316918220218, 102.82384589735105, 21.55301536212717, 11.189277932094026, 6.985616845895397, 2.33913338669523, 4.498472427039851, 1.5216210889047481, 0.7858876588597501, 0.30811196028369753, 2.4375064922529757, 0.2630896131370673, 0.22563506896066418, 0.20280369123083186, 0.5228431397037233, 0.27304744050376895, 0.4230446042910088, 0.43945126155846154, 0.21595320894569103, 0.0987694030946858, 0.2153203090626085, 0.13114164077124754, 0.08320366285601281, 0.13113328601537624, 0.15177946107156878, 0.08320364658051436, 0.36919358045885076, 0.1552101733899719, 0.19247098488315129, 0.2086942715347272, 0.2083718213594238, 84.66336367960345, 89.82845607211542, 28.008730090506507, 26.38708856443693, 67.653402395899, 20.321245790228364, 9.449764324900258, 9.695320940538611, 5.27459774053505, 2.8389046689686936, 1.6740422796211292, 0.9836249249195227, 0.9038381454445162, 0.9805730015927662, 5.1946513082749, 0.784628360324005, 0.8456342446580859, 0.8949522075345199, 0.6704879798449919, 0.2030063403261634, 0.17715104550012395, 0.5481427580718752, 0.11900924381661554, 0.17272651121150917, 0.18069544236505103, 0.10320343588424725, 0.1562484703080731, 0.6516535384289202, 0.15305051655720345, 0.0992690386470172, 0.29943079205409145, 0.2102302858833986, 0.2020205786947961, 0.28693150948332796, 0.2869033644636053, 0.22308490736653247, 145.39205156433613, 51.77602778322993, 54.735713635082305, 19.367140671008052, 43.47943280459491, 27.94196483350379, 2.178287849883371, 1.1775788438275274, 1.446578021469006, 0.2837469242885513, 0.17729888992452883, 0.27097919548868815, 0.26066338522065785, 0.24810238326666564, 0.11274768176972115, 1.376252349088789, 0.24319373860193308, 0.13979388076842367, 0.22058697080140321, 0.16805045106888508, 0.18411457767093337, 0.2566464560813004, 0.1262204484151092, 0.27533681349316125, 0.0987652044418003, 0.08237031908513674, 0.06666114144874818, 0.07184640687136709, 0.0987648580425968, 0.07568178084030804, 0.1340870798540979, 0.22150879156664613, 0.1983903816456003, 0.15383293663291628, 0.1383206659498267, 0.27585897355312894, 0.14691864057991524, 0.15238088365656954, 0.15853216723371438, 0.16618284501168434, 0.1584075369990731, 70.13219879515383, 32.17545223565801, 53.65350931468515, 21.64279386518522, 62.37836258059857, 57.94060700270954, 15.473394637255353, 4.257024267168918, 3.9558303341749723, 10.704013739567461, 2.681117539962715, 1.0805354492625199, 0.542327881240301, 2.2598902474503237, 0.9226243031622225, 0.3382374399187645, 0.7347164667181569, 0.24233611448230308, 0.33737634163063085, 0.15837656152301946, 0.32326146761872115, 0.22625467121025752, 0.22625425956588144, 0.10951270692086038, 0.10899772951525655, 0.153408168270198, 0.28657893164729875, 0.24118075221191818, 0.10264521292114498, 0.2488567672218305, 0.8124399469862167, 0.3761312394668454, 0.37558391710438993, 0.2355809891061521, 0.3320929272278935, 0.3673842492836476, 0.2662834437327346, 64.06853483223799, 25.961911828990065, 40.99100372049176, 38.90122990034881, 26.871187920653313, 36.70481735811747, 24.51526763875548, 49.78605236175338, 14.561215053109777, 7.697671263192268, 2.2394032106131134, 4.583020467986215, 0.4490114447759529, 0.2684133129102559, 0.33652280593394623, 0.5064383951012708, 0.1659004345143049, 0.4451318418745535, 0.6100529221219985, 0.18565972319771604, 0.21667035795734896, 0.15285740266903655, 0.11885807206287183, 0.13555937972065787, 0.08605535381238125, 0.18506328325299262, 0.08605495609057014, 0.09581224488638795, 0.10223062848400437, 0.1966182848329945, 0.6037614117821242, 0.1833561592597838, 0.49709605253037603, 0.18056668124863431, 0.27287775043789053, 0.16955602825409644, 0.20742350941309973, 0.20727272185671564, 66.23313900027975, 64.16749929164902, 38.390551360240245, 33.270258886105594, 29.13837229707188, 28.136045384273018, 23.904174398458633, 21.903062838817455, 8.37422095308115, 3.817846690611237, 7.4390388412393635, 4.903905497480055, 0.673439928614351, 1.1374148810008096, 0.6270440926017583, 1.273601652480534, 0.440868917555275, 0.20946307881610401, 0.18184078003876525, 0.12893380389995834, 0.32083525670492563, 1.2835097753574753, 0.5554944299927829, 0.31920673238925773, 0.10182374574978036, 1.4004990188081756, 0.28861795139221486, 0.15554558960337495, 0.1193170649365363, 0.06927398462316352, 0.6113524567415896, 0.5747996260481805, 0.1339605523581085, 0.13599672752241201, 64.24918863464542, 40.108034448959145, 40.108034448959145, 28.441665992064298, 64.23770205900358, 19.526566453872473, 20.164190678740233, 8.8283420220012, 1.894459045704073, 1.960107109759405, 0.3168456988475156, 0.22350943015546748, 0.17759345665442716, 0.17404861296384538, 0.18975734628017132, 0.30451033131805183, 0.11169538439116532, 0.4952559656088949, 0.8881117199561364, 0.11234720437728225, 0.14057433454509818, 1.0989196536098178, 0.06809793175003008, 0.2778506600443721, 0.0717863989539934, 0.06522727683086281, 0.06522720650259306, 0.08125780154094994, 0.06522696914468265, 0.06522729441293025, 0.1577680053220416, 0.3224348271011434, 0.16665315584787316, 0.18735704243357987, 0.12118349433770452, 0.24509514533351082, 0.24695727967790246, 0.13431913603969525, 0.13908543232827353, 0.12155993519257886, 36.01731039819405, 46.033576698568254, 43.82947569970212, 45.78535928132779, 32.402033893231604, 21.11742674205012, 17.496973532646617, 14.46338905772246, 7.5512936012794585, 1.2573320914972188, 1.0046474191132748, 1.2814844498744085, 0.28477313821231776, 0.29211458433111837, 0.4120668931914711, 0.5099896177444279, 0.45856710116543464, 0.14836718274987631, 0.17970134639967497, 0.35866045630806137, 0.1556443495754014, 0.9837367305785494, 0.12550100040768403, 0.09332336980600604, 0.11799221664896761, 0.09490954046668437, 0.597749361436366, 0.15758338421162396, 0.07341085459669751, 0.14009805577214302, 0.5158363940634064, 0.149387143165516, 0.1885914136455534, 0.1804156318083227, 0.16659512473337357, 0.1464904437817096, 67.09641445910799, 29.02918130070071, 43.55433706968276, 56.683024982590815, 17.53297580057664, 22.166869727868605, 15.215541497228255, 4.249579868558396, 0.6402617611072318, 0.740090126360136, 1.9927656746451936, 0.19235064854217, 0.40993108922713384, 0.256770532311302, 0.8728982541378635, 0.8635820704049577, 0.1583489321231784, 0.16227980591352797, 0.12301056124535574, 0.14300306177545272, 0.10301759272954193, 0.1430027127691554, 0.22154188425417187, 0.10977019036547811, 0.08302549672947136, 0.14248205882928258, 0.083024909764335, 0.10301808451114267, 0.0830255998449683, 0.06303300016535504, 0.20275657271053235, 0.18298719031990343, 0.4893127936416642, 0.1817139201638378, 0.524398333252981, 0.13713444156683416, 0.12757146278997344, 0.1638287910444562, 0.15208131839713931, 0.14300306177545272, 50.91735141442132, 38.10086746868901, 34.28828572115898, 22.94898932503137, 54.327331694679486, 2.6261127786467804, 1.4494986025055676, 1.3227355955577744, 0.7519352139106432, 2.4540152167069347, 0.5066389814350747, 0.3901928314854705, 0.1353901442926829, 0.16490594881079984, 0.1609404242125467, 0.14590167499254914, 0.12500113221400505, 0.2055355562016114, 0.23998343417182885, 0.17738928724977276, 0.16563259475988262, 0.20553776409742938, 0.2055362224896985, 0.26894632409345026, 0.16563276459802245, 0.09380734647094623, 0.1250009885048098, 0.08436880741295599, 0.08436891192873436, 0.08436882700966443, 0.209367640279837, 0.6221903195482068, 0.21436875946801992, 0.4363650543121741, 0.2243892881055996, 0.2073726431024056, 0.3343672700795281, 0.33843862996784807, 0.22585358028943808, 0.18342206862172444, 0.180589403609642, 0.20626390053209262, 0.1859490249820892, 74.51510211640459, 43.043479721743864, 22.729320216115124, 11.071499025604645, 19.744512163065348, 3.8406541530148988, 8.86687985647627, 1.5728746010044437, 0.2880730920622753, 0.2880731384802513, 0.4145233871883703, 0.20543319668490773, 0.1493199212871173, 0.14536035189222393, 0.14609049504968502, 0.14609145822268632, 0.13341550969628546, 0.08481866813553623, 0.14609131896875843, 0.12566707301311605, 0.4925689473495009, 0.14609087799798676, 0.08481858690407829, 0.16967407609905005, 0.2999845713379878, 0.08481838962768043, 0.21673913025514752, 0.08481827938498751, 0.14609167870807216, 0.2474789706592877, 0.29325616967668505, 0.5815660862523422, 0.10524314037881145, 0.17809698918200256, 0.32199831964914943, 0.1892812148192579, 0.14609143501369834, 0.1522620550667981], \"Total\": [333.0, 282.0, 230.0, 216.0, 147.0, 166.0, 141.0, 159.0, 117.0, 127.0, 150.0, 75.0, 91.0, 86.0, 81.0, 88.0, 71.0, 88.0, 72.0, 66.0, 67.0, 68.0, 75.0, 76.0, 66.0, 67.0, 69.0, 69.0, 52.0, 67.0, 230.90382506664315, 32.34301347968552, 21.97621657867957, 20.23277512658268, 333.76525567338786, 33.74347986620309, 38.206788459971456, 150.29292174852577, 22.113182228727318, 31.618251366071654, 54.4502450356895, 88.80718007068893, 48.61209683328295, 26.223193936781144, 29.72411232530766, 27.780167172356293, 25.7710972060691, 23.292730208593603, 60.58457279586126, 29.335587361269624, 21.224595213052645, 18.90233709624987, 39.89585537785144, 33.69732197772941, 29.439773543178458, 49.030607039563485, 21.22340931086912, 42.56927906773897, 30.815792392274332, 27.5606969027266, 72.82812406145875, 282.98661200963903, 71.88274958810642, 69.99563577525453, 147.75825651472556, 57.429739600480985, 73.72306985490482, 68.2417287032798, 57.451779523314286, 54.623538508845485, 88.80718007068893, 36.12693484480564, 49.030607039563485, 32.43070950802496, 42.61334425169732, 42.56927906773897, 23.184982866356563, 20.438278586335898, 33.280766799983425, 150.29292174852577, 61.42556386565635, 26.56962149558849, 27.92713887818544, 56.89620433778945, 23.935043515825875, 72.82812406145875, 75.86759590905132, 31.926128428750857, 29.425699022500854, 26.894089980208392, 27.780167172356293, 71.88274958810642, 57.429739600480985, 55.85849072812006, 22.5402964829139, 21.97621657867957, 22.113182228727318, 47.51956399189896, 26.399831282977985, 85.16071144743907, 69.99563577525453, 67.36054152981339, 282.98661200963903, 230.90382506664315, 333.76525567338786, 159.32959339212002, 166.85749605580452, 22.5402964829139, 35.70373139028212, 56.89620433778945, 23.075954480272106, 63.27559013176964, 23.935043515825875, 71.79538615844913, 67.81973300989442, 21.22340931086912, 60.58457279586126, 150.29292174852577, 27.92713887818544, 71.88274958810642, 21.885388075115845, 30.11352108635858, 28.400896210507906, 29.439773543178458, 25.998426659976683, 26.96122975509515, 33.74347986620309, 30.959175528806533, 20.438278586335898, 40.76701498073074, 73.72306985490482, 23.292730208593603, 20.23277512658268, 20.821891602786888, 52.007209749026096, 66.14340035313153, 68.2417287032798, 333.76525567338786, 230.90382506664315, 68.83254602148392, 282.98661200963903, 147.75825651472556, 86.41150414102509, 117.14749160008962, 117.14749160008962, 69.99563577525453, 53.666872187759736, 47.30105945608197, 47.29696826813747, 30.11352108635858, 21.885388075115845, 282.98661200963903, 38.206788459971456, 22.700721818114374, 33.280766799983425, 18.90233709624987, 48.61209683328295, 150.29292174852577, 63.27559013176964, 47.955239439862964, 47.97924374526387, 22.113182228727318, 45.83402834548353, 23.184982866356563, 21.917295171147185, 21.224595213052645, 85.16071144743907, 68.83254602148392, 33.74347986620309, 35.528871501335395, 67.28544754051272, 39.363137351112364, 23.075954480272106, 27.40463403957337, 41.65521707394997, 41.65521254236564, 81.691269515451, 56.89620433778945, 91.68557441662915, 86.41150414102509, 166.85749605580452, 141.5855763807588, 75.86759590905132, 67.36054152981339, 25.998426659976683, 60.58457279586126, 127.17959380425732, 61.42556386565635, 57.47363594707885, 18.90233709624987, 23.075954480272106, 30.959175528806533, 48.61209683328295, 33.280766799983425, 26.894089980208392, 38.206788459971456, 68.83254602148392, 23.935043515825875, 27.305452329439184, 66.35703368176569, 20.821891602786888, 20.438278586335898, 25.92608192352232, 63.27559013176964, 73.72306985490482, 44.59854241034507, 42.61334425169732, 26.223193936781144, 26.399831282977985, 21.885388075115845, 29.439773543178458, 66.14340035313153, 282.98661200963903, 88.80718007068893, 68.2417287032798, 57.451779523314286, 150.29292174852577, 147.75825651472556, 47.51956399189896, 27.40463403957337, 21.917295171147185, 47.58682572938446, 44.811014980019564, 37.509919919171466, 216.48195070516329, 45.43359693723549, 27.780167172356293, 33.280766799983425, 57.429739600480985, 56.89620433778945, 31.926128428750857, 39.04140791742058, 150.29292174852577, 42.114032957112265, 26.894089980208392, 22.113182228727318, 21.885388075115845, 21.97621657867957, 29.439773543178458, 20.23277512658268, 33.57523071540183, 23.935043515825875, 21.22340931086912, 29.762929352899135, 30.11352108635858, 44.59854241034507, 33.458009907176645, 63.51663890211497, 141.5855763807588, 63.27559013176964, 76.02380179572629, 57.47363594707885, 282.98661200963903, 69.11743320202964, 47.29696826813747, 54.4502450356895, 333.76525567338786, 117.14749160008962, 85.16071144743907, 230.90382506664315, 54.4502450356895, 29.72411232530766, 25.7710972060691, 282.98661200963903, 27.351061704148773, 57.429739600480985, 26.399831282977985, 56.89620433778945, 61.42556386565635, 85.16071144743907, 25.92608192352232, 27.5606969027266, 31.926128428750857, 81.691269515451, 67.36054152981339, 23.292730208593603, 22.113182228727318, 30.11352108635858, 216.48195070516329, 42.61334425169732, 30.44873566485877, 63.27559013176964, 39.89585537785144, 34.66357999099452, 159.32959339212002, 47.51956399189896, 166.85749605580452, 44.095521638858266, 18.90233709624987, 27.40463403957337, 75.86759590905132, 88.80718007068893, 66.35703368176569, 66.14340035313153, 68.2417287032798, 71.79538615844913, 150.29292174852577, 81.691269515451, 33.69732197772941, 30.815792392274332, 63.51663890211497, 26.96122975509515, 62.894091724512045, 21.224595213052645, 22.113182228727318, 23.935043515825875, 33.74347986620309, 39.04140791742058, 26.399831282977985, 20.438278586335898, 29.335587361269624, 150.29292174852577, 57.47363594707885, 22.700721818114374, 27.40463403957337, 63.27559013176964, 282.98661200963903, 37.6682383543293, 45.83402834548353, 33.280766799983425, 72.82812406145875, 22.400123635969326, 29.72411232530766, 21.22340931086912, 18.90233709624987, 69.11743320202964, 25.7710972060691, 56.89620433778945, 47.97924374526387, 57.429739600480985, 159.32959339212002, 216.48195070516329, 166.85749605580452, 141.5855763807588, 42.114032957112265, 44.095521638858266, 31.618251366071654, 36.52305464083198, 25.92608192352232, 26.894089980208392, 33.280766799983425, 85.16071144743907, 21.224595213052645, 68.83254602148392, 42.56927906773897, 49.030607039563485, 23.184982866356563, 26.223193936781144, 63.51663890211497, 33.74347986620309, 127.17959380425732, 47.955239439862964, 22.400123635969326, 26.96122975509515, 18.90233709624987, 23.292730208593603, 54.623538508845485, 20.821891602786888, 22.113182228727318, 29.335587361269624, 41.024905885040965, 26.56962149558849, 60.58457279586126, 63.27559013176964, 66.14340035313153, 68.2417287032798, 282.98661200963903, 67.44676518717333, 67.36054152981339, 166.85749605580452, 159.32959339212002, 37.6682383543293, 52.007209749026096, 40.76701498073074, 30.959175528806533, 73.72306985490482, 150.29292174852577, 39.04140791742058, 56.89620433778945, 76.02380179572629, 26.894089980208392, 68.83254602148392, 67.44676518717333, 63.51663890211497, 25.92608192352232, 216.48195070516329, 26.223193936781144, 23.292730208593603, 23.075954480272106, 62.894091724512045, 41.024905885040965, 67.81973300989442, 71.79538615844913, 45.83402834548353, 21.22340931086912, 47.97924374526387, 30.815792392274332, 20.23277512658268, 33.69732197772941, 39.89585537785144, 21.97621657867957, 127.17959380425732, 48.61209683328295, 88.80718007068893, 159.32959339212002, 166.85749605580452, 86.41150414102509, 91.68557441662915, 29.439773543178458, 29.335587361269624, 88.92682100857151, 27.92713887818544, 23.075954480272106, 33.57523071540183, 27.780167172356293, 57.47363594707885, 56.89620433778945, 38.91493267751866, 37.509919919171466, 44.811014980019564, 282.98661200963903, 43.12059033199381, 47.51956399189896, 67.28544754051272, 71.88274958810642, 22.700721818114374, 22.400123635969326, 85.16071144743907, 20.438278586335898, 31.618251366071654, 36.52305464083198, 21.224595213052645, 34.155781107290736, 150.29292174852577, 37.42622056830755, 25.92608192352232, 88.80718007068893, 71.79538615844913, 69.11743320202964, 159.32959339212002, 166.85749605580452, 141.5855763807588, 147.75825651472556, 67.81973300989442, 71.79538615844913, 26.56962149558849, 63.27559013176964, 45.43359693723549, 27.780167172356293, 56.89620433778945, 73.72306985490482, 30.11352108635858, 20.821891602786888, 33.280766799983425, 40.76701498073074, 44.095521638858266, 21.22340931086912, 282.98661200963903, 52.007209749026096, 34.155781107290736, 55.85849072812006, 42.61334425169732, 47.955239439862964, 67.28544754051272, 33.74347986620309, 75.86759590905132, 27.5606969027266, 23.292730208593603, 18.90233709624987, 20.438278586335898, 29.72411232530766, 23.935043515825875, 43.12059033199381, 81.691269515451, 71.88274958810642, 53.666872187759736, 47.30105945608197, 150.29292174852577, 54.623538508845485, 61.42556386565635, 85.16071144743907, 117.14749160008962, 216.48195070516329, 72.82812406145875, 33.458009907176645, 55.85849072812006, 23.292730208593603, 69.11743320202964, 68.83254602148392, 21.22340931086912, 18.90233709624987, 27.92713887818544, 76.02380179572629, 56.89620433778945, 35.70373139028212, 29.335587361269624, 150.29292174852577, 67.81973300989442, 31.926128428750857, 71.79538615844913, 31.618251366071654, 45.43359693723549, 27.780167172356293, 57.47363594707885, 41.65521707394997, 41.65521254236564, 20.23277512658268, 21.97621657867957, 32.943364699720526, 66.35703368176569, 60.58457279586126, 25.998426659976683, 67.28544754051272, 282.98661200963903, 159.32959339212002, 166.85749605580452, 75.86759590905132, 230.90382506664315, 333.76525567338786, 147.75825651472556, 67.28544754051272, 27.305452329439184, 43.12059033199381, 41.024905885040965, 28.400896210507906, 38.91493267751866, 26.223193936781144, 85.16071144743907, 73.72306985490482, 57.47363594707885, 68.83254602148392, 216.48195070516329, 26.56962149558849, 21.224595213052645, 33.280766799983425, 56.89620433778945, 23.184982866356563, 63.51663890211497, 88.80718007068893, 29.762929352899135, 35.70373139028212, 32.34301347968552, 26.96122975509515, 30.959175528806533, 20.438278586335898, 47.955239439862964, 22.400123635969326, 25.228803173631395, 27.40463403957337, 54.623538508845485, 282.98661200963903, 67.81973300989442, 333.76525567338786, 71.79538615844913, 230.90382506664315, 67.44676518717333, 159.32959339212002, 166.85749605580452, 68.2417287032798, 66.14340035313153, 39.89585537785144, 34.66357999099452, 30.44873566485877, 29.425699022500854, 25.228803173631395, 57.429739600480985, 27.5606969027266, 39.04140791742058, 85.16071144743907, 69.11743320202964, 41.024905885040965, 71.88274958810642, 56.89620433778945, 150.29292174852577, 57.47363594707885, 28.400896210507906, 29.335587361269624, 21.224595213052645, 57.451779523314286, 230.90382506664315, 127.17959380425732, 73.72306985490482, 23.935043515825875, 333.76525567338786, 68.83254602148392, 37.6682383543293, 30.959175528806533, 18.90233709624987, 216.48195070516329, 282.98661200963903, 63.51663890211497, 75.65910309717499, 66.35703368176569, 41.65521254236564, 41.65521707394997, 29.762929352899135, 67.44676518717333, 20.821891602786888, 22.700721818114374, 32.943364699720526, 67.81973300989442, 71.79538615844913, 34.155781107290736, 29.335587361269624, 27.305452329439184, 32.43070950802496, 36.12693484480564, 63.27559013176964, 23.292730208593603, 127.17959380425732, 230.90382506664315, 32.34301347968552, 42.61334425169732, 333.76525567338786, 21.22340931086912, 88.80718007068893, 23.075954480272106, 21.917295171147185, 22.113182228727318, 27.780167172356293, 23.184982866356563, 23.935043515825875, 62.894091724512045, 150.29292174852577, 76.02380179572629, 91.68557441662915, 52.18255380835082, 159.32959339212002, 166.85749605580452, 86.41150414102509, 282.98661200963903, 68.83254602148392, 37.42622056830755, 47.97924374526387, 45.83402834548353, 47.955239439862964, 34.155781107290736, 22.400123635969326, 27.5606969027266, 27.780167172356293, 38.206788459971456, 21.22340931086912, 36.52305464083198, 47.58682572938446, 22.113182228727318, 23.935043515825875, 54.4502450356895, 68.83254602148392, 67.28544754051272, 26.894089980208392, 34.66357999099452, 73.72306985490482, 33.280766799983425, 216.48195070516329, 28.400896210507906, 21.224595213052645, 26.96122975509515, 21.97621657867957, 150.29292174852577, 43.12059033199381, 20.23277512658268, 38.91493267751866, 147.75825651472556, 44.095521638858266, 67.36054152981339, 66.35703368176569, 60.58457279586126, 333.76525567338786, 71.88274958810642, 31.926128428750857, 48.61209683328295, 76.02380179572629, 26.399831282977985, 38.206788459971456, 127.17959380425732, 45.43359693723549, 21.22340931086912, 55.85849072812006, 216.48195070516329, 25.228803173631395, 56.89620433778945, 40.76701498073074, 159.32959339212002, 166.85749605580452, 31.618251366071654, 33.69732197772941, 25.92608192352232, 30.815792392274332, 22.5402964829139, 33.458009907176645, 52.007209749026096, 26.96122975509515, 21.224595213052645, 37.42622056830755, 22.400123635969326, 28.400896210507906, 23.935043515825875, 18.90233709624987, 69.11743320202964, 62.894091724512045, 230.90382506664315, 63.51663890211497, 333.76525567338786, 47.58682572938446, 44.811014980019564, 150.29292174852577, 141.5855763807588, 85.16071144743907, 52.18255380835082, 39.363137351112364, 35.528871501335395, 32.943364699720526, 333.76525567338786, 26.56962149558849, 33.280766799983425, 45.43359693723549, 57.47363594707885, 230.90382506664315, 57.451779523314286, 52.007209749026096, 21.224595213052645, 27.351061704148773, 26.894089980208392, 25.998426659976683, 22.5402964829139, 37.42622056830755, 44.095521638858266, 34.155781107290736, 32.43070950802496, 41.65521707394997, 41.65521254236564, 54.623538508845485, 36.12693484480564, 21.885388075115845, 29.425699022500854, 20.438278586335898, 20.821891602786888, 21.22340931086912, 53.666872187759736, 166.85749605580452, 63.27559013176964, 159.32959339212002, 69.99563577525453, 67.44676518717333, 216.48195070516329, 282.98661200963903, 91.68557441662915, 60.58457279586126, 56.89620433778945, 141.5855763807588, 86.41150414102509, 75.65910309717499, 44.59854241034507, 33.57523071540183, 27.351061704148773, 88.92682100857151, 22.113182228727318, 85.16071144743907, 62.894091724512045, 20.23277512658268, 21.97621657867957, 48.61209683328295, 30.11352108635858, 25.998426659976683, 27.92713887818544, 29.762929352899135, 30.815792392274332, 28.400896210507906, 18.90233709624987, 33.69732197772941, 29.425699022500854, 117.14749160008962, 35.528871501335395, 21.224595213052645, 42.61334425169732, 76.02380179572629, 21.885388075115845, 57.47363594707885, 22.5402964829139, 39.363137351112364, 67.36054152981339, 88.80718007068893, 282.98661200963903, 29.439773543178458, 69.99563577525453, 216.48195070516329, 150.29292174852577, 69.11743320202964, 166.85749605580452], \"Category\": [\"Default\", \"Default\", \"Default\", \"Default\", \"Default\", \"Default\", \"Default\", \"Default\", \"Default\", \"Default\", \"Default\", \"Default\", \"Default\", \"Default\", \"Default\", \"Default\", \"Default\", \"Default\", \"Default\", \"Default\", \"Default\", \"Default\", \"Default\", \"Default\", \"Default\", \"Default\", \"Default\", \"Default\", \"Default\", \"Default\", \"Topic1\", \"Topic1\", \"Topic1\", \"Topic1\", \"Topic1\", \"Topic1\", \"Topic1\", \"Topic1\", \"Topic1\", \"Topic1\", \"Topic1\", \"Topic1\", \"Topic1\", \"Topic1\", \"Topic1\", \"Topic1\", \"Topic1\", \"Topic1\", \"Topic1\", \"Topic1\", \"Topic1\", \"Topic1\", \"Topic1\", \"Topic1\", \"Topic1\", \"Topic1\", \"Topic1\", \"Topic1\", \"Topic1\", \"Topic1\", \"Topic1\", \"Topic1\", \"Topic1\", \"Topic1\", \"Topic1\", \"Topic1\", \"Topic1\", \"Topic1\", \"Topic2\", \"Topic2\", \"Topic2\", \"Topic2\", \"Topic2\", \"Topic2\", \"Topic2\", \"Topic2\", \"Topic2\", \"Topic2\", \"Topic2\", \"Topic2\", \"Topic2\", \"Topic2\", \"Topic2\", \"Topic2\", \"Topic2\", \"Topic2\", \"Topic2\", \"Topic2\", \"Topic2\", \"Topic2\", \"Topic2\", \"Topic2\", \"Topic2\", \"Topic2\", \"Topic2\", \"Topic2\", \"Topic2\", \"Topic2\", \"Topic2\", \"Topic2\", \"Topic2\", \"Topic2\", \"Topic2\", \"Topic2\", \"Topic2\", \"Topic3\", \"Topic3\", \"Topic3\", \"Topic3\", \"Topic3\", \"Topic3\", \"Topic3\", \"Topic3\", \"Topic3\", \"Topic3\", \"Topic3\", \"Topic3\", \"Topic3\", \"Topic3\", \"Topic3\", \"Topic3\", \"Topic3\", \"Topic3\", \"Topic3\", \"Topic3\", \"Topic3\", \"Topic3\", \"Topic3\", \"Topic3\", \"Topic3\", \"Topic3\", \"Topic3\", \"Topic3\", \"Topic3\", \"Topic3\", \"Topic3\", \"Topic3\", \"Topic3\", \"Topic3\", \"Topic3\", \"Topic3\", \"Topic3\", \"Topic3\", \"Topic3\", \"Topic4\", \"Topic4\", \"Topic4\", \"Topic4\", \"Topic4\", \"Topic4\", \"Topic4\", \"Topic4\", \"Topic4\", \"Topic4\", \"Topic4\", \"Topic4\", \"Topic4\", \"Topic4\", \"Topic4\", \"Topic4\", \"Topic4\", \"Topic4\", \"Topic4\", \"Topic4\", \"Topic4\", \"Topic4\", \"Topic4\", \"Topic4\", \"Topic4\", \"Topic4\", \"Topic4\", \"Topic4\", \"Topic4\", \"Topic4\", \"Topic4\", \"Topic4\", \"Topic4\", \"Topic4\", \"Topic4\", \"Topic4\", \"Topic4\", \"Topic4\", \"Topic5\", \"Topic5\", \"Topic5\", \"Topic5\", \"Topic5\", \"Topic5\", \"Topic5\", \"Topic5\", \"Topic5\", \"Topic5\", \"Topic5\", \"Topic5\", \"Topic5\", \"Topic5\", \"Topic5\", \"Topic5\", \"Topic5\", \"Topic5\", \"Topic5\", \"Topic5\", \"Topic5\", \"Topic5\", \"Topic5\", \"Topic5\", \"Topic5\", \"Topic5\", \"Topic5\", \"Topic5\", \"Topic5\", \"Topic5\", \"Topic5\", \"Topic5\", \"Topic5\", \"Topic5\", \"Topic5\", \"Topic5\", \"Topic6\", \"Topic6\", \"Topic6\", \"Topic6\", \"Topic6\", \"Topic6\", \"Topic6\", \"Topic6\", \"Topic6\", \"Topic6\", \"Topic6\", \"Topic6\", \"Topic6\", \"Topic6\", \"Topic6\", \"Topic6\", \"Topic6\", \"Topic6\", \"Topic6\", \"Topic6\", \"Topic6\", \"Topic6\", \"Topic6\", \"Topic6\", \"Topic6\", \"Topic6\", \"Topic6\", \"Topic6\", \"Topic6\", \"Topic6\", \"Topic6\", \"Topic6\", \"Topic6\", \"Topic6\", \"Topic6\", \"Topic6\", \"Topic6\", \"Topic6\", \"Topic6\", \"Topic6\", \"Topic6\", \"Topic6\", \"Topic7\", \"Topic7\", \"Topic7\", \"Topic7\", \"Topic7\", \"Topic7\", \"Topic7\", \"Topic7\", \"Topic7\", \"Topic7\", \"Topic7\", \"Topic7\", \"Topic7\", \"Topic7\", \"Topic7\", \"Topic7\", \"Topic7\", \"Topic7\", \"Topic7\", \"Topic7\", \"Topic7\", \"Topic7\", \"Topic7\", \"Topic7\", \"Topic7\", \"Topic7\", \"Topic7\", \"Topic7\", \"Topic7\", \"Topic7\", \"Topic7\", \"Topic7\", \"Topic7\", \"Topic7\", \"Topic7\", \"Topic7\", \"Topic7\", \"Topic8\", \"Topic8\", \"Topic8\", \"Topic8\", \"Topic8\", \"Topic8\", \"Topic8\", \"Topic8\", \"Topic8\", \"Topic8\", \"Topic8\", \"Topic8\", \"Topic8\", \"Topic8\", \"Topic8\", \"Topic8\", \"Topic8\", \"Topic8\", \"Topic8\", \"Topic8\", \"Topic8\", \"Topic8\", \"Topic8\", \"Topic8\", \"Topic8\", \"Topic8\", \"Topic8\", \"Topic8\", \"Topic8\", \"Topic8\", \"Topic8\", \"Topic8\", \"Topic8\", \"Topic8\", \"Topic8\", \"Topic8\", \"Topic9\", \"Topic9\", \"Topic9\", \"Topic9\", \"Topic9\", \"Topic9\", \"Topic9\", \"Topic9\", \"Topic9\", \"Topic9\", \"Topic9\", \"Topic9\", \"Topic9\", \"Topic9\", \"Topic9\", \"Topic9\", \"Topic9\", \"Topic9\", \"Topic9\", \"Topic9\", \"Topic9\", \"Topic9\", \"Topic9\", \"Topic9\", \"Topic9\", \"Topic9\", \"Topic9\", \"Topic9\", \"Topic9\", \"Topic9\", \"Topic9\", \"Topic9\", \"Topic9\", \"Topic9\", \"Topic9\", \"Topic9\", \"Topic9\", \"Topic9\", \"Topic10\", \"Topic10\", \"Topic10\", \"Topic10\", \"Topic10\", \"Topic10\", \"Topic10\", \"Topic10\", \"Topic10\", \"Topic10\", \"Topic10\", \"Topic10\", \"Topic10\", \"Topic10\", \"Topic10\", \"Topic10\", \"Topic10\", \"Topic10\", \"Topic10\", \"Topic10\", \"Topic10\", \"Topic10\", \"Topic10\", \"Topic10\", \"Topic10\", \"Topic10\", \"Topic10\", \"Topic10\", \"Topic10\", \"Topic10\", \"Topic10\", \"Topic10\", \"Topic10\", \"Topic10\", \"Topic10\", \"Topic11\", \"Topic11\", \"Topic11\", \"Topic11\", \"Topic11\", \"Topic11\", \"Topic11\", \"Topic11\", \"Topic11\", \"Topic11\", \"Topic11\", \"Topic11\", \"Topic11\", \"Topic11\", \"Topic11\", \"Topic11\", \"Topic11\", \"Topic11\", \"Topic11\", \"Topic11\", \"Topic11\", \"Topic11\", \"Topic11\", \"Topic11\", \"Topic11\", \"Topic11\", \"Topic11\", \"Topic11\", \"Topic11\", \"Topic11\", \"Topic11\", \"Topic11\", \"Topic11\", \"Topic11\", \"Topic11\", \"Topic11\", \"Topic12\", \"Topic12\", \"Topic12\", \"Topic12\", \"Topic12\", \"Topic12\", \"Topic12\", \"Topic12\", \"Topic12\", \"Topic12\", \"Topic12\", \"Topic12\", \"Topic12\", \"Topic12\", \"Topic12\", \"Topic12\", \"Topic12\", \"Topic12\", \"Topic12\", \"Topic12\", \"Topic12\", \"Topic12\", \"Topic12\", \"Topic12\", \"Topic12\", \"Topic12\", \"Topic12\", \"Topic12\", \"Topic12\", \"Topic12\", \"Topic12\", \"Topic12\", \"Topic12\", \"Topic12\", \"Topic12\", \"Topic12\", \"Topic12\", \"Topic12\", \"Topic12\", \"Topic12\", \"Topic12\", \"Topic13\", \"Topic13\", \"Topic13\", \"Topic13\", \"Topic13\", \"Topic13\", \"Topic13\", \"Topic13\", \"Topic13\", \"Topic13\", \"Topic13\", \"Topic13\", \"Topic13\", \"Topic13\", \"Topic13\", \"Topic13\", \"Topic13\", \"Topic13\", \"Topic13\", \"Topic13\", \"Topic13\", \"Topic13\", \"Topic13\", \"Topic13\", \"Topic13\", \"Topic13\", \"Topic13\", \"Topic13\", \"Topic13\", \"Topic13\", \"Topic13\", \"Topic13\", \"Topic13\", \"Topic13\", \"Topic13\", \"Topic13\", \"Topic13\", \"Topic14\", \"Topic14\", \"Topic14\", \"Topic14\", \"Topic14\", \"Topic14\", \"Topic14\", \"Topic14\", \"Topic14\", \"Topic14\", \"Topic14\", \"Topic14\", \"Topic14\", \"Topic14\", \"Topic14\", \"Topic14\", \"Topic14\", \"Topic14\", \"Topic14\", \"Topic14\", \"Topic14\", \"Topic14\", \"Topic14\", \"Topic14\", \"Topic14\", \"Topic14\", \"Topic14\", \"Topic14\", \"Topic14\", \"Topic14\", \"Topic14\", \"Topic14\", \"Topic14\", \"Topic14\", \"Topic14\", \"Topic14\", \"Topic14\", \"Topic14\", \"Topic15\", \"Topic15\", \"Topic15\", \"Topic15\", \"Topic15\", \"Topic15\", \"Topic15\", \"Topic15\", \"Topic15\", \"Topic15\", \"Topic15\", \"Topic15\", \"Topic15\", \"Topic15\", \"Topic15\", \"Topic15\", \"Topic15\", \"Topic15\", \"Topic15\", \"Topic15\", \"Topic15\", \"Topic15\", \"Topic15\", \"Topic15\", \"Topic15\", \"Topic15\", \"Topic15\", \"Topic15\", \"Topic15\", \"Topic15\", \"Topic15\", \"Topic15\", \"Topic15\", \"Topic15\", \"Topic16\", \"Topic16\", \"Topic16\", \"Topic16\", \"Topic16\", \"Topic16\", \"Topic16\", \"Topic16\", \"Topic16\", \"Topic16\", \"Topic16\", \"Topic16\", \"Topic16\", \"Topic16\", \"Topic16\", \"Topic16\", \"Topic16\", \"Topic16\", \"Topic16\", \"Topic16\", \"Topic16\", \"Topic16\", \"Topic16\", \"Topic16\", \"Topic16\", \"Topic16\", \"Topic16\", \"Topic16\", \"Topic16\", \"Topic16\", \"Topic16\", \"Topic16\", \"Topic16\", \"Topic16\", \"Topic16\", \"Topic16\", \"Topic16\", \"Topic16\", \"Topic16\", \"Topic16\", \"Topic17\", \"Topic17\", \"Topic17\", \"Topic17\", \"Topic17\", \"Topic17\", \"Topic17\", \"Topic17\", \"Topic17\", \"Topic17\", \"Topic17\", \"Topic17\", \"Topic17\", \"Topic17\", \"Topic17\", \"Topic17\", \"Topic17\", \"Topic17\", \"Topic17\", \"Topic17\", \"Topic17\", \"Topic17\", \"Topic17\", \"Topic17\", \"Topic17\", \"Topic17\", \"Topic17\", \"Topic17\", \"Topic17\", \"Topic17\", \"Topic17\", \"Topic17\", \"Topic17\", \"Topic17\", \"Topic17\", \"Topic17\", \"Topic18\", \"Topic18\", \"Topic18\", \"Topic18\", \"Topic18\", \"Topic18\", \"Topic18\", \"Topic18\", \"Topic18\", \"Topic18\", \"Topic18\", \"Topic18\", \"Topic18\", \"Topic18\", \"Topic18\", \"Topic18\", \"Topic18\", \"Topic18\", \"Topic18\", \"Topic18\", \"Topic18\", \"Topic18\", \"Topic18\", \"Topic18\", \"Topic18\", \"Topic18\", \"Topic18\", \"Topic18\", \"Topic18\", \"Topic18\", \"Topic18\", \"Topic18\", \"Topic18\", \"Topic18\", \"Topic18\", \"Topic18\", \"Topic18\", \"Topic18\", \"Topic18\", \"Topic18\", \"Topic19\", \"Topic19\", \"Topic19\", \"Topic19\", \"Topic19\", \"Topic19\", \"Topic19\", \"Topic19\", \"Topic19\", \"Topic19\", \"Topic19\", \"Topic19\", \"Topic19\", \"Topic19\", \"Topic19\", \"Topic19\", \"Topic19\", \"Topic19\", \"Topic19\", \"Topic19\", \"Topic19\", \"Topic19\", \"Topic19\", \"Topic19\", \"Topic19\", \"Topic19\", \"Topic19\", \"Topic19\", \"Topic19\", \"Topic19\", \"Topic19\", \"Topic19\", \"Topic19\", \"Topic19\", \"Topic19\", \"Topic19\", \"Topic19\", \"Topic19\", \"Topic19\", \"Topic19\", \"Topic19\", \"Topic19\", \"Topic19\", \"Topic20\", \"Topic20\", \"Topic20\", \"Topic20\", \"Topic20\", \"Topic20\", \"Topic20\", \"Topic20\", \"Topic20\", \"Topic20\", \"Topic20\", \"Topic20\", \"Topic20\", \"Topic20\", \"Topic20\", \"Topic20\", \"Topic20\", \"Topic20\", \"Topic20\", \"Topic20\", \"Topic20\", \"Topic20\", \"Topic20\", \"Topic20\", \"Topic20\", \"Topic20\", \"Topic20\", \"Topic20\", \"Topic20\", \"Topic20\", \"Topic20\", \"Topic20\", \"Topic20\", \"Topic20\", \"Topic20\", \"Topic20\", \"Topic20\", \"Topic20\"], \"logprob\": [30.0, 29.0, 28.0, 27.0, 26.0, 25.0, 24.0, 23.0, 22.0, 21.0, 20.0, 19.0, 18.0, 17.0, 16.0, 15.0, 14.0, 13.0, 12.0, 11.0, 10.0, 9.0, 8.0, 7.0, 6.0, 5.0, 4.0, 3.0, 2.0, 1.0, -0.9789, -2.9537, -3.3693, -3.4553, -0.7777, -4.2357, -5.8701, -4.6717, -7.2906, -7.4, -7.1137, -6.6819, -7.5917, -8.2252, -8.32, -8.3994, -8.58, -8.6867, -7.7425, -8.5471, -8.9114, -9.0344, -8.3164, -8.5756, -8.7684, -8.2622, -9.1281, -8.4599, -8.857, -9.01, -8.0632, -6.842, -8.0945, -8.1588, -7.7736, -8.4599, -8.4171, -8.5758, -2.1776, -2.23, -1.7485, -2.6485, -2.3438, -2.7582, -2.4876, -2.4888, -3.1205, -3.2827, -4.2539, -2.9147, -3.9321, -5.0401, -5.591, -4.883, -7.3713, -6.2827, -6.2697, -7.1794, -8.1429, -8.2442, -8.2187, -7.3714, -7.5974, -7.7311, -8.6596, -8.7158, -8.7541, -7.9929, -8.5995, -7.8272, -8.1546, -8.2063, -7.8889, -8.1479, -8.1425, -1.1159, -1.0701, -3.1008, -2.6533, -2.8264, -4.2817, -3.3653, -4.6158, -3.6354, -3.7113, -5.1384, -5.3714, -4.7196, -6.4511, -6.0191, -7.5213, -7.7292, -7.9957, -7.9677, -8.2314, -8.2692, -8.1595, -8.2757, -8.7157, -8.1383, -7.5497, -8.7301, -8.9415, -8.9459, -8.0377, -7.9, -7.9021, -6.5681, -7.0342, -8.032, -7.6579, -7.9259, -8.0519, -8.0464, -1.3855, -1.9111, -2.1835, -2.311, -2.3111, -2.7942, -3.1146, -2.0455, -4.4196, -5.8736, -5.5009, -6.0836, -6.1342, -5.3588, -6.3069, -6.7859, -6.8269, -7.6106, -6.9582, -7.7208, -7.9413, -8.095, -6.7462, -6.9838, -7.7697, -7.8837, -7.3129, -7.8837, -8.5585, -8.393, -8.0576, -8.0576, -7.5264, -7.8208, -7.6572, -7.7255, -7.761, -7.7874, -1.8257, -1.9492, -2.9162, -2.0909, -1.4291, -2.2676, -2.3352, -3.5892, -4.3391, -4.9385, -5.3627, -5.8358, -6.0995, -7.0064, -6.5719, -7.6772, -7.929, -7.0913, -8.2687, -8.4009, -8.4671, -7.5941, -7.5141, -8.1029, -8.2827, -8.7772, -8.7752, -8.9909, -8.8297, -8.0381, -6.6871, -7.8025, -8.04, -8.2181, -7.7123, -8.2735, -2.3088, -2.8597, -3.0855, -2.3106, -2.372, -2.5532, -0.8089, -3.7589, -4.5805, -5.1042, -4.8187, -5.1136, -6.6215, -7.2875, -5.9637, -7.3338, -7.9632, -8.1936, -8.2685, -8.395, -8.1235, -8.5464, -8.0448, -8.48, -8.61, -8.2752, -8.2892, -7.9199, -8.2263, -7.5874, -6.9223, -7.797, -7.6723, -7.9103, -7.0735, -7.8851, -8.1086, -8.0661, -7.5556, -7.867, -7.9785, -7.8416, -2.0213, -2.6313, -2.7769, -0.6332, -3.2619, -2.5638, -4.8738, -4.7801, -4.7132, -4.8602, -6.3102, -6.2974, -6.2686, -5.5343, -6.0265, -7.2771, -7.4939, -7.2089, -5.2446, -6.9838, -7.3615, -6.7896, -7.3554, -7.5817, -6.1508, -7.453, -6.1971, -7.5315, -8.3945, -8.0382, -7.051, -6.9315, -7.2504, -7.2906, -7.2943, -7.3261, -7.2266, -1.6083, -2.4992, -2.5907, -1.873, -2.7321, -1.8879, -3.0551, -3.186, -3.1129, -2.8176, -3.4626, -4.4, -6.0828, -5.995, -5.6848, -6.8185, -7.7968, -7.6288, -6.9935, -5.5653, -7.5983, -7.4106, -7.7556, -7.0753, -8.2994, -8.0586, -8.458, -8.7254, -7.4371, -8.5174, -7.7904, -8.063, -8.0586, -7.7059, -7.6203, -7.7055, -0.9995, -2.2273, -2.1903, -2.5379, -2.4022, -2.7657, -2.8404, -3.0782, -3.3194, -5.7934, -5.8186, -6.3673, -6.331, -7.0932, -7.2289, -6.8396, -7.4767, -6.2031, -7.2401, -8.0537, -7.9216, -8.3127, -8.1179, -7.3055, -8.3058, -8.322, -8.0814, -7.8613, -8.3316, -7.532, -7.6694, -7.7732, -7.774, -7.1796, -7.8096, -7.8217, -7.7006, -7.7989, -2.3283, -2.0088, -2.2553, -2.6484, -1.9073, -1.2881, -2.8506, -3.5061, -3.9772, -5.0713, -4.4173, -5.5013, -6.162, -7.0984, -5.0301, -7.2563, -7.4099, -7.5166, -6.5696, -7.2192, -6.7814, -6.7433, -7.4538, -8.236, -7.4567, -7.9526, -8.4075, -7.9526, -7.8064, -8.4075, -6.9175, -7.7841, -7.5689, -7.488, -7.4895, -1.4701, -1.4109, -2.5763, -2.6359, -1.6944, -2.8971, -3.6628, -3.6372, -4.2459, -4.8654, -5.3936, -5.9253, -6.0099, -5.9284, -4.2612, -6.1513, -6.0765, -6.0198, -6.3085, -7.5033, -7.6395, -6.51, -8.0373, -7.6648, -7.6197, -8.1798, -7.7651, -6.337, -7.7858, -8.2187, -7.1147, -7.4683, -7.5082, -7.1573, -7.1574, -7.409, -0.9085, -1.941, -1.8855, -2.9244, -2.1157, -2.5578, -5.1094, -5.7245, -5.5188, -7.1476, -7.6179, -7.1937, -7.2325, -7.2819, -8.0706, -5.5686, -7.3019, -7.8556, -7.3994, -7.6715, -7.5802, -7.248, -7.9577, -7.1777, -8.203, -8.3845, -8.5961, -8.5212, -8.203, -8.4692, -7.8972, -7.3953, -7.5055, -7.7599, -7.8662, -7.1758, -7.8058, -7.7693, -7.7298, -7.6826, -7.7306, -1.6178, -2.397, -1.8856, -2.7935, -1.7349, -1.8087, -3.129, -4.4196, -4.493, -3.4975, -4.8819, -5.7907, -6.4801, -5.0528, -5.9487, -6.9522, -6.1764, -7.2856, -6.9547, -7.7109, -6.9975, -7.3543, -7.3543, -8.0799, -8.0846, -7.7428, -7.1179, -7.2904, -8.1446, -7.259, -6.0759, -6.846, -6.8474, -7.3139, -6.9705, -6.8695, -7.1914, -1.6991, -2.6024, -2.1457, -2.1981, -2.568, -2.2562, -2.6598, -1.9513, -3.1807, -3.8182, -5.0529, -4.3367, -6.6598, -7.1743, -6.9482, -6.5394, -7.6554, -6.6685, -6.3533, -7.5429, -7.3885, -7.7373, -7.9889, -7.8574, -8.3118, -7.5461, -8.3118, -8.2044, -8.1396, -7.4856, -6.3637, -7.5554, -6.558, -7.5707, -7.1578, -7.6336, -7.4321, -7.4328, -1.6555, -1.6872, -2.2009, -2.344, -2.4766, -2.5116, -2.6746, -2.7621, -3.7235, -4.509, -3.8419, -4.2587, -6.244, -5.7199, -6.3154, -5.6068, -6.6677, -7.4119, -7.5533, -7.8971, -6.9855, -5.5991, -6.4366, -6.9906, -8.1332, -5.5119, -7.0913, -7.7095, -7.9747, -8.5184, -6.3408, -6.4024, -7.8589, -7.8438, -1.5478, -2.019, -2.019, -2.3628, -1.548, -2.7388, -2.7067, -3.5327, -5.0717, -5.0376, -6.86, -7.2089, -7.4389, -7.459, -7.3726, -6.8997, -7.9026, -6.4133, -5.8293, -7.8968, -7.6726, -5.6163, -8.3974, -6.9913, -8.3447, -8.4405, -8.4405, -8.2207, -8.4405, -8.4405, -7.5572, -6.8425, -7.5025, -7.3854, -7.8211, -7.1167, -7.1092, -7.7182, -7.6833, -7.818, -2.0566, -1.8113, -1.8603, -1.8167, -2.1624, -2.5905, -2.7786, -2.969, -3.6189, -5.4116, -5.636, -5.3926, -6.8967, -6.8712, -6.5272, -6.314, -6.4203, -7.5487, -7.3571, -6.666, -7.5008, -5.657, -7.7161, -8.0123, -7.7778, -7.9955, -6.1552, -7.4884, -8.2523, -7.606, -6.3026, -7.5418, -7.3088, -7.3531, -7.4328, -7.5614, -1.4017, -2.2395, -1.8338, -1.5703, -2.7437, -2.5092, -2.8855, -4.161, -6.0537, -5.9088, -4.9183, -7.2562, -6.4996, -6.9674, -5.7437, -5.7545, -7.4507, -7.4262, -7.7033, -7.5527, -7.8806, -7.5527, -7.1149, -7.8172, -8.0964, -7.5563, -8.0964, -7.8806, -8.0964, -8.3719, -7.2035, -7.3061, -6.3225, -7.3131, -6.2533, -7.5946, -7.6669, -7.4167, -7.4911, -7.5527, -1.4834, -1.7734, -1.8788, -2.2804, -1.4186, -4.4481, -5.0424, -5.1339, -5.6987, -4.5159, -6.0936, -6.3547, -7.4132, -7.216, -7.2404, -7.3385, -7.4931, -6.9958, -6.8408, -7.143, -7.2116, -6.9958, -6.9958, -6.7269, -7.2116, -7.7801, -7.4931, -7.8862, -7.8862, -7.8862, -6.9773, -5.8881, -6.9537, -6.2429, -6.908, -6.9869, -6.5092, -6.497, -6.9015, -7.1096, -7.1252, -6.9922, -7.0959, -0.9841, -1.5329, -2.1715, -2.8908, -2.3123, -3.9495, -3.1128, -4.8422, -6.5397, -6.5397, -6.1758, -6.8778, -7.1968, -7.2237, -7.2187, -7.2187, -7.3094, -7.7624, -7.2187, -7.3692, -6.0033, -7.2187, -7.7624, -7.069, -6.4992, -7.7624, -6.8242, -7.7624, -7.2187, -6.6916, -6.5218, -5.8372, -7.5466, -7.0206, -6.4283, -6.9597, -7.2187, -7.1773], \"loglift\": [30.0, 29.0, 28.0, 27.0, 26.0, 25.0, 24.0, 23.0, 22.0, 21.0, 20.0, 19.0, 18.0, 17.0, 16.0, 15.0, 14.0, 13.0, 12.0, 11.0, 10.0, 9.0, 8.0, 7.0, 6.0, 5.0, 4.0, 3.0, 2.0, 1.0, 2.5047, 2.4955, 2.4663, 2.4629, 2.3374, 1.1711, -0.5875, -0.7587, -1.4612, -1.9282, -2.1854, -2.2427, -2.55, -2.5663, -2.7864, -2.7982, -2.9036, -2.9092, -2.9209, -3.0004, -3.041, -3.0481, -3.0771, -3.1674, -3.2251, -3.2291, -3.2577, -3.2854, -3.3595, -3.4008, -3.4257, -3.5618, -3.444, -3.4816, -3.8436, -3.5848, -3.7918, -3.8733, 2.697, 2.6951, 2.6906, 2.69, 2.6893, 2.6883, 2.6858, 2.6857, 2.6616, 2.6255, 1.1667, 0.9983, 0.8757, 0.6057, 0.005, 0.0013, -1.6211, -1.6453, -1.6732, -1.7173, -2.5992, -2.6105, -2.6175, -2.7209, -2.7223, -2.8283, -2.8493, -2.8802, -2.9246, -2.9284, -2.9473, -3.3462, -3.4774, -3.4908, -4.6087, -4.6644, -5.0274, 2.7387, 2.7383, 2.7095, 2.697, 2.0579, 1.5051, 1.4128, 1.1345, 1.0163, 0.9974, 0.7321, -0.5499, -0.8066, -0.8551, -1.3685, -1.6815, -2.2086, -2.4166, -2.4244, -2.5638, -2.638, -2.7527, -2.7828, -2.8075, -2.9206, -2.9244, -2.9527, -3.0232, -3.0563, -3.0634, -3.1662, -3.1996, -3.4529, -3.5506, -3.3381, -4.3777, -3.9959, -3.5855, -3.8843, 2.7766, 2.766, 2.7593, 2.7581, 2.758, 2.7264, 2.7251, 1.2347, 0.8629, -0.0704, -0.0803, -0.0973, -1.0925, -1.4458, -1.5288, -1.7306, -1.7721, -1.7812, -1.8577, -1.9388, -2.103, -2.2246, -2.2651, -2.2898, -2.3629, -2.5285, -2.5962, -2.631, -2.7717, -2.7781, -2.8615, -2.8615, -3.0038, -2.9364, -3.25, -3.259, -3.9525, -3.8148, 2.7709, 2.7663, 2.7513, 2.7306, 2.6509, 2.5402, 2.539, 2.3971, 1.4477, 0.5545, -0.321, -0.4152, -0.4658, -1.7238, -1.878, -1.927, -2.3105, -2.3608, -2.3791, -2.4927, -2.7968, -2.816, -2.8889, -2.975, -3.1093, -3.1183, -3.1229, -3.1511, -3.2864, -3.3043, -3.4069, -3.3634, -3.3375, -3.3435, -3.7993, -4.3435, 2.7557, 2.7552, 2.7528, 2.7524, 2.7511, 2.7478, 2.7391, 1.3505, 1.0208, 0.3164, 0.0563, -0.2292, -1.1594, -2.0266, -2.0507, -2.1486, -2.3295, -2.3641, -2.4287, -2.5594, -2.5802, -2.6282, -2.633, -2.7297, -2.7395, -2.7429, -2.7686, -2.792, -2.811, -2.8131, -2.9496, -3.0189, -3.0778, -3.036, -3.7933, -3.1953, -3.0394, -3.1378, -4.4405, -3.7049, -3.4975, -4.358, 2.907, 2.9023, 2.8994, 2.647, 2.355, 2.3112, 0.7784, 0.1043, 0.0946, -0.3791, -0.6399, -0.6882, -0.8064, -1.0117, -1.311, -1.4997, -1.6645, -1.6883, -1.6965, -1.8104, -1.852, -2.0115, -2.1161, -2.2018, -2.2962, -2.3885, -2.3886, -2.3923, -2.4082, -2.4233, -2.4544, -2.4924, -2.5199, -2.5569, -2.5918, -2.6743, -3.3136, 2.9144, 2.909, 2.9069, 2.9013, 2.899, 2.8962, 2.8153, 2.6435, 2.6373, 2.5892, 1.7984, 1.2522, -0.1746, -0.4482, -1.7718, -1.9442, -1.9936, -2.0139, -2.2154, -2.2851, -2.3015, -2.31, -2.3349, -2.4378, -2.4829, -2.525, -2.5875, -2.7391, -2.7474, -2.8411, -2.9061, -3.0082, -3.1836, -3.8513, -4.0722, -3.897, 2.9732, 2.958, 2.9489, 2.9339, 2.9255, 2.9046, 2.7933, 2.3424, 1.1616, 0.077, -1.1247, -1.1929, -1.2978, -1.3111, -1.57, -2.0653, -2.0699, -2.1231, -2.1848, -2.2372, -2.2904, -2.3264, -2.3404, -2.3804, -2.4162, -2.4926, -2.5346, -2.6499, -2.6857, -2.7104, -2.8913, -3.0394, -3.0714, -3.8994, -3.0954, -3.1061, -3.8921, -3.9443, 2.9684, 2.9654, 2.9624, 2.8445, 2.7179, 2.6249, 2.4104, 1.3782, 0.6173, 0.5624, 0.2766, -0.7871, -1.3877, -1.428, -1.482, -1.5974, -1.6325, -1.7298, -1.7854, -2.0078, -2.0726, -2.0915, -2.3532, -2.3656, -2.4019, -2.455, -2.4893, -2.5445, -2.5671, -2.5719, -2.8375, -2.7423, -3.1298, -3.6334, -3.6811, 2.9964, 2.9963, 2.967, 2.9109, 2.7434, 2.6989, 2.124, 1.7746, 1.3554, 0.0089, -0.5092, -0.6611, -0.7089, -0.8053, -0.981, -0.9898, -1.012, -1.3031, -1.658, -1.7001, -1.823, -2.029, -2.1292, -2.193, -2.2921, -2.3094, -2.3704, -2.424, -2.4826, -2.5484, -2.6755, -2.8166, -2.8184, -3.3027, -3.349, -3.4363, 3.0215, 2.7677, 2.7663, 2.7214, 2.6624, 2.5515, 0.4918, -0.8402, -0.8935, -1.627, -1.7283, -1.7731, -2.0148, -2.1427, -2.2001, -2.2884, -2.3277, -2.4609, -2.4967, -2.498, -2.5248, -2.5314, -2.5509, -2.5811, -2.5938, -2.6071, -2.6098, -2.613, -2.6694, -2.7189, -2.7356, -2.8726, -2.8549, -2.8171, -2.7971, -3.2628, -2.8807, -2.9616, -3.2487, -3.5205, -4.1825, 3.0197, 3.0183, 3.0171, 2.984, 2.9548, 2.8852, 2.7414, 1.5667, 1.103, 1.097, 0.0024, -0.4404, -0.9333, -1.1398, -1.24, -1.49, -1.5247, -1.8137, -1.8454, -2.1097, -2.1232, -2.1581, -2.1581, -2.1616, -2.249, -2.312, -2.3874, -2.4688, -2.4771, -2.5424, -2.7957, -2.9914, -3.039, -2.7173, -3.4869, -3.7544, -3.2613, 3.0175, 3.0161, 3.0159, 3.0134, 3.0111, 3.008, 2.9992, 2.5297, 1.4446, 1.0561, -0.359, -0.7886, -1.014, -1.3039, -1.5276, -1.6551, -1.8734, -1.8942, -1.9142, -2.0106, -2.0381, -2.2881, -2.3577, -2.3645, -2.4037, -2.4908, -2.4953, -2.5068, -2.5247, -2.5604, -3.0835, -2.8467, -3.4429, -2.919, -3.6742, -2.9194, -3.5775, -3.6243, 3.047, 3.0466, 3.0384, 3.0359, 3.0329, 3.0321, 3.023, 2.113, 1.8857, 0.752, 0.6391, 0.4311, -1.0326, -1.0694, -1.4311, -1.6938, -1.7934, -1.8327, -2.0065, -2.0267, -2.1109, -2.1155, -2.3566, -2.3653, -2.383, -2.3967, -2.3974, -2.4127, -2.4817, -2.5321, -2.7927, -3.1222, -3.0846, -3.2445, 3.1827, 3.1771, 3.1771, 3.1696, 3.1662, 3.1507, 3.0965, 1.8981, -0.363, -0.3859, -1.4653, -1.6621, -1.8204, -2.0126, -2.0341, -2.1216, -2.1252, -2.3333, -2.3457, -2.4476, -2.4992, -2.5011, -2.5269, -2.5522, -2.5579, -2.6022, -2.6111, -2.6195, -2.6584, -2.6903, -2.7731, -2.9295, -2.9079, -2.9781, -2.8502, -3.2621, -3.3007, -3.2517, -4.4031, -3.1241, 3.2466, 3.2436, 3.2402, 3.2387, 3.2322, 3.226, 2.8306, 2.6323, 1.6637, 0.4588, -0.3083, -0.3296, -1.0673, -1.121, -1.5989, -1.6201, -1.7036, -1.915, -1.9772, -2.0407, -2.0802, -2.1089, -2.1369, -2.1419, -2.1466, -2.1598, -2.2422, -2.3268, -2.334, -2.3418, -2.3726, -2.4026, -2.5933, -2.6226, -2.6113, -4.4463, 3.2489, 3.2227, 3.2079, 3.0242, 2.9085, 2.7734, 1.1945, 0.9484, -0.1832, -1.006, -1.3702, -1.5586, -1.6152, -1.7496, -1.8891, -1.946, -1.9789, -2.0181, -2.0329, -2.0551, -2.0704, -2.1374, -2.1407, -2.186, -2.226, -2.2531, -2.2799, -2.3015, -2.3461, -2.3856, -2.5138, -2.522, -2.839, -2.5388, -3.1381, -2.5315, -2.5437, -3.5037, -3.5184, -3.0716, 3.4874, 3.4794, 3.4764, 3.1504, 1.6965, 1.1977, 0.3782, -0.0246, -0.8245, -1.0323, -1.219, -1.3805, -1.5428, -1.5992, -1.6067, -1.6709, -1.6828, -1.6926, -1.7016, -1.7484, -1.7651, -1.7996, -1.7996, -1.8018, -1.8731, -1.9404, -1.9493, -1.978, -1.9966, -2.0157, -2.0345, -2.0797, -2.1756, -2.3883, -2.2309, -2.2726, -2.9611, -3.2169, -2.4943, -2.2881, -2.2408, -3.0196, -2.6295, 3.6152, 3.595, 3.2403, 2.7261, 2.1255, 1.8799, 1.3682, -0.0581, -0.6214, -0.704, -1.134, -1.3572, -1.5292, -1.6277, -1.6863, -1.7211, -1.7303, -1.7761, -1.8105, -1.8255, -1.8411, -1.8634, -1.8919, -1.8956, -1.9046, -1.9226, -1.9499, -1.9521, -1.9659, -1.976, -2.0827, -2.557, -2.0034, -2.3434, -2.8803, -3.0467, -2.5289, -3.3688]}, \"token.table\": {\"Topic\": [15, 15, 7, 8, 18, 5, 10, 1, 4, 17, 18, 4, 17, 10, 14, 14, 2, 13, 2, 16, 1, 2, 3, 4, 6, 8, 10, 11, 13, 15, 17, 4, 5, 3, 7, 18, 7, 1, 3, 15, 16, 18, 19, 17, 6, 7, 15, 4, 13, 4, 7, 9, 11, 14, 15, 20, 9, 4, 6, 2, 5, 7, 4, 11, 14, 2, 12, 19, 6, 11, 19, 11, 14, 13, 18, 1, 4, 5, 7, 8, 11, 12, 13, 14, 15, 20, 4, 3, 13, 17, 18, 8, 10, 20, 15, 12, 17, 15, 2, 3, 11, 13, 16, 9, 3, 11, 15, 18, 9, 13, 15, 16, 19, 6, 11, 12, 17, 10, 2, 7, 15, 16, 20, 6, 11, 20, 11, 3, 17, 2, 3, 6, 7, 10, 11, 12, 13, 14, 15, 2, 5, 1, 20, 4, 16, 5, 9, 10, 13, 14, 17, 7, 8, 4, 5, 18, 3, 12, 13, 16, 3, 12, 13, 16, 3, 4, 12, 2, 4, 5, 6, 9, 19, 16, 11, 14, 6, 7, 10, 14, 15, 17, 18, 11, 15, 8, 6, 17, 10, 12, 14, 11, 8, 10, 8, 9, 8, 11, 13, 1, 15, 16, 19, 19, 2, 8, 20, 10, 13, 18, 2, 19, 2, 19, 16, 7, 15, 17, 1, 2, 9, 1, 2, 14, 7, 20, 10, 1, 8, 13, 5, 11, 14, 19, 17, 6, 11, 3, 7, 18, 19, 2, 8, 8, 10, 15, 11, 20, 1, 5, 9, 15, 18, 4, 3, 13, 7, 9, 3, 8, 2, 9, 4, 5, 13, 10, 16, 6, 11, 6, 7, 18, 17, 15, 9, 17, 14, 5, 7, 9, 5, 9, 10, 8, 8, 7, 6, 12, 18, 19, 2, 4, 3, 5, 11, 3, 5, 14, 15, 17], \"Freq\": [0.967594645245207, 0.9671501770855335, 0.1136370898678558, 0.18939514977975966, 0.6818225392071348, 0.09690180532128818, 0.839815646117831, 0.05234671849206491, 0.15704015547619474, 0.20938687396825964, 0.575813903412714, 0.020852778792899665, 0.9592278244733845, 0.9557123341251884, 0.9506742252031611, 0.953354502135399, 0.013730959198621022, 0.9611671439034715, 0.9488900693527759, 0.9407676128919947, 0.039922039775361906, 0.1729955056932349, 0.0266146931835746, 0.0133073465917873, 0.00665367329589365, 0.00665367329589365, 0.685328349477046, 0.00665367329589365, 0.0133073465917873, 0.00665367329589365, 0.00665367329589365, 0.9816684798730425, 0.9615966507114173, 0.9728261818790649, 0.00627629794760687, 0.00627629794760687, 0.941996171107195, 0.8209362578713938, 0.0029961177294576414, 0.0029961177294576414, 0.0029961177294576414, 0.0029961177294576414, 0.16179035739071262, 0.9599854428753423, 0.06965032451525341, 0.5223774338644005, 0.38307678483389374, 0.972578194424965, 0.9564226948577743, 0.01174250406089194, 0.03522751218267582, 0.16439505685248715, 0.01174250406089194, 0.587125203044597, 0.08219752842624357, 0.10568253654802746, 0.9488190745485647, 0.9724940736836988, 0.948744652545076, 0.1627986683503788, 0.7651537412467804, 0.06511946734015152, 0.9689403887387364, 0.01486205467234052, 0.9511714990297933, 0.11291090467728747, 0.7151023962894874, 0.11291090467728747, 0.9469783857375356, 0.02104396412750079, 0.9773381384764351, 0.023190777127604367, 0.950821862231779, 0.9667285903379329, 0.017902381302554313, 0.003533736076411764, 0.21202416458470583, 0.003533736076411764, 0.7420845760464705, 0.007067472152823528, 0.01766868038205882, 0.003533736076411764, 0.003533736076411764, 0.003533736076411764, 0.003533736076411764, 0.003533736076411764, 0.9714891399563508, 0.14135334978737904, 0.7067667489368953, 0.04711778326245968, 0.04711778326245968, 0.9380849358383471, 0.015899744675226223, 0.031799489350452445, 0.9512936398459158, 0.9813326403560354, 0.006767811312800244, 0.9515491876196155, 0.07161492656744183, 0.03580746328372091, 0.7161492656744183, 0.14322985313488365, 0.960527524661742, 0.9524776766216633, 0.01391154353068122, 0.01391154353068122, 0.01391154353068122, 0.9320734165556417, 0.981738419640956, 0.8970240520763343, 0.0723406493609947, 0.2731961377362389, 0.6981679075481662, 0.17998451805486035, 0.17998451805486035, 0.07199380722194414, 0.5039566505536089, 0.9566557673755129, 0.9702776760135637, 0.9700789919845746, 0.9524798914600051, 0.964479520090221, 0.9641570705240297, 0.9581474281390913, 0.2978386086089571, 0.6850287998006013, 0.9510942724791417, 0.9316647638560797, 0.9587479169998537, 0.07030345954630353, 0.4921242168241247, 0.05272759465972765, 0.05272759465972765, 0.1933345137523347, 0.035151729773151764, 0.017575864886575882, 0.05272759465972765, 0.017575864886575882, 0.017575864886575882, 0.01318085788824496, 0.962202625841882, 0.9584759323515399, 0.9912885155890832, 0.04405146268089305, 0.881029253617861, 0.014528011206906125, 0.014528011206906125, 0.0581120448276245, 0.8426246500005552, 0.02905602241381225, 0.014528011206906125, 0.02448242035976344, 0.967055604210656, 0.02057101143835738, 0.04114202287671476, 0.9051245032877246, 0.1671416596815365, 0.7660659402070422, 0.01392847164012804, 0.02785694328025608, 0.1769396526266077, 0.7667384947153001, 0.014744971052217311, 0.029489942104434622, 0.25286212213399273, 0.015803882633374546, 0.6795669532351055, 0.21033169223743625, 0.06009476921069607, 0.030047384605348035, 0.09014215381604411, 0.5108055382909166, 0.030047384605348035, 0.9602638711253987, 0.025697076448437616, 0.9507918285921918, 0.933103195633677, 0.009238645501323535, 0.009238645501323535, 0.023096613753308837, 0.0046193227506617675, 0.0046193227506617675, 0.009238645501323535, 0.9836653214747716, 0.9524204984796537, 0.9643477035793037, 0.9456398763789131, 0.021014219475086957, 0.7460351299565536, 0.013564275090119158, 0.20346412635178734, 0.9816157075161058, 0.9446343672634436, 0.015743906121057392, 0.8480727108958199, 0.047115150605323335, 0.03408828968327569, 0.8862955317651678, 0.03408828968327569, 0.9701008631422603, 0.0043308074247422335, 0.0043308074247422335, 0.008661614849484467, 0.965370205658319, 0.955884113245474, 0.7235503164811051, 0.18088757912027628, 0.09207642652243035, 0.14469152739239055, 0.7497651873969329, 0.9621399287000795, 0.9569681941269108, 0.9573245677739305, 0.01740590123225328, 0.9602639755905171, 0.03628355275374293, 0.29026842202994346, 0.6168203968136298, 0.9390703885715109, 0.9585849092603532, 0.020395423601284112, 0.01126035078699738, 0.9571298168947772, 0.01126035078699738, 0.5484247800780878, 0.40217817205726436, 0.9614051636549549, 0.26671819372767924, 0.6816131617485137, 0.9445007005612135, 0.7655684084527863, 0.05219784603087179, 0.13919425608232477, 0.017399282010290597, 0.9374948255320762, 0.937269553450799, 0.022315941748828547, 0.9708883558088397, 0.005993137998819998, 0.005993137998819998, 0.005993137998819998, 0.8807003938205432, 0.048927799656696844, 0.307365964500617, 0.5635042682511311, 0.10245532150020566, 0.764673685945049, 0.2249040252779556, 0.9100747587008761, 0.8570557330743043, 0.007862896633709213, 0.007862896633709213, 0.1179434495056382, 0.929814880156409, 0.9242731421898938, 0.028008277036057384, 0.03857119648660509, 0.9257087156785222, 0.20889872193856657, 0.7102556545911263, 0.963135878687496, 0.02349111899237795, 0.052903511079505354, 0.6877456440335695, 0.21161404431802142, 0.029653015892604283, 0.9488965085633371, 0.9330865028616434, 0.026659614367475524, 0.03132230712633032, 0.03132230712633032, 0.9083469066635793, 0.9618924768076831, 0.9520078424840506, 0.9309188493228806, 0.027379966156555312, 0.9521907817644273, 0.9649566129338698, 0.014845486352828766, 0.9735472269244134, 0.03718289039472647, 0.8180235886839823, 0.07436578078945294, 0.9496303599778294, 0.9410759142857686, 0.9550002936794227, 0.2421115813303537, 0.6162840252045367, 0.08804057502921953, 0.02201014375730488, 0.9688062424989351, 0.9138517412327921, 0.3033460655326036, 0.2600109133136602, 0.39001636997049033, 0.033011704262386525, 0.9243277193468227, 0.9506420346041717, 0.02437543678472235, 0.9368838586791806], \"Term\": [\"''\", \"``\", \"art\", \"art\", \"art\", \"e\", \"e\", \"of\", \"of\", \"of\", \"of\", \"the\", \"the\", \"\\u0430\\u0432\\u0442\\u043e\\u043c\\u043e\\u0431\\u0438\\u043b\\u044c\", \"\\u0430\\u043d\\u0433\\u043b\\u0438\\u0439\\u0441\\u043a\\u0438\\u0439\", \"\\u0431\\u0430\\u0440\\u0430\\u0445\\u043e\\u043b\\u043a\\u0430\", \"\\u0431\\u0438\\u0437\\u043d\\u0435\\u0441\", \"\\u0431\\u0438\\u0437\\u043d\\u0435\\u0441\", \"\\u0431\\u043b\\u043e\\u0433\", \"\\u0431\\u043b\\u043e\\u0433\\u0435\\u0440\", \"\\u0432\", \"\\u0432\", \"\\u0432\", \"\\u0432\", \"\\u0432\", \"\\u0432\", \"\\u0432\", \"\\u0432\", \"\\u0432\", \"\\u0432\", \"\\u0432\", \"\\u0432\\u0438\\u0434\\u0435\\u043e\\u0438\\u0433\\u0440\\u0430\", \"\\u0432\\u043a\\u043e\\u043d\\u0442\\u0430\\u043a\\u0442\\u0435\", \"\\u0433\\u043e\\u0440\\u043e\\u0434\\u0441\\u043a\\u043e\\u0439\", \"\\u0433\\u043e\\u0440\\u043e\\u0434\\u0441\\u043a\\u043e\\u0439\", \"\\u0433\\u043e\\u0440\\u043e\\u0434\\u0441\\u043a\\u043e\\u0439\", \"\\u0433\\u0440\\u0430\\u0444\\u0438\\u043a\\u0430\", \"\\u0433\\u0440\\u0443\\u043f\\u043f\\u0430\", \"\\u0433\\u0440\\u0443\\u043f\\u043f\\u0430\", \"\\u0433\\u0440\\u0443\\u043f\\u043f\\u0430\", \"\\u0433\\u0440\\u0443\\u043f\\u043f\\u0430\", \"\\u0433\\u0440\\u0443\\u043f\\u043f\\u0430\", \"\\u0433\\u0440\\u0443\\u043f\\u043f\\u0430\", \"\\u0434\\u0432\\u0438\\u0436\\u0435\\u043d\\u0438\\u0435\", \"\\u0434\\u0438\\u0437\\u0430\\u0439\\u043d\", \"\\u0434\\u0438\\u0437\\u0430\\u0439\\u043d\", \"\\u0434\\u0438\\u0437\\u0430\\u0439\\u043d\", \"\\u0434\\u0438\\u043a\\u0438\\u0439\", \"\\u0434\\u0438\\u0441\\u043a\\u0443\\u0441\\u0441\\u0438\\u043e\\u043d\\u043d\\u044b\\u0439\", \"\\u0434\\u043b\\u044f\", \"\\u0434\\u043b\\u044f\", \"\\u0434\\u043b\\u044f\", \"\\u0434\\u043b\\u044f\", \"\\u0434\\u043b\\u044f\", \"\\u0434\\u043b\\u044f\", \"\\u0434\\u043b\\u044f\", \"\\u0434\\u043e\\u043c\", \"\\u0434\\u043e\\u043c\\u0430\\u0448\\u043d\\u0438\\u0439\", \"\\u0434\\u043e\\u043f\\u043e\\u043b\\u043d\\u0438\\u0442\\u0435\\u043b\\u044c\\u043d\\u044b\\u0439\", \"\\u0434\\u0440\\u0443\\u0433\\u043e\\u0439\", \"\\u0434\\u0440\\u0443\\u0433\\u043e\\u0439\", \"\\u0434\\u0440\\u0443\\u0433\\u043e\\u0439\", \"\\u0436\\u0438\\u0432\\u043e\\u0442\\u043d\\u043e\\u0435\", \"\\u0436\\u0438\\u0437\\u043d\\u044c\", \"\\u0436\\u0438\\u0437\\u043d\\u044c\", \"\\u0436\\u0443\\u0440\\u043d\\u0430\\u043b\", \"\\u0436\\u0443\\u0440\\u043d\\u0430\\u043b\", \"\\u0436\\u0443\\u0440\\u043d\\u0430\\u043b\", \"\\u0437\\u0430\", \"\\u0437\\u0430\", \"\\u0437\\u0430\\u043a\\u0440\\u044b\\u0442\\u044b\\u0439\", \"\\u0437\\u0434\\u043e\\u0440\\u043e\\u0432\\u044b\\u0439\", \"\\u0437\\u0434\\u043e\\u0440\\u043e\\u0432\\u044b\\u0439\", \"\\u0437\\u043d\\u0430\\u043a\\u043e\\u043c\\u0441\\u0442\\u0432\\u043e\", \"\\u0437\\u043d\\u0430\\u043a\\u043e\\u043c\\u0441\\u0442\\u0432\\u043e\", \"\\u0438\", \"\\u0438\", \"\\u0438\", \"\\u0438\", \"\\u0438\", \"\\u0438\", \"\\u0438\", \"\\u0438\", \"\\u0438\", \"\\u0438\", \"\\u0438\", \"\\u0438\\u0433\\u0440\\u0430\", \"\\u0438\\u0437\", \"\\u0438\\u0437\", \"\\u0438\\u0437\", \"\\u0438\\u0437\", \"\\u0438\\u043b\\u0438\", \"\\u0438\\u043b\\u0438\", \"\\u0438\\u043b\\u0438\", \"\\u0438\\u043d\\u0441\\u0442\\u0438\\u0442\\u0443\\u0442\", \"\\u0438\\u043d\\u0442\\u0435\\u0440\\u043d\\u0435\\u0442-\\u0441\\u043c\\u0438\", \"\\u0438\\u043d\\u0442\\u0435\\u0440\\u043d\\u0435\\u0442-\\u0441\\u043c\\u0438\", \"\\u0438\\u043d\\u0442\\u0435\\u0440\\u044c\\u0435\\u0440\", \"\\u0438\\u0441\\u043a\\u0430\\u0442\\u044c\", \"\\u0438\\u0441\\u043a\\u0430\\u0442\\u044c\", \"\\u0438\\u0441\\u043a\\u0430\\u0442\\u044c\", \"\\u0438\\u0441\\u043a\\u0430\\u0442\\u044c\", \"\\u0438\\u0441\\u043a\\u0443\\u0441\\u0441\\u0442\\u0432\\u043e\", \"\\u0438\\u0441\\u0442\\u043e\\u0440\\u0438\\u044f\", \"\\u043a\\u0430\\u0437\\u0430\\u043d\\u044c\", \"\\u043a\\u0430\\u0437\\u0430\\u043d\\u044c\", \"\\u043a\\u0430\\u0437\\u0430\\u043d\\u044c\", \"\\u043a\\u0430\\u0437\\u0430\\u043d\\u044c\", \"\\u043a\\u0438\\u043d\\u043e\", \"\\u043a\\u043b\\u0443\\u0431\", \"\\u043a\\u043b\\u0443\\u0431\", \"\\u043a\\u043d\\u0438\\u0433\\u0430\", \"\\u043a\\u043d\\u0438\\u0433\\u0430\", \"\\u043a\\u0440\\u0430\\u0441\\u043e\\u0442\\u0430\", \"\\u043a\\u0440\\u0430\\u0441\\u043e\\u0442\\u0430\", \"\\u043a\\u0440\\u0430\\u0441\\u043e\\u0442\\u0430\", \"\\u043a\\u0440\\u0430\\u0441\\u043e\\u0442\\u0430\", \"\\u043a\\u0443\\u043b\\u0438\\u043d\\u0430\\u0440\\u0438\\u044f\", \"\\u043a\\u0443\\u043b\\u044c\\u0442\\u0443\\u0440\\u0430\", \"\\u043a\\u0443\\u043b\\u044c\\u0442\\u0443\\u0440\\u043d\\u044b\\u0439\", \"\\u043a\\u0443\\u0440\\u0441\", \"\\u043b\\u0438\\u0442\\u0435\\u0440\\u0430\\u0442\\u0443\\u0440\\u0430\", \"\\u043c\\u0435\\u043c\", \"\\u043c\\u0438\\u0440\", \"\\u043c\\u043e\\u0434\\u0430\", \"\\u043c\\u043e\\u0434\\u0430\", \"\\u043c\\u043e\\u0434\\u0435\\u043b\\u044c\", \"\\u043c\\u043e\\u0439\", \"\\u043c\\u043e\\u043b\\u043e\\u0434\\u0451\\u0436\\u043d\\u044b\\u0439\", \"\\u043c\\u043e\\u0441\\u043a\\u0432\\u0430\", \"\\u043c\\u043e\\u0441\\u043a\\u0432\\u0430\", \"\\u043c\\u043e\\u0441\\u043a\\u0432\\u0430\", \"\\u043c\\u043e\\u0441\\u043a\\u0432\\u0430\", \"\\u043c\\u043e\\u0441\\u043a\\u0432\\u0430\", \"\\u043c\\u043e\\u0441\\u043a\\u0432\\u0430\", \"\\u043c\\u043e\\u0441\\u043a\\u0432\\u0430\", \"\\u043c\\u043e\\u0441\\u043a\\u0432\\u0430\", \"\\u043c\\u043e\\u0441\\u043a\\u0432\\u0430\", \"\\u043c\\u043e\\u0441\\u043a\\u0432\\u0430\", \"\\u043c\\u0443\\u0437\\u044b\\u043a\\u0430\", \"\\u043c\\u0443\\u0437\\u044b\\u043a\\u0430\", \"\\u043c\\u0443\\u0437\\u044b\\u043a\\u0430\\u043b\\u044c\\u043d\\u044b\\u0439\", \"\\u043c\\u0443\\u0437\\u044b\\u043a\\u0430\\u043d\\u0442\", \"\\u043c\\u044b\", \"\\u043c\\u044b\", \"\\u043d\\u0430\", \"\\u043d\\u0430\", \"\\u043d\\u0430\", \"\\u043d\\u0430\", \"\\u043d\\u0430\", \"\\u043d\\u0430\", \"\\u043d\\u0430\\u0443\\u043a\\u0430\", \"\\u043d\\u0430\\u0443\\u043a\\u0430\", \"\\u043d\\u0435\", \"\\u043d\\u0435\", \"\\u043d\\u0435\", \"\\u043d\\u0438\\u0436\\u043d\\u0438\\u0439\", \"\\u043d\\u0438\\u0436\\u043d\\u0438\\u0439\", \"\\u043d\\u0438\\u0436\\u043d\\u0438\\u0439\", \"\\u043d\\u0438\\u0436\\u043d\\u0438\\u0439\", \"\\u043d\\u043e\\u0432\\u0433\\u043e\\u0440\\u043e\\u0434\", \"\\u043d\\u043e\\u0432\\u0433\\u043e\\u0440\\u043e\\u0434\", \"\\u043d\\u043e\\u0432\\u0433\\u043e\\u0440\\u043e\\u0434\", \"\\u043d\\u043e\\u0432\\u0433\\u043e\\u0440\\u043e\\u0434\", \"\\u043d\\u043e\\u0432\\u043e\\u0441\\u0442\\u044c\", \"\\u043d\\u043e\\u0432\\u043e\\u0441\\u0442\\u044c\", \"\\u043d\\u043e\\u0432\\u043e\\u0441\\u0442\\u044c\", \"\\u043e\", \"\\u043e\", \"\\u043e\", \"\\u043e\", \"\\u043e\", \"\\u043e\", \"\\u043e\\u0431\\u0435\\u0441\\u043f\\u0435\\u0447\\u0435\\u043d\\u0438\\u0435\", \"\\u043e\\u0431\\u0440\\u0430\\u0437\", \"\\u043e\\u0431\\u0440\\u0430\\u0437\", \"\\u043e\\u0431\\u0440\\u0430\\u0437\\u043e\\u0432\\u0430\\u043d\\u0438\\u0435\", \"\\u043e\\u0431\\u0440\\u0430\\u0437\\u043e\\u0432\\u0430\\u043d\\u0438\\u0435\", \"\\u043e\\u0431\\u0440\\u0430\\u0437\\u043e\\u0432\\u0430\\u043d\\u0438\\u0435\", \"\\u043e\\u0431\\u0440\\u0430\\u0437\\u043e\\u0432\\u0430\\u043d\\u0438\\u0435\", \"\\u043e\\u0431\\u0440\\u0430\\u0437\\u043e\\u0432\\u0430\\u043d\\u0438\\u0435\", \"\\u043e\\u0431\\u0440\\u0430\\u0437\\u043e\\u0432\\u0430\\u043d\\u0438\\u0435\", \"\\u043e\\u0431\\u0440\\u0430\\u0437\\u043e\\u0432\\u0430\\u043d\\u0438\\u0435\", \"\\u043e\\u0431\\u0443\\u0432\\u044c\", \"\\u043e\\u0431\\u0443\\u0447\\u0430\\u0442\\u044c\", \"\\u043e\\u0431\\u0449\\u0435\\u0441\\u0442\\u0432\\u0435\\u043d\\u043d\\u044b\\u0439\", \"\\u043e\\u0431\\u0449\\u0435\\u0441\\u0442\\u0432\\u043e\", \"\\u043e\\u0431\\u0449\\u0435\\u0441\\u0442\\u0432\\u043e\", \"\\u043e\\u0431\\u044a\\u044f\\u0432\\u043b\\u0435\\u043d\\u0438\\u0435\", \"\\u043e\\u0431\\u044a\\u044f\\u0432\\u043b\\u0435\\u043d\\u0438\\u0435\", \"\\u043e\\u0431\\u044a\\u044f\\u0432\\u043b\\u0435\\u043d\\u0438\\u0435\", \"\\u043e\\u0434\\u0435\\u0436\\u0434\\u0430\", \"\\u043e\\u0440\\u0433\\u0430\\u043d\\u0438\\u0437\\u0430\\u0446\\u0438\\u044f\", \"\\u043e\\u0440\\u0433\\u0430\\u043d\\u0438\\u0437\\u0430\\u0446\\u0438\\u044f\", \"\\u043e\\u0442\", \"\\u043e\\u0442\", \"\\u043e\\u0442\\u0434\\u044b\\u0445\", \"\\u043e\\u0442\\u0434\\u044b\\u0445\", \"\\u043e\\u0442\\u0434\\u044b\\u0445\", \"\\u043e\\u0442\\u043a\\u0440\\u044b\\u0442\\u044b\\u0439\", \"\\u043e\\u0442\\u043a\\u0440\\u044b\\u0442\\u044b\\u0439\", \"\\u043e\\u0442\\u043a\\u0440\\u044b\\u0442\\u044b\\u0439\", \"\\u043e\\u0442\\u043a\\u0440\\u044b\\u0442\\u044b\\u0439\", \"\\u043e\\u0442\\u043d\\u043e\\u0448\\u0435\\u043d\\u0438\\u0435\", \"\\u043f\\u0435\\u0440\\u0435\\u0434\\u0430\\u0447\\u0430\", \"\\u043f\\u043e\", \"\\u043f\\u043e\", \"\\u043f\\u043e\\u0434\\u0441\\u043b\\u0443\\u0448\\u0430\\u0442\\u044c\", \"\\u043f\\u043e\\u0434\\u0441\\u043b\\u0443\\u0448\\u0430\\u0442\\u044c\", \"\\u043f\\u043e\\u0434\\u0441\\u043b\\u0443\\u0448\\u0430\\u0442\\u044c\", \"\\u043f\\u043e\\u0438\\u0441\\u043a\", \"\\u043f\\u043e\\u043b\", \"\\u043f\\u0440\\u043e\\u0433\\u0440\\u0430\\u043c\\u043c\\u0438\\u0440\\u043e\\u0432\\u0430\\u043d\\u0438\\u0435\", \"\\u043f\\u0440\\u043e\\u0433\\u0440\\u0430\\u043c\\u043c\\u0438\\u0440\\u043e\\u0432\\u0430\\u043d\\u0438\\u0435\", \"\\u043f\\u0440\\u043e\\u0433\\u0440\\u0430\\u043c\\u043c\\u043d\\u044b\\u0439\", \"\\u043f\\u0441\\u0438\\u0445\\u043e\\u043b\\u043e\\u0433\\u0438\\u044f\", \"\\u043f\\u0441\\u0438\\u0445\\u043e\\u043b\\u043e\\u0433\\u0438\\u044f\", \"\\u043f\\u0441\\u0438\\u0445\\u043e\\u043b\\u043e\\u0433\\u0438\\u044f\", \"\\u043f\\u0443\\u0431\\u043b\\u0438\\u0447\\u043d\\u044b\\u0439\", \"\\u043f\\u0443\\u0442\\u0435\\u0448\\u0435\\u0441\\u0442\\u0432\\u0438\\u0435\", \"\\u043f\\u0443\\u0442\\u0435\\u0448\\u0435\\u0441\\u0442\\u0432\\u0438\\u0435\", \"\\u0440\\u0430\\u0431\\u043e\\u0442\\u0430\", \"\\u0440\\u0430\\u0431\\u043e\\u0442\\u0430\", \"\\u0440\\u0430\\u0431\\u043e\\u0442\\u0430\", \"\\u0440\\u0435\\u0431\\u0451\\u043d\\u043e\\u043a\", \"\\u0440\\u0435\\u0431\\u0451\\u043d\\u043e\\u043a\", \"\\u0440\\u0435\\u0446\\u0435\\u043f\\u0442\", \"\\u0440\\u043e\\u0441\\u0441\\u0438\\u044f\", \"\\u0440\\u043e\\u0441\\u0441\\u0438\\u044f\", \"\\u0440\\u0443\\u0441\\u0441\\u043a\\u0438\\u0439\", \"\\u0441\", \"\\u0441\", \"\\u0441\", \"\\u0441\", \"\\u0441\\u0430\\u0439\\u0442\", \"\\u0441\\u0435\\u0431\\u044f\", \"\\u0441\\u0435\\u0431\\u044f\", \"\\u0441\\u043e\\u043e\\u0431\\u0449\\u0435\\u0441\\u0442\\u0432\\u043e\", \"\\u0441\\u043e\\u043e\\u0431\\u0449\\u0435\\u0441\\u0442\\u0432\\u043e\", \"\\u0441\\u043e\\u043e\\u0431\\u0449\\u0435\\u0441\\u0442\\u0432\\u043e\", \"\\u0441\\u043e\\u043e\\u0431\\u0449\\u0435\\u0441\\u0442\\u0432\\u043e\", \"\\u0441\\u043f\\u043e\\u0440\\u0442\", \"\\u0441\\u043f\\u043e\\u0440\\u0442\", \"\\u0441\\u043f\\u043e\\u0440\\u0442\\u0438\\u0432\\u043d\\u044b\\u0439\", \"\\u0441\\u043f\\u043e\\u0440\\u0442\\u0438\\u0432\\u043d\\u044b\\u0439\", \"\\u0441\\u043f\\u043e\\u0440\\u0442\\u0438\\u0432\\u043d\\u044b\\u0439\", \"\\u0441\\u0442\\u0438\\u043b\\u044c\", \"\\u0441\\u0442\\u0438\\u043b\\u044c\", \"\\u0441\\u0442\\u0440\\u0430\\u043d\\u0438\\u0446\\u0430\", \"\\u0442\\u0432\\u043e\\u0440\\u0447\\u0435\\u0441\\u0442\\u0432\\u043e\", \"\\u0442\\u0432\\u043e\\u0440\\u0447\\u0435\\u0441\\u0442\\u0432\\u043e\", \"\\u0442\\u0432\\u043e\\u0440\\u0447\\u0435\\u0441\\u0442\\u0432\\u043e\", \"\\u0442\\u0432\\u043e\\u0440\\u0447\\u0435\\u0441\\u0442\\u0432\\u043e\", \"\\u0442\\u0435\\u0445\\u043d\\u0438\\u043a\\u0430\", \"\\u0442\\u0438\\u043f\\u0438\\u0447\\u043d\\u044b\\u0439\", \"\\u0442\\u0438\\u043f\\u0438\\u0447\\u043d\\u044b\\u0439\", \"\\u0442\\u043e\\u0432\\u0430\\u0440\", \"\\u0442\\u043e\\u0432\\u0430\\u0440\", \"\\u0442\\u043e\\u043c\\u0441\\u043a\", \"\\u0442\\u043e\\u043c\\u0441\\u043a\", \"\\u0442\\u0443\\u0440\\u0438\\u0437\\u043c\", \"\\u0442\\u0443\\u0440\\u0438\\u0437\\u043c\", \"\\u0442\\u044b\", \"\\u0442\\u044b\", \"\\u0442\\u044b\", \"\\u0443\\u043d\\u0438\\u0432\\u0435\\u0440\\u0441\\u0438\\u0442\\u0435\\u0442\", \"\\u0443\\u043d\\u0438\\u0432\\u0435\\u0440\\u0441\\u0438\\u0442\\u0435\\u0442\", \"\\u0443\\u0445\\u043e\\u0434\", \"\\u0443\\u0445\\u043e\\u0434\", \"\\u0444\\u0430\\u043a\\u0442\", \"\\u0444\\u0430\\u043a\\u0442\", \"\\u0444\\u0430\\u043a\\u0442\", \"\\u0444\\u0430\\u043d-\\u043a\\u043b\\u0443\\u0431\", \"\\u0444\\u0438\\u043b\\u043e\\u0441\\u043e\\u0444\\u0438\\u044f\", \"\\u0444\\u0438\\u043b\\u044c\\u043c\", \"\\u0444\\u0438\\u043b\\u044c\\u043c\", \"\\u0444\\u0438\\u043d\\u0430\\u043d\\u0441\\u044b\", \"\\u0444\\u043e\\u0442\\u043e\\u0433\\u0440\\u0430\\u0444\\u0438\\u044f\", \"\\u0444\\u043e\\u0442\\u043e\\u0433\\u0440\\u0430\\u0444\\u0438\\u044f\", \"\\u0444\\u0443\\u0442\\u0431\\u043e\\u043b\", \"\\u0445\\u043e\\u0440\\u043e\\u0448\\u0438\\u0439\", \"\\u0445\\u043e\\u0440\\u043e\\u0448\\u0438\\u0439\", \"\\u0445\\u043e\\u0440\\u043e\\u0448\\u0438\\u0439\", \"\\u0445\\u0443\\u0434\\u043e\\u0436\\u043d\\u0438\\u043a\", \"\\u0445\\u0443\\u0434\\u043e\\u0436\\u043d\\u0438\\u0446\\u0430\", \"\\u0446\\u0435\\u043d\\u0442\\u0440\", \"\\u0448\\u043a\\u043e\\u043b\\u0430\", \"\\u0448\\u043a\\u043e\\u043b\\u0430\", \"\\u0448\\u043a\\u043e\\u043b\\u0430\", \"\\u0448\\u043a\\u043e\\u043b\\u0430\", \"\\u0448\\u043e\\u0443\", \"\\u044d\\u043b\\u0435\\u043a\\u0442\\u0440\\u043e\\u043d\\u0438\\u043a\\u0430\", \"\\u044d\\u0442\\u043e\", \"\\u044d\\u0442\\u043e\", \"\\u044d\\u0442\\u043e\", \"\\u044f\", \"\\u044f\", \"\\u044f\\u0437\\u044b\\u043a\", \"\\u044f\\u0437\\u044b\\u043a\", \"\\u2022\"]}, \"R\": 30, \"lambda.step\": 0.01, \"plot.opts\": {\"xlab\": \"PC1\", \"ylab\": \"PC2\"}, \"topic.order\": [5, 8, 6, 11, 12, 1, 20, 15, 10, 2, 16, 4, 18, 13, 17, 3, 14, 19, 7, 9]};\n",
              "\n",
              "function LDAvis_load_lib(url, callback){\n",
              "  var s = document.createElement('script');\n",
              "  s.src = url;\n",
              "  s.async = true;\n",
              "  s.onreadystatechange = s.onload = callback;\n",
              "  s.onerror = function(){console.warn(\"failed to load library \" + url);};\n",
              "  document.getElementsByTagName(\"head\")[0].appendChild(s);\n",
              "}\n",
              "\n",
              "if(typeof(LDAvis) !== \"undefined\"){\n",
              "   // already loaded: just create the visualization\n",
              "   !function(LDAvis){\n",
              "       new LDAvis(\"#\" + \"ldavis_el128015681542236642294946282\", ldavis_el128015681542236642294946282_data);\n",
              "   }(LDAvis);\n",
              "}else if(typeof define === \"function\" && define.amd){\n",
              "   // require.js is available: use it to load d3/LDAvis\n",
              "   require.config({paths: {d3: \"https://d3js.org/d3.v5\"}});\n",
              "   require([\"d3\"], function(d3){\n",
              "      window.d3 = d3;\n",
              "      LDAvis_load_lib(\"https://cdn.jsdelivr.net/gh/bmabey/pyLDAvis@3.3.1/pyLDAvis/js/ldavis.v3.0.0.js\", function(){\n",
              "        new LDAvis(\"#\" + \"ldavis_el128015681542236642294946282\", ldavis_el128015681542236642294946282_data);\n",
              "      });\n",
              "    });\n",
              "}else{\n",
              "    // require.js not available: dynamically load d3 & LDAvis\n",
              "    LDAvis_load_lib(\"https://d3js.org/d3.v5.js\", function(){\n",
              "         LDAvis_load_lib(\"https://cdn.jsdelivr.net/gh/bmabey/pyLDAvis@3.3.1/pyLDAvis/js/ldavis.v3.0.0.js\", function(){\n",
              "                 new LDAvis(\"#\" + \"ldavis_el128015681542236642294946282\", ldavis_el128015681542236642294946282_data);\n",
              "            })\n",
              "         });\n",
              "}\n",
              "</script>"
            ],
            "text/plain": [
              "PreparedData(topic_coordinates=              x         y  topics  cluster      Freq\n",
              "topic                                               \n",
              "4      0.373174  0.128394       1        1  7.916521\n",
              "7      0.007375 -0.103240       2        1  6.494544\n",
              "5      0.006782 -0.206381       3        1  6.277058\n",
              "10    -0.115748  0.198144       4        1  6.123733\n",
              "11    -0.046247 -0.073594       5        1  6.032652\n",
              "0     -0.040868 -0.030233       6        1  6.031346\n",
              "19    -0.147741  0.203793       7        1  5.252308\n",
              "14    -0.022331  0.014674       8        1  5.214677\n",
              "9     -0.039401  0.030965       9        1  5.023344\n",
              "1     -0.022893 -0.173173      10        1  4.956322\n",
              "15    -0.117717  0.111287      11        1  4.895796\n",
              "3      0.016294 -0.175387      12        1  4.794899\n",
              "17    -0.021991 -0.137036      13        1  4.700875\n",
              "12    -0.072456  0.015797      14        1  4.658341\n",
              "16    -0.032131  0.064540      15        1  4.610205\n",
              "2      0.105866 -0.029555      16        1  4.015656\n",
              "13    -0.027873 -0.008595      17        1  3.744215\n",
              "18    -0.025574 -0.104624      18        1  3.623240\n",
              "6      0.340122  0.106396      19        1  2.983860\n",
              "8     -0.116641  0.167829      20        1  2.650408, topic_info=             Term        Freq       Total Category  logprob  loglift\n",
              "32         группа  333.000000  333.000000  Default  30.0000  30.0000\n",
              "25              и  282.000000  282.000000  Default  29.0000  29.0000\n",
              "36       открытый  230.000000  230.000000  Default  28.0000  28.0000\n",
              "5     образование  216.000000  216.000000  Default  27.0000  27.0000\n",
              "7    интернет-сми  147.000000  147.000000  Default  26.0000  26.0000\n",
              "..            ...         ...         ...      ...      ...      ...\n",
              "86           игра    0.178097   69.995636  Topic20  -7.0206  -2.3434\n",
              "5     образование    0.321998  216.481951  Topic20  -6.4283  -2.8803\n",
              "6               в    0.189281  150.292922  Topic20  -6.9597  -3.0467\n",
              "106          клуб    0.146091   69.117433  Topic20  -7.2187  -2.5289\n",
              "12     сообщество    0.152262  166.857496  Topic20  -7.1773  -3.3688\n",
              "\n",
              "[789 rows x 6 columns], token_table=      Topic      Freq  Term\n",
              "term                       \n",
              "66       15  0.967595    ''\n",
              "67       15  0.967150    ``\n",
              "122       7  0.113637   art\n",
              "122       8  0.189395   art\n",
              "122      18  0.681823   art\n",
              "...     ...       ...   ...\n",
              "88        3  0.033012     я\n",
              "88        5  0.924328     я\n",
              "74       14  0.950642  язык\n",
              "74       15  0.024375  язык\n",
              "123      17  0.936884     •\n",
              "\n",
              "[300 rows x 3 columns], R=30, lambda_step=0.01, plot_opts={'xlab': 'PC1', 'ylab': 'PC2'}, topic_order=[5, 8, 6, 11, 12, 1, 20, 15, 10, 2, 16, 4, 18, 13, 17, 3, 14, 19, 7, 9])"
            ]
          },
          "execution_count": 42,
          "metadata": {},
          "output_type": "execute_result"
        }
      ],
      "source": [
        "# LDA 20 топиков \n",
        "import pyLDAvis.gensim_models as gensimvis\n",
        "import pyLDAvis\n",
        " \n",
        "vis_20 = gensimvis.prepare(lda_20, corpus, gensim_dictionary)\n",
        "pyLDAvis.enable_notebook()\n",
        " \n",
        "vis_20"
      ]
    },
    {
      "cell_type": "code",
      "execution_count": null,
      "id": "0196029e",
      "metadata": {
        "id": "0196029e",
        "outputId": "a5c206cb-d5b8-4a82-9096-0b0c72bead11"
      },
      "outputs": [
        {
          "data": {
            "text/html": [
              "\n",
              "<link rel=\"stylesheet\" type=\"text/css\" href=\"https://cdn.jsdelivr.net/gh/bmabey/pyLDAvis@3.3.1/pyLDAvis/js/ldavis.v1.0.0.css\">\n",
              "\n",
              "\n",
              "<div id=\"ldavis_el128015681422963364868606907\"></div>\n",
              "<script type=\"text/javascript\">\n",
              "\n",
              "var ldavis_el128015681422963364868606907_data = {\"mdsDat\": {\"x\": [0.1467181359205728, 0.051735736187367105, -0.15609094179841054, -0.2400367476860466, 0.2865366317138264, -0.1470783060560481, 0.058215491718739416], \"y\": [-0.06745166494132707, -0.06434684489870808, 0.15019326029562824, -0.08850753441531581, -0.10498802382753349, -0.17201443081365228, 0.3471152386009084], \"topics\": [1, 2, 3, 4, 5, 6, 7], \"cluster\": [1, 1, 1, 1, 1, 1, 1], \"Freq\": [18.925443083523984, 14.673814788517891, 14.57146267719934, 14.380405373789698, 13.257139327821358, 13.076870910818844, 11.114863838328889]}, \"tinfo\": {\"Term\": [\"\\u0433\\u0440\\u0443\\u043f\\u043f\\u0430\", \"\\u043e\\u0442\\u043a\\u0440\\u044b\\u0442\\u044b\\u0439\", \"\\u043e\\u0431\\u0440\\u0430\\u0437\\u043e\\u0432\\u0430\\u043d\\u0438\\u0435\", \"\\u0441\\u043e\\u043e\\u0431\\u0449\\u0435\\u0441\\u0442\\u0432\\u043e\", \"\\u0433\\u043e\\u0440\\u043e\\u0434\\u0441\\u043a\\u043e\\u0439\", \"\\u0442\\u0432\\u043e\\u0440\\u0447\\u0435\\u0441\\u0442\\u0432\\u043e\", \"\\u043a\\u0438\\u043d\\u043e\", \"\\u0438\\u043d\\u0442\\u0435\\u0440\\u043d\\u0435\\u0442-\\u0441\\u043c\\u0438\", \"\\u0432\\u0438\\u0434\\u0435\\u043e\\u0438\\u0433\\u0440\\u0430\", \"\\u0438\", \"\\u043e\\u0434\\u0435\\u0436\\u0434\\u0430\", \"\\u043e\\u0431\\u0443\\u0432\\u044c\", \"\\u043c\\u0443\\u0437\\u044b\\u043a\\u0430\", \"\\u043b\\u0438\\u0442\\u0435\\u0440\\u0430\\u0442\\u0443\\u0440\\u0430\", \"\\u043d\\u0430\\u0443\\u043a\\u0430\", \"\\u0443\\u043d\\u0438\\u0432\\u0435\\u0440\\u0441\\u0438\\u0442\\u0435\\u0442\", \"\\u0438\\u0433\\u0440\\u0430\", \"\\u043a\\u043b\\u0443\\u0431\", \"\\u043f\\u0440\\u043e\\u0433\\u0440\\u0430\\u043c\\u043c\\u0438\\u0440\\u043e\\u0432\\u0430\\u043d\\u0438\\u0435\", \"\\u043e\\u0431\\u044a\\u044f\\u0432\\u043b\\u0435\\u043d\\u0438\\u0435\", \"\\u0434\\u0440\\u0443\\u0433\\u043e\\u0439\", \"\\u0441\\u0442\\u0438\\u043b\\u044c\", \"\\u0440\\u0430\\u0431\\u043e\\u0442\\u0430\", \"\\u0438\\u043b\\u0438\", \"\\u0436\\u0438\\u0432\\u043e\\u0442\\u043d\\u043e\\u0435\", \"\\u043a\\u0443\\u043b\\u044c\\u0442\\u0443\\u0440\\u0430\", \"\\u043d\\u0438\\u0436\\u043d\\u0438\\u0439\", \"\\u0444\\u043e\\u0442\\u043e\\u0433\\u0440\\u0430\\u0444\\u0438\\u044f\", \"\\u043d\\u043e\\u0432\\u0433\\u043e\\u0440\\u043e\\u0434\", \"\\u043e\\u0431\\u0449\\u0435\\u0441\\u0442\\u0432\\u043e\", \"\\u043e\\u0442\\u043a\\u0440\\u044b\\u0442\\u044b\\u0439\", \"\\u0431\\u0438\\u0437\\u043d\\u0435\\u0441\", \"\\u043c\\u0443\\u0437\\u044b\\u043a\\u0430\\u043d\\u0442\", \"\\u0444\\u043e\\u0442\\u043e\\u0433\\u0440\\u0430\\u0444\\u0438\\u044f\", \"\\u0442\\u0443\\u0440\\u0438\\u0437\\u043c\", \"\\u043c\\u0443\\u0437\\u044b\\u043a\\u0430\\u043b\\u044c\\u043d\\u044b\\u0439\", \"\\u043f\\u0443\\u0442\\u0435\\u0448\\u0435\\u0441\\u0442\\u0432\\u0438\\u0435\", \"\\u0446\\u0435\\u043d\\u0442\\u0440\", \"\\u0434\\u043e\\u043c\", \"\\u0433\\u0440\\u0430\\u0444\\u0438\\u043a\\u0430\", \"\\u0438\\u043d\\u0442\\u0435\\u0440\\u044c\\u0435\\u0440\", \"\\u043a\\u0443\\u043b\\u044c\\u0442\\u0443\\u0440\\u043d\\u044b\\u0439\", \"\\u043f\\u043e\\u0438\\u0441\\u043a\", \"\\u0440\\u0430\\u0431\\u043e\\u0442\\u0430\", \"\\u0433\\u0440\\u0443\\u043f\\u043f\\u0430\", \"\\u043e\\u0442\", \"\\u0434\\u0438\\u0437\\u0430\\u0439\\u043d\", \"of\", \"\\u0438\\u0437\", \"\\u0440\\u043e\\u0441\\u0441\\u0438\\u044f\", \"\\u0432\", \"\\u0434\\u043b\\u044f\", \"\\u043d\\u0435\", \"\\u043f\\u043e\", \"\\u0438\", \"\\u043c\\u043e\\u0441\\u043a\\u0432\\u0430\", \"art\", \"\\u043a\\u0430\\u0437\\u0430\\u043d\\u044c\", \"the\", \"\\u044f\", \"``\", \"\\u0438\\u043d\\u0442\\u0435\\u0440\\u043d\\u0435\\u0442-\\u0441\\u043c\\u0438\", \"\\u043c\\u0443\\u0437\\u044b\\u043a\\u0430\", \"\\u043d\\u0430\\u0443\\u043a\\u0430\", \"\\u0434\\u0440\\u0443\\u0433\\u043e\\u0439\", \"\\u0437\\u043d\\u0430\\u043a\\u043e\\u043c\\u0441\\u0442\\u0432\\u043e\", \"\\u0444\\u0443\\u0442\\u0431\\u043e\\u043b\", \"e\", \"\\u0440\\u0435\\u0431\\u0451\\u043d\\u043e\\u043a\", \"\\u043f\\u0441\\u0438\\u0445\\u043e\\u043b\\u043e\\u0433\\u0438\\u044f\", \"''\", \"``\", \"\\u0441\\u043f\\u043e\\u0440\\u0442\", \"\\u0436\\u0443\\u0440\\u043d\\u0430\\u043b\", \"\\u0448\\u043a\\u043e\\u043b\\u0430\", \"\\u0442\\u044b\", \"\\u043d\\u043e\\u0432\\u043e\\u0441\\u0442\\u044c\", \"\\u0444\\u0430\\u043a\\u0442\", \"\\u043d\\u0435\", \"\\u044f\", \"\\u0438\", \"\\u043e\", \"\\u043a\\u0430\\u0437\\u0430\\u043d\\u044c\", \"\\u0431\\u043b\\u043e\\u0433\", \"\\u0440\\u0443\\u0441\\u0441\\u043a\\u0438\\u0439\", \"\\u0444\\u0438\\u043b\\u043e\\u0441\\u043e\\u0444\\u0438\\u044f\", \"\\u0438\\u0441\\u043a\\u0430\\u0442\\u044c\", \"\\u0432\", \"\\u0442\\u0435\\u0445\\u043d\\u0438\\u043a\\u0430\", \"the\", \"\\u043c\\u043e\\u0441\\u043a\\u0432\\u0430\", \"\\u0436\\u0438\\u0437\\u043d\\u044c\", \"\\u0433\\u043e\\u0440\\u043e\\u0434\\u0441\\u043a\\u043e\\u0439\", \"\\u0441\\u043e\\u043e\\u0431\\u0449\\u0435\\u0441\\u0442\\u0432\\u043e\", \"\\u0432\\u0438\\u0434\\u0435\\u043e\\u0438\\u0433\\u0440\\u0430\", \"\\u0434\\u0432\\u0438\\u0436\\u0435\\u043d\\u0438\\u0435\", \"\\u043c\\u043e\\u043b\\u043e\\u0434\\u0451\\u0436\\u043d\\u044b\\u0439\", \"\\u043e\\u0431\\u0449\\u0435\\u0441\\u0442\\u0432\\u0435\\u043d\\u043d\\u044b\\u0439\", \"\\u043e\\u0431\\u0440\\u0430\\u0437\", \"\\u0442\\u0438\\u043f\\u0438\\u0447\\u043d\\u044b\\u0439\", \"\\u0432\\u043a\\u043e\\u043d\\u0442\\u0430\\u043a\\u0442\\u0435\", \"\\u0437\\u0434\\u043e\\u0440\\u043e\\u0432\\u044b\\u0439\", \"\\u043c\\u0435\\u043c\", \"\\u043c\\u043e\\u0439\", \"\\u0442\\u043e\\u043c\\u0441\\u043a\", \"\\u0436\\u0438\\u0437\\u043d\\u044c\", \"\\u0440\\u043e\\u0441\\u0441\\u0438\\u044f\", \"\\u043c\\u043e\\u0441\\u043a\\u0432\\u0430\", \"\\u043e\\u0440\\u0433\\u0430\\u043d\\u0438\\u0437\\u0430\\u0446\\u0438\\u044f\", \"\\u043f\\u043e\", \"\\u043f\\u043e\\u0434\\u0441\\u043b\\u0443\\u0448\\u0430\\u0442\\u044c\", \"\\u043d\\u043e\\u0432\\u043e\\u0441\\u0442\\u044c\", \"\\u044d\\u0442\\u043e\", \"\\u0438\\u0437\", \"\\u043d\\u043e\\u0432\\u0433\\u043e\\u0440\\u043e\\u0434\", \"\\u043d\\u0438\\u0436\\u043d\\u0438\\u0439\", \"\\u043c\\u044b\", \"\\u043a\\u0430\\u0437\\u0430\\u043d\\u044c\", \"\\u0432\", \"\\u0438\\u0441\\u043a\\u0430\\u0442\\u044c\", \"\\u044f\", \"\\u0442\\u044b\", \"\\u043d\\u0430\", \"\\u0438\\u043b\\u0438\", \"\\u044f\\u0437\\u044b\\u043a\", \"\\u043e\\u0431\\u044a\\u044f\\u0432\\u043b\\u0435\\u043d\\u0438\\u0435\", \"\\u0440\\u0435\\u0446\\u0435\\u043f\\u0442\", \"\\u043a\\u0443\\u0440\\u0441\", \"\\u0445\\u0443\\u0434\\u043e\\u0436\\u043d\\u0438\\u043a\", \"\\u0445\\u0443\\u0434\\u043e\\u0436\\u043d\\u0438\\u0446\\u0430\", \"\\u043e\\u0431\\u0443\\u0447\\u0430\\u0442\\u044c\", \"\\u043a\\u0443\\u043b\\u0438\\u043d\\u0430\\u0440\\u0438\\u044f\", \"\\u0441\\u0442\\u0440\\u0430\\u043d\\u0438\\u0446\\u0430\", \"\\u043f\\u0443\\u0431\\u043b\\u0438\\u0447\\u043d\\u044b\\u0439\", \"\\u0430\\u0432\\u0442\\u043e\\u043c\\u043e\\u0431\\u0438\\u043b\\u044c\", \"\\u0430\\u043d\\u0433\\u043b\\u0438\\u0439\\u0441\\u043a\\u0438\\u0439\", \"\\u0438\\u0441\\u0442\\u043e\\u0440\\u0438\\u044f\", \"\\u0442\\u043e\\u0432\\u0430\\u0440\", \"\\u043d\\u0430\", \"\\u0431\\u0430\\u0440\\u0430\\u0445\\u043e\\u043b\\u043a\\u0430\", \"art\", \"\\u043e\\u0431\\u0440\\u0430\\u0437\\u043e\\u0432\\u0430\\u043d\\u0438\\u0435\", \"\\u0434\\u043b\\u044f\", \"\\u044d\\u0442\\u043e\", \"\\u043f\\u043e\\u0434\\u0441\\u043b\\u0443\\u0448\\u0430\\u0442\\u044c\", \"\\u0432\", \"\\u0444\\u0430\\u043a\\u0442\", \"\\u043c\\u043e\\u0441\\u043a\\u0432\\u0430\", \"\\u043d\\u0435\", \"\\u0440\\u0443\\u0441\\u0441\\u043a\\u0438\\u0439\", \"\\u043f\\u043e\", \"\\u044f\", \"\\u0441\\u043f\\u043e\\u0440\\u0442\\u0438\\u0432\\u043d\\u044b\\u0439\", \"\\u043a\\u0430\\u0437\\u0430\\u043d\\u044c\", \"\\u0442\\u0432\\u043e\\u0440\\u0447\\u0435\\u0441\\u0442\\u0432\\u043e\", \"\\u043f\\u0440\\u043e\\u0433\\u0440\\u0430\\u043c\\u043c\\u0438\\u0440\\u043e\\u0432\\u0430\\u043d\\u0438\\u0435\", \"\\u043e\\u0431\\u0443\\u0432\\u044c\", \"\\u0437\\u0430\\u043a\\u0440\\u044b\\u0442\\u044b\\u0439\", \"\\u043e\\u0434\\u0435\\u0436\\u0434\\u0430\", \"\\u0444\\u0430\\u043d-\\u043a\\u043b\\u0443\\u0431\", \"\\u043e\\u0442\\u043d\\u043e\\u0448\\u0435\\u043d\\u0438\\u0435\", \"\\u0436\\u0438\\u0432\\u043e\\u0442\\u043d\\u043e\\u0435\", \"\\u043f\\u043e\\u043b\", \"\\u0434\\u0438\\u043a\\u0438\\u0439\", \"\\u0434\\u043e\\u043c\\u0430\\u0448\\u043d\\u0438\\u0439\", \"\\u0438\\u0433\\u0440\\u0430\", \"\\u0441\\u0430\\u0439\\u0442\", \"\\u044d\\u043b\\u0435\\u043a\\u0442\\u0440\\u043e\\u043d\\u0438\\u043a\\u0430\", \"\\u2022\", \"\\u0441\", \"\\u0442\\u0435\\u0445\\u043d\\u0438\\u043a\\u0430\", \"\\u0441\\u0442\\u0438\\u043b\\u044c\", \"\\u043a\\u043d\\u0438\\u0433\\u0430\", \"\\u0438\", \"\\u043c\\u044b\", \"\\u043a\\u0440\\u0430\\u0441\\u043e\\u0442\\u0430\", \"\\u0431\\u043b\\u043e\\u0433\", \"\\u0442\\u044b\", \"\\u044f\", \"\\u0433\\u0440\\u0443\\u043f\\u043f\\u0430\", \"\\u0431\\u0430\\u0440\\u0430\\u0445\\u043e\\u043b\\u043a\\u0430\", \"\\u044d\\u0442\\u043e\", \"\\u043e\", \"\\u0440\\u0435\\u0431\\u0451\\u043d\\u043e\\u043a\", \"of\", \"\\u043d\\u043e\\u0432\\u043e\\u0441\\u0442\\u044c\", \"\\u043c\\u043e\\u0441\\u043a\\u0432\\u0430\", \"\\u043e\\u0442\\u043a\\u0440\\u044b\\u0442\\u044b\\u0439\", \"\\u043a\\u0438\\u043d\\u043e\", \"\\u043e\\u0431\\u0449\\u0435\\u0441\\u0442\\u0432\\u043e\", \"\\u0441\\u0435\\u0431\\u044f\", \"\\u043a\\u043b\\u0443\\u0431\", \"\\u0443\\u0445\\u043e\\u0434\", \"\\u0434\\u0438\\u0441\\u043a\\u0443\\u0441\\u0441\\u0438\\u043e\\u043d\\u043d\\u044b\\u0439\", \"\\u0437\\u0430\", \"\\u043a\\u0443\\u043b\\u044c\\u0442\\u0443\\u0440\\u0430\", \"\\u0434\\u043e\\u043f\\u043e\\u043b\\u043d\\u0438\\u0442\\u0435\\u043b\\u044c\\u043d\\u044b\\u0439\", \"\\u043c\\u0438\\u0440\", \"\\u0444\\u0438\\u043b\\u044c\\u043c\", \"\\u0438\\u043d\\u0441\\u0442\\u0438\\u0442\\u0443\\u0442\", \"\\u043c\\u043e\\u0434\\u0430\", \"\\u043c\\u043e\\u0434\\u0435\\u043b\\u044c\", \"\\u0441\\u043f\\u043e\\u0440\\u0442\\u0438\\u0432\\u043d\\u044b\\u0439\", \"\\u0445\\u043e\\u0440\\u043e\\u0448\\u0438\\u0439\", \"\\u043a\\u0440\\u0430\\u0441\\u043e\\u0442\\u0430\", \"\\u0438\\u0441\\u043a\\u0430\\u0442\\u044c\", \"\\u043e\", \"\\u043e\\u0440\\u0433\\u0430\\u043d\\u0438\\u0437\\u0430\\u0446\\u0438\\u044f\", \"\\u043f\\u043e\\u0434\\u0441\\u043b\\u0443\\u0448\\u0430\\u0442\\u044c\", \"\\u0448\\u043a\\u043e\\u043b\\u0430\", \"\\u0441\\u0442\\u0438\\u043b\\u044c\", \"\\u043f\\u043e\", \"\\u043e\\u0431\\u0440\\u0430\\u0437\\u043e\\u0432\\u0430\\u043d\\u0438\\u0435\", \"\\u043a\\u0430\\u0437\\u0430\\u043d\\u044c\", \"\\u0436\\u0443\\u0440\\u043d\\u0430\\u043b\", \"\\u0441\\u043f\\u043e\\u0440\\u0442\", \"\\u0440\\u0443\\u0441\\u0441\\u043a\\u0438\\u0439\", \"\\u044f\", \"\\u0432\", \"\\u043c\\u043e\\u0441\\u043a\\u0432\\u0430\", \"\\u0438\", \"\\u0434\\u0438\\u0437\\u0430\\u0439\\u043d\", \"\\u043b\\u0438\\u0442\\u0435\\u0440\\u0430\\u0442\\u0443\\u0440\\u0430\", \"\\u043f\\u0440\\u043e\\u0433\\u0440\\u0430\\u043c\\u043c\\u043d\\u044b\\u0439\", \"\\u043e\\u0431\\u0435\\u0441\\u043f\\u0435\\u0447\\u0435\\u043d\\u0438\\u0435\", \"\\u0448\\u043e\\u0443\", \"\\u043f\\u0435\\u0440\\u0435\\u0434\\u0430\\u0447\\u0430\", \"\\u0431\\u043b\\u043e\\u0433\\u0435\\u0440\", \"\\u0443\\u043d\\u0438\\u0432\\u0435\\u0440\\u0441\\u0438\\u0442\\u0435\\u0442\", \"\\u0444\\u0438\\u043d\\u0430\\u043d\\u0441\\u044b\", \"\\u0442\\u0432\\u043e\\u0440\\u0447\\u0435\\u0441\\u0442\\u0432\\u043e\", \"\\u0438\\u0441\\u043a\\u0443\\u0441\\u0441\\u0442\\u0432\\u043e\", \"\\u043e\\u0442\\u0434\\u044b\\u0445\", \"\\u0444\\u0438\\u043b\\u043e\\u0441\\u043e\\u0444\\u0438\\u044f\", \"the\", \"\\u043d\\u0438\\u0436\\u043d\\u0438\\u0439\", \"\\u043d\\u043e\\u0432\\u0433\\u043e\\u0440\\u043e\\u0434\", \"\\u043c\\u044b\", \"\\u0431\\u043b\\u043e\\u0433\", \"\\u0440\\u0443\\u0441\\u0441\\u043a\\u0438\\u0439\", \"\\u043a\\u043d\\u0438\\u0433\\u0430\", \"of\", \"\\u043a\\u0430\\u0437\\u0430\\u043d\\u044c\", \"\\u043a\\u0440\\u0430\\u0441\\u043e\\u0442\\u0430\", \"\\u2022\", \"\\u0444\\u0430\\u043a\\u0442\", \"\\u043f\\u043e\\u0438\\u0441\\u043a\", \"\\u0442\\u044b\", \"\\u0430\\u0432\\u0442\\u043e\\u043c\\u043e\\u0431\\u0438\\u043b\\u044c\", \"\\u0432\", \"\\u0440\\u0430\\u0431\\u043e\\u0442\\u0430\", \"\\u0444\\u043e\\u0442\\u043e\\u0433\\u0440\\u0430\\u0444\\u0438\\u044f\", \"\\u0438\", \"\\u0433\\u0440\\u0443\\u043f\\u043f\\u0430\", \"\\u043e\\u0442\\u043a\\u0440\\u044b\\u0442\\u044b\\u0439\"], \"Freq\": [332.0, 240.0, 230.0, 175.0, 167.0, 150.0, 147.0, 142.0, 127.0, 284.0, 89.0, 84.0, 85.0, 71.0, 82.0, 72.0, 79.0, 67.0, 64.0, 70.0, 68.0, 83.0, 87.0, 63.0, 60.0, 58.0, 74.0, 71.0, 70.0, 51.0, 235.37664333531927, 63.78774673755315, 52.251820253775925, 69.05240539002955, 40.64065701122296, 32.58691915603596, 46.63011181923889, 48.33203125955949, 28.95975909893562, 26.209555138362578, 24.468362714527935, 22.61398635299178, 39.730561103206995, 82.50828783349763, 306.58857757414194, 18.483256545561566, 46.81360847747526, 22.585370186758336, 10.683710563769528, 12.600562152016925, 41.80748437132274, 18.386240794814142, 8.193045446495981, 4.383423853091564, 55.214319999851966, 8.148107299976214, 2.8499432453959397, 6.206358427365497, 4.768323817784773, 6.158107095179616, 2.942920595367462, 140.796893391867, 84.81078410488878, 81.08886750028516, 66.70276775923091, 52.031388375648284, 41.44600870343887, 28.367799758230387, 22.430975380747515, 23.15684513017092, 53.30339923259665, 54.569410911129765, 17.95407306896979, 21.07543449644052, 33.11881600384109, 14.154273024916181, 38.27315878240026, 15.09070201237061, 21.96217186556178, 36.372060672223526, 138.69523193312287, 10.56784266333966, 15.07246290636967, 6.638804835134376, 5.051265565258983, 6.829394909372679, 3.3885867399268927, 15.963024289148345, 3.498173000129968, 4.209476290002575, 4.6391170739212875, 3.6729974987068883, 164.62443185050992, 172.17042537786213, 124.53478044781177, 40.907206579004544, 42.764551184815375, 26.45476721562124, 34.82973039839526, 35.76568093740271, 28.066411636745453, 38.25027679244697, 32.54248192471627, 22.02855641771603, 22.800312808474892, 58.131551443548055, 19.30552432302052, 26.05548093732452, 28.38312413176505, 9.093913061359762, 21.88901435949047, 21.727766212558922, 7.680601084411254, 5.936044639210529, 17.62476626185081, 18.58986241056167, 5.137502706331412, 9.49644749495475, 18.172751088953067, 2.893672534807255, 5.914460534966561, 1.0318543147303483, 1.9925559604371021, 61.85462774628543, 36.81398885399429, 67.79154207097343, 48.0042037906117, 35.73210720074459, 32.828984355729, 30.009530619656456, 27.15634489663748, 37.2873125809941, 23.300330694411954, 21.38583794656901, 34.29716596461364, 24.87658481839754, 41.8957523792766, 23.951177515299207, 59.033640738078965, 20.99392069433827, 18.555687572179743, 191.81206188079318, 55.72050359706528, 13.722497480510064, 24.60965443023533, 53.24202661471872, 8.337377272417271, 12.105068653069853, 7.2805412467350346, 4.160512779887392, 3.5537173106666153, 8.36722873094065, 4.42244794474074, 4.773961159208342, 6.2702509103037745, 63.074229558698576, 82.72540065953253, 41.33652909151978, 87.6346197326554, 35.20248120899358, 31.10064390705781, 59.11502829135638, 28.045845593199843, 52.0190787434114, 51.895158208929345, 76.1744481093769, 20.57605411627031, 23.507754738694008, 28.95446120589933, 57.24582607616773, 29.37723350600715, 65.41710703951277, 17.96865581351449, 69.55584040081888, 3.2700664999612115, 2.969845573654641, 2.1047507891410207, 1.534589630339862, 4.725498002221032, 21.961820252704584, 1.581366075121651, 1.4613249066282592, 2.0712157557186615, 1.1161651177356215, 1.1108774688727285, 1.7162224816108615, 1.4060162248991608, 1.5740404734224516, 145.98995861028627, 50.91222572778121, 47.77818532766337, 66.25688661875873, 39.916909854766836, 31.963179094425307, 50.31541623902225, 56.87076031871424, 28.887643752345067, 23.045586114143603, 36.27817813287031, 22.81885061551311, 26.31934096076386, 26.222316225280984, 33.333119403689025, 21.693225537808317, 20.150661228851924, 18.975972298297677, 20.582081982674275, 35.76047835837751, 15.107715589142877, 9.297554310561122, 16.161126348608192, 3.6898446350705094, 36.63681934202187, 8.450947718338915, 2.92901527619662, 2.4728493764164963, 2.4952800254881975, 6.498744943194657, 12.871459049618636, 4.851272959628284, 14.312514371258667, 4.307097777553508, 69.72345674991311, 43.65281951666876, 43.65264821551453, 40.4797895494958, 36.264323538380786, 30.85270205665196, 69.62489940946936, 26.41882395932918, 143.4298086056949, 21.167258489695353, 27.338595918577873, 26.805649996675076, 35.55569426726769, 52.61129368802728, 49.42918475968021, 14.650763250591408, 15.34073003959292, 11.126787051467321, 10.441715582268694, 7.808836307817059, 13.300131513660778, 3.031333156282398, 3.3270927747947923, 0.8997881223247174, 1.2864322495244456, 0.6084228650692906, 1.067231594026022, 3.3721321307703183, 1.7220753199476104, 0.9197242674500706, 3.5913582867814733, 1.8542458400590422, 1.5503466914751596], \"Total\": [332.0, 240.0, 230.0, 175.0, 167.0, 150.0, 147.0, 142.0, 127.0, 284.0, 89.0, 84.0, 85.0, 71.0, 82.0, 72.0, 79.0, 67.0, 64.0, 70.0, 68.0, 83.0, 87.0, 63.0, 60.0, 58.0, 74.0, 71.0, 70.0, 51.0, 240.30166454314013, 65.55591327453303, 53.72530575304728, 71.06179048852866, 41.889776580917975, 33.70995113336679, 48.274249893195595, 50.09679314610071, 30.0722697378923, 27.351466017001634, 25.534772706286798, 23.71241547220044, 42.04788138370634, 87.68182580987614, 332.7974934506842, 20.117440498711108, 52.267905240153496, 32.21923057719204, 19.80453216000941, 34.395685405329495, 145.81624910631723, 77.67736893906357, 38.41798793309573, 21.321300450094128, 284.2338760255237, 57.37448308058518, 22.218146377319464, 57.506942647430506, 46.60823576963667, 68.25526111816274, 63.21933200002816, 142.23851675733775, 85.74805405839331, 82.79769735444245, 68.20091886669714, 53.610161684971104, 42.889285053751045, 30.21664840020928, 24.43101572596987, 25.3745018865436, 61.31401104105345, 63.21933200002816, 21.507851611628002, 25.447866742294803, 44.05789774810792, 20.536478169236656, 62.71945776255239, 25.419587057487483, 38.41798793309573, 68.25526111816274, 284.2338760255237, 34.69637481628593, 57.506942647430506, 25.713868303629468, 23.41803476994717, 34.45584437054796, 26.786689865880923, 145.81624910631723, 33.89402661178447, 46.60823576963667, 57.37448308058518, 63.014991091784005, 167.52437107171892, 175.4207370804878, 127.08364782312991, 42.3641059372445, 44.32873688154379, 27.57990509329526, 36.44477387644233, 37.44214201363723, 29.5713835213917, 40.37764513173093, 34.4764331080673, 23.641751705394945, 24.609227259036935, 63.014991091784005, 34.395685405329495, 57.37448308058518, 65.44771802778888, 21.321300450094128, 62.99253008947142, 62.71945776255239, 23.547875556303307, 19.80453216000941, 70.65509385461908, 74.83673028069626, 23.91171358933679, 57.506942647430506, 145.81624910631723, 26.786689865880923, 68.25526111816274, 20.536478169236656, 66.16090111556365, 63.32754021224902, 37.997173760500964, 70.12279074164086, 49.6798473974976, 37.01602956931556, 34.111618288091776, 31.186449498603665, 28.251232505234114, 38.964062449570335, 24.348798139663057, 22.401708218020783, 36.11892442024912, 26.314760073177865, 44.85136223660541, 26.213735608119656, 66.16090111556365, 24.376004427819232, 22.218146377319464, 230.71311582277988, 77.67736893906357, 23.547875556303307, 62.99253008947142, 145.81624910631723, 25.419587057487483, 57.37448308058518, 38.41798793309573, 23.41803476994717, 21.321300450094128, 68.25526111816274, 38.799493807791535, 57.506942647430506, 150.64523035514898, 64.12751402473594, 84.79349861066011, 42.38948391873592, 89.96269412308231, 36.18248004162801, 32.04215793282537, 60.9748355514115, 28.938854301674954, 53.73782431716066, 53.72965513577469, 79.49158976683184, 21.678493028467233, 24.78236566358593, 33.16019885727233, 65.84111213068093, 33.89402661178447, 83.1550237640074, 29.22760547672135, 284.2338760255237, 23.91171358933679, 27.201828094995413, 25.713868303629468, 20.536478169236656, 68.25526111816274, 332.7974934506842, 24.376004427819232, 23.547875556303307, 34.69637481628593, 24.43101572596987, 32.21923057719204, 62.71945776255239, 57.37448308058518, 240.30166454314013, 147.6808439888549, 51.88525164965172, 48.88657569625324, 67.85313617850441, 40.90488159388551, 32.92346317755298, 51.908523924397265, 58.83984466327031, 29.932236286991476, 23.943006542035345, 37.87768178475762, 23.947761882092223, 27.939965501972363, 27.89169976737313, 38.799493807791535, 27.66218456771098, 27.201828094995413, 26.786689865880923, 34.69637481628593, 65.44771802778888, 62.99253008947142, 44.05789774810792, 83.1550237640074, 21.321300450094128, 230.71311582277988, 57.506942647430506, 25.447866742294803, 21.507851611628002, 23.41803476994717, 68.25526111816274, 145.81624910631723, 57.37448308058518, 284.2338760255237, 52.267905240153496, 71.2712333137536, 44.678782310564586, 44.678772785218754, 41.47521121084351, 37.216989415667754, 31.882032840393393, 72.2295299152875, 27.59659004448162, 150.64523035514898, 22.284182316168444, 29.57781887913914, 34.45584437054796, 46.60823576963667, 74.83673028069626, 70.65509385461908, 23.91171358933679, 25.713868303629468, 23.41803476994717, 29.22760547672135, 32.21923057719204, 57.506942647430506, 27.201828094995413, 33.16019885727233, 25.419587057487483, 42.04788138370634, 20.536478169236656, 36.11892442024912, 145.81624910631723, 87.68182580987614, 71.06179048852866, 284.2338760255237, 332.7974934506842, 240.30166454314013], \"Category\": [\"Default\", \"Default\", \"Default\", \"Default\", \"Default\", \"Default\", \"Default\", \"Default\", \"Default\", \"Default\", \"Default\", \"Default\", \"Default\", \"Default\", \"Default\", \"Default\", \"Default\", \"Default\", \"Default\", \"Default\", \"Default\", \"Default\", \"Default\", \"Default\", \"Default\", \"Default\", \"Default\", \"Default\", \"Default\", \"Default\", \"Topic1\", \"Topic1\", \"Topic1\", \"Topic1\", \"Topic1\", \"Topic1\", \"Topic1\", \"Topic1\", \"Topic1\", \"Topic1\", \"Topic1\", \"Topic1\", \"Topic1\", \"Topic1\", \"Topic1\", \"Topic1\", \"Topic1\", \"Topic1\", \"Topic1\", \"Topic1\", \"Topic1\", \"Topic1\", \"Topic1\", \"Topic1\", \"Topic1\", \"Topic1\", \"Topic1\", \"Topic1\", \"Topic1\", \"Topic1\", \"Topic1\", \"Topic2\", \"Topic2\", \"Topic2\", \"Topic2\", \"Topic2\", \"Topic2\", \"Topic2\", \"Topic2\", \"Topic2\", \"Topic2\", \"Topic2\", \"Topic2\", \"Topic2\", \"Topic2\", \"Topic2\", \"Topic2\", \"Topic2\", \"Topic2\", \"Topic2\", \"Topic2\", \"Topic2\", \"Topic2\", \"Topic2\", \"Topic2\", \"Topic2\", \"Topic2\", \"Topic2\", \"Topic2\", \"Topic2\", \"Topic2\", \"Topic2\", \"Topic3\", \"Topic3\", \"Topic3\", \"Topic3\", \"Topic3\", \"Topic3\", \"Topic3\", \"Topic3\", \"Topic3\", \"Topic3\", \"Topic3\", \"Topic3\", \"Topic3\", \"Topic3\", \"Topic3\", \"Topic3\", \"Topic3\", \"Topic3\", \"Topic3\", \"Topic3\", \"Topic3\", \"Topic3\", \"Topic3\", \"Topic3\", \"Topic3\", \"Topic3\", \"Topic3\", \"Topic3\", \"Topic3\", \"Topic3\", \"Topic3\", \"Topic4\", \"Topic4\", \"Topic4\", \"Topic4\", \"Topic4\", \"Topic4\", \"Topic4\", \"Topic4\", \"Topic4\", \"Topic4\", \"Topic4\", \"Topic4\", \"Topic4\", \"Topic4\", \"Topic4\", \"Topic4\", \"Topic4\", \"Topic4\", \"Topic4\", \"Topic4\", \"Topic4\", \"Topic4\", \"Topic4\", \"Topic4\", \"Topic4\", \"Topic4\", \"Topic4\", \"Topic4\", \"Topic4\", \"Topic4\", \"Topic4\", \"Topic4\", \"Topic5\", \"Topic5\", \"Topic5\", \"Topic5\", \"Topic5\", \"Topic5\", \"Topic5\", \"Topic5\", \"Topic5\", \"Topic5\", \"Topic5\", \"Topic5\", \"Topic5\", \"Topic5\", \"Topic5\", \"Topic5\", \"Topic5\", \"Topic5\", \"Topic5\", \"Topic5\", \"Topic5\", \"Topic5\", \"Topic5\", \"Topic5\", \"Topic5\", \"Topic5\", \"Topic5\", \"Topic5\", \"Topic5\", \"Topic5\", \"Topic5\", \"Topic5\", \"Topic5\", \"Topic6\", \"Topic6\", \"Topic6\", \"Topic6\", \"Topic6\", \"Topic6\", \"Topic6\", \"Topic6\", \"Topic6\", \"Topic6\", \"Topic6\", \"Topic6\", \"Topic6\", \"Topic6\", \"Topic6\", \"Topic6\", \"Topic6\", \"Topic6\", \"Topic6\", \"Topic6\", \"Topic6\", \"Topic6\", \"Topic6\", \"Topic6\", \"Topic6\", \"Topic6\", \"Topic6\", \"Topic6\", \"Topic6\", \"Topic6\", \"Topic6\", \"Topic6\", \"Topic6\", \"Topic6\", \"Topic7\", \"Topic7\", \"Topic7\", \"Topic7\", \"Topic7\", \"Topic7\", \"Topic7\", \"Topic7\", \"Topic7\", \"Topic7\", \"Topic7\", \"Topic7\", \"Topic7\", \"Topic7\", \"Topic7\", \"Topic7\", \"Topic7\", \"Topic7\", \"Topic7\", \"Topic7\", \"Topic7\", \"Topic7\", \"Topic7\", \"Topic7\", \"Topic7\", \"Topic7\", \"Topic7\", \"Topic7\", \"Topic7\", \"Topic7\", \"Topic7\", \"Topic7\", \"Topic7\"], \"logprob\": [30.0, 29.0, 28.0, 27.0, 26.0, 25.0, 24.0, 23.0, 22.0, 21.0, 20.0, 19.0, 18.0, 17.0, 16.0, 15.0, 14.0, 13.0, 12.0, 11.0, 10.0, 9.0, 8.0, 7.0, 6.0, 5.0, 4.0, 3.0, 2.0, 1.0, -1.7997, -3.1054, -3.3048, -3.0261, -3.5562, -3.777, -3.4187, -3.3828, -3.895, -3.9948, -4.0635, -4.1424, -3.5788, -2.848, -1.5354, -4.3441, -3.4148, -4.1436, -4.8922, -4.7272, -3.5278, -4.3493, -5.1576, -5.7831, -3.2497, -5.1631, -6.2136, -5.4354, -5.6989, -5.4432, -6.1815, -2.0592, -2.5661, -2.6109, -2.8062, -3.0546, -3.2821, -3.6612, -3.896, -3.8642, -3.0305, -3.007, -4.1187, -3.9584, -3.5064, -4.3565, -3.3617, -4.2924, -3.9172, -3.4127, -2.0742, -4.6487, -4.2936, -5.1135, -5.3868, -5.0852, -5.7861, -4.2362, -5.7542, -5.5691, -5.472, -5.7055, -1.8958, -1.851, -2.1749, -3.2882, -3.2438, -3.724, -3.449, -3.4225, -3.6649, -3.3553, -3.5169, -3.9071, -3.8727, -2.9368, -4.0391, -3.7393, -3.6537, -4.7919, -3.9135, -3.9209, -4.9608, -5.2184, -4.1302, -4.0769, -5.3629, -4.7486, -4.0996, -5.937, -5.2221, -6.9681, -6.3101, -2.8615, -3.3804, -2.7698, -3.115, -3.4102, -3.495, -3.5848, -3.6847, -3.3676, -3.8378, -3.9236, -3.4512, -3.7724, -3.2511, -3.8103, -2.9082, -3.9421, -4.0655, -1.7298, -2.9659, -4.3672, -3.7831, -3.0114, -4.8655, -4.4927, -5.0011, -5.5606, -5.7183, -4.862, -5.4996, -5.4231, -5.1505, -2.7606, -2.4894, -3.1832, -2.4318, -3.3438, -3.4677, -2.8255, -3.5711, -2.9533, -2.9557, -2.5719, -3.8808, -3.7476, -3.5392, -2.8576, -3.5247, -2.7242, -4.0163, -2.6628, -5.7201, -5.8164, -6.1608, -6.4767, -5.352, -3.8156, -6.4467, -6.5256, -6.1768, -6.7951, -6.7998, -6.3648, -6.5642, -6.4513, -1.9077, -2.9612, -3.0247, -2.6977, -3.2045, -3.4267, -2.973, -2.8505, -3.5278, -3.7538, -3.3, -3.7637, -3.621, -3.6247, -3.3847, -3.8143, -3.888, -3.9481, -3.8668, -3.3144, -4.1761, -4.6615, -4.1087, -5.5857, -3.2902, -4.757, -5.8166, -5.9859, -5.9769, -5.0197, -4.3362, -5.312, -4.2301, -5.431, -2.4842, -2.9524, -2.9524, -3.0279, -3.1379, -3.2995, -2.4856, -3.4546, -1.7629, -3.6762, -3.4204, -3.4401, -3.1576, -2.7658, -2.8282, -4.0442, -3.9982, -4.3193, -4.3829, -4.6734, -4.1409, -5.6197, -5.5266, -6.8343, -6.4768, -7.2256, -6.6636, -5.5132, -6.1852, -6.8124, -5.4502, -6.1112, -6.2902], \"loglift\": [30.0, 29.0, 28.0, 27.0, 26.0, 25.0, 24.0, 23.0, 22.0, 21.0, 20.0, 19.0, 18.0, 17.0, 16.0, 15.0, 14.0, 13.0, 12.0, 11.0, 10.0, 9.0, 8.0, 7.0, 6.0, 5.0, 4.0, 3.0, 2.0, 1.0, 1.644, 1.6373, 1.6369, 1.636, 1.6344, 1.6308, 1.63, 1.6288, 1.627, 1.622, 1.622, 1.6172, 1.608, 1.6038, 1.5826, 1.5799, 1.5545, 1.3094, 1.0475, 0.6605, 0.4154, 0.2237, 0.1194, 0.0828, 0.0261, -0.2872, -0.3889, -0.5617, -0.6151, -0.7408, -1.4025, 1.9089, 1.9081, 1.8983, 1.8969, 1.8892, 1.8849, 1.856, 1.8337, 1.8277, 1.7791, 1.772, 1.7385, 1.7306, 1.6337, 1.5469, 1.4252, 1.3977, 1.3599, 1.2897, 1.2016, 0.7303, 0.5801, 0.565, 0.3852, 0.3007, -0.1484, -0.293, -0.3519, -0.4853, -0.596, -0.9233, 1.9086, 1.9074, 1.9058, 1.8911, 1.8902, 1.8845, 1.8808, 1.8803, 1.8739, 1.872, 1.8684, 1.8554, 1.8498, 1.8454, 1.3486, 1.1367, 1.0906, 1.074, 0.8691, 0.866, 0.8058, 0.7212, 0.5376, 0.5334, 0.3883, 0.1251, -0.1563, -0.2993, -0.5197, -1.0647, -1.5766, 1.9158, 1.9077, 1.9055, 1.905, 1.904, 1.901, 1.9008, 1.8998, 1.8953, 1.8953, 1.8929, 1.8875, 1.8831, 1.8711, 1.849, 1.8253, 1.7899, 1.7592, 1.7546, 1.6071, 1.3993, 0.9994, 0.9318, 0.8245, 0.3833, 0.276, 0.2114, 0.1476, -0.1596, -0.2324, -0.5494, -1.2398, 2.0041, 1.9959, 1.9955, 1.9944, 1.9932, 1.9908, 1.9897, 1.9893, 1.9881, 1.9859, 1.978, 1.9684, 1.9678, 1.885, 1.8807, 1.8776, 1.7807, 1.5341, 0.613, 0.0311, -0.1941, -0.4822, -0.5733, -0.6496, -0.6976, -0.7147, -0.7591, -0.7979, -1.0653, -1.3468, -1.5779, -1.6882, -3.0076, 2.0228, 2.0154, 2.0114, 2.0105, 2.0099, 2.0047, 2.0032, 2.0003, 1.9988, 1.9961, 1.9912, 1.986, 1.9746, 1.9726, 1.8825, 1.7913, 1.7343, 1.6896, 1.5121, 1.4299, 0.6065, 0.4786, 0.3962, 0.2802, 0.1942, 0.1167, -0.1276, -0.1287, -0.2048, -0.3173, -0.393, -0.436, -0.9543, -0.4618, 2.1749, 2.1737, 2.1737, 2.1726, 2.171, 2.1641, 2.1602, 2.1533, 2.1478, 2.1455, 2.1182, 1.9458, 1.9262, 1.8445, 1.8396, 1.707, 1.6804, 1.4527, 1.1676, 0.7796, 0.7328, 0.0026, -0.1024, -1.1442, -1.29, -1.3222, -1.3249, -1.5699, -1.7333, -2.1503, -2.1744, -2.9932, -2.8465]}, \"token.table\": {\"Topic\": [1, 2, 3, 4, 6, 1, 2, 3, 4, 6, 1, 4, 2, 4, 1, 5, 7, 1, 2, 4, 5, 7, 4, 7, 3, 4, 1, 4, 5, 1, 6, 1, 2, 5, 7, 7, 1, 2, 3, 4, 6, 7, 2, 3, 6, 3, 5, 3, 5, 1, 1, 3, 5, 6, 7, 3, 1, 5, 6, 5, 6, 1, 2, 4, 5, 6, 7, 1, 5, 6, 2, 5, 2, 3, 2, 5, 6, 6, 7, 5, 2, 3, 2, 3, 1, 2, 3, 4, 5, 6, 7, 1, 3, 5, 1, 3, 4, 6, 4, 6, 2, 1, 2, 3, 4, 6, 7, 2, 4, 5, 6, 1, 2, 3, 4, 6, 7, 6, 6, 5, 7, 5, 6, 7, 2, 4, 1, 6, 1, 4, 6, 7, 3, 6, 6, 5, 6, 1, 6, 2, 3, 3, 1, 2, 3, 4, 5, 6, 2, 1, 1, 5, 3, 5, 7, 1, 2, 3, 4, 6, 1, 2, 1, 2, 4, 1, 2, 3, 7, 1, 2, 3, 7, 2, 3, 5, 2, 4, 5, 6, 7, 2, 3, 2, 4, 5, 6, 3, 5, 4, 3, 6, 2, 4, 3, 5, 7, 3, 6, 1, 4, 1, 2, 7, 1, 3, 5, 7, 5, 7, 1, 3, 4, 6, 3, 4, 6, 7, 1, 7, 5, 5, 7, 2, 6, 4, 1, 2, 1, 4, 7, 2, 5, 2, 4, 1, 2, 3, 2, 4, 6, 7, 2, 3, 4, 5, 6, 5, 6, 3, 5, 2, 6, 4, 6, 5, 6, 4, 4, 7, 2, 5, 3, 1, 4, 2, 3, 1, 1, 2, 3, 5, 6, 7, 4, 7, 6, 2, 4, 6, 7, 5, 2, 7, 6, 7, 1, 7, 2, 6, 1, 2, 4, 6, 4, 4, 1, 4, 2, 4, 6, 7, 5, 3, 4, 5, 1, 2, 3, 4, 5, 6, 4, 5, 7], \"Freq\": [0.0326189718474115, 0.8644027539564046, 0.01630948592370575, 0.0326189718474115, 0.04892845777111724, 0.047453838961769856, 0.8699870476324473, 0.01581794632058995, 0.0316358926411799, 0.047453838961769856, 0.13502476530006274, 0.8551568469003974, 0.9266414868104985, 0.033094338814660666, 0.7138593811200965, 0.03103736439652593, 0.24829891517220745, 0.10727717789432596, 0.08582174231546078, 0.021455435578865194, 0.021455435578865194, 0.772395680839147, 0.9413347862855738, 0.027686317243693345, 0.0380014865124794, 0.9500371628119849, 0.041023950539603005, 0.861502961331663, 0.08204790107920601, 0.976265859221315, 0.015254154050333047, 0.03888952016833857, 0.27222664117837, 0.07777904033667714, 0.5833428025250785, 0.9723344855452288, 0.28803374286069483, 0.10972714013740756, 0.1234430326545835, 0.36347115170516253, 0.08915330136164364, 0.020573838775763915, 0.007868832986221494, 0.9836041232776868, 0.007868832986221494, 0.9468613458597576, 0.03381647663784848, 0.9849313204068786, 0.005969280729738658, 0.9505889002014896, 0.9224829094017589, 0.003004830323784231, 0.06610626712325308, 0.003004830323784231, 0.006009660647568462, 0.967800431354194, 0.8992133850409876, 0.019132199681723142, 0.07652879872689257, 0.9676610592400612, 0.9719512138631092, 0.23172772515146156, 0.012873762508414531, 0.7209307004712138, 0.012873762508414531, 0.012873762508414531, 0.012873762508414531, 0.9643435714284914, 0.9678081846718751, 0.9688551073146304, 0.9823914562053863, 0.9676122857314408, 0.0634769589060773, 0.9204159041381208, 0.8252165186442771, 0.039296024697346534, 0.1178880740920396, 0.9632329378662943, 0.019264658757325887, 0.9672210229924084, 0.02476617932367101, 0.9411148142994984, 0.9699653641331492, 0.018653180079483637, 0.1935026210424724, 0.4890338968164303, 0.007036458946998996, 0.003518229473499498, 0.2462760631449649, 0.049255212628992975, 0.014072917893997993, 0.012579947173446187, 0.025159894346892375, 0.9560759851819102, 0.5554284196731448, 0.30296095618535174, 0.05049349269755862, 0.05049349269755862, 0.9790369212541712, 0.9604237804451803, 0.9912926766562766, 0.9398947966390581, 0.11199592092269667, 0.11199592092269667, 0.03733197364089889, 0.7093074991770789, 0.942372473086585, 0.022295866839555, 0.93642640726131, 0.022295866839555, 0.022295866839555, 0.10433522847468032, 0.2608380711867008, 0.1565028427120205, 0.08694602372890027, 0.13911363796624043, 0.22605966169514072, 0.9886184020658648, 0.9726890121389632, 0.6158561300663614, 0.3421422944813119, 0.11028670534654027, 0.7352447023102685, 0.11028670534654027, 0.025664675014168786, 0.949592975524245, 0.01699528619973111, 0.9687313133846731, 0.9699560142645253, 0.9725516328699445, 0.014030906348957827, 0.982163444427048, 0.9571755841609433, 0.029005320732149797, 0.9606145309955221, 0.03579102486470168, 0.9305666464822436, 0.035852960140126344, 0.932176963643285, 0.04229805018093496, 0.930557103980569, 0.970025383644599, 0.13943480743458064, 0.08714675464661291, 0.45316312416238713, 0.20915221115187096, 0.01742935092932258, 0.08714675464661291, 0.9912761395391679, 0.9789394196818022, 0.9678865344949773, 0.018613202586441873, 0.20910253802260764, 0.12546152281356457, 0.6273076140678229, 0.030229334339122556, 0.030229334339122556, 0.030229334339122556, 0.8917653630041155, 0.015114667169561278, 0.012077630561622687, 0.9782880754914376, 0.20823578824408667, 0.5726484176712384, 0.18220631471357585, 0.013362422386029133, 0.026724844772058266, 0.2538860253345535, 0.7082083864595441, 0.014153261222150722, 0.028306522444301443, 0.254758701998713, 0.6935097998853853, 0.6058725849299113, 0.3507683386436328, 0.0318880307857848, 0.3170360032782668, 0.0288214548434788, 0.0576429096869576, 0.6052505517130548, 0.9848077119646556, 0.027438776363115085, 0.960357172709028, 0.004334387303616239, 0.832202362294318, 0.004334387303616239, 0.16037233023380085, 0.0117933569953473, 0.978848630613826, 0.9557105161694345, 0.9427153542424865, 0.9829382797325671, 0.014260698831630675, 0.9697275205508858, 0.011115718684812302, 0.9781832442634826, 0.011115718684812302, 0.4278224030379683, 0.5500573753345307, 0.8947460290066835, 0.04970811272259353, 0.033809119059326154, 0.033809119059326154, 0.9128462146018061, 0.977937462259283, 0.00416143600961397, 0.00832287201922794, 0.00832287201922794, 0.9674754136406731, 0.9673001649307125, 0.18760581744826643, 0.42211308925859947, 0.18760581744826643, 0.18760581744826643, 0.34924775951612524, 0.3968724539955969, 0.23812347239735812, 0.015874898159823875, 0.9512964430949927, 0.023782411077374818, 0.9675573092186786, 0.9824176246049234, 0.9848075020074107, 0.9064217340241533, 0.03940964060974579, 0.9374285119519057, 0.9736039421427612, 0.020714977492399176, 0.9466043759167615, 0.03421461599699138, 0.022809743997994254, 0.9004946927611475, 0.04093157694368852, 0.0201288863067315, 0.966186542723112, 0.3779543813941761, 0.058146827906796324, 0.552394865114565, 0.21351065745348535, 0.17080852596278828, 0.08540426298139414, 0.4697234463976678, 0.015188078810321548, 0.015188078810321548, 0.030376157620643097, 0.8657204921883283, 0.060752315241286194, 0.968702020588965, 0.9818646390419776, 0.9804998135487352, 0.005700580311329856, 0.8369036724369291, 0.09298929693743657, 0.10309412849083971, 0.8505265600494276, 0.781672556362547, 0.19241170618155, 0.9446051451112107, 0.039828675530283214, 0.9492501001384166, 0.08851117143328562, 0.855607990521761, 0.9614834532406834, 0.03814793949818628, 0.9155505479564707, 0.04063516458578693, 0.9346087854730993, 0.9787590993902963, 0.09738768173970408, 0.6817137721779285, 0.04869384086985204, 0.09738768173970408, 0.09738768173970408, 0.04869384086985204, 0.02768950597277384, 0.9691327090470844, 0.977878395960917, 0.5900961320133509, 0.31471793707378715, 0.03933974213422339, 0.03933974213422339, 0.9673189886301998, 0.2031585679549747, 0.7836116192549024, 0.9504277533290536, 0.9421453867340801, 0.9709859479425658, 0.014072260115109649, 0.9559497191108852, 0.023315846807582568, 0.0723008696259848, 0.0361504348129924, 0.0723008696259848, 0.7953095658858327, 0.9674123262431136, 0.9619562496635987, 0.9581451623063838, 0.019961357548049664, 0.7490144034713321, 0.022697406165797945, 0.2042766554921815, 0.9644314961208004, 0.9684305496010212, 0.3397334074095935, 0.5945334629667887, 0.04246667592619919, 0.08790531164495684, 0.527431869869741, 0.08790531164495684, 0.11720708219327577, 0.07325442637079736, 0.08790531164495684, 0.9737566334068364, 0.8745424032232557, 0.09046990378171611], \"Term\": [\"''\", \"''\", \"''\", \"''\", \"''\", \"``\", \"``\", \"``\", \"``\", \"``\", \"art\", \"art\", \"e\", \"e\", \"of\", \"of\", \"of\", \"the\", \"the\", \"the\", \"the\", \"the\", \"\\u0430\\u0432\\u0442\\u043e\\u043c\\u043e\\u0431\\u0438\\u043b\\u044c\", \"\\u0430\\u0432\\u0442\\u043e\\u043c\\u043e\\u0431\\u0438\\u043b\\u044c\", \"\\u0430\\u043d\\u0433\\u043b\\u0438\\u0439\\u0441\\u043a\\u0438\\u0439\", \"\\u0430\\u043d\\u0433\\u043b\\u0438\\u0439\\u0441\\u043a\\u0438\\u0439\", \"\\u0431\\u0430\\u0440\\u0430\\u0445\\u043e\\u043b\\u043a\\u0430\", \"\\u0431\\u0430\\u0440\\u0430\\u0445\\u043e\\u043b\\u043a\\u0430\", \"\\u0431\\u0430\\u0440\\u0430\\u0445\\u043e\\u043b\\u043a\\u0430\", \"\\u0431\\u0438\\u0437\\u043d\\u0435\\u0441\", \"\\u0431\\u0438\\u0437\\u043d\\u0435\\u0441\", \"\\u0431\\u043b\\u043e\\u0433\", \"\\u0431\\u043b\\u043e\\u0433\", \"\\u0431\\u043b\\u043e\\u0433\", \"\\u0431\\u043b\\u043e\\u0433\", \"\\u0431\\u043b\\u043e\\u0433\\u0435\\u0440\", \"\\u0432\", \"\\u0432\", \"\\u0432\", \"\\u0432\", \"\\u0432\", \"\\u0432\", \"\\u0432\\u0438\\u0434\\u0435\\u043e\\u0438\\u0433\\u0440\\u0430\", \"\\u0432\\u0438\\u0434\\u0435\\u043e\\u0438\\u0433\\u0440\\u0430\", \"\\u0432\\u0438\\u0434\\u0435\\u043e\\u0438\\u0433\\u0440\\u0430\", \"\\u0432\\u043a\\u043e\\u043d\\u0442\\u0430\\u043a\\u0442\\u0435\", \"\\u0432\\u043a\\u043e\\u043d\\u0442\\u0430\\u043a\\u0442\\u0435\", \"\\u0433\\u043e\\u0440\\u043e\\u0434\\u0441\\u043a\\u043e\\u0439\", \"\\u0433\\u043e\\u0440\\u043e\\u0434\\u0441\\u043a\\u043e\\u0439\", \"\\u0433\\u0440\\u0430\\u0444\\u0438\\u043a\\u0430\", \"\\u0433\\u0440\\u0443\\u043f\\u043f\\u0430\", \"\\u0433\\u0440\\u0443\\u043f\\u043f\\u0430\", \"\\u0433\\u0440\\u0443\\u043f\\u043f\\u0430\", \"\\u0433\\u0440\\u0443\\u043f\\u043f\\u0430\", \"\\u0433\\u0440\\u0443\\u043f\\u043f\\u0430\", \"\\u0434\\u0432\\u0438\\u0436\\u0435\\u043d\\u0438\\u0435\", \"\\u0434\\u0438\\u0437\\u0430\\u0439\\u043d\", \"\\u0434\\u0438\\u0437\\u0430\\u0439\\u043d\", \"\\u0434\\u0438\\u0437\\u0430\\u0439\\u043d\", \"\\u0434\\u0438\\u043a\\u0438\\u0439\", \"\\u0434\\u0438\\u0441\\u043a\\u0443\\u0441\\u0441\\u0438\\u043e\\u043d\\u043d\\u044b\\u0439\", \"\\u0434\\u043b\\u044f\", \"\\u0434\\u043b\\u044f\", \"\\u0434\\u043b\\u044f\", \"\\u0434\\u043b\\u044f\", \"\\u0434\\u043b\\u044f\", \"\\u0434\\u043b\\u044f\", \"\\u0434\\u043e\\u043c\", \"\\u0434\\u043e\\u043c\\u0430\\u0448\\u043d\\u0438\\u0439\", \"\\u0434\\u043e\\u043f\\u043e\\u043b\\u043d\\u0438\\u0442\\u0435\\u043b\\u044c\\u043d\\u044b\\u0439\", \"\\u0434\\u0440\\u0443\\u0433\\u043e\\u0439\", \"\\u0436\\u0438\\u0432\\u043e\\u0442\\u043d\\u043e\\u0435\", \"\\u0436\\u0438\\u0437\\u043d\\u044c\", \"\\u0436\\u0438\\u0437\\u043d\\u044c\", \"\\u0436\\u0443\\u0440\\u043d\\u0430\\u043b\", \"\\u0436\\u0443\\u0440\\u043d\\u0430\\u043b\", \"\\u0436\\u0443\\u0440\\u043d\\u0430\\u043b\", \"\\u0437\\u0430\", \"\\u0437\\u0430\", \"\\u0437\\u0430\\u043a\\u0440\\u044b\\u0442\\u044b\\u0439\", \"\\u0437\\u0434\\u043e\\u0440\\u043e\\u0432\\u044b\\u0439\", \"\\u0437\\u0434\\u043e\\u0440\\u043e\\u0432\\u044b\\u0439\", \"\\u0437\\u043d\\u0430\\u043a\\u043e\\u043c\\u0441\\u0442\\u0432\\u043e\", \"\\u0437\\u043d\\u0430\\u043a\\u043e\\u043c\\u0441\\u0442\\u0432\\u043e\", \"\\u0438\", \"\\u0438\", \"\\u0438\", \"\\u0438\", \"\\u0438\", \"\\u0438\", \"\\u0438\", \"\\u0438\\u0433\\u0440\\u0430\", \"\\u0438\\u0433\\u0440\\u0430\", \"\\u0438\\u0433\\u0440\\u0430\", \"\\u0438\\u0437\", \"\\u0438\\u0437\", \"\\u0438\\u0437\", \"\\u0438\\u0437\", \"\\u0438\\u043b\\u0438\", \"\\u0438\\u043d\\u0441\\u0442\\u0438\\u0442\\u0443\\u0442\", \"\\u0438\\u043d\\u0442\\u0435\\u0440\\u043d\\u0435\\u0442-\\u0441\\u043c\\u0438\", \"\\u0438\\u043d\\u0442\\u0435\\u0440\\u044c\\u0435\\u0440\", \"\\u0438\\u0441\\u043a\\u0430\\u0442\\u044c\", \"\\u0438\\u0441\\u043a\\u0430\\u0442\\u044c\", \"\\u0438\\u0441\\u043a\\u0430\\u0442\\u044c\", \"\\u0438\\u0441\\u043a\\u0430\\u0442\\u044c\", \"\\u0438\\u0441\\u043a\\u0443\\u0441\\u0441\\u0442\\u0432\\u043e\", \"\\u0438\\u0441\\u0442\\u043e\\u0440\\u0438\\u044f\", \"\\u0438\\u0441\\u0442\\u043e\\u0440\\u0438\\u044f\", \"\\u0438\\u0441\\u0442\\u043e\\u0440\\u0438\\u044f\", \"\\u0438\\u0441\\u0442\\u043e\\u0440\\u0438\\u044f\", \"\\u043a\\u0430\\u0437\\u0430\\u043d\\u044c\", \"\\u043a\\u0430\\u0437\\u0430\\u043d\\u044c\", \"\\u043a\\u0430\\u0437\\u0430\\u043d\\u044c\", \"\\u043a\\u0430\\u0437\\u0430\\u043d\\u044c\", \"\\u043a\\u0430\\u0437\\u0430\\u043d\\u044c\", \"\\u043a\\u0430\\u0437\\u0430\\u043d\\u044c\", \"\\u043a\\u0438\\u043d\\u043e\", \"\\u043a\\u043b\\u0443\\u0431\", \"\\u043a\\u043d\\u0438\\u0433\\u0430\", \"\\u043a\\u043d\\u0438\\u0433\\u0430\", \"\\u043a\\u0440\\u0430\\u0441\\u043e\\u0442\\u0430\", \"\\u043a\\u0440\\u0430\\u0441\\u043e\\u0442\\u0430\", \"\\u043a\\u0440\\u0430\\u0441\\u043e\\u0442\\u0430\", \"\\u043a\\u0443\\u043b\\u0438\\u043d\\u0430\\u0440\\u0438\\u044f\", \"\\u043a\\u0443\\u043b\\u0438\\u043d\\u0430\\u0440\\u0438\\u044f\", \"\\u043a\\u0443\\u043b\\u044c\\u0442\\u0443\\u0440\\u0430\", \"\\u043a\\u0443\\u043b\\u044c\\u0442\\u0443\\u0440\\u0430\", \"\\u043a\\u0443\\u043b\\u044c\\u0442\\u0443\\u0440\\u043d\\u044b\\u0439\", \"\\u043a\\u0443\\u0440\\u0441\", \"\\u043b\\u0438\\u0442\\u0435\\u0440\\u0430\\u0442\\u0443\\u0440\\u0430\", \"\\u043b\\u0438\\u0442\\u0435\\u0440\\u0430\\u0442\\u0443\\u0440\\u0430\", \"\\u043c\\u0435\\u043c\", \"\\u043c\\u0435\\u043c\", \"\\u043c\\u0438\\u0440\", \"\\u043c\\u043e\\u0434\\u0430\", \"\\u043c\\u043e\\u0434\\u0430\", \"\\u043c\\u043e\\u0434\\u0435\\u043b\\u044c\", \"\\u043c\\u043e\\u0434\\u0435\\u043b\\u044c\", \"\\u043c\\u043e\\u0439\", \"\\u043c\\u043e\\u0439\", \"\\u043c\\u043e\\u043b\\u043e\\u0434\\u0451\\u0436\\u043d\\u044b\\u0439\", \"\\u043c\\u043e\\u0441\\u043a\\u0432\\u0430\", \"\\u043c\\u043e\\u0441\\u043a\\u0432\\u0430\", \"\\u043c\\u043e\\u0441\\u043a\\u0432\\u0430\", \"\\u043c\\u043e\\u0441\\u043a\\u0432\\u0430\", \"\\u043c\\u043e\\u0441\\u043a\\u0432\\u0430\", \"\\u043c\\u043e\\u0441\\u043a\\u0432\\u0430\", \"\\u043c\\u0443\\u0437\\u044b\\u043a\\u0430\", \"\\u043c\\u0443\\u0437\\u044b\\u043a\\u0430\\u043b\\u044c\\u043d\\u044b\\u0439\", \"\\u043c\\u0443\\u0437\\u044b\\u043a\\u0430\\u043d\\u0442\", \"\\u043c\\u0443\\u0437\\u044b\\u043a\\u0430\\u043d\\u0442\", \"\\u043c\\u044b\", \"\\u043c\\u044b\", \"\\u043c\\u044b\", \"\\u043d\\u0430\", \"\\u043d\\u0430\", \"\\u043d\\u0430\", \"\\u043d\\u0430\", \"\\u043d\\u0430\", \"\\u043d\\u0430\\u0443\\u043a\\u0430\", \"\\u043d\\u0430\\u0443\\u043a\\u0430\", \"\\u043d\\u0435\", \"\\u043d\\u0435\", \"\\u043d\\u0435\", \"\\u043d\\u0438\\u0436\\u043d\\u0438\\u0439\", \"\\u043d\\u0438\\u0436\\u043d\\u0438\\u0439\", \"\\u043d\\u0438\\u0436\\u043d\\u0438\\u0439\", \"\\u043d\\u0438\\u0436\\u043d\\u0438\\u0439\", \"\\u043d\\u043e\\u0432\\u0433\\u043e\\u0440\\u043e\\u0434\", \"\\u043d\\u043e\\u0432\\u0433\\u043e\\u0440\\u043e\\u0434\", \"\\u043d\\u043e\\u0432\\u0433\\u043e\\u0440\\u043e\\u0434\", \"\\u043d\\u043e\\u0432\\u0433\\u043e\\u0440\\u043e\\u0434\", \"\\u043d\\u043e\\u0432\\u043e\\u0441\\u0442\\u044c\", \"\\u043d\\u043e\\u0432\\u043e\\u0441\\u0442\\u044c\", \"\\u043d\\u043e\\u0432\\u043e\\u0441\\u0442\\u044c\", \"\\u043e\", \"\\u043e\", \"\\u043e\", \"\\u043e\", \"\\u043e\\u0431\\u0435\\u0441\\u043f\\u0435\\u0447\\u0435\\u043d\\u0438\\u0435\", \"\\u043e\\u0431\\u0440\\u0430\\u0437\", \"\\u043e\\u0431\\u0440\\u0430\\u0437\", \"\\u043e\\u0431\\u0440\\u0430\\u0437\\u043e\\u0432\\u0430\\u043d\\u0438\\u0435\", \"\\u043e\\u0431\\u0440\\u0430\\u0437\\u043e\\u0432\\u0430\\u043d\\u0438\\u0435\", \"\\u043e\\u0431\\u0440\\u0430\\u0437\\u043e\\u0432\\u0430\\u043d\\u0438\\u0435\", \"\\u043e\\u0431\\u0440\\u0430\\u0437\\u043e\\u0432\\u0430\\u043d\\u0438\\u0435\", \"\\u043e\\u0431\\u0443\\u0432\\u044c\", \"\\u043e\\u0431\\u0443\\u0432\\u044c\", \"\\u043e\\u0431\\u0443\\u0447\\u0430\\u0442\\u044c\", \"\\u043e\\u0431\\u0449\\u0435\\u0441\\u0442\\u0432\\u0435\\u043d\\u043d\\u044b\\u0439\", \"\\u043e\\u0431\\u0449\\u0435\\u0441\\u0442\\u0432\\u043e\", \"\\u043e\\u0431\\u044a\\u044f\\u0432\\u043b\\u0435\\u043d\\u0438\\u0435\", \"\\u043e\\u0431\\u044a\\u044f\\u0432\\u043b\\u0435\\u043d\\u0438\\u0435\", \"\\u043e\\u0434\\u0435\\u0436\\u0434\\u0430\", \"\\u043e\\u0434\\u0435\\u0436\\u0434\\u0430\", \"\\u043e\\u0434\\u0435\\u0436\\u0434\\u0430\", \"\\u043e\\u0440\\u0433\\u0430\\u043d\\u0438\\u0437\\u0430\\u0446\\u0438\\u044f\", \"\\u043e\\u0440\\u0433\\u0430\\u043d\\u0438\\u0437\\u0430\\u0446\\u0438\\u044f\", \"\\u043e\\u0442\", \"\\u043e\\u0442\", \"\\u043e\\u0442\\u0434\\u044b\\u0445\", \"\\u043e\\u0442\\u0434\\u044b\\u0445\", \"\\u043e\\u0442\\u0434\\u044b\\u0445\", \"\\u043e\\u0442\\u043a\\u0440\\u044b\\u0442\\u044b\\u0439\", \"\\u043e\\u0442\\u043a\\u0440\\u044b\\u0442\\u044b\\u0439\", \"\\u043e\\u0442\\u043a\\u0440\\u044b\\u0442\\u044b\\u0439\", \"\\u043e\\u0442\\u043a\\u0440\\u044b\\u0442\\u044b\\u0439\", \"\\u043e\\u0442\\u043d\\u043e\\u0448\\u0435\\u043d\\u0438\\u0435\", \"\\u043f\\u0435\\u0440\\u0435\\u0434\\u0430\\u0447\\u0430\", \"\\u043f\\u043e\", \"\\u043f\\u043e\", \"\\u043f\\u043e\", \"\\u043f\\u043e\", \"\\u043f\\u043e\\u0434\\u0441\\u043b\\u0443\\u0448\\u0430\\u0442\\u044c\", \"\\u043f\\u043e\\u0434\\u0441\\u043b\\u0443\\u0448\\u0430\\u0442\\u044c\", \"\\u043f\\u043e\\u0434\\u0441\\u043b\\u0443\\u0448\\u0430\\u0442\\u044c\", \"\\u043f\\u043e\\u0434\\u0441\\u043b\\u0443\\u0448\\u0430\\u0442\\u044c\", \"\\u043f\\u043e\\u0438\\u0441\\u043a\", \"\\u043f\\u043e\\u0438\\u0441\\u043a\", \"\\u043f\\u043e\\u043b\", \"\\u043f\\u0440\\u043e\\u0433\\u0440\\u0430\\u043c\\u043c\\u0438\\u0440\\u043e\\u0432\\u0430\\u043d\\u0438\\u0435\", \"\\u043f\\u0440\\u043e\\u0433\\u0440\\u0430\\u043c\\u043c\\u043d\\u044b\\u0439\", \"\\u043f\\u0441\\u0438\\u0445\\u043e\\u043b\\u043e\\u0433\\u0438\\u044f\", \"\\u043f\\u0441\\u0438\\u0445\\u043e\\u043b\\u043e\\u0433\\u0438\\u044f\", \"\\u043f\\u0443\\u0431\\u043b\\u0438\\u0447\\u043d\\u044b\\u0439\", \"\\u043f\\u0443\\u0442\\u0435\\u0448\\u0435\\u0441\\u0442\\u0432\\u0438\\u0435\", \"\\u043f\\u0443\\u0442\\u0435\\u0448\\u0435\\u0441\\u0442\\u0432\\u0438\\u0435\", \"\\u0440\\u0430\\u0431\\u043e\\u0442\\u0430\", \"\\u0440\\u0430\\u0431\\u043e\\u0442\\u0430\", \"\\u0440\\u0430\\u0431\\u043e\\u0442\\u0430\", \"\\u0440\\u0435\\u0431\\u0451\\u043d\\u043e\\u043a\", \"\\u0440\\u0435\\u0431\\u0451\\u043d\\u043e\\u043a\", \"\\u0440\\u0435\\u0446\\u0435\\u043f\\u0442\", \"\\u0440\\u0435\\u0446\\u0435\\u043f\\u0442\", \"\\u0440\\u043e\\u0441\\u0441\\u0438\\u044f\", \"\\u0440\\u043e\\u0441\\u0441\\u0438\\u044f\", \"\\u0440\\u043e\\u0441\\u0441\\u0438\\u044f\", \"\\u0440\\u0443\\u0441\\u0441\\u043a\\u0438\\u0439\", \"\\u0440\\u0443\\u0441\\u0441\\u043a\\u0438\\u0439\", \"\\u0440\\u0443\\u0441\\u0441\\u043a\\u0438\\u0439\", \"\\u0440\\u0443\\u0441\\u0441\\u043a\\u0438\\u0439\", \"\\u0441\", \"\\u0441\", \"\\u0441\", \"\\u0441\", \"\\u0441\", \"\\u0441\\u0430\\u0439\\u0442\", \"\\u0441\\u0435\\u0431\\u044f\", \"\\u0441\\u043e\\u043e\\u0431\\u0449\\u0435\\u0441\\u0442\\u0432\\u043e\", \"\\u0441\\u043e\\u043e\\u0431\\u0449\\u0435\\u0441\\u0442\\u0432\\u043e\", \"\\u0441\\u043f\\u043e\\u0440\\u0442\", \"\\u0441\\u043f\\u043e\\u0440\\u0442\", \"\\u0441\\u043f\\u043e\\u0440\\u0442\\u0438\\u0432\\u043d\\u044b\\u0439\", \"\\u0441\\u043f\\u043e\\u0440\\u0442\\u0438\\u0432\\u043d\\u044b\\u0439\", \"\\u0441\\u0442\\u0438\\u043b\\u044c\", \"\\u0441\\u0442\\u0438\\u043b\\u044c\", \"\\u0441\\u0442\\u0440\\u0430\\u043d\\u0438\\u0446\\u0430\", \"\\u0442\\u0432\\u043e\\u0440\\u0447\\u0435\\u0441\\u0442\\u0432\\u043e\", \"\\u0442\\u0432\\u043e\\u0440\\u0447\\u0435\\u0441\\u0442\\u0432\\u043e\", \"\\u0442\\u0435\\u0445\\u043d\\u0438\\u043a\\u0430\", \"\\u0442\\u0435\\u0445\\u043d\\u0438\\u043a\\u0430\", \"\\u0442\\u0438\\u043f\\u0438\\u0447\\u043d\\u044b\\u0439\", \"\\u0442\\u043e\\u0432\\u0430\\u0440\", \"\\u0442\\u043e\\u0432\\u0430\\u0440\", \"\\u0442\\u043e\\u043c\\u0441\\u043a\", \"\\u0442\\u043e\\u043c\\u0441\\u043a\", \"\\u0442\\u0443\\u0440\\u0438\\u0437\\u043c\", \"\\u0442\\u044b\", \"\\u0442\\u044b\", \"\\u0442\\u044b\", \"\\u0442\\u044b\", \"\\u0442\\u044b\", \"\\u0442\\u044b\", \"\\u0443\\u043d\\u0438\\u0432\\u0435\\u0440\\u0441\\u0438\\u0442\\u0435\\u0442\", \"\\u0443\\u043d\\u0438\\u0432\\u0435\\u0440\\u0441\\u0438\\u0442\\u0435\\u0442\", \"\\u0443\\u0445\\u043e\\u0434\", \"\\u0444\\u0430\\u043a\\u0442\", \"\\u0444\\u0430\\u043a\\u0442\", \"\\u0444\\u0430\\u043a\\u0442\", \"\\u0444\\u0430\\u043a\\u0442\", \"\\u0444\\u0430\\u043d-\\u043a\\u043b\\u0443\\u0431\", \"\\u0444\\u0438\\u043b\\u043e\\u0441\\u043e\\u0444\\u0438\\u044f\", \"\\u0444\\u0438\\u043b\\u043e\\u0441\\u043e\\u0444\\u0438\\u044f\", \"\\u0444\\u0438\\u043b\\u044c\\u043c\", \"\\u0444\\u0438\\u043d\\u0430\\u043d\\u0441\\u044b\", \"\\u0444\\u043e\\u0442\\u043e\\u0433\\u0440\\u0430\\u0444\\u0438\\u044f\", \"\\u0444\\u043e\\u0442\\u043e\\u0433\\u0440\\u0430\\u0444\\u0438\\u044f\", \"\\u0444\\u0443\\u0442\\u0431\\u043e\\u043b\", \"\\u0444\\u0443\\u0442\\u0431\\u043e\\u043b\", \"\\u0445\\u043e\\u0440\\u043e\\u0448\\u0438\\u0439\", \"\\u0445\\u043e\\u0440\\u043e\\u0448\\u0438\\u0439\", \"\\u0445\\u043e\\u0440\\u043e\\u0448\\u0438\\u0439\", \"\\u0445\\u043e\\u0440\\u043e\\u0448\\u0438\\u0439\", \"\\u0445\\u0443\\u0434\\u043e\\u0436\\u043d\\u0438\\u043a\", \"\\u0445\\u0443\\u0434\\u043e\\u0436\\u043d\\u0438\\u0446\\u0430\", \"\\u0446\\u0435\\u043d\\u0442\\u0440\", \"\\u0446\\u0435\\u043d\\u0442\\u0440\", \"\\u0448\\u043a\\u043e\\u043b\\u0430\", \"\\u0448\\u043a\\u043e\\u043b\\u0430\", \"\\u0448\\u043a\\u043e\\u043b\\u0430\", \"\\u0448\\u043e\\u0443\", \"\\u044d\\u043b\\u0435\\u043a\\u0442\\u0440\\u043e\\u043d\\u0438\\u043a\\u0430\", \"\\u044d\\u0442\\u043e\", \"\\u044d\\u0442\\u043e\", \"\\u044d\\u0442\\u043e\", \"\\u044f\", \"\\u044f\", \"\\u044f\", \"\\u044f\", \"\\u044f\", \"\\u044f\", \"\\u044f\\u0437\\u044b\\u043a\", \"\\u2022\", \"\\u2022\"]}, \"R\": 30, \"lambda.step\": 0.01, \"plot.opts\": {\"xlab\": \"PC1\", \"ylab\": \"PC2\"}, \"topic.order\": [5, 4, 6, 2, 7, 1, 3]};\n",
              "\n",
              "function LDAvis_load_lib(url, callback){\n",
              "  var s = document.createElement('script');\n",
              "  s.src = url;\n",
              "  s.async = true;\n",
              "  s.onreadystatechange = s.onload = callback;\n",
              "  s.onerror = function(){console.warn(\"failed to load library \" + url);};\n",
              "  document.getElementsByTagName(\"head\")[0].appendChild(s);\n",
              "}\n",
              "\n",
              "if(typeof(LDAvis) !== \"undefined\"){\n",
              "   // already loaded: just create the visualization\n",
              "   !function(LDAvis){\n",
              "       new LDAvis(\"#\" + \"ldavis_el128015681422963364868606907\", ldavis_el128015681422963364868606907_data);\n",
              "   }(LDAvis);\n",
              "}else if(typeof define === \"function\" && define.amd){\n",
              "   // require.js is available: use it to load d3/LDAvis\n",
              "   require.config({paths: {d3: \"https://d3js.org/d3.v5\"}});\n",
              "   require([\"d3\"], function(d3){\n",
              "      window.d3 = d3;\n",
              "      LDAvis_load_lib(\"https://cdn.jsdelivr.net/gh/bmabey/pyLDAvis@3.3.1/pyLDAvis/js/ldavis.v3.0.0.js\", function(){\n",
              "        new LDAvis(\"#\" + \"ldavis_el128015681422963364868606907\", ldavis_el128015681422963364868606907_data);\n",
              "      });\n",
              "    });\n",
              "}else{\n",
              "    // require.js not available: dynamically load d3 & LDAvis\n",
              "    LDAvis_load_lib(\"https://d3js.org/d3.v5.js\", function(){\n",
              "         LDAvis_load_lib(\"https://cdn.jsdelivr.net/gh/bmabey/pyLDAvis@3.3.1/pyLDAvis/js/ldavis.v3.0.0.js\", function(){\n",
              "                 new LDAvis(\"#\" + \"ldavis_el128015681422963364868606907\", ldavis_el128015681422963364868606907_data);\n",
              "            })\n",
              "         });\n",
              "}\n",
              "</script>"
            ],
            "text/plain": [
              "PreparedData(topic_coordinates=              x         y  topics  cluster       Freq\n",
              "topic                                                \n",
              "4      0.146718 -0.067452       1        1  18.925443\n",
              "3      0.051736 -0.064347       2        1  14.673815\n",
              "5     -0.156091  0.150193       3        1  14.571463\n",
              "1     -0.240037 -0.088508       4        1  14.380405\n",
              "6      0.286537 -0.104988       5        1  13.257139\n",
              "0     -0.147078 -0.172014       6        1  13.076871\n",
              "2      0.058215  0.347115       7        1  11.114864, topic_info=            Term        Freq       Total Category  logprob  loglift\n",
              "32        группа  332.000000  332.000000  Default  30.0000  30.0000\n",
              "36      открытый  240.000000  240.000000  Default  29.0000  29.0000\n",
              "5    образование  230.000000  230.000000  Default  28.0000  28.0000\n",
              "12    сообщество  175.000000  175.000000  Default  27.0000  27.0000\n",
              "9      городской  167.000000  167.000000  Default  26.0000  26.0000\n",
              "..           ...         ...         ...      ...      ...      ...\n",
              "42        работа    1.722075   87.681826   Topic7  -6.1852  -1.7333\n",
              "125   фотография    0.919724   71.061790   Topic7  -6.8124  -2.1503\n",
              "25             и    3.591358  284.233876   Topic7  -5.4502  -2.1744\n",
              "32        группа    1.854246  332.797493   Topic7  -6.1112  -2.9932\n",
              "36      открытый    1.550347  240.301665   Topic7  -6.2902  -2.8465\n",
              "\n",
              "[255 rows x 6 columns], token_table=      Topic      Freq  Term\n",
              "term                       \n",
              "66        1  0.032619    ''\n",
              "66        2  0.864403    ''\n",
              "66        3  0.016309    ''\n",
              "66        4  0.032619    ''\n",
              "66        6  0.048928    ''\n",
              "...     ...       ...   ...\n",
              "88        5  0.073254     я\n",
              "88        6  0.087905     я\n",
              "74        4  0.973757  язык\n",
              "123       5  0.874542     •\n",
              "123       7  0.090470     •\n",
              "\n",
              "[315 rows x 3 columns], R=30, lambda_step=0.01, plot_opts={'xlab': 'PC1', 'ylab': 'PC2'}, topic_order=[5, 4, 6, 2, 7, 1, 3])"
            ]
          },
          "execution_count": 67,
          "metadata": {},
          "output_type": "execute_result"
        }
      ],
      "source": [
        "# LDA 7 топиков \n",
        "vis_7 = gensimvis.prepare(lda_7, corpus, gensim_dictionary)\n",
        "pyLDAvis.enable_notebook()\n",
        " \n",
        "vis_7"
      ]
    },
    {
      "cell_type": "markdown",
      "id": "dbd2a2db",
      "metadata": {
        "id": "dbd2a2db"
      },
      "source": [
        "### Функция назначения более вероятного топика"
      ]
    },
    {
      "cell_type": "code",
      "execution_count": null,
      "id": "4fa19c43",
      "metadata": {
        "id": "4fa19c43"
      },
      "outputs": [],
      "source": [
        "def get_topic(words, lda):\n",
        "    \"\"\"\n",
        "    Функция назначает документу наиболее вероятный топик\n",
        "    :param words: лемматизированный текст документа\n",
        "    :param lda: тематическая модель\n",
        "    :return: список из наиболее вероятного топика \n",
        "    и его вероятности\n",
        "    \"\"\"\n",
        "    bag = lda.id2word.doc2bow(words)\n",
        "    topics = lda.get_document_topics(bag)\n",
        "    topic_dictionary = {}\n",
        "    for topic in topics:\n",
        "        topic_dictionary[topic[1]] = str((topic[0])) \n",
        "    main_probability = max(topic_dictionary)\n",
        "    main_topic = topic_dictionary[main_probability]\n",
        "    return [main_topic, main_probability]"
      ]
    },
    {
      "cell_type": "code",
      "execution_count": null,
      "id": "d6438bc3",
      "metadata": {
        "id": "d6438bc3"
      },
      "outputs": [],
      "source": [
        "# Применим функцию к датасету\n",
        "data[\"lda_7\"] = data[\"text_processed\"].apply(get_topic, lda=lda_7)"
      ]
    },
    {
      "cell_type": "code",
      "execution_count": null,
      "id": "7056866d",
      "metadata": {
        "id": "7056866d",
        "outputId": "7d4bd10a-8751-44a9-8d25-eb3cd5535296"
      },
      "outputs": [
        {
          "data": {
            "text/html": [
              "<div>\n",
              "<style scoped>\n",
              "    .dataframe tbody tr th:only-of-type {\n",
              "        vertical-align: middle;\n",
              "    }\n",
              "\n",
              "    .dataframe tbody tr th {\n",
              "        vertical-align: top;\n",
              "    }\n",
              "\n",
              "    .dataframe thead th {\n",
              "        text-align: right;\n",
              "    }\n",
              "</style>\n",
              "<table border=\"1\" class=\"dataframe\">\n",
              "  <thead>\n",
              "    <tr style=\"text-align: right;\">\n",
              "      <th></th>\n",
              "      <th>activity name</th>\n",
              "      <th>text_processed</th>\n",
              "      <th>topic_7</th>\n",
              "      <th>probability_7</th>\n",
              "      <th>lda_7</th>\n",
              "    </tr>\n",
              "  </thead>\n",
              "  <tbody>\n",
              "    <tr>\n",
              "      <th>0</th>\n",
              "      <td>Юмор Мемуары ценителей научных мемов</td>\n",
              "      <td>[юмор, мемуары, ценитель, научный, мем]</td>\n",
              "      <td>5</td>\n",
              "      <td>0.571418</td>\n",
              "      <td>[5, 0.5714184]</td>\n",
              "    </tr>\n",
              "    <tr>\n",
              "      <th>1</th>\n",
              "      <td>Юмор мемгу</td>\n",
              "      <td>[юмор, мемгу]</td>\n",
              "      <td>6</td>\n",
              "      <td>0.142857</td>\n",
              "      <td>[6, 0.14285715]</td>\n",
              "    </tr>\n",
              "    <tr>\n",
              "      <th>2</th>\n",
              "      <td>Финансы Рофлы с Волк Стрит</td>\n",
              "      <td>[финансы, рофл, с, волк, стрит]</td>\n",
              "      <td>2</td>\n",
              "      <td>0.381046</td>\n",
              "      <td>[2, 0.38104576]</td>\n",
              "    </tr>\n",
              "    <tr>\n",
              "      <th>3</th>\n",
              "      <td>Объявления Хабр Карьера</td>\n",
              "      <td>[объявление, хабра, карьера]</td>\n",
              "      <td>1</td>\n",
              "      <td>0.571422</td>\n",
              "      <td>[1, 0.5714224]</td>\n",
              "    </tr>\n",
              "    <tr>\n",
              "      <th>4</th>\n",
              "      <td>Финансы Фиксируем Прибыль</td>\n",
              "      <td>[финансы, фиксировать, прибыль]</td>\n",
              "      <td>2</td>\n",
              "      <td>0.571426</td>\n",
              "      <td>[2, 0.5714262]</td>\n",
              "    </tr>\n",
              "    <tr>\n",
              "      <th>...</th>\n",
              "      <td>...</td>\n",
              "      <td>...</td>\n",
              "      <td>...</td>\n",
              "      <td>...</td>\n",
              "      <td>...</td>\n",
              "    </tr>\n",
              "    <tr>\n",
              "      <th>4295</th>\n",
              "      <td>Городское сообщество ОРЕНБУРГ ОЧЕВИДЕЦ</td>\n",
              "      <td>[городской, сообщество, оренбург, очевидец]</td>\n",
              "      <td>5</td>\n",
              "      <td>0.714284</td>\n",
              "      <td>[5, 0.7142836]</td>\n",
              "    </tr>\n",
              "    <tr>\n",
              "      <th>4296</th>\n",
              "      <td>Книга I N F I N I T Y ?</td>\n",
              "      <td>[книга, i, n, f, i, n, i, t, y]</td>\n",
              "      <td>6</td>\n",
              "      <td>0.571094</td>\n",
              "      <td>[6, 0.5711027]</td>\n",
              "    </tr>\n",
              "    <tr>\n",
              "      <th>4297</th>\n",
              "      <td>Творчество ТФП Оренбург | TFP Orenburg</td>\n",
              "      <td>[творчество, тфп, оренбург, tfp, orenburg]</td>\n",
              "      <td>2</td>\n",
              "      <td>0.571414</td>\n",
              "      <td>[2, 0.57141376]</td>\n",
              "    </tr>\n",
              "    <tr>\n",
              "      <th>4298</th>\n",
              "      <td>Сайты НОВОТРОИЦК</td>\n",
              "      <td>[сайт, новотроицк]</td>\n",
              "      <td>6</td>\n",
              "      <td>0.571425</td>\n",
              "      <td>[6, 0.57142484]</td>\n",
              "    </tr>\n",
              "    <tr>\n",
              "      <th>4299</th>\n",
              "      <td>Юмор Реально смешно</td>\n",
              "      <td>[юмор, реально, смешно]</td>\n",
              "      <td>6</td>\n",
              "      <td>0.142857</td>\n",
              "      <td>[6, 0.14285715]</td>\n",
              "    </tr>\n",
              "  </tbody>\n",
              "</table>\n",
              "<p>4300 rows × 5 columns</p>\n",
              "</div>"
            ],
            "text/plain": [
              "                               activity name  \\\n",
              "0       Юмор Мемуары ценителей научных мемов   \n",
              "1                                 Юмор мемгу   \n",
              "2                 Финансы Рофлы с Волк Стрит   \n",
              "3                    Объявления Хабр Карьера   \n",
              "4                  Финансы Фиксируем Прибыль   \n",
              "...                                      ...   \n",
              "4295  Городское сообщество ОРЕНБУРГ ОЧЕВИДЕЦ   \n",
              "4296                 Книга I N F I N I T Y ?   \n",
              "4297  Творчество ТФП Оренбург | TFP Orenburg   \n",
              "4298                        Сайты НОВОТРОИЦК   \n",
              "4299                     Юмор Реально смешно   \n",
              "\n",
              "                                   text_processed topic_7  probability_7  \\\n",
              "0         [юмор, мемуары, ценитель, научный, мем]       5       0.571418   \n",
              "1                                   [юмор, мемгу]       6       0.142857   \n",
              "2                 [финансы, рофл, с, волк, стрит]       2       0.381046   \n",
              "3                    [объявление, хабра, карьера]       1       0.571422   \n",
              "4                 [финансы, фиксировать, прибыль]       2       0.571426   \n",
              "...                                           ...     ...            ...   \n",
              "4295  [городской, сообщество, оренбург, очевидец]       5       0.714284   \n",
              "4296              [книга, i, n, f, i, n, i, t, y]       6       0.571094   \n",
              "4297   [творчество, тфп, оренбург, tfp, orenburg]       2       0.571414   \n",
              "4298                           [сайт, новотроицк]       6       0.571425   \n",
              "4299                      [юмор, реально, смешно]       6       0.142857   \n",
              "\n",
              "                lda_7  \n",
              "0      [5, 0.5714184]  \n",
              "1     [6, 0.14285715]  \n",
              "2     [2, 0.38104576]  \n",
              "3      [1, 0.5714224]  \n",
              "4      [2, 0.5714262]  \n",
              "...               ...  \n",
              "4295   [5, 0.7142836]  \n",
              "4296   [6, 0.5711027]  \n",
              "4297  [2, 0.57141376]  \n",
              "4298  [6, 0.57142484]  \n",
              "4299  [6, 0.14285715]  \n",
              "\n",
              "[4300 rows x 5 columns]"
            ]
          },
          "execution_count": 80,
          "metadata": {},
          "output_type": "execute_result"
        }
      ],
      "source": [
        "data"
      ]
    },
    {
      "cell_type": "code",
      "execution_count": null,
      "id": "7e1d1d9d",
      "metadata": {
        "id": "7e1d1d9d"
      },
      "outputs": [],
      "source": [
        "# Разнесем вероятность и топик по разным столбцам\n",
        "data[\"topic_7\"] = data[\"lda_7\"].str[0]\n",
        "data[\"probability_7\"] = data[\"lda_7\"].str[1]\n",
        "del data[\"lda_7\"]"
      ]
    },
    {
      "cell_type": "code",
      "execution_count": null,
      "id": "1d9c0587",
      "metadata": {
        "id": "1d9c0587",
        "outputId": "04d051ef-235b-444d-d23c-272e49433110"
      },
      "outputs": [
        {
          "data": {
            "text/html": [
              "<div>\n",
              "<style scoped>\n",
              "    .dataframe tbody tr th:only-of-type {\n",
              "        vertical-align: middle;\n",
              "    }\n",
              "\n",
              "    .dataframe tbody tr th {\n",
              "        vertical-align: top;\n",
              "    }\n",
              "\n",
              "    .dataframe thead th {\n",
              "        text-align: right;\n",
              "    }\n",
              "</style>\n",
              "<table border=\"1\" class=\"dataframe\">\n",
              "  <thead>\n",
              "    <tr style=\"text-align: right;\">\n",
              "      <th></th>\n",
              "      <th>activity name</th>\n",
              "      <th>text_processed</th>\n",
              "      <th>topic_7</th>\n",
              "      <th>probability_7</th>\n",
              "    </tr>\n",
              "  </thead>\n",
              "  <tbody>\n",
              "    <tr>\n",
              "      <th>0</th>\n",
              "      <td>Юмор Мемуары ценителей научных мемов</td>\n",
              "      <td>[юмор, мемуары, ценитель, научный, мем]</td>\n",
              "      <td>5</td>\n",
              "      <td>0.571418</td>\n",
              "    </tr>\n",
              "    <tr>\n",
              "      <th>1</th>\n",
              "      <td>Юмор мемгу</td>\n",
              "      <td>[юмор, мемгу]</td>\n",
              "      <td>6</td>\n",
              "      <td>0.142857</td>\n",
              "    </tr>\n",
              "    <tr>\n",
              "      <th>2</th>\n",
              "      <td>Финансы Рофлы с Волк Стрит</td>\n",
              "      <td>[финансы, рофл, с, волк, стрит]</td>\n",
              "      <td>2</td>\n",
              "      <td>0.381046</td>\n",
              "    </tr>\n",
              "    <tr>\n",
              "      <th>3</th>\n",
              "      <td>Объявления Хабр Карьера</td>\n",
              "      <td>[объявление, хабра, карьера]</td>\n",
              "      <td>1</td>\n",
              "      <td>0.571422</td>\n",
              "    </tr>\n",
              "    <tr>\n",
              "      <th>4</th>\n",
              "      <td>Финансы Фиксируем Прибыль</td>\n",
              "      <td>[финансы, фиксировать, прибыль]</td>\n",
              "      <td>2</td>\n",
              "      <td>0.571426</td>\n",
              "    </tr>\n",
              "    <tr>\n",
              "      <th>...</th>\n",
              "      <td>...</td>\n",
              "      <td>...</td>\n",
              "      <td>...</td>\n",
              "      <td>...</td>\n",
              "    </tr>\n",
              "    <tr>\n",
              "      <th>4295</th>\n",
              "      <td>Городское сообщество ОРЕНБУРГ ОЧЕВИДЕЦ</td>\n",
              "      <td>[городской, сообщество, оренбург, очевидец]</td>\n",
              "      <td>5</td>\n",
              "      <td>0.714284</td>\n",
              "    </tr>\n",
              "    <tr>\n",
              "      <th>4296</th>\n",
              "      <td>Книга I N F I N I T Y ?</td>\n",
              "      <td>[книга, i, n, f, i, n, i, t, y]</td>\n",
              "      <td>6</td>\n",
              "      <td>0.571103</td>\n",
              "    </tr>\n",
              "    <tr>\n",
              "      <th>4297</th>\n",
              "      <td>Творчество ТФП Оренбург | TFP Orenburg</td>\n",
              "      <td>[творчество, тфп, оренбург, tfp, orenburg]</td>\n",
              "      <td>2</td>\n",
              "      <td>0.571414</td>\n",
              "    </tr>\n",
              "    <tr>\n",
              "      <th>4298</th>\n",
              "      <td>Сайты НОВОТРОИЦК</td>\n",
              "      <td>[сайт, новотроицк]</td>\n",
              "      <td>6</td>\n",
              "      <td>0.571425</td>\n",
              "    </tr>\n",
              "    <tr>\n",
              "      <th>4299</th>\n",
              "      <td>Юмор Реально смешно</td>\n",
              "      <td>[юмор, реально, смешно]</td>\n",
              "      <td>6</td>\n",
              "      <td>0.142857</td>\n",
              "    </tr>\n",
              "  </tbody>\n",
              "</table>\n",
              "<p>4300 rows × 4 columns</p>\n",
              "</div>"
            ],
            "text/plain": [
              "                               activity name  \\\n",
              "0       Юмор Мемуары ценителей научных мемов   \n",
              "1                                 Юмор мемгу   \n",
              "2                 Финансы Рофлы с Волк Стрит   \n",
              "3                    Объявления Хабр Карьера   \n",
              "4                  Финансы Фиксируем Прибыль   \n",
              "...                                      ...   \n",
              "4295  Городское сообщество ОРЕНБУРГ ОЧЕВИДЕЦ   \n",
              "4296                 Книга I N F I N I T Y ?   \n",
              "4297  Творчество ТФП Оренбург | TFP Orenburg   \n",
              "4298                        Сайты НОВОТРОИЦК   \n",
              "4299                     Юмор Реально смешно   \n",
              "\n",
              "                                   text_processed topic_7  probability_7  \n",
              "0         [юмор, мемуары, ценитель, научный, мем]       5       0.571418  \n",
              "1                                   [юмор, мемгу]       6       0.142857  \n",
              "2                 [финансы, рофл, с, волк, стрит]       2       0.381046  \n",
              "3                    [объявление, хабра, карьера]       1       0.571422  \n",
              "4                 [финансы, фиксировать, прибыль]       2       0.571426  \n",
              "...                                           ...     ...            ...  \n",
              "4295  [городской, сообщество, оренбург, очевидец]       5       0.714284  \n",
              "4296              [книга, i, n, f, i, n, i, t, y]       6       0.571103  \n",
              "4297   [творчество, тфп, оренбург, tfp, orenburg]       2       0.571414  \n",
              "4298                           [сайт, новотроицк]       6       0.571425  \n",
              "4299                      [юмор, реально, смешно]       6       0.142857  \n",
              "\n",
              "[4300 rows x 4 columns]"
            ]
          },
          "execution_count": 82,
          "metadata": {},
          "output_type": "execute_result"
        }
      ],
      "source": [
        "data"
      ]
    },
    {
      "cell_type": "code",
      "execution_count": null,
      "id": "cedbc0ae",
      "metadata": {
        "id": "cedbc0ae"
      },
      "outputs": [],
      "source": []
    },
    {
      "cell_type": "code",
      "execution_count": null,
      "id": "cdba47bf",
      "metadata": {
        "id": "cdba47bf"
      },
      "outputs": [],
      "source": []
    }
  ],
  "metadata": {
    "kernelspec": {
      "display_name": "Python 3",
      "language": "python",
      "name": "python3"
    },
    "language_info": {
      "codemirror_mode": {
        "name": "ipython",
        "version": 3
      },
      "file_extension": ".py",
      "mimetype": "text/x-python",
      "name": "python",
      "nbconvert_exporter": "python",
      "pygments_lexer": "ipython3",
      "version": "3.8.8"
    },
    "colab": {
      "provenance": []
    }
  },
  "nbformat": 4,
  "nbformat_minor": 5
}