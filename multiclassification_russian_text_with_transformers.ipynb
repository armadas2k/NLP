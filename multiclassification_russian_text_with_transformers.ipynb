{
  "cells": [
    {
      "cell_type": "markdown",
      "source": [
        "# Выполнил Евгений Гузеев"
      ],
      "metadata": {
        "id": "VtKYK6WHDG26"
      },
      "id": "VtKYK6WHDG26"
    },
    {
      "cell_type": "code",
      "source": [
        "# Загрузим данные\n",
        "# https://drive.google.com/file/d/1LBEZdnInnjnjqLvUAbG-QqiVd2J-unQy/view?usp=share_link\n",
        "! gdown --id 1LBEZdnInnjnjqLvUAbG-QqiVd2J-unQy"
      ],
      "metadata": {
        "colab": {
          "base_uri": "https://localhost:8080/"
        },
        "id": "QirhEZosC6TE",
        "outputId": "298fd3a6-e353-415d-f2a2-6a1148520d1c"
      },
      "id": "QirhEZosC6TE",
      "execution_count": 1,
      "outputs": [
        {
          "output_type": "stream",
          "name": "stdout",
          "text": [
            "/usr/local/lib/python3.10/dist-packages/gdown/cli.py:121: FutureWarning: Option `--id` was deprecated in version 4.3.1 and will be removed in 5.0. You don't need to pass it anymore to use a file ID.\n",
            "  warnings.warn(\n",
            "Downloading...\n",
            "From: https://drive.google.com/uc?id=1LBEZdnInnjnjqLvUAbG-QqiVd2J-unQy\n",
            "To: /content/fbert.csv\n",
            "100% 2.16M/2.16M [00:00<00:00, 203MB/s]\n"
          ]
        }
      ]
    },
    {
      "cell_type": "code",
      "execution_count": 3,
      "id": "cd364c93",
      "metadata": {
        "id": "cd364c93"
      },
      "outputs": [],
      "source": [
        "import torch\n",
        "from torch.utils.data import TensorDataset, DataLoader, RandomSampler, SequentialSampler\n",
        "#from keras.preprocessing.sequence import pad_sequences\n",
        "from sklearn.model_selection import train_test_split\n",
        "#from pytorch_pretrained_bert import BertTokenizer, BertConfig\n",
        "#from pytorch_pretrained_bert import BertAdam, BertForSequenceClassification\n",
        "from tqdm import tqdm, trange\n",
        "import pandas as pd\n",
        "import io\n",
        "import numpy as np\n",
        "import matplotlib.pyplot as plt\n"
      ]
    },
    {
      "cell_type": "code",
      "execution_count": 4,
      "id": "e1757ef1",
      "metadata": {
        "colab": {
          "base_uri": "https://localhost:8080/",
          "height": 35
        },
        "id": "e1757ef1",
        "outputId": "2cf1bbf7-b3c5-4600-a0aa-1d078cb8575d"
      },
      "outputs": [
        {
          "output_type": "execute_result",
          "data": {
            "text/plain": [
              "'Tesla T4'"
            ],
            "application/vnd.google.colaboratory.intrinsic+json": {
              "type": "string"
            }
          },
          "metadata": {},
          "execution_count": 4
        }
      ],
      "source": [
        "device = torch.device(\"cuda\" if torch.cuda.is_available() else \"cpu\")\n",
        "n_gpu = torch.cuda.device_count()\n",
        "torch.cuda.get_device_name(0)"
      ]
    },
    {
      "cell_type": "code",
      "execution_count": null,
      "id": "1873f9ba",
      "metadata": {
        "id": "1873f9ba"
      },
      "outputs": [],
      "source": [
        "#device = torch.device('cpu')"
      ]
    },
    {
      "cell_type": "code",
      "source": [
        "!pip install transformers"
      ],
      "metadata": {
        "colab": {
          "base_uri": "https://localhost:8080/"
        },
        "id": "kJ9N0MvJD8Zd",
        "outputId": "c6aa4ef9-284b-4ded-cdfa-563a6a597bdb"
      },
      "id": "kJ9N0MvJD8Zd",
      "execution_count": 5,
      "outputs": [
        {
          "output_type": "stream",
          "name": "stdout",
          "text": [
            "Looking in indexes: https://pypi.org/simple, https://us-python.pkg.dev/colab-wheels/public/simple/\n",
            "Collecting transformers\n",
            "  Downloading transformers-4.30.2-py3-none-any.whl (7.2 MB)\n",
            "\u001b[2K     \u001b[90m━━━━━━━━━━━━━━━━━━━━━━━━━━━━━━━━━━━━━━━━\u001b[0m \u001b[32m7.2/7.2 MB\u001b[0m \u001b[31m66.4 MB/s\u001b[0m eta \u001b[36m0:00:00\u001b[0m\n",
            "\u001b[?25hRequirement already satisfied: filelock in /usr/local/lib/python3.10/dist-packages (from transformers) (3.12.0)\n",
            "Collecting huggingface-hub<1.0,>=0.14.1 (from transformers)\n",
            "  Downloading huggingface_hub-0.15.1-py3-none-any.whl (236 kB)\n",
            "\u001b[2K     \u001b[90m━━━━━━━━━━━━━━━━━━━━━━━━━━━━━━━━━━━━━━\u001b[0m \u001b[32m236.8/236.8 kB\u001b[0m \u001b[31m22.1 MB/s\u001b[0m eta \u001b[36m0:00:00\u001b[0m\n",
            "\u001b[?25hRequirement already satisfied: numpy>=1.17 in /usr/local/lib/python3.10/dist-packages (from transformers) (1.22.4)\n",
            "Requirement already satisfied: packaging>=20.0 in /usr/local/lib/python3.10/dist-packages (from transformers) (23.1)\n",
            "Requirement already satisfied: pyyaml>=5.1 in /usr/local/lib/python3.10/dist-packages (from transformers) (6.0)\n",
            "Requirement already satisfied: regex!=2019.12.17 in /usr/local/lib/python3.10/dist-packages (from transformers) (2022.10.31)\n",
            "Requirement already satisfied: requests in /usr/local/lib/python3.10/dist-packages (from transformers) (2.27.1)\n",
            "Collecting tokenizers!=0.11.3,<0.14,>=0.11.1 (from transformers)\n",
            "  Downloading tokenizers-0.13.3-cp310-cp310-manylinux_2_17_x86_64.manylinux2014_x86_64.whl (7.8 MB)\n",
            "\u001b[2K     \u001b[90m━━━━━━━━━━━━━━━━━━━━━━━━━━━━━━━━━━━━━━━━\u001b[0m \u001b[32m7.8/7.8 MB\u001b[0m \u001b[31m123.3 MB/s\u001b[0m eta \u001b[36m0:00:00\u001b[0m\n",
            "\u001b[?25hCollecting safetensors>=0.3.1 (from transformers)\n",
            "  Downloading safetensors-0.3.1-cp310-cp310-manylinux_2_17_x86_64.manylinux2014_x86_64.whl (1.3 MB)\n",
            "\u001b[2K     \u001b[90m━━━━━━━━━━━━━━━━━━━━━━━━━━━━━━━━━━━━━━━━\u001b[0m \u001b[32m1.3/1.3 MB\u001b[0m \u001b[31m79.6 MB/s\u001b[0m eta \u001b[36m0:00:00\u001b[0m\n",
            "\u001b[?25hRequirement already satisfied: tqdm>=4.27 in /usr/local/lib/python3.10/dist-packages (from transformers) (4.65.0)\n",
            "Requirement already satisfied: fsspec in /usr/local/lib/python3.10/dist-packages (from huggingface-hub<1.0,>=0.14.1->transformers) (2023.4.0)\n",
            "Requirement already satisfied: typing-extensions>=3.7.4.3 in /usr/local/lib/python3.10/dist-packages (from huggingface-hub<1.0,>=0.14.1->transformers) (4.5.0)\n",
            "Requirement already satisfied: urllib3<1.27,>=1.21.1 in /usr/local/lib/python3.10/dist-packages (from requests->transformers) (1.26.15)\n",
            "Requirement already satisfied: certifi>=2017.4.17 in /usr/local/lib/python3.10/dist-packages (from requests->transformers) (2022.12.7)\n",
            "Requirement already satisfied: charset-normalizer~=2.0.0 in /usr/local/lib/python3.10/dist-packages (from requests->transformers) (2.0.12)\n",
            "Requirement already satisfied: idna<4,>=2.5 in /usr/local/lib/python3.10/dist-packages (from requests->transformers) (3.4)\n",
            "Installing collected packages: tokenizers, safetensors, huggingface-hub, transformers\n",
            "Successfully installed huggingface-hub-0.15.1 safetensors-0.3.1 tokenizers-0.13.3 transformers-4.30.2\n"
          ]
        }
      ]
    },
    {
      "cell_type": "code",
      "execution_count": 6,
      "id": "b78e5b30",
      "metadata": {
        "id": "b78e5b30"
      },
      "outputs": [],
      "source": [
        "from transformers import BertTokenizer"
      ]
    },
    {
      "cell_type": "markdown",
      "id": "ea649e53",
      "metadata": {
        "id": "ea649e53"
      },
      "source": [
        "## Загрузка Датасета"
      ]
    },
    {
      "cell_type": "code",
      "execution_count": 7,
      "id": "34ea2870",
      "metadata": {
        "colab": {
          "base_uri": "https://localhost:8080/",
          "height": 206
        },
        "id": "34ea2870",
        "outputId": "5495f95f-d292-4dad-8dea-edd2fb517b13"
      },
      "outputs": [
        {
          "output_type": "execute_result",
          "data": {
            "text/plain": [
              "                                           processed  target\n",
              "0  присылать анекдот предложить новость группа ре...       0\n",
              "1  познавательный мем широкий охват уникальный ид...       0\n",
              "2  хабра q a ответ любой тема it участник сообщес...       3\n",
              "3  официальный канал сервис рбк инвестиция заботи...       2\n",
              "4  помогать новичок веб разработчик опытный прогр...       3"
            ],
            "text/html": [
              "\n",
              "  <div id=\"df-78ab7ed0-a561-4ec4-93d5-14e7c52d246e\">\n",
              "    <div class=\"colab-df-container\">\n",
              "      <div>\n",
              "<style scoped>\n",
              "    .dataframe tbody tr th:only-of-type {\n",
              "        vertical-align: middle;\n",
              "    }\n",
              "\n",
              "    .dataframe tbody tr th {\n",
              "        vertical-align: top;\n",
              "    }\n",
              "\n",
              "    .dataframe thead th {\n",
              "        text-align: right;\n",
              "    }\n",
              "</style>\n",
              "<table border=\"1\" class=\"dataframe\">\n",
              "  <thead>\n",
              "    <tr style=\"text-align: right;\">\n",
              "      <th></th>\n",
              "      <th>processed</th>\n",
              "      <th>target</th>\n",
              "    </tr>\n",
              "  </thead>\n",
              "  <tbody>\n",
              "    <tr>\n",
              "      <th>0</th>\n",
              "      <td>присылать анекдот предложить новость группа ре...</td>\n",
              "      <td>0</td>\n",
              "    </tr>\n",
              "    <tr>\n",
              "      <th>1</th>\n",
              "      <td>познавательный мем широкий охват уникальный ид...</td>\n",
              "      <td>0</td>\n",
              "    </tr>\n",
              "    <tr>\n",
              "      <th>2</th>\n",
              "      <td>хабра q a ответ любой тема it участник сообщес...</td>\n",
              "      <td>3</td>\n",
              "    </tr>\n",
              "    <tr>\n",
              "      <th>3</th>\n",
              "      <td>официальный канал сервис рбк инвестиция заботи...</td>\n",
              "      <td>2</td>\n",
              "    </tr>\n",
              "    <tr>\n",
              "      <th>4</th>\n",
              "      <td>помогать новичок веб разработчик опытный прогр...</td>\n",
              "      <td>3</td>\n",
              "    </tr>\n",
              "  </tbody>\n",
              "</table>\n",
              "</div>\n",
              "      <button class=\"colab-df-convert\" onclick=\"convertToInteractive('df-78ab7ed0-a561-4ec4-93d5-14e7c52d246e')\"\n",
              "              title=\"Convert this dataframe to an interactive table.\"\n",
              "              style=\"display:none;\">\n",
              "        \n",
              "  <svg xmlns=\"http://www.w3.org/2000/svg\" height=\"24px\"viewBox=\"0 0 24 24\"\n",
              "       width=\"24px\">\n",
              "    <path d=\"M0 0h24v24H0V0z\" fill=\"none\"/>\n",
              "    <path d=\"M18.56 5.44l.94 2.06.94-2.06 2.06-.94-2.06-.94-.94-2.06-.94 2.06-2.06.94zm-11 1L8.5 8.5l.94-2.06 2.06-.94-2.06-.94L8.5 2.5l-.94 2.06-2.06.94zm10 10l.94 2.06.94-2.06 2.06-.94-2.06-.94-.94-2.06-.94 2.06-2.06.94z\"/><path d=\"M17.41 7.96l-1.37-1.37c-.4-.4-.92-.59-1.43-.59-.52 0-1.04.2-1.43.59L10.3 9.45l-7.72 7.72c-.78.78-.78 2.05 0 2.83L4 21.41c.39.39.9.59 1.41.59.51 0 1.02-.2 1.41-.59l7.78-7.78 2.81-2.81c.8-.78.8-2.07 0-2.86zM5.41 20L4 18.59l7.72-7.72 1.47 1.35L5.41 20z\"/>\n",
              "  </svg>\n",
              "      </button>\n",
              "      \n",
              "  <style>\n",
              "    .colab-df-container {\n",
              "      display:flex;\n",
              "      flex-wrap:wrap;\n",
              "      gap: 12px;\n",
              "    }\n",
              "\n",
              "    .colab-df-convert {\n",
              "      background-color: #E8F0FE;\n",
              "      border: none;\n",
              "      border-radius: 50%;\n",
              "      cursor: pointer;\n",
              "      display: none;\n",
              "      fill: #1967D2;\n",
              "      height: 32px;\n",
              "      padding: 0 0 0 0;\n",
              "      width: 32px;\n",
              "    }\n",
              "\n",
              "    .colab-df-convert:hover {\n",
              "      background-color: #E2EBFA;\n",
              "      box-shadow: 0px 1px 2px rgba(60, 64, 67, 0.3), 0px 1px 3px 1px rgba(60, 64, 67, 0.15);\n",
              "      fill: #174EA6;\n",
              "    }\n",
              "\n",
              "    [theme=dark] .colab-df-convert {\n",
              "      background-color: #3B4455;\n",
              "      fill: #D2E3FC;\n",
              "    }\n",
              "\n",
              "    [theme=dark] .colab-df-convert:hover {\n",
              "      background-color: #434B5C;\n",
              "      box-shadow: 0px 1px 3px 1px rgba(0, 0, 0, 0.15);\n",
              "      filter: drop-shadow(0px 1px 2px rgba(0, 0, 0, 0.3));\n",
              "      fill: #FFFFFF;\n",
              "    }\n",
              "  </style>\n",
              "\n",
              "      <script>\n",
              "        const buttonEl =\n",
              "          document.querySelector('#df-78ab7ed0-a561-4ec4-93d5-14e7c52d246e button.colab-df-convert');\n",
              "        buttonEl.style.display =\n",
              "          google.colab.kernel.accessAllowed ? 'block' : 'none';\n",
              "\n",
              "        async function convertToInteractive(key) {\n",
              "          const element = document.querySelector('#df-78ab7ed0-a561-4ec4-93d5-14e7c52d246e');\n",
              "          const dataTable =\n",
              "            await google.colab.kernel.invokeFunction('convertToInteractive',\n",
              "                                                     [key], {});\n",
              "          if (!dataTable) return;\n",
              "\n",
              "          const docLinkHtml = 'Like what you see? Visit the ' +\n",
              "            '<a target=\"_blank\" href=https://colab.research.google.com/notebooks/data_table.ipynb>data table notebook</a>'\n",
              "            + ' to learn more about interactive tables.';\n",
              "          element.innerHTML = '';\n",
              "          dataTable['output_type'] = 'display_data';\n",
              "          await google.colab.output.renderOutput(dataTable, element);\n",
              "          const docLink = document.createElement('div');\n",
              "          docLink.innerHTML = docLinkHtml;\n",
              "          element.appendChild(docLink);\n",
              "        }\n",
              "      </script>\n",
              "    </div>\n",
              "  </div>\n",
              "  "
            ]
          },
          "metadata": {},
          "execution_count": 7
        }
      ],
      "source": [
        "df = pd.read_csv('fbert.csv')\n",
        "# Заменим классы на 0, 1, 2, 3\n",
        "df['target'] = df['target'].replace([1, 2, 3, 4], [0, 1, 2, 3])\n",
        "df.head(5)"
      ]
    },
    {
      "cell_type": "code",
      "execution_count": 8,
      "id": "d0b59e00",
      "metadata": {
        "id": "d0b59e00"
      },
      "outputs": [],
      "source": [
        "# Create sentence and label lists\n",
        "sentences = df.processed.values\n",
        "labels = df.target.values\n",
        "# We need to add special tokens at the beginning and end of each sentence for BERT to work properly\n",
        "#sentences = [\"[CLS] \" + sentence + \" [SEP]\" for sentence in sentences]\n"
      ]
    },
    {
      "cell_type": "markdown",
      "id": "fc00a688",
      "metadata": {
        "id": "fc00a688"
      },
      "source": [
        "## Inputs"
      ]
    },
    {
      "cell_type": "markdown",
      "id": "88e9bc8b",
      "metadata": {
        "id": "88e9bc8b"
      },
      "source": [
        "Next, import the BERT tokenizer, used to convert our text into tokens that correspond to BERT's vocabulary."
      ]
    },
    {
      "cell_type": "code",
      "execution_count": 9,
      "id": "90b796fd",
      "metadata": {
        "colab": {
          "base_uri": "https://localhost:8080/",
          "height": 113,
          "referenced_widgets": [
            "a2aa5a704955426096b76d3167ac44b1",
            "cc376ac1138a45dfa4d7dcf4efbd355a",
            "feeadf4b72904161a1df8625418d56fa",
            "58f92e095e3b4c33ac85ea2cf97b1bc5",
            "85f3f5588a6348a1b62da9a2b1f2ac7c",
            "51e23a5aa1334572ba2027d59b9d5238",
            "d577b24e88ca40958325a43357a22fa8",
            "3c1dce983aea4034b9b8f0cd06b08912",
            "af053030ab2d43efab74612fd1e73198",
            "d67ca81a3a8847bca83911a7447171eb",
            "3e4210c65e4c49d6aed7b767a2741a5c",
            "4b69b530be9e4831b4d471776c23bd02",
            "d617bfe3dea84294a1c2783c514ae77f",
            "810c32ed47bb48b3b56f6da6d71b87aa",
            "3fec23b712764988851a88c684800425",
            "40f7a0c3a78040fba716a5d1a013dd74",
            "2898d71575ba437b94993157a1e71b5e",
            "aed8417db9e14c2ea56dd8b37cc57237",
            "93af538f9e4148bfbf24578d2261e350",
            "88cf7a201a064143b013f1aeef1bd35e",
            "c0432596ad9b4c1fba25e282f4155f0c",
            "a0a712d6e5b4422082d4c3c11eb4bd40",
            "73ba40ce8eea49bbb0dbed6943c12a7c",
            "5c363c211f6f4813b67cbb290dfe5a05",
            "c4a8952f2d914aaea7309f68fba57fe7",
            "0cfb4a84f67a41b7903a167a5a7e102a",
            "0223747561fa4d178b04211491ae38c7",
            "59f52cac80954d4ca77cdfffb7bca65f",
            "7ecf5906c6df4b78b32ed987e79e43f0",
            "23db37a162fb4cbe813019f89efb3ab7",
            "9f08b43fa9ae4f16b8a8df4b71aaa38a",
            "a02babe350374efa8559265e628e6e5b",
            "d489bd3447d749f7911922a4caee452b"
          ]
        },
        "id": "90b796fd",
        "outputId": "6ed1afcb-eacf-4d0b-bbdd-eefeef35891d"
      },
      "outputs": [
        {
          "output_type": "display_data",
          "data": {
            "text/plain": [
              "Downloading (…)solve/main/vocab.txt:   0%|          | 0.00/1.08M [00:00<?, ?B/s]"
            ],
            "application/vnd.jupyter.widget-view+json": {
              "version_major": 2,
              "version_minor": 0,
              "model_id": "a2aa5a704955426096b76d3167ac44b1"
            }
          },
          "metadata": {}
        },
        {
          "output_type": "display_data",
          "data": {
            "text/plain": [
              "Downloading (…)cial_tokens_map.json:   0%|          | 0.00/112 [00:00<?, ?B/s]"
            ],
            "application/vnd.jupyter.widget-view+json": {
              "version_major": 2,
              "version_minor": 0,
              "model_id": "4b69b530be9e4831b4d471776c23bd02"
            }
          },
          "metadata": {}
        },
        {
          "output_type": "display_data",
          "data": {
            "text/plain": [
              "Downloading (…)okenizer_config.json:   0%|          | 0.00/401 [00:00<?, ?B/s]"
            ],
            "application/vnd.jupyter.widget-view+json": {
              "version_major": 2,
              "version_minor": 0,
              "model_id": "73ba40ce8eea49bbb0dbed6943c12a7c"
            }
          },
          "metadata": {}
        }
      ],
      "source": [
        "tokenizer = BertTokenizer.from_pretrained('cointegrated/rubert-tiny2', do_lower_case=True)\n",
        "#rubert_based_cased_sentence/\n",
        "#cointegrated/rubert-tiny2\n"
      ]
    },
    {
      "cell_type": "markdown",
      "id": "eea10ca1",
      "metadata": {
        "id": "eea10ca1"
      },
      "source": [
        "Применим  токенизатор к одному предложению и посмотрим что получится"
      ]
    },
    {
      "cell_type": "code",
      "execution_count": null,
      "id": "e2456aec",
      "metadata": {
        "colab": {
          "base_uri": "https://localhost:8080/"
        },
        "id": "e2456aec",
        "outputId": "08a432dd-3fdb-42a4-9e60-a8919ee65489"
      },
      "outputs": [
        {
          "output_type": "stream",
          "name": "stdout",
          "text": [
            "Оригинальный текст \n",
            "\n",
            "присылать анекдот предложить новость группа результат коллективный творчество участник практически анекдот подписчик вкус разный известно спорить лицо тонкий возвышенный вкус некоторый анекдот понравиться баян пояс проч пусть считать надоесть реклама хотеть шикарный анекдот слать шикарный группа включн казнный фильтр нецензурный выражение писать сообщение сообщество вопрос повод пост направлять автор всякий род нарушение порядок комментарий спам проч жаловаться право верхний угол каждый пост крестик юмор азохнвеять бесплатный щикарный анекдот\n",
            "Токенизированный текст \n",
            "\n",
            "['присы', '##лать', 'анекдот', 'предложить', 'новость', 'группа', 'результат', 'коллектив', '##ны', '##и', 'творчество', 'участник', 'практически', 'анекдот', 'подпис', '##чик', 'вкус', 'раз', '##ны', '##и', 'известно', 'спорить', 'лицо', 'тонки', '##и', 'возвыш', '##енны', '##и', 'вкус', 'некото', '##ры', '##и', 'анекдот', 'понравиться', 'ба', '##ян', 'пояс', 'проч', 'пусть', 'считать', 'надое', '##сть', 'реклама', 'хот', '##еть', 'шикар', '##ны', '##и', 'анекдот', 'сл', '##ать', 'шикар', '##ны', '##и', 'группа', 'вклю', '##ч', '##н', 'каз', '##нны', '##и', 'фильтр', 'нецензу', '##рны', '##и', 'выражение', 'писать', 'сообщение', 'сообщество', 'вопрос', 'повод', 'пост', 'направлять', 'автор', 'вся', '##кии', 'род', 'нарушение', 'порядок', 'комментарии', 'спам', 'проч', 'жаловаться', 'право', 'верх', '##нии', 'угол', 'кажды', '##и', 'пост', 'крест', '##ик', 'юмор', 'аз', '##ох', '##н', '##ве', '##ять', 'бесплат', '##ны', '##и', 'щ', '##ика', '##рны', '##и', 'анекдот']\n",
            "Токен id \n",
            "\n",
            " [44871, 35104, 48270, 35095, 30635, 7173, 16861, 30140, 1385, 613, 28076, 13302, 11781, 48270, 31224, 7894, 32946, 4495, 1385, 613, 12923, 50288, 28910, 33425, 613, 35398, 78853, 613, 32946, 30575, 2556, 613, 48270, 71366, 2692, 5290, 29991, 37561, 31001, 31065, 39132, 2242, 38187, 27211, 13949, 42626, 1385, 613, 48270, 16410, 4963, 42626, 1385, 613, 7173, 30496, 1669, 679, 18766, 25615, 613, 46062, 66453, 37699, 613, 36087, 31621, 28068, 35662, 17959, 35253, 10513, 51874, 7409, 21662, 59338, 4623, 32030, 22042, 34026, 65276, 37561, 54610, 5771, 30332, 4483, 29782, 30879, 613, 10513, 25486, 3126, 56752, 2625, 16255, 679, 3003, 5808, 30070, 1385, 613, 337, 3544, 37699, 613, 48270]\n"
          ]
        }
      ],
      "source": [
        "print(f'Оригинальный текст \\n\\n{sentences[0]}')\n",
        "\n",
        "# Выведем токенизированное предложение\n",
        "print(f'Токенизированный текст \\n\\n{tokenizer.tokenize(sentences[0])}')\n",
        "\n",
        "# Выведем id токенов\n",
        "print(f'Токен id \\n\\n {tokenizer.convert_tokens_to_ids(tokenizer.tokenize(sentences[0]))}')"
      ]
    },
    {
      "cell_type": "markdown",
      "id": "ebbe57f8",
      "metadata": {
        "id": "ebbe57f8"
      },
      "source": [
        "### Required Formatting\n",
        "\n",
        "1. Добавить специальные токены начала и конца предложения.\n",
        "2. Дополнить и усечь предложения одной длины.\n",
        "3. В явном виде отделить реальные токены от padding-токенов с помощью `attention-mask`"
      ]
    },
    {
      "cell_type": "markdown",
      "id": "e6a3d1a8",
      "metadata": {
        "id": "e6a3d1a8"
      },
      "source": [
        "#### Специальные токены\n",
        "\n",
        "`[SEP]`\n",
        "В конце каждого предложения необходимо добавить специальный токен `[SEP]`\n",
        "\n",
        "`[CLS]`\n",
        "Для задач классиифкации в начале каждого предложения необходимо добавить токен `[CLS]`\n"
      ]
    },
    {
      "cell_type": "markdown",
      "id": "c291c8a9",
      "metadata": {
        "id": "c291c8a9"
      },
      "source": [
        "### Длина предложения и Attention Mask"
      ]
    },
    {
      "cell_type": "markdown",
      "id": "29d51caa",
      "metadata": {
        "id": "29d51caa"
      },
      "source": [
        "Тексты в датасете имеют разную длину.\n",
        "\n",
        "BERT имеет ограничения на входные предложения:\n",
        "\n",
        "    1. Все предложения должны иметь одинаковую длину.\n",
        "    2. Максимальная допустимая длина предложений 512 токенов\n",
        "\n",
        "Для паддинга используется специальный токен  `[PAD]` с индексом 0 в словаре BERT'a\n",
        "\n",
        "`[PAD]` токен добавляется для того чтобы сделать все предложения одной длины"
      ]
    },
    {
      "cell_type": "markdown",
      "id": "e3147f2c",
      "metadata": {
        "id": "e3147f2c"
      },
      "source": [
        "### Токенизация данных\n",
        "\n",
        "В библиотеке `transformers` есть функция `encode`, с помощью, которой удобно токенизировать предложения.\n",
        "\n",
        "Но перед тем, как закодировать текст, найдем максимальную длину предложений."
      ]
    },
    {
      "cell_type": "code",
      "execution_count": null,
      "id": "97b4c578",
      "metadata": {
        "colab": {
          "base_uri": "https://localhost:8080/"
        },
        "id": "97b4c578",
        "outputId": "e3eb6cdf-c97e-4f1b-ba9d-904591db640f"
      },
      "outputs": [
        {
          "output_type": "stream",
          "name": "stdout",
          "text": [
            "Максимальная длина предложения составляет:   980\n"
          ]
        }
      ],
      "source": [
        "max_len = 0\n",
        "\n",
        "# Циклом пробегаемся по каждому тексту\n",
        "for sent in sentences:\n",
        "    # Добавляем специальные токены [CLS] и [SEP]\n",
        "    input_ids = tokenizer.encode(sent, add_special_tokens = True)\n",
        "    # Обновляем максимальную длину предложения\n",
        "    max_len = max(max_len, len(input_ids))\n",
        "\n",
        "print(f'Максимальная длина предложения составляет:   {max_len}')"
      ]
    },
    {
      "cell_type": "markdown",
      "id": "e2c838f8",
      "metadata": {
        "id": "e2c838f8"
      },
      "source": [
        "### Усечем все предложения до длины 250\n",
        "\n",
        "Все готово для токенизации.\n",
        "\n",
        "Применим функцию `tokenizer.encode_plus` , которая выполнит необходимые шаги:\n",
        "   1. Разобьет предложения на токены.\n",
        "   2. Добавит специальные токены [CLS] и [SEP]\n",
        "   3. Заменит токены на их ID\n",
        "   4. Приведет все предложения к одной длине - max_len\n",
        "   5. Создаст atention_mask"
      ]
    },
    {
      "cell_type": "code",
      "execution_count": null,
      "id": "49fa0cfc",
      "metadata": {
        "colab": {
          "base_uri": "https://localhost:8080/"
        },
        "id": "49fa0cfc",
        "outputId": "07f02bd9-8c8b-415d-9f0f-51c02ae55cec"
      },
      "outputs": [
        {
          "output_type": "stream",
          "name": "stderr",
          "text": [
            "/usr/local/lib/python3.9/dist-packages/transformers/tokenization_utils_base.py:2346: FutureWarning: The `pad_to_max_length` argument is deprecated and will be removed in a future version, use `padding=True` or `padding='longest'` to pad to the longest sequence in the batch, or use `padding='max_length'` to pad to a max length. In this case, you can give a specific length with `max_length` (e.g. `max_length=45`) or leave max_length to None to pad to the maximal input size of the model (e.g. 512 for Bert).\n",
            "  warnings.warn(\n",
            "<ipython-input-26-97b389fc9efe>:20: UserWarning: To copy construct from a tensor, it is recommended to use sourceTensor.clone().detach() or sourceTensor.clone().detach().requires_grad_(True), rather than torch.tensor(sourceTensor).\n",
            "  labels = torch.tensor(labels)\n"
          ]
        }
      ],
      "source": [
        "# Разобьем все на токены\n",
        "input_ids = []\n",
        "attention_masks = []\n",
        "\n",
        "for sent in sentences:\n",
        "    encoded_dict = tokenizer.encode_plus(\n",
        "                    sent,\n",
        "                    add_special_tokens=True,            # Добавляем токены\n",
        "                    max_length = 512,                   # Ограничиваем длину\n",
        "                     pad_to_max_length = True,          # Заменяем пустоты [PAD]\n",
        "                    return_attention_mask = True,       # Создаем маску\n",
        "                    return_tensors = 'pt'               # Возвращаем  тензоры pytorch\n",
        "                   )\n",
        "    input_ids.append(encoded_dict['input_ids'])\n",
        "    attention_masks.append(encoded_dict['attention_mask'])\n",
        "\n",
        "# Конвертируем список тензоров\n",
        "input_ids = torch.cat(input_ids, dim=0)\n",
        "attention_masks = torch.cat(attention_masks, dim=0)\n",
        "labels = torch.tensor(labels)"
      ]
    },
    {
      "cell_type": "code",
      "execution_count": null,
      "id": "5694d420",
      "metadata": {
        "id": "5694d420",
        "outputId": "5be4763d-2a79-4873-baf0-f9ee29d1e54f",
        "colab": {
          "base_uri": "https://localhost:8080/"
        }
      },
      "outputs": [
        {
          "output_type": "execute_result",
          "data": {
            "text/plain": [
              "tensor([[    2, 44871, 35104,  ...,     0,     0,     0],\n",
              "        [    2, 48796,  1385,  ...,     0,     0,     0],\n",
              "        [    2, 60090,  1232,  ...,     0,     0,     0],\n",
              "        ...,\n",
              "        [    2, 62777, 59661,  ...,     3,     0,     0],\n",
              "        [    2, 12458, 43093,  ..., 38408,   705,     3],\n",
              "        [    2, 53570,  3126,  ...,     0,     0,     0]])"
            ]
          },
          "metadata": {},
          "execution_count": 13
        }
      ],
      "source": [
        "input_ids"
      ]
    },
    {
      "cell_type": "code",
      "execution_count": null,
      "id": "7f0179e2",
      "metadata": {
        "colab": {
          "base_uri": "https://localhost:8080/"
        },
        "id": "7f0179e2",
        "outputId": "647d8a3d-89de-4738-d413-cf3c74e3aed0"
      },
      "outputs": [
        {
          "output_type": "stream",
          "name": "stdout",
          "text": [
            "train содержит 3055 записей\n",
            "test содержит 1310 записей\n"
          ]
        }
      ],
      "source": [
        "# Разбиваем на train и валидационный датасет\n",
        "from torch.utils.data import TensorDataset, random_split\n",
        "\n",
        "dataset = TensorDataset(input_ids, attention_masks, labels)\n",
        "\n",
        "train_size = int(0.7 * len(dataset))\n",
        "val_size = len(dataset) - train_size\n",
        "\n",
        "train_dataset, val_dataset = random_split(dataset, [train_size, val_size])\n",
        "\n",
        "print(f'train содержит {train_size} записей')\n",
        "print(f'test содержит {val_size} записей')"
      ]
    },
    {
      "cell_type": "markdown",
      "id": "744e44ff",
      "metadata": {
        "id": "744e44ff"
      },
      "source": [
        "#### Также создадим итератор с использованием класса `DataLoader` из библиотеки torch"
      ]
    },
    {
      "cell_type": "code",
      "execution_count": null,
      "id": "f4ee138b",
      "metadata": {
        "id": "f4ee138b"
      },
      "outputs": [],
      "source": [
        "from torch.utils.data import DataLoader, RandomSampler, SequentialSampler\n",
        "\n",
        "# Даталоадеру необходимо знать количество батчей\n",
        "# Для текстовых задач рекомендуется небольшре количество батчей\n",
        "batch_size = 64\n",
        "\n",
        "# Создаем dataloader из train и val\n",
        "train_dataloader = DataLoader(\n",
        "            train_dataset,\n",
        "            sampler = RandomSampler(train_dataset), # при обучении батчи выбираются случайным образом\n",
        "            batch_size = batch_size\n",
        "        )\n",
        "\n",
        "validation_dataloader = DataLoader(\n",
        "            val_dataset,\n",
        "            sampler = RandomSampler(val_dataset),\n",
        "            batch_size = batch_size\n",
        "        )"
      ]
    },
    {
      "cell_type": "markdown",
      "id": "2a25f122",
      "metadata": {
        "id": "2a25f122"
      },
      "source": [
        "## Обучение модели"
      ]
    },
    {
      "cell_type": "code",
      "execution_count": null,
      "id": "4ff8faf9",
      "metadata": {
        "colab": {
          "base_uri": "https://localhost:8080/"
        },
        "id": "4ff8faf9",
        "outputId": "db3629d3-3f62-45ab-a94c-a405ab709a25"
      },
      "outputs": [
        {
          "output_type": "stream",
          "name": "stderr",
          "text": [
            "Some weights of the model checkpoint at cointegrated/rubert-tiny2 were not used when initializing BertForSequenceClassification: ['cls.predictions.transform.LayerNorm.weight', 'cls.seq_relationship.weight', 'cls.predictions.transform.LayerNorm.bias', 'cls.predictions.decoder.weight', 'cls.predictions.bias', 'cls.predictions.transform.dense.bias', 'cls.seq_relationship.bias', 'cls.predictions.transform.dense.weight', 'cls.predictions.decoder.bias']\n",
            "- This IS expected if you are initializing BertForSequenceClassification from the checkpoint of a model trained on another task or with another architecture (e.g. initializing a BertForSequenceClassification model from a BertForPreTraining model).\n",
            "- This IS NOT expected if you are initializing BertForSequenceClassification from the checkpoint of a model that you expect to be exactly identical (initializing a BertForSequenceClassification model from a BertForSequenceClassification model).\n",
            "Some weights of BertForSequenceClassification were not initialized from the model checkpoint at cointegrated/rubert-tiny2 and are newly initialized: ['classifier.bias', 'classifier.weight']\n",
            "You should probably TRAIN this model on a down-stream task to be able to use it for predictions and inference.\n"
          ]
        },
        {
          "output_type": "execute_result",
          "data": {
            "text/plain": [
              "BertForSequenceClassification(\n",
              "  (bert): BertModel(\n",
              "    (embeddings): BertEmbeddings(\n",
              "      (word_embeddings): Embedding(83828, 312, padding_idx=0)\n",
              "      (position_embeddings): Embedding(2048, 312)\n",
              "      (token_type_embeddings): Embedding(2, 312)\n",
              "      (LayerNorm): LayerNorm((312,), eps=1e-12, elementwise_affine=True)\n",
              "      (dropout): Dropout(p=0.1, inplace=False)\n",
              "    )\n",
              "    (encoder): BertEncoder(\n",
              "      (layer): ModuleList(\n",
              "        (0): BertLayer(\n",
              "          (attention): BertAttention(\n",
              "            (self): BertSelfAttention(\n",
              "              (query): Linear(in_features=312, out_features=312, bias=True)\n",
              "              (key): Linear(in_features=312, out_features=312, bias=True)\n",
              "              (value): Linear(in_features=312, out_features=312, bias=True)\n",
              "              (dropout): Dropout(p=0.1, inplace=False)\n",
              "            )\n",
              "            (output): BertSelfOutput(\n",
              "              (dense): Linear(in_features=312, out_features=312, bias=True)\n",
              "              (LayerNorm): LayerNorm((312,), eps=1e-12, elementwise_affine=True)\n",
              "              (dropout): Dropout(p=0.1, inplace=False)\n",
              "            )\n",
              "          )\n",
              "          (intermediate): BertIntermediate(\n",
              "            (dense): Linear(in_features=312, out_features=600, bias=True)\n",
              "            (intermediate_act_fn): GELUActivation()\n",
              "          )\n",
              "          (output): BertOutput(\n",
              "            (dense): Linear(in_features=600, out_features=312, bias=True)\n",
              "            (LayerNorm): LayerNorm((312,), eps=1e-12, elementwise_affine=True)\n",
              "            (dropout): Dropout(p=0.1, inplace=False)\n",
              "          )\n",
              "        )\n",
              "        (1): BertLayer(\n",
              "          (attention): BertAttention(\n",
              "            (self): BertSelfAttention(\n",
              "              (query): Linear(in_features=312, out_features=312, bias=True)\n",
              "              (key): Linear(in_features=312, out_features=312, bias=True)\n",
              "              (value): Linear(in_features=312, out_features=312, bias=True)\n",
              "              (dropout): Dropout(p=0.1, inplace=False)\n",
              "            )\n",
              "            (output): BertSelfOutput(\n",
              "              (dense): Linear(in_features=312, out_features=312, bias=True)\n",
              "              (LayerNorm): LayerNorm((312,), eps=1e-12, elementwise_affine=True)\n",
              "              (dropout): Dropout(p=0.1, inplace=False)\n",
              "            )\n",
              "          )\n",
              "          (intermediate): BertIntermediate(\n",
              "            (dense): Linear(in_features=312, out_features=600, bias=True)\n",
              "            (intermediate_act_fn): GELUActivation()\n",
              "          )\n",
              "          (output): BertOutput(\n",
              "            (dense): Linear(in_features=600, out_features=312, bias=True)\n",
              "            (LayerNorm): LayerNorm((312,), eps=1e-12, elementwise_affine=True)\n",
              "            (dropout): Dropout(p=0.1, inplace=False)\n",
              "          )\n",
              "        )\n",
              "        (2): BertLayer(\n",
              "          (attention): BertAttention(\n",
              "            (self): BertSelfAttention(\n",
              "              (query): Linear(in_features=312, out_features=312, bias=True)\n",
              "              (key): Linear(in_features=312, out_features=312, bias=True)\n",
              "              (value): Linear(in_features=312, out_features=312, bias=True)\n",
              "              (dropout): Dropout(p=0.1, inplace=False)\n",
              "            )\n",
              "            (output): BertSelfOutput(\n",
              "              (dense): Linear(in_features=312, out_features=312, bias=True)\n",
              "              (LayerNorm): LayerNorm((312,), eps=1e-12, elementwise_affine=True)\n",
              "              (dropout): Dropout(p=0.1, inplace=False)\n",
              "            )\n",
              "          )\n",
              "          (intermediate): BertIntermediate(\n",
              "            (dense): Linear(in_features=312, out_features=600, bias=True)\n",
              "            (intermediate_act_fn): GELUActivation()\n",
              "          )\n",
              "          (output): BertOutput(\n",
              "            (dense): Linear(in_features=600, out_features=312, bias=True)\n",
              "            (LayerNorm): LayerNorm((312,), eps=1e-12, elementwise_affine=True)\n",
              "            (dropout): Dropout(p=0.1, inplace=False)\n",
              "          )\n",
              "        )\n",
              "      )\n",
              "    )\n",
              "    (pooler): BertPooler(\n",
              "      (dense): Linear(in_features=312, out_features=312, bias=True)\n",
              "      (activation): Tanh()\n",
              "    )\n",
              "  )\n",
              "  (dropout): Dropout(p=0.1, inplace=False)\n",
              "  (classifier): Linear(in_features=312, out_features=4, bias=True)\n",
              ")"
            ]
          },
          "metadata": {},
          "execution_count": 16
        }
      ],
      "source": [
        "from transformers import BertForSequenceClassification, AdamW, BertConfig, BertForMultipleChoice, BertForPreTraining, BertModel\n",
        "model = BertForSequenceClassification.from_pretrained(\n",
        "       'cointegrated/rubert-tiny2',\n",
        "        num_labels = 4,\n",
        "        output_attentions = False,\n",
        "        output_hidden_states = False,\n",
        "        )\n",
        "model.to(device)"
      ]
    },
    {
      "cell_type": "markdown",
      "id": "01e3fb05",
      "metadata": {
        "id": "01e3fb05"
      },
      "source": [
        "# Optimizer & Learning Rate scheduler"
      ]
    },
    {
      "cell_type": "markdown",
      "id": "2f52aae1",
      "metadata": {
        "id": "2f52aae1"
      },
      "source": [
        "Почти все готово для обучения, осталось задать optimizer и scheduler, которые помогут нам с файнтьюном\n",
        "\n",
        "Наиболее популярные конфигурации параметров:\n",
        "* **Batch size: 16, 32**\n",
        "* **Learning rate (Adam): 5e-5, 3e-5, 2e-5**\n",
        "* **Number epochs: 2, 3, 4**\n",
        "\n",
        "Параметр **eps** позволяет избежать деления на ноль"
      ]
    },
    {
      "cell_type": "code",
      "execution_count": null,
      "id": "1d192312",
      "metadata": {
        "colab": {
          "base_uri": "https://localhost:8080/"
        },
        "id": "1d192312",
        "outputId": "97f4640b-a157-473a-ef5a-b827ece484ed"
      },
      "outputs": [
        {
          "output_type": "stream",
          "name": "stderr",
          "text": [
            "/usr/local/lib/python3.9/dist-packages/transformers/optimization.py:391: FutureWarning: This implementation of AdamW is deprecated and will be removed in a future version. Use the PyTorch implementation torch.optim.AdamW instead, or set `no_deprecation_warning=True` to disable this warning\n",
            "  warnings.warn(\n"
          ]
        }
      ],
      "source": [
        "optimizer = AdamW(model.parameters(),\n",
        "                 lr = 2e-5,\n",
        "                 eps = 1e-8)"
      ]
    },
    {
      "cell_type": "code",
      "execution_count": null,
      "id": "6bd596ae",
      "metadata": {
        "id": "6bd596ae"
      },
      "outputs": [],
      "source": [
        "from transformers import get_linear_schedule_with_warmup\n",
        "\n",
        "# Задаем количество эпох\n",
        "epochs = 10\n",
        "\n",
        "total_steps = len(train_dataloader) * epochs\n",
        "\n",
        "\n",
        "learning_rate = get_linear_schedule_with_warmup(optimizer,\n",
        "                                      num_warmup_steps = 0,\n",
        "                                      num_training_steps = total_steps)\n",
        "\n",
        "# Создаем планировщик, который после определенного числа шагов понижает learning_rate\n",
        "scheduler = get_linear_schedule_with_warmup(optimizer,\n",
        "                                           num_warmup_steps = 0,\n",
        "                                           num_training_steps = total_steps)"
      ]
    },
    {
      "cell_type": "markdown",
      "id": "8155518d",
      "metadata": {
        "id": "8155518d"
      },
      "source": [
        "## Петля обучения\n",
        "\n",
        "Обучающая петля это один проход по данным\n",
        "\n",
        "Ниже приведена петля обучения (training loop). На каждом проходе по данным мы проходим по всему обучающему и валидационному датасетам.\n",
        "\n",
        "**Training:**\n",
        "\n",
        "* Распаковать обучающие данные и метки\n",
        "* Загрузить данные на GPU для ускорения\n",
        "* Занулить градиенты с предыдущего шага\n",
        "* Forward pass (подать данные на вход в нейросеть и пробросить их вперед)\n",
        "* Backward pass (backpropogation - посчитать градиенты по всем параметрам с помощью обратного распространения ошибки)\n",
        "* Обновить параметры с помощью optimizer.step()\n",
        "* Посчитать статистики чтобы следить за обучением\n",
        "\n",
        "**Evalution:**\n",
        "\n",
        "* Распаковать валидационные данные и метки\n",
        "* Загрузить данные на GPU для ускорения\n",
        "* Forward pass (подать данные на вход в нейросеть и пробросить их вперед)\n",
        "* Посчитать loss и статистики на валидационных данных, чтобы следить за обучением"
      ]
    },
    {
      "cell_type": "code",
      "execution_count": null,
      "id": "db5d5a2b",
      "metadata": {
        "id": "db5d5a2b"
      },
      "outputs": [],
      "source": [
        "# Напишем функцию вычисления f1_score\n",
        "\n",
        "\n",
        "def flat_f1(preds, labels):\n",
        "    from sklearn.metrics import f1_score\n",
        "    pred_flat = np.argmax(preds, axis=1).flatten()\n",
        "    labels_flat = labels.flatten()\n",
        "    metrics_f1 = f1_score(pred_flat, labels_flat, average = 'weighted')\n",
        "    return metrics_f1\n",
        ""
      ]
    },
    {
      "cell_type": "code",
      "execution_count": null,
      "id": "71ee5c8f",
      "metadata": {
        "id": "71ee5c8f"
      },
      "outputs": [],
      "source": [
        "def flat_accuracy(preds, labels):\n",
        "    pred_flat = np.argmax(preds, axis=1).flatten()\n",
        "    labels_flat = labels.flatten()\n",
        "    return np.sum(pred_flat == labels_flat) / len(labels_flat)"
      ]
    },
    {
      "cell_type": "markdown",
      "id": "36cc1c0d",
      "metadata": {
        "id": "36cc1c0d"
      },
      "source": [
        "Вспомогательная функция для отслеживания затраченного времени"
      ]
    },
    {
      "cell_type": "code",
      "execution_count": null,
      "id": "57de13b3",
      "metadata": {
        "id": "57de13b3"
      },
      "outputs": [],
      "source": [
        "import time\n",
        "import datetime\n",
        "\n",
        "def format_time(elapsed):\n",
        "    '''Берем время в секундах и возвращаем в формате часы:минуты:секунды'''\n",
        "    elapsed_rounded = int(round((elapsed)))\n",
        "\n",
        "    return str(datetime.timedelta(seconds=elapsed_rounded))"
      ]
    },
    {
      "cell_type": "code",
      "source": [
        "import gc\n",
        "gc.collect()\n",
        "torch.cuda.empty_cache()"
      ],
      "metadata": {
        "id": "9s5JAIOUpLhu"
      },
      "id": "9s5JAIOUpLhu",
      "execution_count": null,
      "outputs": []
    },
    {
      "cell_type": "code",
      "execution_count": null,
      "id": "29ea36f5",
      "metadata": {
        "id": "29ea36f5"
      },
      "outputs": [],
      "source": [
        "torch.cuda.empty_cache()"
      ]
    },
    {
      "cell_type": "code",
      "execution_count": null,
      "id": "2166de7b",
      "metadata": {
        "colab": {
          "base_uri": "https://localhost:8080/"
        },
        "id": "2166de7b",
        "outputId": "34c87e32-a81e-44b3-a5e8-a2effeaa174e"
      },
      "outputs": [
        {
          "output_type": "stream",
          "name": "stdout",
          "text": [
            "\n",
            "======= Epoch 1 / 10 ========\n",
            "Batch 40 of 48,0:00:03\n",
            "\n",
            "Средние потери на train 0.6191277435670296\n",
            "Время эпохи 0:00:04\n",
            "\n",
            "Сейчас идет валидациия...\n",
            "f1_score--->  0.7024248460499573\n",
            "Потери на валидации 0.6940713638351077\n",
            "время на валидации 0:00:01\n",
            "\n",
            "Обучение готово\n",
            "Общее время обучения 0:00:04\n",
            "\n",
            "======= Epoch 2 / 10 ========\n",
            "Batch 40 of 48,0:00:03\n",
            "\n",
            "Средние потери на train 0.6158431842923164\n",
            "Время эпохи 0:00:04\n",
            "\n",
            "Сейчас идет валидациия...\n",
            "f1_score--->  0.7014479734605717\n",
            "Потери на валидации 0.698147748197828\n",
            "время на валидации 0:00:01\n",
            "\n",
            "Обучение готово\n",
            "Общее время обучения 0:00:08\n",
            "\n",
            "======= Epoch 3 / 10 ========\n",
            "Batch 40 of 48,0:00:03\n",
            "\n",
            "Средние потери на train 0.6123593536516031\n",
            "Время эпохи 0:00:04\n",
            "\n",
            "Сейчас идет валидациия...\n",
            "f1_score--->  0.7019902735084087\n",
            "Потери на валидации 0.695172477336157\n",
            "время на валидации 0:00:01\n",
            "\n",
            "Обучение готово\n",
            "Общее время обучения 0:00:13\n",
            "\n",
            "======= Epoch 4 / 10 ========\n",
            "Batch 40 of 48,0:00:03\n",
            "\n",
            "Средние потери на train 0.6133603751659393\n",
            "Время эпохи 0:00:04\n",
            "\n",
            "Сейчас идет валидациия...\n",
            "f1_score--->  0.7039530321147174\n",
            "Потери на валидации 0.6929834626969837\n",
            "время на валидации 0:00:01\n",
            "\n",
            "Обучение готово\n",
            "Общее время обучения 0:00:17\n",
            "\n",
            "======= Epoch 5 / 10 ========\n",
            "Batch 40 of 48,0:00:03\n",
            "\n",
            "Средние потери на train 0.6137767378240824\n",
            "Время эпохи 0:00:04\n",
            "\n",
            "Сейчас идет валидациия...\n",
            "f1_score--->  0.7040279911102\n",
            "Потери на валидации 0.6917597651481628\n",
            "время на валидации 0:00:01\n",
            "\n",
            "Обучение готово\n",
            "Общее время обучения 0:00:21\n",
            "\n",
            "======= Epoch 6 / 10 ========\n",
            "Batch 40 of 48,0:00:03\n",
            "\n",
            "Средние потери на train 0.6132810699443022\n",
            "Время эпохи 0:00:04\n",
            "\n",
            "Сейчас идет валидациия...\n",
            "f1_score--->  0.6982701683201198\n",
            "Потери на валидации 0.6953714830534798\n",
            "время на валидации 0:00:01\n",
            "\n",
            "Обучение готово\n",
            "Общее время обучения 0:00:25\n",
            "\n",
            "======= Epoch 7 / 10 ========\n",
            "Batch 40 of 48,0:00:03\n",
            "\n",
            "Средние потери на train 0.6157933504631122\n",
            "Время эпохи 0:00:04\n",
            "\n",
            "Сейчас идет валидациия...\n",
            "f1_score--->  0.7026572956943559\n",
            "Потери на валидации 0.6973030254954383\n",
            "время на валидации 0:00:01\n",
            "\n",
            "Обучение готово\n",
            "Общее время обучения 0:00:29\n",
            "\n",
            "======= Epoch 8 / 10 ========\n",
            "Batch 40 of 48,0:00:03\n",
            "\n",
            "Средние потери на train 0.618409459789594\n",
            "Время эпохи 0:00:04\n",
            "\n",
            "Сейчас идет валидациия...\n",
            "f1_score--->  0.7024348155248704\n",
            "Потери на валидации 0.6974697169803438\n",
            "время на валидации 0:00:01\n",
            "\n",
            "Обучение готово\n",
            "Общее время обучения 0:00:34\n",
            "\n",
            "======= Epoch 9 / 10 ========\n",
            "Batch 40 of 48,0:00:03\n",
            "\n",
            "Средние потери на train 0.6166234786311785\n",
            "Время эпохи 0:00:04\n",
            "\n",
            "Сейчас идет валидациия...\n",
            "f1_score--->  0.7048281740407878\n",
            "Потери на валидации 0.6915769037746248\n",
            "время на валидации 0:00:00\n",
            "\n",
            "Обучение готово\n",
            "Общее время обучения 0:00:38\n",
            "\n",
            "======= Epoch 10 / 10 ========\n",
            "Batch 40 of 48,0:00:03\n",
            "\n",
            "Средние потери на train 0.6200518651554981\n",
            "Время эпохи 0:00:04\n",
            "\n",
            "Сейчас идет валидациия...\n",
            "f1_score--->  0.7005027397135842\n",
            "Потери на валидации 0.6957435097013202\n",
            "время на валидации 0:00:01\n",
            "\n",
            "Обучение готово\n",
            "Общее время обучения 0:00:42\n"
          ]
        }
      ],
      "source": [
        "import random\n",
        "\n",
        "# Замораживаем счетчик\n",
        "seed_val = 42\n",
        "random.seed(seed_val)\n",
        "np.random.seed(seed_val)\n",
        "torch.manual_seed(seed_val)\n",
        "torch.cuda.manual_seed_all(seed_val)\n",
        "\n",
        "# Создаем список для сохранения f1 и времени\n",
        "training_stats = []\n",
        "total_t0 = time.time()\n",
        "\n",
        "# Для каждой эпохи...\n",
        "for epoch_i in range(0, epochs):\n",
        "    print('')\n",
        "    print(f'======= Epoch {epoch_i + 1} / {epochs} ========')\n",
        "\n",
        "    # Смотрим сколько идет обучение по train\n",
        "    t0 = time.time()\n",
        "    # Сбрасываем все потери для эпохи\n",
        "    total_train_loss = 0\n",
        "    # Ставим модель в режим train это такой режим, который может обновлять свои веса\n",
        "    model.train()\n",
        "\n",
        "    # Для каждого батча тренировочных данных\n",
        "    for step, batch in enumerate(train_dataloader):\n",
        "\n",
        "        # Прогресс обновляется каждые 40 батчей\n",
        "        if step % 40 == 0 and not step == 0:\n",
        "            # считаем время\n",
        "            elapsed = format_time(time.time() - t0)\n",
        "\n",
        "            # Прогресс отчета\n",
        "            print(f'Batch {step} of {len(train_dataloader)},{elapsed}')\n",
        "\n",
        "        # Распаковываем данные и отправляем на GPU\n",
        "        #\n",
        "        # Достаем из батчей id маски и лэйблы\n",
        "        b_input_ids = batch[0].to(device)\n",
        "        b_input_mask = batch[1].to(device)\n",
        "        b_labels = batch[2].to(device)\n",
        "\n",
        "\n",
        "        # Зануляем градиенты модели с предыдущего шага\n",
        "        model.zero_grad()\n",
        "\n",
        "        # Делаем forward_pass\n",
        "        res = model(b_input_ids,\n",
        "                   token_type_ids = None,\n",
        "                   attention_mask = b_input_mask,\n",
        "                   labels = b_labels)\n",
        "\n",
        "        # Получаем loss\n",
        "        loss = res['loss']\n",
        "        # Получаем вероятности классов\n",
        "        logits = res['logits']\n",
        "\n",
        "        # Добавляем наш loss в обучающий loss\n",
        "        total_train_loss += loss.item()\n",
        "\n",
        "        # Делаем backward pass чтобы посчитать градиенты\n",
        "        loss.backward()\n",
        "\n",
        "        # Нормы всех градиентов обрезаем до 1 чтобы предотвратить проблему взрывающихся градиентов\n",
        "        torch.nn.utils.clip_grad_norm_(model.parameters(), 1.0)\n",
        "\n",
        "        # Обновляем веса против градиента\n",
        "        optimizer.step()\n",
        "\n",
        "        # Обновляем learning_rate\n",
        "        scheduler.step()\n",
        "    # Считаем средний лосс\n",
        "    avg_train_loss = total_train_loss / len(train_dataloader)\n",
        "    # Считаем время как долго берет эпоха\n",
        "    training_time = format_time(time.time() - t0)\n",
        "\n",
        "    print()\n",
        "    print(f'Средние потери на train {avg_train_loss}')\n",
        "    print(f'Время эпохи {training_time}')\n",
        "\n",
        "    print('')\n",
        "    print('Сейчас идет валидациия...')\n",
        "\n",
        "    t0 = time.time()\n",
        "\n",
        "    # В валидационной части мы не обновляем веса модели поэтому ставим модель в режим eval\n",
        "    model.eval()\n",
        "\n",
        "    # Задаем переменные для лосса\n",
        "    total_eval_f1 = 0\n",
        "    total_eval_loss = 0\n",
        "    nb_eval_steps = 0\n",
        "\n",
        "    for batch in validation_dataloader:\n",
        "        # Достаем из батчей id маски и лэйблы\n",
        "        b_input_ids = batch[0].to(device)\n",
        "        b_input_mask = batch[1].to(device)\n",
        "        b_labels = batch[2].to(device)\n",
        "\n",
        "        # Не считаем градиенты\n",
        "        with torch.no_grad():\n",
        "            res = model(b_input_ids,\n",
        "                   token_type_ids = None,\n",
        "                   attention_mask = b_input_mask,\n",
        "                   labels = b_labels)\n",
        "\n",
        "\n",
        "            # Получаем loss\n",
        "            loss = res['loss']\n",
        "            # Получаем вероятности классов\n",
        "            logits = res['logits']\n",
        "\n",
        "        # Считаем потери на валидации\n",
        "        total_eval_loss += loss.item()\n",
        "\n",
        "        logits = logits.detach().cpu().numpy()\n",
        "        labels_ids = b_labels.to('cpu').numpy()\n",
        "\n",
        "        # Считаем f1\n",
        "        total_eval_f1 += flat_f1(logits, labels_ids)\n",
        "\n",
        "    # Отчет о финальной метрике\n",
        "    avg_val_f1 = total_eval_f1 / len(validation_dataloader)\n",
        "    print(f'f1_score--->  {avg_val_f1}')\n",
        "\n",
        "    # Считаем потери на всех батчах\n",
        "    avg_val_loss = total_eval_loss / len(validation_dataloader)\n",
        "\n",
        "    # Считаем время\n",
        "    validation_time = format_time(time.time()- t0)\n",
        "\n",
        "\n",
        "    print(f'Потери на валидации {avg_val_loss}')\n",
        "    print(f'время на валидации {validation_time}')\n",
        "\n",
        "\n",
        "    # Записываем все статистики для эпохи\n",
        "\n",
        "    training_stats.append(\n",
        "    {'epoch': epoch_i + 1,\n",
        "     'Training loss' : avg_train_loss,\n",
        "     'Valid f1' : avg_val_f1,\n",
        "     'Valid loss' : avg_val_loss,\n",
        "     'Training time' : training_time,\n",
        "     'Validation time' : validation_time})\n",
        "\n",
        "\n",
        "    print('')\n",
        "    print('Обучение готово')\n",
        "    print(f'Общее время обучения {format_time(time.time() - total_t0)}')"
      ]
    },
    {
      "cell_type": "markdown",
      "id": "ee9b8cb2",
      "metadata": {
        "id": "ee9b8cb2"
      },
      "source": [
        "f1 = 0.668 rubert tiny 'cointegrated/rubert-tiny'\n",
        "\n",
        "f1 = 0.6913812702036449\"distilbert-base-multilingual-cased\"\n",
        "\n",
        "f1 = 0.6913812702036449\"distilbert-base-multilingual-cased\"   10 эпох\n",
        "\n",
        "f1_score--->  0.6921519089589768                10 эпох\n",
        "\n",
        "f1_score--->  0.7161098612987867 cointegrated/rubert-tiny2"
      ]
    },
    {
      "cell_type": "markdown",
      "source": [
        "# выводы\n",
        "Для улучшения предсказания, необходио подбирать мультиязычную другую модель"
      ],
      "metadata": {
        "id": "FLrfc9TJPLhJ"
      },
      "id": "FLrfc9TJPLhJ"
    },
    {
      "cell_type": "code",
      "source": [
        "training_stats"
      ],
      "metadata": {
        "id": "LXQUJBRUPKBe",
        "colab": {
          "base_uri": "https://localhost:8080/"
        },
        "outputId": "816d638e-a96d-40e7-a974-cfd3d8404e5f"
      },
      "id": "LXQUJBRUPKBe",
      "execution_count": null,
      "outputs": [
        {
          "output_type": "execute_result",
          "data": {
            "text/plain": [
              "[{'epoch': 1,\n",
              "  'Training loss': 1.1939915182689826,\n",
              "  'Valid f1': 0.6815396894312968,\n",
              "  'Valid loss': 1.0456726267224266,\n",
              "  'Training time': '0:00:06',\n",
              "  'Validation time': '0:00:00'},\n",
              " {'epoch': 2,\n",
              "  'Training loss': 1.0019345010320346,\n",
              "  'Valid f1': 0.6705450399153744,\n",
              "  'Valid loss': 0.9646439807755607,\n",
              "  'Training time': '0:00:04',\n",
              "  'Validation time': '0:00:00'},\n",
              " {'epoch': 3,\n",
              "  'Training loss': 0.9118354419867197,\n",
              "  'Valid f1': 0.6578271189820394,\n",
              "  'Valid loss': 0.8673279484113058,\n",
              "  'Training time': '0:00:04',\n",
              "  'Validation time': '0:00:01'},\n",
              " {'epoch': 4,\n",
              "  'Training loss': 0.8165475701292356,\n",
              "  'Valid f1': 0.6746288991896828,\n",
              "  'Valid loss': 0.7909049789110819,\n",
              "  'Training time': '0:00:04',\n",
              "  'Validation time': '0:00:00'},\n",
              " {'epoch': 5,\n",
              "  'Training loss': 0.7433799331386884,\n",
              "  'Valid f1': 0.6830364600305457,\n",
              "  'Valid loss': 0.7444205142202831,\n",
              "  'Training time': '0:00:04',\n",
              "  'Validation time': '0:00:00'},\n",
              " {'epoch': 6,\n",
              "  'Training loss': 0.6971578548351923,\n",
              "  'Valid f1': 0.6860494375630827,\n",
              "  'Valid loss': 0.7237416818028405,\n",
              "  'Training time': '0:00:04',\n",
              "  'Validation time': '0:00:01'},\n",
              " {'epoch': 7,\n",
              "  'Training loss': 0.6654720467825731,\n",
              "  'Valid f1': 0.6947779591463531,\n",
              "  'Valid loss': 0.7115478430475507,\n",
              "  'Training time': '0:00:04',\n",
              "  'Validation time': '0:00:01'},\n",
              " {'epoch': 8,\n",
              "  'Training loss': 0.6474613472819328,\n",
              "  'Valid f1': 0.6998677132465028,\n",
              "  'Valid loss': 0.7031555005482265,\n",
              "  'Training time': '0:00:04',\n",
              "  'Validation time': '0:00:01'},\n",
              " {'epoch': 9,\n",
              "  'Training loss': 0.6291141075392565,\n",
              "  'Valid f1': 0.7019655120883255,\n",
              "  'Valid loss': 0.69350152356284,\n",
              "  'Training time': '0:00:04',\n",
              "  'Validation time': '0:00:01'},\n",
              " {'epoch': 10,\n",
              "  'Training loss': 0.6225715726613998,\n",
              "  'Valid f1': 0.7005027397135842,\n",
              "  'Valid loss': 0.6957435097013202,\n",
              "  'Training time': '0:00:04',\n",
              "  'Validation time': '0:00:01'}]"
            ]
          },
          "metadata": {},
          "execution_count": 25
        }
      ]
    },
    {
      "cell_type": "code",
      "source": [],
      "metadata": {
        "id": "kexRL-5tlQyW"
      },
      "id": "kexRL-5tlQyW",
      "execution_count": null,
      "outputs": []
    }
  ],
  "metadata": {
    "kernelspec": {
      "display_name": "Python 3",
      "language": "python",
      "name": "python3"
    },
    "language_info": {
      "codemirror_mode": {
        "name": "ipython",
        "version": 3
      },
      "file_extension": ".py",
      "mimetype": "text/x-python",
      "name": "python",
      "nbconvert_exporter": "python",
      "pygments_lexer": "ipython3",
      "version": "3.8.8"
    },
    "colab": {
      "provenance": []
    },
    "accelerator": "GPU",
    "gpuClass": "standard",
    "widgets": {
      "application/vnd.jupyter.widget-state+json": {
        "a2aa5a704955426096b76d3167ac44b1": {
          "model_module": "@jupyter-widgets/controls",
          "model_name": "HBoxModel",
          "model_module_version": "1.5.0",
          "state": {
            "_dom_classes": [],
            "_model_module": "@jupyter-widgets/controls",
            "_model_module_version": "1.5.0",
            "_model_name": "HBoxModel",
            "_view_count": null,
            "_view_module": "@jupyter-widgets/controls",
            "_view_module_version": "1.5.0",
            "_view_name": "HBoxView",
            "box_style": "",
            "children": [
              "IPY_MODEL_cc376ac1138a45dfa4d7dcf4efbd355a",
              "IPY_MODEL_feeadf4b72904161a1df8625418d56fa",
              "IPY_MODEL_58f92e095e3b4c33ac85ea2cf97b1bc5"
            ],
            "layout": "IPY_MODEL_85f3f5588a6348a1b62da9a2b1f2ac7c"
          }
        },
        "cc376ac1138a45dfa4d7dcf4efbd355a": {
          "model_module": "@jupyter-widgets/controls",
          "model_name": "HTMLModel",
          "model_module_version": "1.5.0",
          "state": {
            "_dom_classes": [],
            "_model_module": "@jupyter-widgets/controls",
            "_model_module_version": "1.5.0",
            "_model_name": "HTMLModel",
            "_view_count": null,
            "_view_module": "@jupyter-widgets/controls",
            "_view_module_version": "1.5.0",
            "_view_name": "HTMLView",
            "description": "",
            "description_tooltip": null,
            "layout": "IPY_MODEL_51e23a5aa1334572ba2027d59b9d5238",
            "placeholder": "​",
            "style": "IPY_MODEL_d577b24e88ca40958325a43357a22fa8",
            "value": "Downloading (…)solve/main/vocab.txt: 100%"
          }
        },
        "feeadf4b72904161a1df8625418d56fa": {
          "model_module": "@jupyter-widgets/controls",
          "model_name": "FloatProgressModel",
          "model_module_version": "1.5.0",
          "state": {
            "_dom_classes": [],
            "_model_module": "@jupyter-widgets/controls",
            "_model_module_version": "1.5.0",
            "_model_name": "FloatProgressModel",
            "_view_count": null,
            "_view_module": "@jupyter-widgets/controls",
            "_view_module_version": "1.5.0",
            "_view_name": "ProgressView",
            "bar_style": "success",
            "description": "",
            "description_tooltip": null,
            "layout": "IPY_MODEL_3c1dce983aea4034b9b8f0cd06b08912",
            "max": 1080667,
            "min": 0,
            "orientation": "horizontal",
            "style": "IPY_MODEL_af053030ab2d43efab74612fd1e73198",
            "value": 1080667
          }
        },
        "58f92e095e3b4c33ac85ea2cf97b1bc5": {
          "model_module": "@jupyter-widgets/controls",
          "model_name": "HTMLModel",
          "model_module_version": "1.5.0",
          "state": {
            "_dom_classes": [],
            "_model_module": "@jupyter-widgets/controls",
            "_model_module_version": "1.5.0",
            "_model_name": "HTMLModel",
            "_view_count": null,
            "_view_module": "@jupyter-widgets/controls",
            "_view_module_version": "1.5.0",
            "_view_name": "HTMLView",
            "description": "",
            "description_tooltip": null,
            "layout": "IPY_MODEL_d67ca81a3a8847bca83911a7447171eb",
            "placeholder": "​",
            "style": "IPY_MODEL_3e4210c65e4c49d6aed7b767a2741a5c",
            "value": " 1.08M/1.08M [00:00&lt;00:00, 3.27MB/s]"
          }
        },
        "85f3f5588a6348a1b62da9a2b1f2ac7c": {
          "model_module": "@jupyter-widgets/base",
          "model_name": "LayoutModel",
          "model_module_version": "1.2.0",
          "state": {
            "_model_module": "@jupyter-widgets/base",
            "_model_module_version": "1.2.0",
            "_model_name": "LayoutModel",
            "_view_count": null,
            "_view_module": "@jupyter-widgets/base",
            "_view_module_version": "1.2.0",
            "_view_name": "LayoutView",
            "align_content": null,
            "align_items": null,
            "align_self": null,
            "border": null,
            "bottom": null,
            "display": null,
            "flex": null,
            "flex_flow": null,
            "grid_area": null,
            "grid_auto_columns": null,
            "grid_auto_flow": null,
            "grid_auto_rows": null,
            "grid_column": null,
            "grid_gap": null,
            "grid_row": null,
            "grid_template_areas": null,
            "grid_template_columns": null,
            "grid_template_rows": null,
            "height": null,
            "justify_content": null,
            "justify_items": null,
            "left": null,
            "margin": null,
            "max_height": null,
            "max_width": null,
            "min_height": null,
            "min_width": null,
            "object_fit": null,
            "object_position": null,
            "order": null,
            "overflow": null,
            "overflow_x": null,
            "overflow_y": null,
            "padding": null,
            "right": null,
            "top": null,
            "visibility": null,
            "width": null
          }
        },
        "51e23a5aa1334572ba2027d59b9d5238": {
          "model_module": "@jupyter-widgets/base",
          "model_name": "LayoutModel",
          "model_module_version": "1.2.0",
          "state": {
            "_model_module": "@jupyter-widgets/base",
            "_model_module_version": "1.2.0",
            "_model_name": "LayoutModel",
            "_view_count": null,
            "_view_module": "@jupyter-widgets/base",
            "_view_module_version": "1.2.0",
            "_view_name": "LayoutView",
            "align_content": null,
            "align_items": null,
            "align_self": null,
            "border": null,
            "bottom": null,
            "display": null,
            "flex": null,
            "flex_flow": null,
            "grid_area": null,
            "grid_auto_columns": null,
            "grid_auto_flow": null,
            "grid_auto_rows": null,
            "grid_column": null,
            "grid_gap": null,
            "grid_row": null,
            "grid_template_areas": null,
            "grid_template_columns": null,
            "grid_template_rows": null,
            "height": null,
            "justify_content": null,
            "justify_items": null,
            "left": null,
            "margin": null,
            "max_height": null,
            "max_width": null,
            "min_height": null,
            "min_width": null,
            "object_fit": null,
            "object_position": null,
            "order": null,
            "overflow": null,
            "overflow_x": null,
            "overflow_y": null,
            "padding": null,
            "right": null,
            "top": null,
            "visibility": null,
            "width": null
          }
        },
        "d577b24e88ca40958325a43357a22fa8": {
          "model_module": "@jupyter-widgets/controls",
          "model_name": "DescriptionStyleModel",
          "model_module_version": "1.5.0",
          "state": {
            "_model_module": "@jupyter-widgets/controls",
            "_model_module_version": "1.5.0",
            "_model_name": "DescriptionStyleModel",
            "_view_count": null,
            "_view_module": "@jupyter-widgets/base",
            "_view_module_version": "1.2.0",
            "_view_name": "StyleView",
            "description_width": ""
          }
        },
        "3c1dce983aea4034b9b8f0cd06b08912": {
          "model_module": "@jupyter-widgets/base",
          "model_name": "LayoutModel",
          "model_module_version": "1.2.0",
          "state": {
            "_model_module": "@jupyter-widgets/base",
            "_model_module_version": "1.2.0",
            "_model_name": "LayoutModel",
            "_view_count": null,
            "_view_module": "@jupyter-widgets/base",
            "_view_module_version": "1.2.0",
            "_view_name": "LayoutView",
            "align_content": null,
            "align_items": null,
            "align_self": null,
            "border": null,
            "bottom": null,
            "display": null,
            "flex": null,
            "flex_flow": null,
            "grid_area": null,
            "grid_auto_columns": null,
            "grid_auto_flow": null,
            "grid_auto_rows": null,
            "grid_column": null,
            "grid_gap": null,
            "grid_row": null,
            "grid_template_areas": null,
            "grid_template_columns": null,
            "grid_template_rows": null,
            "height": null,
            "justify_content": null,
            "justify_items": null,
            "left": null,
            "margin": null,
            "max_height": null,
            "max_width": null,
            "min_height": null,
            "min_width": null,
            "object_fit": null,
            "object_position": null,
            "order": null,
            "overflow": null,
            "overflow_x": null,
            "overflow_y": null,
            "padding": null,
            "right": null,
            "top": null,
            "visibility": null,
            "width": null
          }
        },
        "af053030ab2d43efab74612fd1e73198": {
          "model_module": "@jupyter-widgets/controls",
          "model_name": "ProgressStyleModel",
          "model_module_version": "1.5.0",
          "state": {
            "_model_module": "@jupyter-widgets/controls",
            "_model_module_version": "1.5.0",
            "_model_name": "ProgressStyleModel",
            "_view_count": null,
            "_view_module": "@jupyter-widgets/base",
            "_view_module_version": "1.2.0",
            "_view_name": "StyleView",
            "bar_color": null,
            "description_width": ""
          }
        },
        "d67ca81a3a8847bca83911a7447171eb": {
          "model_module": "@jupyter-widgets/base",
          "model_name": "LayoutModel",
          "model_module_version": "1.2.0",
          "state": {
            "_model_module": "@jupyter-widgets/base",
            "_model_module_version": "1.2.0",
            "_model_name": "LayoutModel",
            "_view_count": null,
            "_view_module": "@jupyter-widgets/base",
            "_view_module_version": "1.2.0",
            "_view_name": "LayoutView",
            "align_content": null,
            "align_items": null,
            "align_self": null,
            "border": null,
            "bottom": null,
            "display": null,
            "flex": null,
            "flex_flow": null,
            "grid_area": null,
            "grid_auto_columns": null,
            "grid_auto_flow": null,
            "grid_auto_rows": null,
            "grid_column": null,
            "grid_gap": null,
            "grid_row": null,
            "grid_template_areas": null,
            "grid_template_columns": null,
            "grid_template_rows": null,
            "height": null,
            "justify_content": null,
            "justify_items": null,
            "left": null,
            "margin": null,
            "max_height": null,
            "max_width": null,
            "min_height": null,
            "min_width": null,
            "object_fit": null,
            "object_position": null,
            "order": null,
            "overflow": null,
            "overflow_x": null,
            "overflow_y": null,
            "padding": null,
            "right": null,
            "top": null,
            "visibility": null,
            "width": null
          }
        },
        "3e4210c65e4c49d6aed7b767a2741a5c": {
          "model_module": "@jupyter-widgets/controls",
          "model_name": "DescriptionStyleModel",
          "model_module_version": "1.5.0",
          "state": {
            "_model_module": "@jupyter-widgets/controls",
            "_model_module_version": "1.5.0",
            "_model_name": "DescriptionStyleModel",
            "_view_count": null,
            "_view_module": "@jupyter-widgets/base",
            "_view_module_version": "1.2.0",
            "_view_name": "StyleView",
            "description_width": ""
          }
        },
        "4b69b530be9e4831b4d471776c23bd02": {
          "model_module": "@jupyter-widgets/controls",
          "model_name": "HBoxModel",
          "model_module_version": "1.5.0",
          "state": {
            "_dom_classes": [],
            "_model_module": "@jupyter-widgets/controls",
            "_model_module_version": "1.5.0",
            "_model_name": "HBoxModel",
            "_view_count": null,
            "_view_module": "@jupyter-widgets/controls",
            "_view_module_version": "1.5.0",
            "_view_name": "HBoxView",
            "box_style": "",
            "children": [
              "IPY_MODEL_d617bfe3dea84294a1c2783c514ae77f",
              "IPY_MODEL_810c32ed47bb48b3b56f6da6d71b87aa",
              "IPY_MODEL_3fec23b712764988851a88c684800425"
            ],
            "layout": "IPY_MODEL_40f7a0c3a78040fba716a5d1a013dd74"
          }
        },
        "d617bfe3dea84294a1c2783c514ae77f": {
          "model_module": "@jupyter-widgets/controls",
          "model_name": "HTMLModel",
          "model_module_version": "1.5.0",
          "state": {
            "_dom_classes": [],
            "_model_module": "@jupyter-widgets/controls",
            "_model_module_version": "1.5.0",
            "_model_name": "HTMLModel",
            "_view_count": null,
            "_view_module": "@jupyter-widgets/controls",
            "_view_module_version": "1.5.0",
            "_view_name": "HTMLView",
            "description": "",
            "description_tooltip": null,
            "layout": "IPY_MODEL_2898d71575ba437b94993157a1e71b5e",
            "placeholder": "​",
            "style": "IPY_MODEL_aed8417db9e14c2ea56dd8b37cc57237",
            "value": "Downloading (…)cial_tokens_map.json: 100%"
          }
        },
        "810c32ed47bb48b3b56f6da6d71b87aa": {
          "model_module": "@jupyter-widgets/controls",
          "model_name": "FloatProgressModel",
          "model_module_version": "1.5.0",
          "state": {
            "_dom_classes": [],
            "_model_module": "@jupyter-widgets/controls",
            "_model_module_version": "1.5.0",
            "_model_name": "FloatProgressModel",
            "_view_count": null,
            "_view_module": "@jupyter-widgets/controls",
            "_view_module_version": "1.5.0",
            "_view_name": "ProgressView",
            "bar_style": "success",
            "description": "",
            "description_tooltip": null,
            "layout": "IPY_MODEL_93af538f9e4148bfbf24578d2261e350",
            "max": 112,
            "min": 0,
            "orientation": "horizontal",
            "style": "IPY_MODEL_88cf7a201a064143b013f1aeef1bd35e",
            "value": 112
          }
        },
        "3fec23b712764988851a88c684800425": {
          "model_module": "@jupyter-widgets/controls",
          "model_name": "HTMLModel",
          "model_module_version": "1.5.0",
          "state": {
            "_dom_classes": [],
            "_model_module": "@jupyter-widgets/controls",
            "_model_module_version": "1.5.0",
            "_model_name": "HTMLModel",
            "_view_count": null,
            "_view_module": "@jupyter-widgets/controls",
            "_view_module_version": "1.5.0",
            "_view_name": "HTMLView",
            "description": "",
            "description_tooltip": null,
            "layout": "IPY_MODEL_c0432596ad9b4c1fba25e282f4155f0c",
            "placeholder": "​",
            "style": "IPY_MODEL_a0a712d6e5b4422082d4c3c11eb4bd40",
            "value": " 112/112 [00:00&lt;00:00, 4.30kB/s]"
          }
        },
        "40f7a0c3a78040fba716a5d1a013dd74": {
          "model_module": "@jupyter-widgets/base",
          "model_name": "LayoutModel",
          "model_module_version": "1.2.0",
          "state": {
            "_model_module": "@jupyter-widgets/base",
            "_model_module_version": "1.2.0",
            "_model_name": "LayoutModel",
            "_view_count": null,
            "_view_module": "@jupyter-widgets/base",
            "_view_module_version": "1.2.0",
            "_view_name": "LayoutView",
            "align_content": null,
            "align_items": null,
            "align_self": null,
            "border": null,
            "bottom": null,
            "display": null,
            "flex": null,
            "flex_flow": null,
            "grid_area": null,
            "grid_auto_columns": null,
            "grid_auto_flow": null,
            "grid_auto_rows": null,
            "grid_column": null,
            "grid_gap": null,
            "grid_row": null,
            "grid_template_areas": null,
            "grid_template_columns": null,
            "grid_template_rows": null,
            "height": null,
            "justify_content": null,
            "justify_items": null,
            "left": null,
            "margin": null,
            "max_height": null,
            "max_width": null,
            "min_height": null,
            "min_width": null,
            "object_fit": null,
            "object_position": null,
            "order": null,
            "overflow": null,
            "overflow_x": null,
            "overflow_y": null,
            "padding": null,
            "right": null,
            "top": null,
            "visibility": null,
            "width": null
          }
        },
        "2898d71575ba437b94993157a1e71b5e": {
          "model_module": "@jupyter-widgets/base",
          "model_name": "LayoutModel",
          "model_module_version": "1.2.0",
          "state": {
            "_model_module": "@jupyter-widgets/base",
            "_model_module_version": "1.2.0",
            "_model_name": "LayoutModel",
            "_view_count": null,
            "_view_module": "@jupyter-widgets/base",
            "_view_module_version": "1.2.0",
            "_view_name": "LayoutView",
            "align_content": null,
            "align_items": null,
            "align_self": null,
            "border": null,
            "bottom": null,
            "display": null,
            "flex": null,
            "flex_flow": null,
            "grid_area": null,
            "grid_auto_columns": null,
            "grid_auto_flow": null,
            "grid_auto_rows": null,
            "grid_column": null,
            "grid_gap": null,
            "grid_row": null,
            "grid_template_areas": null,
            "grid_template_columns": null,
            "grid_template_rows": null,
            "height": null,
            "justify_content": null,
            "justify_items": null,
            "left": null,
            "margin": null,
            "max_height": null,
            "max_width": null,
            "min_height": null,
            "min_width": null,
            "object_fit": null,
            "object_position": null,
            "order": null,
            "overflow": null,
            "overflow_x": null,
            "overflow_y": null,
            "padding": null,
            "right": null,
            "top": null,
            "visibility": null,
            "width": null
          }
        },
        "aed8417db9e14c2ea56dd8b37cc57237": {
          "model_module": "@jupyter-widgets/controls",
          "model_name": "DescriptionStyleModel",
          "model_module_version": "1.5.0",
          "state": {
            "_model_module": "@jupyter-widgets/controls",
            "_model_module_version": "1.5.0",
            "_model_name": "DescriptionStyleModel",
            "_view_count": null,
            "_view_module": "@jupyter-widgets/base",
            "_view_module_version": "1.2.0",
            "_view_name": "StyleView",
            "description_width": ""
          }
        },
        "93af538f9e4148bfbf24578d2261e350": {
          "model_module": "@jupyter-widgets/base",
          "model_name": "LayoutModel",
          "model_module_version": "1.2.0",
          "state": {
            "_model_module": "@jupyter-widgets/base",
            "_model_module_version": "1.2.0",
            "_model_name": "LayoutModel",
            "_view_count": null,
            "_view_module": "@jupyter-widgets/base",
            "_view_module_version": "1.2.0",
            "_view_name": "LayoutView",
            "align_content": null,
            "align_items": null,
            "align_self": null,
            "border": null,
            "bottom": null,
            "display": null,
            "flex": null,
            "flex_flow": null,
            "grid_area": null,
            "grid_auto_columns": null,
            "grid_auto_flow": null,
            "grid_auto_rows": null,
            "grid_column": null,
            "grid_gap": null,
            "grid_row": null,
            "grid_template_areas": null,
            "grid_template_columns": null,
            "grid_template_rows": null,
            "height": null,
            "justify_content": null,
            "justify_items": null,
            "left": null,
            "margin": null,
            "max_height": null,
            "max_width": null,
            "min_height": null,
            "min_width": null,
            "object_fit": null,
            "object_position": null,
            "order": null,
            "overflow": null,
            "overflow_x": null,
            "overflow_y": null,
            "padding": null,
            "right": null,
            "top": null,
            "visibility": null,
            "width": null
          }
        },
        "88cf7a201a064143b013f1aeef1bd35e": {
          "model_module": "@jupyter-widgets/controls",
          "model_name": "ProgressStyleModel",
          "model_module_version": "1.5.0",
          "state": {
            "_model_module": "@jupyter-widgets/controls",
            "_model_module_version": "1.5.0",
            "_model_name": "ProgressStyleModel",
            "_view_count": null,
            "_view_module": "@jupyter-widgets/base",
            "_view_module_version": "1.2.0",
            "_view_name": "StyleView",
            "bar_color": null,
            "description_width": ""
          }
        },
        "c0432596ad9b4c1fba25e282f4155f0c": {
          "model_module": "@jupyter-widgets/base",
          "model_name": "LayoutModel",
          "model_module_version": "1.2.0",
          "state": {
            "_model_module": "@jupyter-widgets/base",
            "_model_module_version": "1.2.0",
            "_model_name": "LayoutModel",
            "_view_count": null,
            "_view_module": "@jupyter-widgets/base",
            "_view_module_version": "1.2.0",
            "_view_name": "LayoutView",
            "align_content": null,
            "align_items": null,
            "align_self": null,
            "border": null,
            "bottom": null,
            "display": null,
            "flex": null,
            "flex_flow": null,
            "grid_area": null,
            "grid_auto_columns": null,
            "grid_auto_flow": null,
            "grid_auto_rows": null,
            "grid_column": null,
            "grid_gap": null,
            "grid_row": null,
            "grid_template_areas": null,
            "grid_template_columns": null,
            "grid_template_rows": null,
            "height": null,
            "justify_content": null,
            "justify_items": null,
            "left": null,
            "margin": null,
            "max_height": null,
            "max_width": null,
            "min_height": null,
            "min_width": null,
            "object_fit": null,
            "object_position": null,
            "order": null,
            "overflow": null,
            "overflow_x": null,
            "overflow_y": null,
            "padding": null,
            "right": null,
            "top": null,
            "visibility": null,
            "width": null
          }
        },
        "a0a712d6e5b4422082d4c3c11eb4bd40": {
          "model_module": "@jupyter-widgets/controls",
          "model_name": "DescriptionStyleModel",
          "model_module_version": "1.5.0",
          "state": {
            "_model_module": "@jupyter-widgets/controls",
            "_model_module_version": "1.5.0",
            "_model_name": "DescriptionStyleModel",
            "_view_count": null,
            "_view_module": "@jupyter-widgets/base",
            "_view_module_version": "1.2.0",
            "_view_name": "StyleView",
            "description_width": ""
          }
        },
        "73ba40ce8eea49bbb0dbed6943c12a7c": {
          "model_module": "@jupyter-widgets/controls",
          "model_name": "HBoxModel",
          "model_module_version": "1.5.0",
          "state": {
            "_dom_classes": [],
            "_model_module": "@jupyter-widgets/controls",
            "_model_module_version": "1.5.0",
            "_model_name": "HBoxModel",
            "_view_count": null,
            "_view_module": "@jupyter-widgets/controls",
            "_view_module_version": "1.5.0",
            "_view_name": "HBoxView",
            "box_style": "",
            "children": [
              "IPY_MODEL_5c363c211f6f4813b67cbb290dfe5a05",
              "IPY_MODEL_c4a8952f2d914aaea7309f68fba57fe7",
              "IPY_MODEL_0cfb4a84f67a41b7903a167a5a7e102a"
            ],
            "layout": "IPY_MODEL_0223747561fa4d178b04211491ae38c7"
          }
        },
        "5c363c211f6f4813b67cbb290dfe5a05": {
          "model_module": "@jupyter-widgets/controls",
          "model_name": "HTMLModel",
          "model_module_version": "1.5.0",
          "state": {
            "_dom_classes": [],
            "_model_module": "@jupyter-widgets/controls",
            "_model_module_version": "1.5.0",
            "_model_name": "HTMLModel",
            "_view_count": null,
            "_view_module": "@jupyter-widgets/controls",
            "_view_module_version": "1.5.0",
            "_view_name": "HTMLView",
            "description": "",
            "description_tooltip": null,
            "layout": "IPY_MODEL_59f52cac80954d4ca77cdfffb7bca65f",
            "placeholder": "​",
            "style": "IPY_MODEL_7ecf5906c6df4b78b32ed987e79e43f0",
            "value": "Downloading (…)okenizer_config.json: 100%"
          }
        },
        "c4a8952f2d914aaea7309f68fba57fe7": {
          "model_module": "@jupyter-widgets/controls",
          "model_name": "FloatProgressModel",
          "model_module_version": "1.5.0",
          "state": {
            "_dom_classes": [],
            "_model_module": "@jupyter-widgets/controls",
            "_model_module_version": "1.5.0",
            "_model_name": "FloatProgressModel",
            "_view_count": null,
            "_view_module": "@jupyter-widgets/controls",
            "_view_module_version": "1.5.0",
            "_view_name": "ProgressView",
            "bar_style": "success",
            "description": "",
            "description_tooltip": null,
            "layout": "IPY_MODEL_23db37a162fb4cbe813019f89efb3ab7",
            "max": 401,
            "min": 0,
            "orientation": "horizontal",
            "style": "IPY_MODEL_9f08b43fa9ae4f16b8a8df4b71aaa38a",
            "value": 401
          }
        },
        "0cfb4a84f67a41b7903a167a5a7e102a": {
          "model_module": "@jupyter-widgets/controls",
          "model_name": "HTMLModel",
          "model_module_version": "1.5.0",
          "state": {
            "_dom_classes": [],
            "_model_module": "@jupyter-widgets/controls",
            "_model_module_version": "1.5.0",
            "_model_name": "HTMLModel",
            "_view_count": null,
            "_view_module": "@jupyter-widgets/controls",
            "_view_module_version": "1.5.0",
            "_view_name": "HTMLView",
            "description": "",
            "description_tooltip": null,
            "layout": "IPY_MODEL_a02babe350374efa8559265e628e6e5b",
            "placeholder": "​",
            "style": "IPY_MODEL_d489bd3447d749f7911922a4caee452b",
            "value": " 401/401 [00:00&lt;00:00, 16.2kB/s]"
          }
        },
        "0223747561fa4d178b04211491ae38c7": {
          "model_module": "@jupyter-widgets/base",
          "model_name": "LayoutModel",
          "model_module_version": "1.2.0",
          "state": {
            "_model_module": "@jupyter-widgets/base",
            "_model_module_version": "1.2.0",
            "_model_name": "LayoutModel",
            "_view_count": null,
            "_view_module": "@jupyter-widgets/base",
            "_view_module_version": "1.2.0",
            "_view_name": "LayoutView",
            "align_content": null,
            "align_items": null,
            "align_self": null,
            "border": null,
            "bottom": null,
            "display": null,
            "flex": null,
            "flex_flow": null,
            "grid_area": null,
            "grid_auto_columns": null,
            "grid_auto_flow": null,
            "grid_auto_rows": null,
            "grid_column": null,
            "grid_gap": null,
            "grid_row": null,
            "grid_template_areas": null,
            "grid_template_columns": null,
            "grid_template_rows": null,
            "height": null,
            "justify_content": null,
            "justify_items": null,
            "left": null,
            "margin": null,
            "max_height": null,
            "max_width": null,
            "min_height": null,
            "min_width": null,
            "object_fit": null,
            "object_position": null,
            "order": null,
            "overflow": null,
            "overflow_x": null,
            "overflow_y": null,
            "padding": null,
            "right": null,
            "top": null,
            "visibility": null,
            "width": null
          }
        },
        "59f52cac80954d4ca77cdfffb7bca65f": {
          "model_module": "@jupyter-widgets/base",
          "model_name": "LayoutModel",
          "model_module_version": "1.2.0",
          "state": {
            "_model_module": "@jupyter-widgets/base",
            "_model_module_version": "1.2.0",
            "_model_name": "LayoutModel",
            "_view_count": null,
            "_view_module": "@jupyter-widgets/base",
            "_view_module_version": "1.2.0",
            "_view_name": "LayoutView",
            "align_content": null,
            "align_items": null,
            "align_self": null,
            "border": null,
            "bottom": null,
            "display": null,
            "flex": null,
            "flex_flow": null,
            "grid_area": null,
            "grid_auto_columns": null,
            "grid_auto_flow": null,
            "grid_auto_rows": null,
            "grid_column": null,
            "grid_gap": null,
            "grid_row": null,
            "grid_template_areas": null,
            "grid_template_columns": null,
            "grid_template_rows": null,
            "height": null,
            "justify_content": null,
            "justify_items": null,
            "left": null,
            "margin": null,
            "max_height": null,
            "max_width": null,
            "min_height": null,
            "min_width": null,
            "object_fit": null,
            "object_position": null,
            "order": null,
            "overflow": null,
            "overflow_x": null,
            "overflow_y": null,
            "padding": null,
            "right": null,
            "top": null,
            "visibility": null,
            "width": null
          }
        },
        "7ecf5906c6df4b78b32ed987e79e43f0": {
          "model_module": "@jupyter-widgets/controls",
          "model_name": "DescriptionStyleModel",
          "model_module_version": "1.5.0",
          "state": {
            "_model_module": "@jupyter-widgets/controls",
            "_model_module_version": "1.5.0",
            "_model_name": "DescriptionStyleModel",
            "_view_count": null,
            "_view_module": "@jupyter-widgets/base",
            "_view_module_version": "1.2.0",
            "_view_name": "StyleView",
            "description_width": ""
          }
        },
        "23db37a162fb4cbe813019f89efb3ab7": {
          "model_module": "@jupyter-widgets/base",
          "model_name": "LayoutModel",
          "model_module_version": "1.2.0",
          "state": {
            "_model_module": "@jupyter-widgets/base",
            "_model_module_version": "1.2.0",
            "_model_name": "LayoutModel",
            "_view_count": null,
            "_view_module": "@jupyter-widgets/base",
            "_view_module_version": "1.2.0",
            "_view_name": "LayoutView",
            "align_content": null,
            "align_items": null,
            "align_self": null,
            "border": null,
            "bottom": null,
            "display": null,
            "flex": null,
            "flex_flow": null,
            "grid_area": null,
            "grid_auto_columns": null,
            "grid_auto_flow": null,
            "grid_auto_rows": null,
            "grid_column": null,
            "grid_gap": null,
            "grid_row": null,
            "grid_template_areas": null,
            "grid_template_columns": null,
            "grid_template_rows": null,
            "height": null,
            "justify_content": null,
            "justify_items": null,
            "left": null,
            "margin": null,
            "max_height": null,
            "max_width": null,
            "min_height": null,
            "min_width": null,
            "object_fit": null,
            "object_position": null,
            "order": null,
            "overflow": null,
            "overflow_x": null,
            "overflow_y": null,
            "padding": null,
            "right": null,
            "top": null,
            "visibility": null,
            "width": null
          }
        },
        "9f08b43fa9ae4f16b8a8df4b71aaa38a": {
          "model_module": "@jupyter-widgets/controls",
          "model_name": "ProgressStyleModel",
          "model_module_version": "1.5.0",
          "state": {
            "_model_module": "@jupyter-widgets/controls",
            "_model_module_version": "1.5.0",
            "_model_name": "ProgressStyleModel",
            "_view_count": null,
            "_view_module": "@jupyter-widgets/base",
            "_view_module_version": "1.2.0",
            "_view_name": "StyleView",
            "bar_color": null,
            "description_width": ""
          }
        },
        "a02babe350374efa8559265e628e6e5b": {
          "model_module": "@jupyter-widgets/base",
          "model_name": "LayoutModel",
          "model_module_version": "1.2.0",
          "state": {
            "_model_module": "@jupyter-widgets/base",
            "_model_module_version": "1.2.0",
            "_model_name": "LayoutModel",
            "_view_count": null,
            "_view_module": "@jupyter-widgets/base",
            "_view_module_version": "1.2.0",
            "_view_name": "LayoutView",
            "align_content": null,
            "align_items": null,
            "align_self": null,
            "border": null,
            "bottom": null,
            "display": null,
            "flex": null,
            "flex_flow": null,
            "grid_area": null,
            "grid_auto_columns": null,
            "grid_auto_flow": null,
            "grid_auto_rows": null,
            "grid_column": null,
            "grid_gap": null,
            "grid_row": null,
            "grid_template_areas": null,
            "grid_template_columns": null,
            "grid_template_rows": null,
            "height": null,
            "justify_content": null,
            "justify_items": null,
            "left": null,
            "margin": null,
            "max_height": null,
            "max_width": null,
            "min_height": null,
            "min_width": null,
            "object_fit": null,
            "object_position": null,
            "order": null,
            "overflow": null,
            "overflow_x": null,
            "overflow_y": null,
            "padding": null,
            "right": null,
            "top": null,
            "visibility": null,
            "width": null
          }
        },
        "d489bd3447d749f7911922a4caee452b": {
          "model_module": "@jupyter-widgets/controls",
          "model_name": "DescriptionStyleModel",
          "model_module_version": "1.5.0",
          "state": {
            "_model_module": "@jupyter-widgets/controls",
            "_model_module_version": "1.5.0",
            "_model_name": "DescriptionStyleModel",
            "_view_count": null,
            "_view_module": "@jupyter-widgets/base",
            "_view_module_version": "1.2.0",
            "_view_name": "StyleView",
            "description_width": ""
          }
        }
      }
    }
  },
  "nbformat": 4,
  "nbformat_minor": 5
}