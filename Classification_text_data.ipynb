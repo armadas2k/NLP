{
 "cells": [
  {
   "cell_type": "markdown",
   "id": "b130a939",
   "metadata": {},
   "source": [
    "### Выполнил Евгений Гузеев"
   ]
  },
  {
   "cell_type": "code",
   "execution_count": 1,
   "id": "1b2c0352",
   "metadata": {},
   "outputs": [],
   "source": [
    "import pandas as pd\n",
    "import numpy as np\n",
    "import seaborn as sns\n",
    "import matplotlib.pyplot as plt\n",
    "plt.style.use('fivethirtyeight')\n",
    "import warnings\n",
    "warnings.filterwarnings('ignore')\n",
    "warnings.simplefilter('ignore')\n",
    "# Библиотека регулярных выражений\n",
    "import re"
   ]
  },
  {
   "cell_type": "code",
   "execution_count": 2,
   "id": "e8c04d02",
   "metadata": {},
   "outputs": [
    {
     "data": {
      "text/html": [
       "<div>\n",
       "<style scoped>\n",
       "    .dataframe tbody tr th:only-of-type {\n",
       "        vertical-align: middle;\n",
       "    }\n",
       "\n",
       "    .dataframe tbody tr th {\n",
       "        vertical-align: top;\n",
       "    }\n",
       "\n",
       "    .dataframe thead th {\n",
       "        text-align: right;\n",
       "    }\n",
       "</style>\n",
       "<table border=\"1\" class=\"dataframe\">\n",
       "  <thead>\n",
       "    <tr style=\"text-align: right;\">\n",
       "      <th></th>\n",
       "      <th>description</th>\n",
       "      <th>activity</th>\n",
       "      <th>name</th>\n",
       "      <th>screen_name</th>\n",
       "    </tr>\n",
       "  </thead>\n",
       "  <tbody>\n",
       "    <tr>\n",
       "      <th>0</th>\n",
       "      <td>Присылайте свои анекдоты в \"Предложите новость...</td>\n",
       "      <td>Юмор</td>\n",
       "      <td>Азохнвей! Бесплатные щикарные анекдоты</td>\n",
       "      <td>azohen_vey</td>\n",
       "    </tr>\n",
       "    <tr>\n",
       "      <th>1</th>\n",
       "      <td>Познавательные мемы, широкий охват тем, уникал...</td>\n",
       "      <td>Юмор</td>\n",
       "      <td>Мемуары ценителей научных мемов</td>\n",
       "      <td>sciencemem</td>\n",
       "    </tr>\n",
       "    <tr>\n",
       "      <th>2</th>\n",
       "      <td>На Хабр Q&amp;A можно получить ответ на вопрос по ...</td>\n",
       "      <td>Программирование</td>\n",
       "      <td>Хабр Q&amp;A</td>\n",
       "      <td>toster_ru</td>\n",
       "    </tr>\n",
       "    <tr>\n",
       "      <th>3</th>\n",
       "      <td>Официальный канал сервиса РБК Инвестиции для т...</td>\n",
       "      <td>Финансы</td>\n",
       "      <td>РБК Инвестиции</td>\n",
       "      <td>rbc_investments</td>\n",
       "    </tr>\n",
       "    <tr>\n",
       "      <th>4</th>\n",
       "      <td>Помогаем новичкам стать веб-разработчиками, а ...</td>\n",
       "      <td>Программирование</td>\n",
       "      <td>Хекслет</td>\n",
       "      <td>hexlet</td>\n",
       "    </tr>\n",
       "  </tbody>\n",
       "</table>\n",
       "</div>"
      ],
      "text/plain": [
       "                                         description          activity  \\\n",
       "0  Присылайте свои анекдоты в \"Предложите новость...              Юмор   \n",
       "1  Познавательные мемы, широкий охват тем, уникал...              Юмор   \n",
       "2  На Хабр Q&A можно получить ответ на вопрос по ...  Программирование   \n",
       "3  Официальный канал сервиса РБК Инвестиции для т...           Финансы   \n",
       "4  Помогаем новичкам стать веб-разработчиками, а ...  Программирование   \n",
       "\n",
       "                                     name      screen_name  \n",
       "0  Азохнвей! Бесплатные щикарные анекдоты       azohen_vey  \n",
       "1         Мемуары ценителей научных мемов       sciencemem  \n",
       "2                                Хабр Q&A        toster_ru  \n",
       "3                          РБК Инвестиции  rbc_investments  \n",
       "4                                 Хекслет           hexlet  "
      ]
     },
     "execution_count": 2,
     "metadata": {},
     "output_type": "execute_result"
    }
   ],
   "source": [
    "# Загрузим данные с неуникальными значениями\n",
    "df_nunique = pd.read_excel('best_analysis (ДИПЛОМ).xlsx', index_col=0)[['description', 'activity', 'name', 'screen_name']]\n",
    "# Выведем первые 5 занчений\n",
    "df_nunique.head(5)"
   ]
  },
  {
   "cell_type": "code",
   "execution_count": 3,
   "id": "61f7a3ea",
   "metadata": {},
   "outputs": [
    {
     "name": "stdout",
     "output_type": "stream",
     "text": [
      "Датафрейм с данными по прикладной информатике имеет 7863 строк и 4 столбца\n"
     ]
    }
   ],
   "source": [
    "\n",
    "print(f'Датафрейм с данными по прикладной информатике имеет {df_nunique.shape[0]} строк и {df_nunique.shape[1]} столбца' )"
   ]
  },
  {
   "cell_type": "code",
   "execution_count": 4,
   "id": "d90f2fcb",
   "metadata": {},
   "outputs": [
    {
     "data": {
      "text/html": [
       "<div>\n",
       "<style scoped>\n",
       "    .dataframe tbody tr th:only-of-type {\n",
       "        vertical-align: middle;\n",
       "    }\n",
       "\n",
       "    .dataframe tbody tr th {\n",
       "        vertical-align: top;\n",
       "    }\n",
       "\n",
       "    .dataframe thead th {\n",
       "        text-align: right;\n",
       "    }\n",
       "</style>\n",
       "<table border=\"1\" class=\"dataframe\">\n",
       "  <thead>\n",
       "    <tr style=\"text-align: right;\">\n",
       "      <th></th>\n",
       "      <th>Процентное_соотношение</th>\n",
       "    </tr>\n",
       "    <tr>\n",
       "      <th>Значения</th>\n",
       "      <th></th>\n",
       "    </tr>\n",
       "  </thead>\n",
       "  <tbody>\n",
       "    <tr>\n",
       "      <th>уникальные</th>\n",
       "      <td>54.5</td>\n",
       "    </tr>\n",
       "    <tr>\n",
       "      <th>неуникальные</th>\n",
       "      <td>45.5</td>\n",
       "    </tr>\n",
       "  </tbody>\n",
       "</table>\n",
       "</div>"
      ],
      "text/plain": [
       "              Процентное_соотношение\n",
       "Значения                            \n",
       "уникальные                      54.5\n",
       "неуникальные                    45.5"
      ]
     },
     "execution_count": 4,
     "metadata": {},
     "output_type": "execute_result"
    }
   ],
   "source": [
    "# Посмотрим на соотношение уникальных значений и неуникальных\n",
    "# Для этого сделаем небольшой датафрейм и отобразим его визуально\n",
    "df_all = pd.DataFrame({'Значения' : ['уникальные', 'неуникальные'],\n",
    "                      'Количество' : [len(df_nunique['name'].unique()),\n",
    "                                     df_nunique.shape[0] - len(df_nunique['name'].unique())]})\n",
    "df_all = df_all.set_index('Значения').reset_index()\n",
    "df_all['Процентное_соотношение'] = np.round(100 * df_all['Количество'] / len(df_nunique), 2)\n",
    "df_all = df_all[['Значения', 'Процентное_соотношение']].set_index('Значения')\n",
    "df_all"
   ]
  },
  {
   "cell_type": "code",
   "execution_count": 5,
   "id": "5e9a7200",
   "metadata": {},
   "outputs": [
    {
     "data": {
      "text/plain": [
       "Text(0.5, 1.0, 'Соотношение Уникальных и неуникальных значений')"
      ]
     },
     "execution_count": 5,
     "metadata": {},
     "output_type": "execute_result"
    },
    {
     "data": {
      "image/png": "[encoded data removed]",
      "text/plain": [
       "<Figure size 640x480 with 1 Axes>"
      ]
     },
     "metadata": {},
     "output_type": "display_data"
    }
   ],
   "source": [
    "df_all.plot.bar()\n",
    "plt.title('Соотношение Уникальных и неуникальных значений', size=10)"
   ]
  },
  {
   "cell_type": "markdown",
   "id": "8595899c",
   "metadata": {},
   "source": [
    "### Предположение 1:\n",
    "\n",
    "Люди, которые увлечены аналитикой данных, программированием интересуются следующим:\n",
    "\n",
    "* Обычные сми, юморы, мемы, демотиваторы (нельзя почти изъять полезную информацию)\n",
    "* Для разгрузки головы и развития другого полушария используются видеоигры, просмотры стримов, игра на гитаре, психология итд\n",
    "* Английский и увлечение языком, позволяет становится профессиональнее\n",
    "* Программирование математика"
   ]
  },
  {
   "cell_type": "code",
   "execution_count": 6,
   "id": "d73d0489",
   "metadata": {},
   "outputs": [
    {
     "data": {
      "text/html": [
       "<div>\n",
       "<style scoped>\n",
       "    .dataframe tbody tr th:only-of-type {\n",
       "        vertical-align: middle;\n",
       "    }\n",
       "\n",
       "    .dataframe tbody tr th {\n",
       "        vertical-align: top;\n",
       "    }\n",
       "\n",
       "    .dataframe thead th {\n",
       "        text-align: right;\n",
       "    }\n",
       "</style>\n",
       "<table border=\"1\" class=\"dataframe\">\n",
       "  <thead>\n",
       "    <tr style=\"text-align: right;\">\n",
       "      <th></th>\n",
       "      <th>name</th>\n",
       "    </tr>\n",
       "  </thead>\n",
       "  <tbody>\n",
       "    <tr>\n",
       "      <th>Лентач</th>\n",
       "      <td>123</td>\n",
       "    </tr>\n",
       "    <tr>\n",
       "      <th>Пикабу</th>\n",
       "      <td>80</td>\n",
       "    </tr>\n",
       "    <tr>\n",
       "      <th>Типичный программист</th>\n",
       "      <td>44</td>\n",
       "    </tr>\n",
       "    <tr>\n",
       "      <th>/dev/null</th>\n",
       "      <td>44</td>\n",
       "    </tr>\n",
       "    <tr>\n",
       "      <th>Хабр</th>\n",
       "      <td>44</td>\n",
       "    </tr>\n",
       "    <tr>\n",
       "      <th>Наука и Техника</th>\n",
       "      <td>43</td>\n",
       "    </tr>\n",
       "    <tr>\n",
       "      <th>MDK</th>\n",
       "      <td>42</td>\n",
       "    </tr>\n",
       "    <tr>\n",
       "      <th>Мои любимые юморески</th>\n",
       "      <td>40</td>\n",
       "    </tr>\n",
       "    <tr>\n",
       "      <th>Лепра</th>\n",
       "      <td>38</td>\n",
       "    </tr>\n",
       "    <tr>\n",
       "      <th>хайер скул оф мемс</th>\n",
       "      <td>37</td>\n",
       "    </tr>\n",
       "    <tr>\n",
       "      <th>Science|Наука</th>\n",
       "      <td>34</td>\n",
       "    </tr>\n",
       "    <tr>\n",
       "      <th>Палата №6</th>\n",
       "      <td>28</td>\n",
       "    </tr>\n",
       "    <tr>\n",
       "      <th>Настоящий Лентач</th>\n",
       "      <td>27</td>\n",
       "    </tr>\n",
       "    <tr>\n",
       "      <th>Подслушано – Здесь говорят о тебе</th>\n",
       "      <td>27</td>\n",
       "    </tr>\n",
       "    <tr>\n",
       "      <th>IGM</th>\n",
       "      <td>27</td>\n",
       "    </tr>\n",
       "    <tr>\n",
       "      <th>Reddit</th>\n",
       "      <td>26</td>\n",
       "    </tr>\n",
       "    <tr>\n",
       "      <th>9GAG</th>\n",
       "      <td>26</td>\n",
       "    </tr>\n",
       "    <tr>\n",
       "      <th>Лепрозорий</th>\n",
       "      <td>26</td>\n",
       "    </tr>\n",
       "    <tr>\n",
       "      <th>MARVEL/DC</th>\n",
       "      <td>24</td>\n",
       "    </tr>\n",
       "    <tr>\n",
       "      <th>МХК</th>\n",
       "      <td>24</td>\n",
       "    </tr>\n",
       "    <tr>\n",
       "      <th>$$$ DANK MEMES $$$ AYY LMAO $$$</th>\n",
       "      <td>24</td>\n",
       "    </tr>\n",
       "    <tr>\n",
       "      <th>Библиотека программиста</th>\n",
       "      <td>23</td>\n",
       "    </tr>\n",
       "    <tr>\n",
       "      <th>Мемуары ценителей научных мемов</th>\n",
       "      <td>23</td>\n",
       "    </tr>\n",
       "    <tr>\n",
       "      <th>Типичный Нижний Новгород</th>\n",
       "      <td>23</td>\n",
       "    </tr>\n",
       "    <tr>\n",
       "      <th>Шедевры рекламы</th>\n",
       "      <td>22</td>\n",
       "    </tr>\n",
       "    <tr>\n",
       "      <th>Vandrouki | Путешествия почти бесплатно (RU)</th>\n",
       "      <td>22</td>\n",
       "    </tr>\n",
       "    <tr>\n",
       "      <th>Как я встретил столбняк</th>\n",
       "      <td>21</td>\n",
       "    </tr>\n",
       "    <tr>\n",
       "      <th>Нижний Новгород</th>\n",
       "      <td>21</td>\n",
       "    </tr>\n",
       "    <tr>\n",
       "      <th>CLIQUE</th>\n",
       "      <td>19</td>\n",
       "    </tr>\n",
       "    <tr>\n",
       "      <th>Рифмы и Панчи</th>\n",
       "      <td>18</td>\n",
       "    </tr>\n",
       "  </tbody>\n",
       "</table>\n",
       "</div>"
      ],
      "text/plain": [
       "                                              name\n",
       "Лентач                                         123\n",
       "Пикабу                                          80\n",
       "Типичный программист                            44\n",
       "/dev/null                                       44\n",
       "Хабр                                            44\n",
       "Наука и Техника                                 43\n",
       "MDK                                             42\n",
       "Мои любимые юморески                            40\n",
       "Лепра                                           38\n",
       "хайер скул оф мемс                              37\n",
       "Science|Наука                                   34\n",
       "Палата №6                                       28\n",
       "Настоящий Лентач                                27\n",
       "Подслушано – Здесь говорят о тебе               27\n",
       "IGM                                             27\n",
       "Reddit                                          26\n",
       "9GAG                                            26\n",
       "Лепрозорий                                      26\n",
       "MARVEL/DC                                       24\n",
       "МХК                                             24\n",
       "$$$ DANK MEMES $$$ AYY LMAO $$$                 24\n",
       "Библиотека программиста                         23\n",
       "Мемуары ценителей научных мемов                 23\n",
       "Типичный Нижний Новгород                        23\n",
       "Шедевры рекламы                                 22\n",
       "Vandrouki | Путешествия почти бесплатно (RU)    22\n",
       "Как я встретил столбняк                         21\n",
       "Нижний Новгород                                 21\n",
       "CLIQUE                                          19\n",
       "Рифмы и Панчи                                   18"
      ]
     },
     "execution_count": 6,
     "metadata": {},
     "output_type": "execute_result"
    }
   ],
   "source": [
    "# Путем подсчета занчений проверим это соотношение\n",
    "df_nun_value = pd.DataFrame(df_nunique['name'].value_counts()).head(30)\n",
    "df_nun_value"
   ]
  },
  {
   "cell_type": "markdown",
   "id": "7aace903",
   "metadata": {},
   "source": [
    "### Исходя из этих данных целесообразно делить на 4 класса:\n",
    "\n",
    "1. Читалка, интернет-сми, юмор, обьявления, философия\n",
    "2. Все что относится к хобби\n",
    "3. Движение к развитию человека (математика, английский, дизайн итд)\n",
    "4. Развитие профессиональных софт скиллов ( Все что отнсоится к программированию)"
   ]
  },
  {
   "cell_type": "markdown",
   "id": "e65488de",
   "metadata": {},
   "source": [
    "Для алгоритма градиентного бустинга `CatBoost`, не надо проводить предообработку текста, кроме чистки. Лематизация и токенизация встроен в сам алгоритм.\n",
    "\n",
    "Для всех других алгоритмов необходимо сделать все шаги препроцессинга и перевести текст в векторное представление `TFiDF` "
   ]
  },
  {
   "cell_type": "markdown",
   "id": "5dec7407",
   "metadata": {},
   "source": [
    "## Загрузим размеченные данные"
   ]
  },
  {
   "cell_type": "code",
   "execution_count": 7,
   "id": "c4f04e81",
   "metadata": {},
   "outputs": [
    {
     "data": {
      "text/html": [
       "<div>\n",
       "<style scoped>\n",
       "    .dataframe tbody tr th:only-of-type {\n",
       "        vertical-align: middle;\n",
       "    }\n",
       "\n",
       "    .dataframe tbody tr th {\n",
       "        vertical-align: top;\n",
       "    }\n",
       "\n",
       "    .dataframe thead th {\n",
       "        text-align: right;\n",
       "    }\n",
       "</style>\n",
       "<table border=\"1\" class=\"dataframe\">\n",
       "  <thead>\n",
       "    <tr style=\"text-align: right;\">\n",
       "      <th></th>\n",
       "      <th>description</th>\n",
       "      <th>activity</th>\n",
       "      <th>name</th>\n",
       "      <th>screen_name</th>\n",
       "      <th>target</th>\n",
       "    </tr>\n",
       "  </thead>\n",
       "  <tbody>\n",
       "    <tr>\n",
       "      <th>0</th>\n",
       "      <td>Присылайте свои анекдоты в \"Предложите новость...</td>\n",
       "      <td>Юмор</td>\n",
       "      <td>Азохнвей! Бесплатные щикарные анекдоты</td>\n",
       "      <td>azohen_vey</td>\n",
       "      <td>1</td>\n",
       "    </tr>\n",
       "    <tr>\n",
       "      <th>1</th>\n",
       "      <td>Познавательные мемы, широкий охват тем, уникал...</td>\n",
       "      <td>Юмор</td>\n",
       "      <td>Мемуары ценителей научных мемов</td>\n",
       "      <td>sciencemem</td>\n",
       "      <td>1</td>\n",
       "    </tr>\n",
       "    <tr>\n",
       "      <th>2</th>\n",
       "      <td>На Хабр Q&amp;A можно получить ответ на вопрос по ...</td>\n",
       "      <td>Программирование</td>\n",
       "      <td>Хабр Q&amp;A</td>\n",
       "      <td>toster_ru</td>\n",
       "      <td>4</td>\n",
       "    </tr>\n",
       "    <tr>\n",
       "      <th>3</th>\n",
       "      <td>Официальный канал сервиса РБК Инвестиции для т...</td>\n",
       "      <td>Финансы</td>\n",
       "      <td>РБК Инвестиции</td>\n",
       "      <td>rbc_investments</td>\n",
       "      <td>3</td>\n",
       "    </tr>\n",
       "    <tr>\n",
       "      <th>4</th>\n",
       "      <td>Помогаем новичкам стать веб-разработчиками, а ...</td>\n",
       "      <td>Программирование</td>\n",
       "      <td>Хекслет</td>\n",
       "      <td>hexlet</td>\n",
       "      <td>4</td>\n",
       "    </tr>\n",
       "  </tbody>\n",
       "</table>\n",
       "</div>"
      ],
      "text/plain": [
       "                                         description          activity  \\\n",
       "0  Присылайте свои анекдоты в \"Предложите новость...              Юмор   \n",
       "1  Познавательные мемы, широкий охват тем, уникал...              Юмор   \n",
       "2  На Хабр Q&A можно получить ответ на вопрос по ...  Программирование   \n",
       "3  Официальный канал сервиса РБК Инвестиции для т...           Финансы   \n",
       "4  Помогаем новичкам стать веб-разработчиками, а ...  Программирование   \n",
       "\n",
       "                                     name      screen_name  target  \n",
       "0  Азохнвей! Бесплатные щикарные анекдоты       azohen_vey       1  \n",
       "1         Мемуары ценителей научных мемов       sciencemem       1  \n",
       "2                                Хабр Q&A        toster_ru       4  \n",
       "3                          РБК Инвестиции  rbc_investments       3  \n",
       "4                                 Хекслет           hexlet       4  "
      ]
     },
     "execution_count": 7,
     "metadata": {},
     "output_type": "execute_result"
    }
   ],
   "source": [
    "# Загрузим данные для классификации\n",
    "df = pd.read_excel('diploma_this.xlsx')\n",
    "# сделаем копию датафрейма\n",
    "df1 = df.copy()\n",
    "# Выведем первые 10 значений\n",
    "df1.head(5)"
   ]
  },
  {
   "cell_type": "code",
   "execution_count": 8,
   "id": "35840a38",
   "metadata": {},
   "outputs": [
    {
     "data": {
      "text/plain": [
       "description    0.159221\n",
       "activity       0.006873\n",
       "name           0.000229\n",
       "screen_name    0.000000\n",
       "target         0.000000\n",
       "dtype: float64"
      ]
     },
     "execution_count": 8,
     "metadata": {},
     "output_type": "execute_result"
    }
   ],
   "source": [
    "# Посмотрим на количество пропущенных занчений\n",
    "df.isna().mean()"
   ]
  },
  {
   "cell_type": "markdown",
   "id": "497bcb4b",
   "metadata": {},
   "source": [
    "Как видим в столбцах `description`, `activity`, `name` имеются пропущенные значения. Так как на этих данных будет происходить обучение модели, то более целесообразнее не удалять пустые значения, а заменить их например на строку `пустое название`"
   ]
  },
  {
   "cell_type": "code",
   "execution_count": 9,
   "id": "50b3e723",
   "metadata": {},
   "outputs": [
    {
     "data": {
      "text/html": [
       "<div>\n",
       "<style scoped>\n",
       "    .dataframe tbody tr th:only-of-type {\n",
       "        vertical-align: middle;\n",
       "    }\n",
       "\n",
       "    .dataframe tbody tr th {\n",
       "        vertical-align: top;\n",
       "    }\n",
       "\n",
       "    .dataframe thead th {\n",
       "        text-align: right;\n",
       "    }\n",
       "</style>\n",
       "<table border=\"1\" class=\"dataframe\">\n",
       "  <thead>\n",
       "    <tr style=\"text-align: right;\">\n",
       "      <th></th>\n",
       "      <th>target</th>\n",
       "    </tr>\n",
       "  </thead>\n",
       "  <tbody>\n",
       "    <tr>\n",
       "      <th>1</th>\n",
       "      <td>52.279496</td>\n",
       "    </tr>\n",
       "    <tr>\n",
       "      <th>2</th>\n",
       "      <td>37.021764</td>\n",
       "    </tr>\n",
       "    <tr>\n",
       "      <th>3</th>\n",
       "      <td>7.308133</td>\n",
       "    </tr>\n",
       "    <tr>\n",
       "      <th>4</th>\n",
       "      <td>3.390607</td>\n",
       "    </tr>\n",
       "  </tbody>\n",
       "</table>\n",
       "</div>"
      ],
      "text/plain": [
       "      target\n",
       "1  52.279496\n",
       "2  37.021764\n",
       "3   7.308133\n",
       "4   3.390607"
      ]
     },
     "execution_count": 9,
     "metadata": {},
     "output_type": "execute_result"
    }
   ],
   "source": [
    "# Посмотрим на соотношение классов\n",
    "df_target = pd.DataFrame(100 * df1['target'].value_counts(normalize=True))\n",
    "df_target"
   ]
  },
  {
   "cell_type": "code",
   "execution_count": 10,
   "id": "87565234",
   "metadata": {},
   "outputs": [
    {
     "data": {
      "text/plain": [
       "Text(0.5, 1.0, 'Разбиение классов')"
      ]
     },
     "execution_count": 10,
     "metadata": {},
     "output_type": "execute_result"
    },
    {
     "data": {
      "image/png": "[encoded data removed]",
      "text/plain": [
       "<Figure size 640x480 with 1 Axes>"
      ]
     },
     "metadata": {},
     "output_type": "display_data"
    }
   ],
   "source": [
    "df_target.plot.bar()\n",
    "plt.title('Разбиение классов', size=10)"
   ]
  },
  {
   "cell_type": "markdown",
   "id": "7c07d754",
   "metadata": {},
   "source": [
    "Как видим из графика классы очень сильно не сбалансированы. В случае несбалансированности классов целесообразнее использовать метрику `Total F`"
   ]
  },
  {
   "cell_type": "markdown",
   "id": "4ac18379",
   "metadata": {},
   "source": [
    "Мера **F-Score** представляет собой гармоническое среднее точности и полноты, то есть обратное значение\tот среднего\tзначения обратных значений точности\tи полноты\n",
    "\n",
    "$$ F = 2 \\cdot {\\frac{точность \\cdot полнота}{точность + полнота}} $$\n",
    "\n",
    "Здесь\tстоит\tотметить,\tчто\tточность\tи полнота\tявляются\t«естественными»\tобратными\tвеличинами\tв том\tсмысле,\tчто\tу них\tодинаковый\tчислитель\t(количество\tистинно\tположительных\tслучаев),\tа знаменатели\tразличны.\t"
   ]
  },
  {
   "cell_type": "markdown",
   "id": "6d9e9814",
   "metadata": {},
   "source": [
    "### Напишем функцию препроцессинга текстовых данных"
   ]
  },
  {
   "cell_type": "markdown",
   "id": "ff385ec7",
   "metadata": {},
   "source": [
    "Некоторые слова не несут смысловую нагрузку. К таким словам также можно отнести союзы, предлоги, а также знаки препинания. Для экономии времени воспользуемся готовым набором стоп слов"
   ]
  },
  {
   "cell_type": "markdown",
   "id": "d8a4f489",
   "metadata": {},
   "source": [
    "Подготовка текста для обучения состоит из нескольких этапов:\n",
    "    \n",
    " 1. Чистка текста, удаление стоп слов, удаление пунктуации. Замена пустых значений.\n",
    " 2. Токенизация текста - разбиение текста на токены\n",
    " 3. Лематизация текста - приведение слова к нормальному типу. Например слово `присылайте` измениться на слово `присылать`\n",
    " 4. Разбиение на тестовую и обучающую выборку.\n",
    "    \n"
   ]
  },
  {
   "cell_type": "code",
   "execution_count": 11,
   "id": "85b0e260",
   "metadata": {},
   "outputs": [
    {
     "data": {
      "text/plain": [
       "['c', 'а', 'алло', 'без', 'белый']"
      ]
     },
     "execution_count": 11,
     "metadata": {},
     "output_type": "execute_result"
    }
   ],
   "source": [
    "# Фильтр стоп слов\n",
    "# Загрузим стоп слова\n",
    "with open (\"stopwords-ru.txt\", encoding='utf-8') as stop_ru:\n",
    "    rus_stops = [word.strip() for word in stop_ru.readlines()]\n",
    "punctuation = '!\\\"#$%&\\'()*+,-./:;<=>?@[\\]^_`{|}~—»«...–'    \n",
    "filter = rus_stops + list(punctuation)\n",
    "# Выведем часть значений из фильтра\n",
    "filter[:5]"
   ]
  },
  {
   "cell_type": "code",
   "execution_count": 12,
   "id": "b9ddcf0b",
   "metadata": {},
   "outputs": [],
   "source": [
    "# Импорт лематизатора\n",
    "from pymorphy2 import MorphAnalyzer\n",
    "parser = MorphAnalyzer()"
   ]
  },
  {
   "cell_type": "code",
   "execution_count": 13,
   "id": "6fff95e4",
   "metadata": {},
   "outputs": [],
   "source": [
    "from nltk.tokenize import word_tokenize        # Импорт токенезации слов\n",
    "#from nltk import download as nltk_download     # Паке с токенизатором\n",
    "\n",
    "#nltk_download(\"punkt\")"
   ]
  },
  {
   "cell_type": "code",
   "execution_count": 14,
   "id": "86ea0d05",
   "metadata": {},
   "outputs": [],
   "source": [
    "def text_preprocess1(input_text):\n",
    "    # Удалим все гиперссылки\n",
    "    text = re.sub(r\"https?://[^,\\s]+,?\", \"\", input_text)\n",
    "    # Удалим все цифры\n",
    "    text = re.sub(r'\\d', '', text)\n",
    "    # Приведем к нижнему регистру\n",
    "    text = text.lower()\n",
    "    # Удалим все переносы\n",
    "    text = text.replace('\\n', ' ')\n",
    "    # Удалим все смайлики\n",
    "    text = re.sub('[^\\x00-\\x7Fа-яА-Я]', '', text)\n",
    "    # Удалим все спецсимволы\n",
    "    text = re.sub(r\"[^a-zA-Z0-9а-яА-Я]\", \" \", text)\n",
    "    \n",
    "    # удалим id\n",
    "    text = text.replace('id', '')\n",
    "    # Удалим более одного пробела\n",
    "    text = re.sub(r'\\s+ ', ' ', text)\n",
    "    tokenized_text = word_tokenize(text)\n",
    "    clean_text = [word for word in tokenized_text if word not in filter]\n",
    "    lemmatized_text = [parser.parse(word)[0].normal_form for word in \n",
    "                       clean_text]\n",
    "    lemmatized_text = ' '.join(lemmatized_text)\n",
    "    \n",
    "    return lemmatized_text\n",
    "    "
   ]
  },
  {
   "cell_type": "code",
   "execution_count": 15,
   "id": "f28f5385",
   "metadata": {},
   "outputs": [
    {
     "name": "stdout",
     "output_type": "stream",
     "text": [
      "<class 'pandas.core.frame.DataFrame'>\n",
      "RangeIndex: 4365 entries, 0 to 4364\n",
      "Data columns (total 5 columns):\n",
      " #   Column       Non-Null Count  Dtype \n",
      "---  ------       --------------  ----- \n",
      " 0   description  3670 non-null   object\n",
      " 1   activity     4335 non-null   object\n",
      " 2   name         4364 non-null   object\n",
      " 3   screen_name  4365 non-null   object\n",
      " 4   target       4365 non-null   int64 \n",
      "dtypes: int64(1), object(4)\n",
      "memory usage: 170.6+ KB\n"
     ]
    }
   ],
   "source": [
    "df1.info()"
   ]
  },
  {
   "cell_type": "code",
   "execution_count": 16,
   "id": "c0eb7cf7",
   "metadata": {},
   "outputs": [],
   "source": [
    "df1 = df1.fillna('Пустое название')\n",
    "df1['description_processed'] = df1['description'].astype('str').map(text_preprocess1)\n",
    "df1['activity_processed'] = df1['activity'].astype('str').map(text_preprocess1)\n",
    "df1['name_processed'] = df1['name'].astype('str').map(text_preprocess1)"
   ]
  },
  {
   "cell_type": "code",
   "execution_count": 17,
   "id": "b0a62053",
   "metadata": {},
   "outputs": [
    {
     "data": {
      "text/html": [
       "<div>\n",
       "<style scoped>\n",
       "    .dataframe tbody tr th:only-of-type {\n",
       "        vertical-align: middle;\n",
       "    }\n",
       "\n",
       "    .dataframe tbody tr th {\n",
       "        vertical-align: top;\n",
       "    }\n",
       "\n",
       "    .dataframe thead th {\n",
       "        text-align: right;\n",
       "    }\n",
       "</style>\n",
       "<table border=\"1\" class=\"dataframe\">\n",
       "  <thead>\n",
       "    <tr style=\"text-align: right;\">\n",
       "      <th></th>\n",
       "      <th>description</th>\n",
       "      <th>activity</th>\n",
       "      <th>name</th>\n",
       "      <th>screen_name</th>\n",
       "      <th>target</th>\n",
       "      <th>description_processed</th>\n",
       "      <th>activity_processed</th>\n",
       "      <th>name_processed</th>\n",
       "    </tr>\n",
       "  </thead>\n",
       "  <tbody>\n",
       "    <tr>\n",
       "      <th>0</th>\n",
       "      <td>Присылайте свои анекдоты в \"Предложите новость...</td>\n",
       "      <td>Юмор</td>\n",
       "      <td>Азохнвей! Бесплатные щикарные анекдоты</td>\n",
       "      <td>azohen_vey</td>\n",
       "      <td>1</td>\n",
       "      <td>присылать анекдот предложить новость группа ре...</td>\n",
       "      <td>юмор</td>\n",
       "      <td>азохнвеять бесплатный щикарный анекдот</td>\n",
       "    </tr>\n",
       "    <tr>\n",
       "      <th>1</th>\n",
       "      <td>Познавательные мемы, широкий охват тем, уникал...</td>\n",
       "      <td>Юмор</td>\n",
       "      <td>Мемуары ценителей научных мемов</td>\n",
       "      <td>sciencemem</td>\n",
       "      <td>1</td>\n",
       "      <td>познавательный мем широкий охват уникальный ид...</td>\n",
       "      <td>юмор</td>\n",
       "      <td>мемуары ценитель научный мем</td>\n",
       "    </tr>\n",
       "    <tr>\n",
       "      <th>2</th>\n",
       "      <td>На Хабр Q&amp;A можно получить ответ на вопрос по ...</td>\n",
       "      <td>Программирование</td>\n",
       "      <td>Хабр Q&amp;A</td>\n",
       "      <td>toster_ru</td>\n",
       "      <td>4</td>\n",
       "      <td>хабра q a ответ любой тема it участник сообщес...</td>\n",
       "      <td>программирование</td>\n",
       "      <td>хабра q a</td>\n",
       "    </tr>\n",
       "  </tbody>\n",
       "</table>\n",
       "</div>"
      ],
      "text/plain": [
       "                                         description          activity  \\\n",
       "0  Присылайте свои анекдоты в \"Предложите новость...              Юмор   \n",
       "1  Познавательные мемы, широкий охват тем, уникал...              Юмор   \n",
       "2  На Хабр Q&A можно получить ответ на вопрос по ...  Программирование   \n",
       "\n",
       "                                     name screen_name  target  \\\n",
       "0  Азохнвей! Бесплатные щикарные анекдоты  azohen_vey       1   \n",
       "1         Мемуары ценителей научных мемов  sciencemem       1   \n",
       "2                                Хабр Q&A   toster_ru       4   \n",
       "\n",
       "                               description_processed activity_processed  \\\n",
       "0  присылать анекдот предложить новость группа ре...               юмор   \n",
       "1  познавательный мем широкий охват уникальный ид...               юмор   \n",
       "2  хабра q a ответ любой тема it участник сообщес...   программирование   \n",
       "\n",
       "                           name_processed  \n",
       "0  азохнвеять бесплатный щикарный анекдот  \n",
       "1            мемуары ценитель научный мем  \n",
       "2                               хабра q a  "
      ]
     },
     "execution_count": 17,
     "metadata": {},
     "output_type": "execute_result"
    }
   ],
   "source": [
    "df1.head(3)"
   ]
  },
  {
   "cell_type": "code",
   "execution_count": 163,
   "id": "d3264c7f",
   "metadata": {
    "scrolled": true
   },
   "outputs": [
    {
     "data": {
      "text/html": [
       "<div>\n",
       "<style scoped>\n",
       "    .dataframe tbody tr th:only-of-type {\n",
       "        vertical-align: middle;\n",
       "    }\n",
       "\n",
       "    .dataframe tbody tr th {\n",
       "        vertical-align: top;\n",
       "    }\n",
       "\n",
       "    .dataframe thead th {\n",
       "        text-align: right;\n",
       "    }\n",
       "</style>\n",
       "<table border=\"1\" class=\"dataframe\">\n",
       "  <thead>\n",
       "    <tr style=\"text-align: right;\">\n",
       "      <th></th>\n",
       "      <th>description_processed</th>\n",
       "      <th>activity_processed</th>\n",
       "      <th>name_processed</th>\n",
       "      <th>target</th>\n",
       "    </tr>\n",
       "  </thead>\n",
       "  <tbody>\n",
       "    <tr>\n",
       "      <th>0</th>\n",
       "      <td>присылать анекдот предложить новость группа ре...</td>\n",
       "      <td>юмор</td>\n",
       "      <td>азохнвеять бесплатный щикарный анекдот</td>\n",
       "      <td>1</td>\n",
       "    </tr>\n",
       "    <tr>\n",
       "      <th>1</th>\n",
       "      <td>познавательный мем широкий охват уникальный ид...</td>\n",
       "      <td>юмор</td>\n",
       "      <td>мемуары ценитель научный мем</td>\n",
       "      <td>1</td>\n",
       "    </tr>\n",
       "    <tr>\n",
       "      <th>2</th>\n",
       "      <td>хабра q a ответ любой тема it участник сообщес...</td>\n",
       "      <td>программирование</td>\n",
       "      <td>хабра q a</td>\n",
       "      <td>4</td>\n",
       "    </tr>\n",
       "  </tbody>\n",
       "</table>\n",
       "</div>"
      ],
      "text/plain": [
       "                               description_processed activity_processed  \\\n",
       "0  присылать анекдот предложить новость группа ре...               юмор   \n",
       "1  познавательный мем широкий охват уникальный ид...               юмор   \n",
       "2  хабра q a ответ любой тема it участник сообщес...   программирование   \n",
       "\n",
       "                           name_processed  target  \n",
       "0  азохнвеять бесплатный щикарный анекдот       1  \n",
       "1            мемуары ценитель научный мем       1  \n",
       "2                               хабра q a       4  "
      ]
     },
     "execution_count": 163,
     "metadata": {},
     "output_type": "execute_result"
    }
   ],
   "source": [
    "# Создадим датафрейм с предобработанными данными\n",
    "df2 = df1[['description_processed', 'activity_processed', 'name_processed', 'target']].copy()\n",
    "df2.head(3)"
   ]
  },
  {
   "cell_type": "markdown",
   "id": "3f90ff41",
   "metadata": {},
   "source": [
    "Данный датафрейм будет использоваться для градиентного бустинга `CatBoost` без настройки гиперпараметров. Модель обучим на следующих данных, так чтобы по итогу у нас получилось три модели:\n",
    "\n",
    "1. Разобьем данные на **train** и **test**. В pool укажем какие данные в нашей задаче текстовые и категориальные данные\n",
    "2. Склеим все текстовое признаковое пространство чтобы в результате получилось две колонки...**text_features** и **target** \n",
    "3. Преобразуем **text_features**​ в TFiDF и обучим модель\n"
   ]
  },
  {
   "cell_type": "markdown",
   "id": "5f77111d",
   "metadata": {},
   "source": [
    "## Catboost"
   ]
  },
  {
   "cell_type": "code",
   "execution_count": 19,
   "id": "f23aa3fb",
   "metadata": {},
   "outputs": [],
   "source": [
    "from catboost import CatBoostClassifier\n",
    "from catboost import Pool\n",
    "#имортируем функцию, позволяющую делить выборку на тестовую и тренировочную в случайном порядке:\n",
    "from sklearn.model_selection import train_test_split "
   ]
  },
  {
   "cell_type": "markdown",
   "id": "1bf0e9de",
   "metadata": {},
   "source": [
    "## 1 модель ( Указываем текстовые и категориальные признаки)"
   ]
  },
  {
   "cell_type": "code",
   "execution_count": 20,
   "id": "4873bb0d",
   "metadata": {},
   "outputs": [],
   "source": [
    "from catboost import CatBoostClassifier\n",
    "from catboost import Pool"
   ]
  },
  {
   "cell_type": "code",
   "execution_count": 21,
   "id": "1fba1e3a",
   "metadata": {},
   "outputs": [],
   "source": [
    "#имортируем функцию, позволяющую делить выборку на тестовую и тренировочную в случайном порядке:\n",
    "from sklearn.model_selection import train_test_split\n",
    "# Классификационные метрики\n",
    "from sklearn.metrics import f1_score\n",
    "from sklearn.metrics import classification_report\n",
    "from sklearn.metrics import plot_confusion_matrix # функция для визуализации матрицы ошибок"
   ]
  },
  {
   "cell_type": "code",
   "execution_count": 22,
   "id": "f5ce2f00",
   "metadata": {},
   "outputs": [],
   "source": [
    "X_train, X_test, y_train, y_test = train_test_split(df2.drop('target', axis=1), \n",
    "                                                    df2['target'], test_size=.3, \n",
    "                                                    random_state=7575)"
   ]
  },
  {
   "cell_type": "code",
   "execution_count": 23,
   "id": "fb1d8047",
   "metadata": {},
   "outputs": [],
   "source": [
    "# Указываем признаки\n",
    "# Текстовые и категориальные признаки\n",
    "text_features = ['description_processed','name_processed']\n",
    "cat_features = ['activity_processed']"
   ]
  },
  {
   "cell_type": "code",
   "execution_count": 36,
   "id": "466d7bc4",
   "metadata": {},
   "outputs": [],
   "source": [
    "# Функция для обучения модели\n",
    "def fit_model(train_pool, validation_pool, **kwargs):\n",
    "    model = CatBoostClassifier(\n",
    "        depth = 8,\n",
    "        iterations=5000,\n",
    "        learning_rate=0.02,\n",
    "        eval_metric='TotalF1', #'Accuracy'\n",
    "        task_type='GPU',\n",
    "        **kwargs\n",
    "    )\n",
    "\n",
    "    return model.fit(\n",
    "        train_pool,\n",
    "        eval_set=validation_pool,\n",
    "        verbose=100,\n",
    "    )\n"
   ]
  },
  {
   "cell_type": "code",
   "execution_count": null,
   "id": "20e1c198",
   "metadata": {},
   "outputs": [],
   "source": []
  },
  {
   "cell_type": "code",
   "execution_count": 37,
   "id": "4ff3427c",
   "metadata": {},
   "outputs": [
    {
     "name": "stdout",
     "output_type": "stream",
     "text": [
      "Train dataset shape: (3055, 3)\n",
      "\n",
      "0:\tlearn: 0.4664806\ttest: 0.4811024\tbest: 0.4811024 (0)\ttotal: 25.1ms\tremaining: 2m 5s\n",
      "100:\tlearn: 0.7114426\ttest: 0.7177704\tbest: 0.7177704 (95)\ttotal: 2.14s\tremaining: 1m 43s\n",
      "200:\tlearn: 0.7304742\ttest: 0.7320854\tbest: 0.7320854 (198)\ttotal: 4.17s\tremaining: 1m 39s\n",
      "300:\tlearn: 0.7433512\ttest: 0.7369351\tbest: 0.7369351 (296)\ttotal: 6.11s\tremaining: 1m 35s\n",
      "400:\tlearn: 0.7517889\ttest: 0.7388020\tbest: 0.7394020 (386)\ttotal: 8.07s\tremaining: 1m 32s\n",
      "500:\tlearn: 0.7657845\ttest: 0.7395813\tbest: 0.7421414 (470)\ttotal: 9.99s\tremaining: 1m 29s\n",
      "600:\tlearn: 0.7733862\ttest: 0.7401409\tbest: 0.7423179 (517)\ttotal: 11.9s\tremaining: 1m 27s\n",
      "700:\tlearn: 0.7848993\ttest: 0.7402999\tbest: 0.7423179 (517)\ttotal: 13.9s\tremaining: 1m 25s\n",
      "800:\tlearn: 0.7894286\ttest: 0.7412648\tbest: 0.7450618 (758)\ttotal: 15.8s\tremaining: 1m 22s\n",
      "900:\tlearn: 0.7970717\ttest: 0.7450210\tbest: 0.7450863 (881)\ttotal: 17.7s\tremaining: 1m 20s\n",
      "1000:\tlearn: 0.8020417\ttest: 0.7429969\tbest: 0.7450933 (908)\ttotal: 19.6s\tremaining: 1m 18s\n",
      "1100:\tlearn: 0.8060582\ttest: 0.7455428\tbest: 0.7455428 (1095)\ttotal: 21.6s\tremaining: 1m 16s\n",
      "1200:\tlearn: 0.8103360\ttest: 0.7455443\tbest: 0.7488705 (1148)\ttotal: 23.5s\tremaining: 1m 14s\n",
      "1300:\tlearn: 0.8161154\ttest: 0.7445038\tbest: 0.7488705 (1148)\ttotal: 25.4s\tremaining: 1m 12s\n",
      "1400:\tlearn: 0.8202597\ttest: 0.7453915\tbest: 0.7488705 (1148)\ttotal: 27.4s\tremaining: 1m 10s\n",
      "1500:\tlearn: 0.8258293\ttest: 0.7480505\tbest: 0.7488705 (1148)\ttotal: 29.3s\tremaining: 1m 8s\n",
      "1600:\tlearn: 0.8287800\ttest: 0.7492345\tbest: 0.7499361 (1537)\ttotal: 31.3s\tremaining: 1m 6s\n",
      "1700:\tlearn: 0.8318499\ttest: 0.7507673\tbest: 0.7507673 (1697)\ttotal: 33.2s\tremaining: 1m 4s\n",
      "1800:\tlearn: 0.8339953\ttest: 0.7496986\tbest: 0.7507673 (1697)\ttotal: 35.3s\tremaining: 1m 2s\n",
      "1900:\tlearn: 0.8379795\ttest: 0.7512298\tbest: 0.7512298 (1856)\ttotal: 37.2s\tremaining: 1m\n",
      "2000:\tlearn: 0.8399452\ttest: 0.7512298\tbest: 0.7512298 (1856)\ttotal: 39.1s\tremaining: 58.7s\n",
      "2100:\tlearn: 0.8430214\ttest: 0.7505264\tbest: 0.7512298 (1856)\ttotal: 41.1s\tremaining: 56.7s\n",
      "2200:\tlearn: 0.8450551\ttest: 0.7514030\tbest: 0.7514030 (2195)\ttotal: 43s\tremaining: 54.7s\n",
      "2300:\tlearn: 0.8456436\ttest: 0.7506983\tbest: 0.7514030 (2195)\ttotal: 44.9s\tremaining: 52.7s\n",
      "2400:\tlearn: 0.8486583\ttest: 0.7488377\tbest: 0.7514030 (2195)\ttotal: 46.9s\tremaining: 50.7s\n",
      "2500:\tlearn: 0.8529461\ttest: 0.7497181\tbest: 0.7514030 (2195)\ttotal: 48.8s\tremaining: 48.8s\n",
      "2600:\tlearn: 0.8554980\ttest: 0.7483073\tbest: 0.7514030 (2195)\ttotal: 50.7s\tremaining: 46.8s\n",
      "2700:\tlearn: 0.8574376\ttest: 0.7492205\tbest: 0.7514030 (2195)\ttotal: 52.7s\tremaining: 44.8s\n",
      "2800:\tlearn: 0.8604589\ttest: 0.7492205\tbest: 0.7514030 (2195)\ttotal: 54.6s\tremaining: 42.9s\n",
      "2900:\tlearn: 0.8614269\ttest: 0.7470470\tbest: 0.7514030 (2195)\ttotal: 56.5s\tremaining: 40.9s\n",
      "3000:\tlearn: 0.8634611\ttest: 0.7470470\tbest: 0.7514030 (2195)\ttotal: 58.5s\tremaining: 38.9s\n",
      "3100:\tlearn: 0.8641703\ttest: 0.7462791\tbest: 0.7514030 (2195)\ttotal: 1m\tremaining: 37s\n",
      "3200:\tlearn: 0.8679289\ttest: 0.7477916\tbest: 0.7514030 (2195)\ttotal: 1m 2s\tremaining: 35.1s\n",
      "3300:\tlearn: 0.8696733\ttest: 0.7495903\tbest: 0.7514030 (2195)\ttotal: 1m 4s\tremaining: 33.1s\n",
      "3400:\tlearn: 0.8721116\ttest: 0.7496450\tbest: 0.7514030 (2195)\ttotal: 1m 6s\tremaining: 31.2s\n",
      "3500:\tlearn: 0.8741526\ttest: 0.7496450\tbest: 0.7514030 (2195)\ttotal: 1m 8s\tremaining: 29.3s\n",
      "3600:\tlearn: 0.8761057\ttest: 0.7496450\tbest: 0.7514030 (2195)\ttotal: 1m 10s\tremaining: 27.4s\n",
      "3700:\tlearn: 0.8802416\ttest: 0.7490124\tbest: 0.7514030 (2195)\ttotal: 1m 12s\tremaining: 25.4s\n",
      "3800:\tlearn: 0.8809626\ttest: 0.7485629\tbest: 0.7514030 (2195)\ttotal: 1m 14s\tremaining: 23.5s\n",
      "3900:\tlearn: 0.8826793\ttest: 0.7485629\tbest: 0.7514030 (2195)\ttotal: 1m 16s\tremaining: 21.5s\n",
      "4000:\tlearn: 0.8836632\ttest: 0.7478556\tbest: 0.7514030 (2195)\ttotal: 1m 18s\tremaining: 19.6s\n",
      "4100:\tlearn: 0.8867342\ttest: 0.7467070\tbest: 0.7514030 (2195)\ttotal: 1m 20s\tremaining: 17.6s\n",
      "4200:\tlearn: 0.8881055\ttest: 0.7467070\tbest: 0.7514030 (2195)\ttotal: 1m 22s\tremaining: 15.7s\n",
      "4300:\tlearn: 0.8900484\ttest: 0.7472018\tbest: 0.7514030 (2195)\ttotal: 1m 24s\tremaining: 13.7s\n",
      "4400:\tlearn: 0.8924711\ttest: 0.7463850\tbest: 0.7514030 (2195)\ttotal: 1m 26s\tremaining: 11.8s\n",
      "4500:\tlearn: 0.8945356\ttest: 0.7471481\tbest: 0.7514030 (2195)\ttotal: 1m 28s\tremaining: 9.8s\n",
      "4600:\tlearn: 0.8965703\ttest: 0.7471481\tbest: 0.7514030 (2195)\ttotal: 1m 30s\tremaining: 7.84s\n",
      "4700:\tlearn: 0.8982956\ttest: 0.7471481\tbest: 0.7514030 (2195)\ttotal: 1m 32s\tremaining: 5.88s\n",
      "4800:\tlearn: 0.9000236\ttest: 0.7452920\tbest: 0.7514030 (2195)\ttotal: 1m 34s\tremaining: 3.91s\n",
      "4900:\tlearn: 0.9000236\ttest: 0.7452611\tbest: 0.7514030 (2195)\ttotal: 1m 36s\tremaining: 1.95s\n",
      "4999:\tlearn: 0.9013482\ttest: 0.7453359\tbest: 0.7514030 (2195)\ttotal: 1m 38s\tremaining: 0us\n",
      "bestTest = 0.7514029668\n",
      "bestIteration = 2195\n",
      "Shrink model to first 2196 iterations.\n"
     ]
    }
   ],
   "source": [
    "train_pool = Pool(\n",
    "    X_train, y_train,\n",
    "    text_features=text_features,\n",
    "    cat_features=cat_features\n",
    ")\n",
    "\n",
    "validation_pool = Pool(\n",
    "    X_test, y_test,\n",
    "    text_features=text_features,\n",
    "    cat_features=cat_features\n",
    ")\n",
    "\n",
    "print('Train dataset shape: {}\\n'.format(train_pool.shape))\n",
    "\n",
    "model = fit_model(train_pool, validation_pool)"
   ]
  },
  {
   "cell_type": "code",
   "execution_count": 26,
   "id": "e4498219",
   "metadata": {},
   "outputs": [],
   "source": [
    "# Посчитаем предсказанные значения на тестовой выборке\n",
    "y_preds_catb_model_0 = model.predict(X_test)"
   ]
  },
  {
   "cell_type": "code",
   "execution_count": 27,
   "id": "7e6c75c9",
   "metadata": {},
   "outputs": [
    {
     "name": "stdout",
     "output_type": "stream",
     "text": [
      "Модель с указанием текстовых и категориальных признаков\n",
      "              precision    recall  f1-score   support\n",
      "\n",
      "           1       0.86      0.82      0.84       714\n",
      "           2       0.69      0.80      0.74       458\n",
      "           3       0.64      0.45      0.53       100\n",
      "           4       0.59      0.42      0.49        38\n",
      "\n",
      "    accuracy                           0.77      1310\n",
      "   macro avg       0.70      0.62      0.65      1310\n",
      "weighted avg       0.78      0.77      0.77      1310\n",
      "\n"
     ]
    }
   ],
   "source": [
    "print('Модель с указанием текстовых и категориальных признаков')\n",
    "print(classification_report(y_test, y_preds_catb_model_0))"
   ]
  },
  {
   "cell_type": "code",
   "execution_count": 39,
   "id": "d7ac187a",
   "metadata": {},
   "outputs": [
    {
     "data": {
      "text/plain": [
       "0.7709773916786413"
      ]
     },
     "execution_count": 39,
     "metadata": {},
     "output_type": "execute_result"
    }
   ],
   "source": [
    "f1_score_catb_model_0 = f1_score(y_test, y_preds_catb_model_0, average='weighted')\n",
    "f1_score_catb_model_0"
   ]
  },
  {
   "cell_type": "markdown",
   "id": "a3b4ff4a",
   "metadata": {},
   "source": [
    "## 2 модель (Делаем склейку всего признакового пространства)"
   ]
  },
  {
   "cell_type": "code",
   "execution_count": 164,
   "id": "67392f71",
   "metadata": {},
   "outputs": [
    {
     "data": {
      "text/html": [
       "<div>\n",
       "<style scoped>\n",
       "    .dataframe tbody tr th:only-of-type {\n",
       "        vertical-align: middle;\n",
       "    }\n",
       "\n",
       "    .dataframe tbody tr th {\n",
       "        vertical-align: top;\n",
       "    }\n",
       "\n",
       "    .dataframe thead th {\n",
       "        text-align: right;\n",
       "    }\n",
       "</style>\n",
       "<table border=\"1\" class=\"dataframe\">\n",
       "  <thead>\n",
       "    <tr style=\"text-align: right;\">\n",
       "      <th></th>\n",
       "      <th>text_features</th>\n",
       "      <th>target</th>\n",
       "    </tr>\n",
       "  </thead>\n",
       "  <tbody>\n",
       "    <tr>\n",
       "      <th>0</th>\n",
       "      <td>присылать анекдот предложить новость группа ре...</td>\n",
       "      <td>1</td>\n",
       "    </tr>\n",
       "    <tr>\n",
       "      <th>1</th>\n",
       "      <td>познавательный мем широкий охват уникальный ид...</td>\n",
       "      <td>1</td>\n",
       "    </tr>\n",
       "    <tr>\n",
       "      <th>2</th>\n",
       "      <td>хабра q a ответ любой тема it участник сообщес...</td>\n",
       "      <td>4</td>\n",
       "    </tr>\n",
       "  </tbody>\n",
       "</table>\n",
       "</div>"
      ],
      "text/plain": [
       "                                       text_features  target\n",
       "0  присылать анекдот предложить новость группа ре...       1\n",
       "1  познавательный мем широкий охват уникальный ид...       1\n",
       "2  хабра q a ответ любой тема it участник сообщес...       4"
      ]
     },
     "execution_count": 164,
     "metadata": {},
     "output_type": "execute_result"
    }
   ],
   "source": [
    "# Создадим новый датафрейм путем склеивания текстовых данных\n",
    "df3 = df2.copy()\n",
    "df3['text_features'] = df3['description_processed'] + ' ' + df3['activity_processed'] + ' ' + df3['name_processed']\n",
    "df3 = df3[['text_features', 'target']]\n",
    "df3.head(3)"
   ]
  },
  {
   "cell_type": "code",
   "execution_count": 159,
   "id": "5488e723",
   "metadata": {},
   "outputs": [],
   "source": [
    "# Разбиваем на train и test\n",
    "X_train, X_test, y_train, y_test = train_test_split(df3.drop('target', axis=1), \n",
    "                                                    df3['target'], test_size=.3, \n",
    "                                                    random_state=7575)"
   ]
  },
  {
   "cell_type": "code",
   "execution_count": 41,
   "id": "9946a134",
   "metadata": {},
   "outputs": [
    {
     "name": "stdout",
     "output_type": "stream",
     "text": [
      "Train dataset shape: (3055, 1)\n",
      "\n",
      "0:\tlearn: 0.6829228\ttest: 0.6942847\tbest: 0.6942847 (0)\ttotal: 36.5ms\tremaining: 3m 2s\n",
      "100:\tlearn: 0.7073286\ttest: 0.7131382\tbest: 0.7162491 (47)\ttotal: 2.64s\tremaining: 2m 8s\n",
      "200:\tlearn: 0.7315454\ttest: 0.7254776\tbest: 0.7271390 (197)\ttotal: 4.99s\tremaining: 1m 59s\n",
      "300:\tlearn: 0.7416463\ttest: 0.7265197\tbest: 0.7288261 (209)\ttotal: 7.28s\tremaining: 1m 53s\n",
      "400:\tlearn: 0.7532649\ttest: 0.7326465\tbest: 0.7334224 (399)\ttotal: 9.54s\tremaining: 1m 49s\n",
      "500:\tlearn: 0.7648766\ttest: 0.7352161\tbest: 0.7359323 (470)\ttotal: 11.7s\tremaining: 1m 45s\n",
      "600:\tlearn: 0.7769967\ttest: 0.7379584\tbest: 0.7389148 (583)\ttotal: 13.9s\tremaining: 1m 41s\n",
      "700:\tlearn: 0.7861446\ttest: 0.7412717\tbest: 0.7434364 (668)\ttotal: 16.1s\tremaining: 1m 38s\n",
      "800:\tlearn: 0.7920240\ttest: 0.7451780\tbest: 0.7458964 (771)\ttotal: 18.3s\tremaining: 1m 35s\n",
      "900:\tlearn: 0.7985455\ttest: 0.7476998\tbest: 0.7484190 (896)\ttotal: 20.4s\tremaining: 1m 33s\n",
      "1000:\tlearn: 0.8051159\ttest: 0.7471101\tbest: 0.7484190 (896)\ttotal: 22.6s\tremaining: 1m 30s\n",
      "1100:\tlearn: 0.8110779\ttest: 0.7480665\tbest: 0.7488427 (1049)\ttotal: 24.8s\tremaining: 1m 27s\n",
      "1200:\tlearn: 0.8176887\ttest: 0.7470989\tbest: 0.7488427 (1049)\ttotal: 27s\tremaining: 1m 25s\n",
      "1300:\tlearn: 0.8251152\ttest: 0.7478759\tbest: 0.7493152 (1263)\ttotal: 29.4s\tremaining: 1m 23s\n",
      "1400:\tlearn: 0.8304586\ttest: 0.7471420\tbest: 0.7493152 (1263)\ttotal: 31.8s\tremaining: 1m 21s\n",
      "1500:\tlearn: 0.8353544\ttest: 0.7502409\tbest: 0.7502409 (1461)\ttotal: 34s\tremaining: 1m 19s\n",
      "1600:\tlearn: 0.8412102\ttest: 0.7494013\tbest: 0.7509611 (1501)\ttotal: 36.6s\tremaining: 1m 17s\n",
      "1700:\tlearn: 0.8454898\ttest: 0.7509012\tbest: 0.7509611 (1501)\ttotal: 38.7s\tremaining: 1m 15s\n",
      "1800:\tlearn: 0.8493884\ttest: 0.7502616\tbest: 0.7518182 (1770)\ttotal: 40.9s\tremaining: 1m 12s\n",
      "1900:\tlearn: 0.8530001\ttest: 0.7495054\tbest: 0.7518182 (1770)\ttotal: 43s\tremaining: 1m 10s\n",
      "2000:\tlearn: 0.8560214\ttest: 0.7510063\tbest: 0.7518182 (1770)\ttotal: 45.2s\tremaining: 1m 7s\n",
      "2100:\tlearn: 0.8599132\ttest: 0.7525072\tbest: 0.7525072 (2043)\ttotal: 47.4s\tremaining: 1m 5s\n",
      "2200:\tlearn: 0.8628831\ttest: 0.7532876\tbest: 0.7532876 (2167)\ttotal: 49.5s\tremaining: 1m 3s\n",
      "2300:\tlearn: 0.8664436\ttest: 0.7510063\tbest: 0.7532876 (2167)\ttotal: 51.7s\tremaining: 1m\n",
      "2400:\tlearn: 0.8704179\ttest: 0.7502863\tbest: 0.7532876 (2167)\ttotal: 53.8s\tremaining: 58.3s\n",
      "2500:\tlearn: 0.8744024\ttest: 0.7516641\tbest: 0.7532876 (2167)\ttotal: 56s\tremaining: 56s\n",
      "2600:\tlearn: 0.8766851\ttest: 0.7524041\tbest: 0.7532876 (2167)\ttotal: 58.2s\tremaining: 53.7s\n",
      "2700:\tlearn: 0.8805716\ttest: 0.7502616\tbest: 0.7532876 (2167)\ttotal: 1m\tremaining: 51.4s\n",
      "2800:\tlearn: 0.8815391\ttest: 0.7486291\tbest: 0.7532876 (2167)\ttotal: 1m 2s\tremaining: 49.1s\n",
      "2900:\tlearn: 0.8848943\ttest: 0.7478442\tbest: 0.7532876 (2167)\ttotal: 1m 4s\tremaining: 46.8s\n",
      "3000:\tlearn: 0.8868255\ttest: 0.7486291\tbest: 0.7532876 (2167)\ttotal: 1m 6s\tremaining: 44.5s\n",
      "3100:\tlearn: 0.8897678\ttest: 0.7493031\tbest: 0.7532876 (2167)\ttotal: 1m 8s\tremaining: 42.2s\n",
      "3200:\tlearn: 0.8911323\ttest: 0.7484494\tbest: 0.7532876 (2167)\ttotal: 1m 11s\tremaining: 40s\n",
      "3300:\tlearn: 0.8937536\ttest: 0.7469456\tbest: 0.7532876 (2167)\ttotal: 1m 13s\tremaining: 37.7s\n",
      "3400:\tlearn: 0.8960379\ttest: 0.7461587\tbest: 0.7532876 (2167)\ttotal: 1m 15s\tremaining: 35.5s\n",
      "3500:\tlearn: 0.8984002\ttest: 0.7461587\tbest: 0.7532876 (2167)\ttotal: 1m 17s\tremaining: 33.2s\n",
      "3600:\tlearn: 0.8990798\ttest: 0.7453712\tbest: 0.7532876 (2167)\ttotal: 1m 19s\tremaining: 31s\n",
      "3700:\tlearn: 0.9020192\ttest: 0.7470472\tbest: 0.7532876 (2167)\ttotal: 1m 21s\tremaining: 28.8s\n",
      "3800:\tlearn: 0.9042888\ttest: 0.7470472\tbest: 0.7532876 (2167)\ttotal: 1m 24s\tremaining: 26.6s\n",
      "3900:\tlearn: 0.9072372\ttest: 0.7477824\tbest: 0.7532876 (2167)\ttotal: 1m 26s\tremaining: 24.3s\n",
      "4000:\tlearn: 0.9078890\ttest: 0.7483198\tbest: 0.7532876 (2167)\ttotal: 1m 28s\tremaining: 22.1s\n",
      "4100:\tlearn: 0.9098597\ttest: 0.7493551\tbest: 0.7532876 (2167)\ttotal: 1m 30s\tremaining: 19.9s\n",
      "4200:\tlearn: 0.9111599\ttest: 0.7476310\tbest: 0.7532876 (2167)\ttotal: 1m 33s\tremaining: 17.7s\n",
      "4300:\tlearn: 0.9125006\ttest: 0.7483488\tbest: 0.7532876 (2167)\ttotal: 1m 35s\tremaining: 15.5s\n",
      "4400:\tlearn: 0.9141042\ttest: 0.7461272\tbest: 0.7532876 (2167)\ttotal: 1m 37s\tremaining: 13.3s\n",
      "4500:\tlearn: 0.9144250\ttest: 0.7470131\tbest: 0.7532876 (2167)\ttotal: 1m 39s\tremaining: 11s\n",
      "4600:\tlearn: 0.9150666\ttest: 0.7469130\tbest: 0.7532876 (2167)\ttotal: 1m 41s\tremaining: 8.83s\n",
      "4700:\tlearn: 0.9176866\ttest: 0.7495823\tbest: 0.7532876 (2167)\ttotal: 1m 44s\tremaining: 6.62s\n",
      "4800:\tlearn: 0.9180126\ttest: 0.7495823\tbest: 0.7532876 (2167)\ttotal: 1m 46s\tremaining: 4.4s\n",
      "4900:\tlearn: 0.9196846\ttest: 0.7495419\tbest: 0.7532876 (2167)\ttotal: 1m 48s\tremaining: 2.19s\n",
      "4999:\tlearn: 0.9216322\ttest: 0.7509794\tbest: 0.7532876 (2167)\ttotal: 1m 50s\tremaining: 0us\n",
      "bestTest = 0.7532876276\n",
      "bestIteration = 2167\n",
      "Shrink model to first 2168 iterations.\n"
     ]
    }
   ],
   "source": [
    "\n",
    "\n",
    "# Указываем на текстовые признаки\n",
    "text_features = ['text_features']\n",
    "cat_features = []\n",
    "\n",
    "# Обучаем модель\n",
    "train_pool = Pool(\n",
    "    X_train, y_train,\n",
    "    text_features=text_features,\n",
    "    cat_features=cat_features\n",
    ")\n",
    "\n",
    "validation_pool = Pool(\n",
    "    X_test, y_test,\n",
    "    text_features=text_features,\n",
    "    cat_features=cat_features\n",
    ")\n",
    "\n",
    "\n",
    "print('Train dataset shape: {}\\n'.format(train_pool.shape))\n",
    "model_1_catb = fit_model(train_pool, validation_pool)"
   ]
  },
  {
   "cell_type": "code",
   "execution_count": 42,
   "id": "3bde44aa",
   "metadata": {},
   "outputs": [
    {
     "name": "stdout",
     "output_type": "stream",
     "text": [
      "Модель со склееными текстовыми признаками\n",
      "              precision    recall  f1-score   support\n",
      "\n",
      "           1       0.83      0.80      0.82       714\n",
      "           2       0.69      0.76      0.72       458\n",
      "           3       0.57      0.47      0.52       100\n",
      "           4       0.70      0.55      0.62        38\n",
      "\n",
      "    accuracy                           0.75      1310\n",
      "   macro avg       0.70      0.65      0.67      1310\n",
      "weighted avg       0.76      0.75      0.75      1310\n",
      "\n"
     ]
    }
   ],
   "source": [
    "# Посчитаем предсказанные значения на тестовой выборке\n",
    "y_preds_catb_model_1 = model_1_catb.predict(X_test)\n",
    "print('Модель со склееными текстовыми признаками')\n",
    "print(classification_report(y_test, y_preds_catb_model_1))"
   ]
  },
  {
   "cell_type": "code",
   "execution_count": 43,
   "id": "5babd02c",
   "metadata": {},
   "outputs": [
    {
     "data": {
      "text/plain": [
       "0.7532876276200994"
      ]
     },
     "execution_count": 43,
     "metadata": {},
     "output_type": "execute_result"
    }
   ],
   "source": [
    "f1_score_catb_model_1 = f1_score(y_test, y_preds_catb_model_1, average='weighted')\n",
    "f1_score_catb_model_1"
   ]
  },
  {
   "cell_type": "markdown",
   "id": "8690b67b",
   "metadata": {},
   "source": [
    "## 3 модель (TFiDF) CatBoost"
   ]
  },
  {
   "cell_type": "markdown",
   "id": "9f82ebd7",
   "metadata": {},
   "source": [
    "Для использования этой модели будет использован датафрейм **df3**. Текстовые признаки будут трансофрмированы в числовое векторное пространство. После этого разобьем на train и test.\n",
    "Так как все предложения разной длины и изначально разбить их нельзя.\n",
    "\n",
    "Также, полученным новым признаковым пространством будем пользоваться для других алгоритмов"
   ]
  },
  {
   "cell_type": "code",
   "execution_count": 44,
   "id": "8d926789",
   "metadata": {},
   "outputs": [],
   "source": [
    "from sklearn.feature_extraction.text import CountVectorizer\n",
    "from sklearn.feature_extraction.text import TfidfVectorizer\n",
    "# Создадим корпус текста\n",
    "corpus = df3['text_features'].values\n",
    "# Используем векторизатор\n",
    "vectorizer = TfidfVectorizer(min_df=1)\n",
    "# Трансформируем данные\n",
    "modeltf = vectorizer.fit_transform(corpus)"
   ]
  },
  {
   "cell_type": "code",
   "execution_count": 143,
   "id": "b9e7ea0d",
   "metadata": {},
   "outputs": [],
   "source": [
    "# Проведем разбивку на train и test\n",
    "X_train, X_test, y_train, y_test = train_test_split(modeltf, df3['target'].values, test_size=.3, \n",
    "                                                    random_state=7575, stratify =df3['target'].values)"
   ]
  },
  {
   "cell_type": "code",
   "execution_count": 103,
   "id": "04253c29",
   "metadata": {},
   "outputs": [
    {
     "name": "stdout",
     "output_type": "stream",
     "text": [
      "Train dataset shape: (3055, 23464)\n",
      "\n",
      "0:\tlearn: 0.5428342\ttest: 0.5305243\tbest: 0.5305243 (0)\ttotal: 297ms\tremaining: 24m 44s\n",
      "100:\tlearn: 0.6736378\ttest: 0.6351370\tbest: 0.6377341 (97)\ttotal: 9.56s\tremaining: 7m 43s\n",
      "200:\tlearn: 0.7274150\ttest: 0.6774922\tbest: 0.6775688 (197)\ttotal: 18.6s\tremaining: 7m 23s\n",
      "300:\tlearn: 0.7511648\ttest: 0.6947122\tbest: 0.6962476 (298)\ttotal: 27.7s\tremaining: 7m 12s\n",
      "400:\tlearn: 0.7719236\ttest: 0.7057728\tbest: 0.7073029 (398)\ttotal: 36.3s\tremaining: 6m 56s\n",
      "500:\tlearn: 0.7908115\ttest: 0.7109980\tbest: 0.7116218 (493)\ttotal: 44.5s\tremaining: 6m 39s\n",
      "600:\tlearn: 0.8073993\ttest: 0.7146038\tbest: 0.7160188 (586)\ttotal: 52.7s\tremaining: 6m 25s\n",
      "700:\tlearn: 0.8161508\ttest: 0.7204182\tbest: 0.7211057 (696)\ttotal: 1m\tremaining: 6m 11s\n",
      "800:\tlearn: 0.8274048\ttest: 0.7233594\tbest: 0.7233594 (800)\ttotal: 1m 8s\tremaining: 5m 58s\n",
      "900:\tlearn: 0.8321305\ttest: 0.7223525\tbest: 0.7240105 (809)\ttotal: 1m 16s\tremaining: 5m 45s\n",
      "1000:\tlearn: 0.8372644\ttest: 0.7235811\tbest: 0.7241318 (985)\ttotal: 1m 23s\tremaining: 5m 34s\n",
      "1100:\tlearn: 0.8440191\ttest: 0.7234804\tbest: 0.7264861 (1023)\ttotal: 1m 31s\tremaining: 5m 23s\n",
      "1200:\tlearn: 0.8491189\ttest: 0.7244349\tbest: 0.7264861 (1023)\ttotal: 1m 38s\tremaining: 5m 12s\n",
      "1300:\tlearn: 0.8566986\ttest: 0.7280438\tbest: 0.7280438 (1287)\ttotal: 1m 46s\tremaining: 5m 2s\n",
      "1400:\tlearn: 0.8627383\ttest: 0.7266557\tbest: 0.7280438 (1287)\ttotal: 1m 53s\tremaining: 4m 52s\n",
      "1500:\tlearn: 0.8675487\ttest: 0.7258855\tbest: 0.7280438 (1287)\ttotal: 2m 1s\tremaining: 4m 42s\n",
      "1600:\tlearn: 0.8704850\ttest: 0.7258855\tbest: 0.7280438 (1287)\ttotal: 2m 8s\tremaining: 4m 33s\n",
      "1700:\tlearn: 0.8729001\ttest: 0.7267134\tbest: 0.7287959 (1636)\ttotal: 2m 16s\tremaining: 4m 23s\n",
      "1800:\tlearn: 0.8764940\ttest: 0.7268108\tbest: 0.7290284 (1741)\ttotal: 2m 23s\tremaining: 4m 14s\n",
      "1900:\tlearn: 0.8814711\ttest: 0.7281994\tbest: 0.7290284 (1741)\ttotal: 2m 30s\tremaining: 4m 5s\n",
      "2000:\tlearn: 0.8841463\ttest: 0.7275051\tbest: 0.7290284 (1741)\ttotal: 2m 38s\tremaining: 3m 56s\n",
      "2100:\tlearn: 0.8857933\ttest: 0.7297232\tbest: 0.7297232 (2065)\ttotal: 2m 45s\tremaining: 3m 48s\n",
      "2200:\tlearn: 0.8884915\ttest: 0.7290456\tbest: 0.7298739 (2172)\ttotal: 2m 52s\tremaining: 3m 39s\n",
      "2300:\tlearn: 0.8909089\ttest: 0.7312632\tbest: 0.7312632 (2278)\ttotal: 3m\tremaining: 3m 31s\n",
      "2400:\tlearn: 0.8935657\ttest: 0.7291792\tbest: 0.7312632 (2278)\ttotal: 3m 7s\tremaining: 3m 22s\n",
      "2500:\tlearn: 0.8962232\ttest: 0.7269629\tbest: 0.7312632 (2278)\ttotal: 3m 15s\tremaining: 3m 14s\n",
      "2600:\tlearn: 0.8975778\ttest: 0.7284846\tbest: 0.7312632 (2278)\ttotal: 3m 22s\tremaining: 3m 6s\n",
      "2700:\tlearn: 0.8995987\ttest: 0.7268870\tbest: 0.7312632 (2278)\ttotal: 3m 29s\tremaining: 2m 58s\n",
      "2800:\tlearn: 0.9019412\ttest: 0.7291663\tbest: 0.7312632 (2278)\ttotal: 3m 36s\tremaining: 2m 50s\n",
      "2900:\tlearn: 0.9029110\ttest: 0.7285553\tbest: 0.7312632 (2278)\ttotal: 3m 44s\tremaining: 2m 42s\n",
      "3000:\tlearn: 0.9042218\ttest: 0.7311389\tbest: 0.7312632 (2278)\ttotal: 3m 51s\tremaining: 2m 34s\n",
      "3100:\tlearn: 0.9062081\ttest: 0.7318344\tbest: 0.7318344 (3093)\ttotal: 3m 58s\tremaining: 2m 26s\n",
      "3200:\tlearn: 0.9082518\ttest: 0.7312716\tbest: 0.7319869 (3193)\ttotal: 4m 5s\tremaining: 2m 18s\n",
      "3300:\tlearn: 0.9092455\ttest: 0.7312716\tbest: 0.7326634 (3236)\ttotal: 4m 13s\tremaining: 2m 10s\n",
      "3400:\tlearn: 0.9119679\ttest: 0.7305961\tbest: 0.7326634 (3236)\ttotal: 4m 20s\tremaining: 2m 2s\n",
      "3500:\tlearn: 0.9149533\ttest: 0.7307274\tbest: 0.7330750 (3460)\ttotal: 4m 28s\tremaining: 1m 54s\n",
      "3600:\tlearn: 0.9156138\ttest: 0.7314232\tbest: 0.7330750 (3460)\ttotal: 4m 35s\tremaining: 1m 46s\n",
      "3700:\tlearn: 0.9165742\ttest: 0.7300540\tbest: 0.7330750 (3460)\ttotal: 4m 42s\tremaining: 1m 39s\n",
      "3800:\tlearn: 0.9202475\ttest: 0.7292663\tbest: 0.7330750 (3460)\ttotal: 4m 50s\tremaining: 1m 31s\n",
      "3900:\tlearn: 0.9225373\ttest: 0.7303374\tbest: 0.7330750 (3460)\ttotal: 4m 57s\tremaining: 1m 23s\n",
      "4000:\tlearn: 0.9241784\ttest: 0.7295106\tbest: 0.7330750 (3460)\ttotal: 5m 4s\tremaining: 1m 16s\n",
      "4100:\tlearn: 0.9251403\ttest: 0.7311634\tbest: 0.7330750 (3460)\ttotal: 5m 12s\tremaining: 1m 8s\n",
      "4200:\tlearn: 0.9278014\ttest: 0.7318275\tbest: 0.7330750 (3460)\ttotal: 5m 19s\tremaining: 1m\n",
      "4300:\tlearn: 0.9291035\ttest: 0.7335169\tbest: 0.7335169 (4297)\ttotal: 5m 26s\tremaining: 53.1s\n",
      "4400:\tlearn: 0.9314016\ttest: 0.7325668\tbest: 0.7342150 (4377)\ttotal: 5m 33s\tremaining: 45.4s\n",
      "4500:\tlearn: 0.9330913\ttest: 0.7349130\tbest: 0.7357363 (4471)\ttotal: 5m 41s\tremaining: 37.8s\n",
      "4600:\tlearn: 0.9357539\ttest: 0.7349130\tbest: 0.7366540 (4527)\ttotal: 5m 48s\tremaining: 30.2s\n",
      "4700:\tlearn: 0.9377743\ttest: 0.7356110\tbest: 0.7366540 (4527)\ttotal: 5m 55s\tremaining: 22.6s\n",
      "4800:\tlearn: 0.9400618\ttest: 0.7340889\tbest: 0.7366540 (4527)\ttotal: 6m 2s\tremaining: 15s\n",
      "4900:\tlearn: 0.9427187\ttest: 0.7349130\tbest: 0.7366540 (4527)\ttotal: 6m 10s\tremaining: 7.48s\n",
      "4999:\tlearn: 0.9440563\ttest: 0.7340663\tbest: 0.7366540 (4527)\ttotal: 6m 17s\tremaining: 0us\n",
      "bestTest = 0.7366539597\n",
      "bestIteration = 4527\n",
      "Shrink model to first 4528 iterations.\n"
     ]
    }
   ],
   "source": [
    "# Обучаем модель\n",
    "# Указываем на текстовые признаки\n",
    "text_features = []\n",
    "cat_features = []\n",
    "\n",
    "# Обучаем модель\n",
    "train_pool = Pool(\n",
    "    X_train, y_train,\n",
    "    text_features=text_features,\n",
    "    cat_features=cat_features\n",
    ")\n",
    "\n",
    "validation_pool = Pool(\n",
    "    X_test, y_test,\n",
    "    text_features=text_features,\n",
    "    cat_features=cat_features\n",
    ")\n",
    "\n",
    "\n",
    "print('Train dataset shape: {}\\n'.format(train_pool.shape))\n",
    "model_2_catb = fit_model(train_pool, validation_pool)"
   ]
  },
  {
   "cell_type": "code",
   "execution_count": 104,
   "id": "233fa273",
   "metadata": {},
   "outputs": [
    {
     "name": "stdout",
     "output_type": "stream",
     "text": [
      "Модель со склееными текстовыми признаками\n",
      "              precision    recall  f1-score   support\n",
      "\n",
      "           1       0.77      0.86      0.81       685\n",
      "           2       0.71      0.64      0.67       485\n",
      "           3       0.60      0.48      0.53        96\n",
      "           4       0.97      0.64      0.77        44\n",
      "\n",
      "    accuracy                           0.74      1310\n",
      "   macro avg       0.76      0.65      0.70      1310\n",
      "weighted avg       0.74      0.74      0.74      1310\n",
      "\n"
     ]
    }
   ],
   "source": [
    "# Посчитаем предсказанные значения на тестовой выборке\n",
    "y_preds_catb_model_2 = model_2_catb.predict(X_test)\n",
    "print('Модель со склееными текстовыми признаками')\n",
    "print(classification_report(y_test, y_preds_catb_model_2))"
   ]
  },
  {
   "cell_type": "code",
   "execution_count": 105,
   "id": "aea1d9d0",
   "metadata": {},
   "outputs": [
    {
     "data": {
      "text/plain": [
       "0.7366539597201193"
      ]
     },
     "execution_count": 105,
     "metadata": {},
     "output_type": "execute_result"
    }
   ],
   "source": [
    "f1_score_catb_model_2 = f1_score(y_test, y_preds_catb_model_2, average='weighted')\n",
    "f1_score_catb_model_2 "
   ]
  },
  {
   "cell_type": "code",
   "execution_count": 106,
   "id": "b63cd92e",
   "metadata": {},
   "outputs": [
    {
     "data": {
      "text/plain": [
       "Text(0.5, 1.0, 'F1 при различной предобработке текста')"
      ]
     },
     "execution_count": 106,
     "metadata": {},
     "output_type": "execute_result"
    },
    {
     "data": {
      "image/png": "[encoded data removed]",
      "text/plain": [
       "<Figure size 500x500 with 1 Axes>"
      ]
     },
     "metadata": {},
     "output_type": "display_data"
    }
   ],
   "source": [
    "f1_catb = np.array([f1_score_catb_model_0, f1_score_catb_model_1, f1_score_catb_model_2])\n",
    "\n",
    "df_catb = pd.DataFrame({'Name_model': ['model_catboost_1', 'model_catboost_2', 'model_catboost_3'],\n",
    "                       'F1_score': f1_catb})\n",
    "\n",
    "fig, ax = plt.subplots(figsize = (5, 5))\n",
    "plt.ylim(0.7, 0.79)\n",
    "sns.barplot(x='Name_model', y='F1_score', data=df_catb)\n",
    "#ax.twinx()\n",
    "plt.axhline(f1_catb.min(), color='black', linestyle='--')\n",
    "# задаем ориентацию меток по оси x\n",
    "plt.xticks(rotation=45)\n",
    "plt.grid()\n",
    "plt.title('F1 при различной предобработке текста', size=10)"
   ]
  },
  {
   "cell_type": "markdown",
   "id": "9e4e9514",
   "metadata": {},
   "source": [
    "Как видим из графика **Catboost**, гораздо лучше справляется с указанием текстовых и категориальных данных, чем со склееными данными и преобразованными в векторное пространство **TfIdf**"
   ]
  },
  {
   "cell_type": "markdown",
   "id": "8d52ba52",
   "metadata": {},
   "source": [
    "# Другие алгоритмы"
   ]
  },
  {
   "cell_type": "markdown",
   "id": "eb3d1da5",
   "metadata": {},
   "source": [
    "## 1 Логистическая регрессия\n",
    "Модель логистической регрессии выглядит следующим образом:\n",
    "$$ f(x) = \\frac{1} {1 + e ^{-(w \\cdot x + b)}}$$\n",
    "\n",
    "В случае мультклассовой задачи необходимо использовать softmax"
   ]
  },
  {
   "cell_type": "code",
   "execution_count": 111,
   "id": "72042219",
   "metadata": {},
   "outputs": [],
   "source": [
    "# Импортируем библиотеку\n",
    "from sklearn.linear_model import LogisticRegression"
   ]
  },
  {
   "cell_type": "code",
   "execution_count": 112,
   "id": "30c3d900",
   "metadata": {},
   "outputs": [
    {
     "data": {
      "text/plain": [
       "LogisticRegression(C=100000.0, max_iter=1000, multi_class='multinomial',\n",
       "                   n_jobs=3, random_state=7575, solver='saga')"
      ]
     },
     "execution_count": 112,
     "metadata": {},
     "output_type": "execute_result"
    }
   ],
   "source": [
    "# Обучаем модель\n",
    "logreg = LogisticRegression(n_jobs=3, C=1e5, solver='saga',\n",
    "                                              multi_class= 'multinomial',\n",
    "                                              max_iter = 1000,\n",
    "                                              random_state = 7575)\n",
    "\n",
    "logreg.fit(X_train, y_train)"
   ]
  },
  {
   "cell_type": "code",
   "execution_count": 113,
   "id": "f0f054a6",
   "metadata": {},
   "outputs": [
    {
     "name": "stdout",
     "output_type": "stream",
     "text": [
      "Метод логистической регрессии\n",
      "              precision    recall  f1-score   support\n",
      "\n",
      "           1       0.78      0.81      0.79       685\n",
      "           2       0.66      0.69      0.67       485\n",
      "           3       0.68      0.48      0.56        96\n",
      "           4       0.93      0.59      0.72        44\n",
      "\n",
      "    accuracy                           0.73      1310\n",
      "   macro avg       0.76      0.64      0.69      1310\n",
      "weighted avg       0.73      0.73      0.73      1310\n",
      "\n",
      "f1_score метода логистической регрессии равен 0.7293467744052189\n"
     ]
    }
   ],
   "source": [
    "# Посчитаем предсказанные значения на тестовой выборке\n",
    "y_preds_logreg = logreg.predict(X_test)\n",
    "print('Метод логистической регрессии')\n",
    "print(classification_report(y_test, y_preds_logreg))\n",
    "f1_score_logreg = f1_score(y_test, y_preds_logreg, average='weighted')\n",
    "print(f'f1_score метода логистической регрессии равен {f1_score_logreg}')"
   ]
  },
  {
   "cell_type": "markdown",
   "id": "8e7fff89",
   "metadata": {},
   "source": [
    "## 3 Алгоритм случайного леса"
   ]
  },
  {
   "cell_type": "markdown",
   "id": "866f484b",
   "metadata": {},
   "source": [
    "В основе этого алгоритма лежит использование ансамбля решающих деревьев. Само по себе решающие деревья предоставляют невысокое качество классификации, но из-за большого количества результат улучшается"
   ]
  },
  {
   "cell_type": "code",
   "execution_count": 114,
   "id": "f2d656a1",
   "metadata": {},
   "outputs": [],
   "source": [
    "from sklearn.ensemble import RandomForestClassifier # импортируем необходимый класс изи библиотеки sklearn.ensemble"
   ]
  },
  {
   "cell_type": "code",
   "execution_count": 152,
   "id": "404d7e7b",
   "metadata": {},
   "outputs": [
    {
     "data": {
      "text/plain": [
       "RandomForestClassifier(max_depth=120, max_features=None, min_samples_leaf=4,\n",
       "                       min_samples_split=7)"
      ]
     },
     "execution_count": 152,
     "metadata": {},
     "output_type": "execute_result"
    }
   ],
   "source": [
    "randomforest_model = RandomForestClassifier(max_depth=120, max_features=None, min_samples_leaf=4,\n",
    "                       min_samples_split=7, n_estimators=100, criterion='gini')\n",
    "\n",
    "randomforest_model.fit(X_train, y_train)"
   ]
  },
  {
   "cell_type": "code",
   "execution_count": 153,
   "id": "35efafa3",
   "metadata": {},
   "outputs": [
    {
     "name": "stdout",
     "output_type": "stream",
     "text": [
      "Алгоритм случайного леса\n",
      "              precision    recall  f1-score   support\n",
      "\n",
      "           1       0.75      0.83      0.79       685\n",
      "           2       0.68      0.59      0.63       485\n",
      "           3       0.53      0.56      0.55        96\n",
      "           4       1.00      0.55      0.71        44\n",
      "\n",
      "    accuracy                           0.71      1310\n",
      "   macro avg       0.74      0.63      0.67      1310\n",
      "weighted avg       0.71      0.71      0.71      1310\n",
      "\n",
      "f1_score алгоритма случайного леса 0.7093376050749889\n"
     ]
    }
   ],
   "source": [
    "# Посчитаем предсказанные значения на тестовой выборке\n",
    "y_preds_randomforest = randomforest_model.predict(X_test)\n",
    "print('Алгоритм случайного леса')\n",
    "print(classification_report(y_test, y_preds_randomforest))\n",
    "f1_score_randomforest = f1_score(y_test, y_preds_randomforest, average='weighted')\n",
    "print(f'f1_score алгоритма случайного леса {f1_score_randomforest}')"
   ]
  },
  {
   "cell_type": "markdown",
   "id": "0f4f5801",
   "metadata": {},
   "source": [
    "# Эксперименты для алгоритма Наивного Байеса"
   ]
  },
  {
   "cell_type": "code",
   "execution_count": 166,
   "id": "9003a380",
   "metadata": {},
   "outputs": [
    {
     "data": {
      "text/html": [
       "<div>\n",
       "<style scoped>\n",
       "    .dataframe tbody tr th:only-of-type {\n",
       "        vertical-align: middle;\n",
       "    }\n",
       "\n",
       "    .dataframe tbody tr th {\n",
       "        vertical-align: top;\n",
       "    }\n",
       "\n",
       "    .dataframe thead th {\n",
       "        text-align: right;\n",
       "    }\n",
       "</style>\n",
       "<table border=\"1\" class=\"dataframe\">\n",
       "  <thead>\n",
       "    <tr style=\"text-align: right;\">\n",
       "      <th></th>\n",
       "      <th>text_features</th>\n",
       "      <th>target</th>\n",
       "    </tr>\n",
       "  </thead>\n",
       "  <tbody>\n",
       "    <tr>\n",
       "      <th>0</th>\n",
       "      <td>присылать анекдот предложить новость группа ре...</td>\n",
       "      <td>1</td>\n",
       "    </tr>\n",
       "    <tr>\n",
       "      <th>1</th>\n",
       "      <td>познавательный мем широкий охват уникальный ид...</td>\n",
       "      <td>1</td>\n",
       "    </tr>\n",
       "    <tr>\n",
       "      <th>2</th>\n",
       "      <td>хабра q a ответ любой тема it участник сообщес...</td>\n",
       "      <td>4</td>\n",
       "    </tr>\n",
       "    <tr>\n",
       "      <th>3</th>\n",
       "      <td>официальный канал сервис рбк инвестиция заботи...</td>\n",
       "      <td>3</td>\n",
       "    </tr>\n",
       "    <tr>\n",
       "      <th>4</th>\n",
       "      <td>помогать новичок веб разработчик опытный прогр...</td>\n",
       "      <td>4</td>\n",
       "    </tr>\n",
       "    <tr>\n",
       "      <th>...</th>\n",
       "      <td>...</td>\n",
       "      <td>...</td>\n",
       "    </tr>\n",
       "    <tr>\n",
       "      <th>4360</th>\n",
       "      <td>делиться новость происшествие жалоба предложен...</td>\n",
       "      <td>1</td>\n",
       "    </tr>\n",
       "    <tr>\n",
       "      <th>4361</th>\n",
       "      <td>пустой название юмор реально смешно</td>\n",
       "      <td>1</td>\n",
       "    </tr>\n",
       "    <tr>\n",
       "      <th>4362</th>\n",
       "      <td>доставлять сушить пицца wok ещ вкусненький ваш...</td>\n",
       "      <td>1</td>\n",
       "    </tr>\n",
       "    <tr>\n",
       "      <th>4363</th>\n",
       "      <td>внимание просить перевести студия карта мошенн...</td>\n",
       "      <td>1</td>\n",
       "    </tr>\n",
       "    <tr>\n",
       "      <th>4364</th>\n",
       "      <td>паблик искусство поп культура самый горячий но...</td>\n",
       "      <td>2</td>\n",
       "    </tr>\n",
       "  </tbody>\n",
       "</table>\n",
       "<p>4365 rows × 2 columns</p>\n",
       "</div>"
      ],
      "text/plain": [
       "                                          text_features  target\n",
       "0     присылать анекдот предложить новость группа ре...       1\n",
       "1     познавательный мем широкий охват уникальный ид...       1\n",
       "2     хабра q a ответ любой тема it участник сообщес...       4\n",
       "3     официальный канал сервис рбк инвестиция заботи...       3\n",
       "4     помогать новичок веб разработчик опытный прогр...       4\n",
       "...                                                 ...     ...\n",
       "4360  делиться новость происшествие жалоба предложен...       1\n",
       "4361                пустой название юмор реально смешно       1\n",
       "4362  доставлять сушить пицца wok ещ вкусненький ваш...       1\n",
       "4363  внимание просить перевести студия карта мошенн...       1\n",
       "4364  паблик искусство поп культура самый горячий но...       2\n",
       "\n",
       "[4365 rows x 2 columns]"
      ]
     },
     "execution_count": 166,
     "metadata": {},
     "output_type": "execute_result"
    }
   ],
   "source": [
    "df4 = df3.copy()\n",
    "df4"
   ]
  },
  {
   "cell_type": "code",
   "execution_count": 189,
   "id": "29fd97a3",
   "metadata": {},
   "outputs": [],
   "source": [
    "from sklearn.feature_extraction.text import CountVectorizer\n",
    "\n",
    "\n",
    "\n",
    "\n",
    "# Создадим корпус текста\n",
    "corpus = df4['text_features'].values\n",
    "# Используем векторизатор\n",
    "count_vector = CountVectorizer()\n",
    "# Трансформируем данные\n",
    "model_vector = count_vector.fit_transform(corpus)\n",
    "\n",
    "# Проведем разбивку на train и test\n",
    "X_train, X_test, y_train, y_test = train_test_split(model_vector, df['target'].values, test_size=.3, \n",
    "                                                    random_state=7575, stratify =df['target'].values)\n"
   ]
  },
  {
   "cell_type": "markdown",
   "id": "dc0f6f06",
   "metadata": {},
   "source": [
    "# Эксперимент CatBOOST countvectorizer"
   ]
  },
  {
   "cell_type": "code",
   "execution_count": null,
   "id": "9af26b7f",
   "metadata": {},
   "outputs": [
    {
     "name": "stdout",
     "output_type": "stream",
     "text": [
      "Train dataset shape: (3055, 23464)\n",
      "\n",
      "0:\tlearn: 0.5724259\ttest: 0.5513116\tbest: 0.5513116 (0)\ttotal: 213ms\tremaining: 17m 46s\n",
      "100:\tlearn: 0.6627911\ttest: 0.6267183\tbest: 0.6305082 (99)\ttotal: 5.52s\tremaining: 4m 27s\n",
      "200:\tlearn: 0.7184690\ttest: 0.6843186\tbest: 0.6843186 (193)\ttotal: 10.6s\tremaining: 4m 13s\n",
      "300:\tlearn: 0.7407558\ttest: 0.6960545\tbest: 0.6965418 (293)\ttotal: 15.6s\tremaining: 4m 3s\n",
      "400:\tlearn: 0.7621023\ttest: 0.7103057\tbest: 0.7109882 (395)\ttotal: 20.3s\tremaining: 3m 52s\n",
      "500:\tlearn: 0.7770260\ttest: 0.7116560\tbest: 0.7153382 (451)\ttotal: 24.6s\tremaining: 3m 41s\n",
      "600:\tlearn: 0.7862258\ttest: 0.7191819\tbest: 0.7198782 (567)\ttotal: 28.8s\tremaining: 3m 30s\n",
      "700:\tlearn: 0.7969470\ttest: 0.7208686\tbest: 0.7215480 (639)\ttotal: 33.4s\tremaining: 3m 25s\n",
      "800:\tlearn: 0.8034247\ttest: 0.7241394\tbest: 0.7260249 (758)\ttotal: 37.6s\tremaining: 3m 16s\n",
      "900:\tlearn: 0.8079549\ttest: 0.7268682\tbest: 0.7293638 (883)\ttotal: 41.8s\tremaining: 3m 10s\n",
      "1000:\tlearn: 0.8159962\ttest: 0.7246524\tbest: 0.7293638 (883)\ttotal: 46.4s\tremaining: 3m 5s\n",
      "1100:\tlearn: 0.8217718\ttest: 0.7222409\tbest: 0.7293638 (883)\ttotal: 50.8s\tremaining: 2m 59s\n",
      "1200:\tlearn: 0.8255045\ttest: 0.7226602\tbest: 0.7293638 (883)\ttotal: 55s\tremaining: 2m 54s\n",
      "1300:\tlearn: 0.8272364\ttest: 0.7250008\tbest: 0.7293638 (883)\ttotal: 58.8s\tremaining: 2m 47s\n",
      "1400:\tlearn: 0.8300474\ttest: 0.7250008\tbest: 0.7293638 (883)\ttotal: 1m 2s\tremaining: 2m 40s\n",
      "1500:\tlearn: 0.8331150\ttest: 0.7236754\tbest: 0.7293638 (883)\ttotal: 1m 6s\tremaining: 2m 34s\n",
      "1600:\tlearn: 0.8348487\ttest: 0.7269876\tbest: 0.7293638 (883)\ttotal: 1m 9s\tremaining: 2m 28s\n",
      "1700:\tlearn: 0.8361997\ttest: 0.7273979\tbest: 0.7296142 (1661)\ttotal: 1m 13s\tremaining: 2m 22s\n",
      "1800:\tlearn: 0.8395380\ttest: 0.7267624\tbest: 0.7296142 (1661)\ttotal: 1m 17s\tremaining: 2m 17s\n",
      "1900:\tlearn: 0.8412235\ttest: 0.7253769\tbest: 0.7296142 (1661)\ttotal: 1m 20s\tremaining: 2m 11s\n",
      "2000:\tlearn: 0.8445247\ttest: 0.7285749\tbest: 0.7296142 (1661)\ttotal: 1m 24s\tremaining: 2m 6s\n",
      "2100:\tlearn: 0.8461505\ttest: 0.7280111\tbest: 0.7296142 (1661)\ttotal: 1m 28s\tremaining: 2m 1s\n",
      "2200:\tlearn: 0.8478301\ttest: 0.7265475\tbest: 0.7296142 (1661)\ttotal: 1m 31s\tremaining: 1m 56s\n",
      "2300:\tlearn: 0.8499117\ttest: 0.7282977\tbest: 0.7296142 (1661)\ttotal: 1m 35s\tremaining: 1m 52s\n",
      "2400:\tlearn: 0.8505653\ttest: 0.7291225\tbest: 0.7296142 (1661)\ttotal: 1m 39s\tremaining: 1m 47s\n",
      "2500:\tlearn: 0.8541840\ttest: 0.7283508\tbest: 0.7296142 (1661)\ttotal: 1m 43s\tremaining: 1m 43s\n",
      "2600:\tlearn: 0.8558467\ttest: 0.7300004\tbest: 0.7300004 (2575)\ttotal: 1m 46s\tremaining: 1m 38s\n",
      "2700:\tlearn: 0.8572043\ttest: 0.7308241\tbest: 0.7308241 (2668)\ttotal: 1m 50s\tremaining: 1m 33s\n",
      "2800:\tlearn: 0.8585261\ttest: 0.7300004\tbest: 0.7308241 (2668)\ttotal: 1m 54s\tremaining: 1m 29s\n",
      "2900:\tlearn: 0.8595424\ttest: 0.7309510\tbest: 0.7309510 (2891)\ttotal: 1m 57s\tremaining: 1m 25s\n",
      "3000:\tlearn: 0.8608742\ttest: 0.7318102\tbest: 0.7318102 (2997)\ttotal: 2m 1s\tremaining: 1m 20s\n",
      "3100:\tlearn: 0.8615545\ttest: 0.7316847\tbest: 0.7325072 (3079)\ttotal: 2m 5s\tremaining: 1m 16s\n",
      "3200:\tlearn: 0.8632496\ttest: 0.7300376\tbest: 0.7325072 (3079)\ttotal: 2m 8s\tremaining: 1m 12s\n",
      "3300:\tlearn: 0.8642849\ttest: 0.7302699\tbest: 0.7325072 (3079)\ttotal: 2m 12s\tremaining: 1m 8s\n",
      "3400:\tlearn: 0.8652717\ttest: 0.7303078\tbest: 0.7325072 (3079)\ttotal: 2m 16s\tremaining: 1m 4s\n"
     ]
    }
   ],
   "source": [
    "# Обучаем модель\n",
    "# Указываем на текстовые признаки\n",
    "text_features = []\n",
    "cat_features = []\n",
    "\n",
    "# Обучаем модель\n",
    "train_pool = Pool(\n",
    "    X_train, y_train,\n",
    "    text_features=text_features,\n",
    "    cat_features=cat_features\n",
    ")\n",
    "\n",
    "validation_pool = Pool(\n",
    "    X_test, y_test,\n",
    "    text_features=text_features,\n",
    "    cat_features=cat_features\n",
    ")\n",
    "\n",
    "\n",
    "print('Train dataset shape: {}\\n'.format(train_pool.shape))\n",
    "model_2_count= fit_model(train_pool, validation_pool)"
   ]
  },
  {
   "cell_type": "code",
   "execution_count": null,
   "id": "5ca16f2f",
   "metadata": {},
   "outputs": [],
   "source": [
    "# Посчитаем предсказанные значения на тестовой выборке\n",
    "y_preds_catb_count = model_2_count.predict(X_test)\n",
    "print('Модель со склееными текстовыми признаками')\n",
    "print(classification_report(y_test, y_preds_catb_count))"
   ]
  },
  {
   "cell_type": "markdown",
   "id": "ceb60be8",
   "metadata": {},
   "source": [
    "## 4 Наивный байес"
   ]
  },
  {
   "cell_type": "code",
   "execution_count": 117,
   "id": "fc66693e",
   "metadata": {},
   "outputs": [],
   "source": [
    "from sklearn.naive_bayes import MultinomialNB"
   ]
  },
  {
   "cell_type": "code",
   "execution_count": 118,
   "id": "22a04da7",
   "metadata": {},
   "outputs": [
    {
     "data": {
      "text/plain": [
       "MultinomialNB()"
      ]
     },
     "execution_count": 118,
     "metadata": {},
     "output_type": "execute_result"
    }
   ],
   "source": [
    "baies_model = MultinomialNB()\n",
    "baies_model.fit(X_train, y_train)"
   ]
  },
  {
   "cell_type": "code",
   "execution_count": 190,
   "id": "e62d5fd8",
   "metadata": {},
   "outputs": [
    {
     "data": {
      "text/html": [
       "<div>\n",
       "<style scoped>\n",
       "    .dataframe tbody tr th:only-of-type {\n",
       "        vertical-align: middle;\n",
       "    }\n",
       "\n",
       "    .dataframe tbody tr th {\n",
       "        vertical-align: top;\n",
       "    }\n",
       "\n",
       "    .dataframe thead th {\n",
       "        text-align: right;\n",
       "    }\n",
       "</style>\n",
       "<table border=\"1\" class=\"dataframe\">\n",
       "  <thead>\n",
       "    <tr style=\"text-align: right;\">\n",
       "      <th></th>\n",
       "      <th>alpha</th>\n",
       "      <th>f1_baies</th>\n",
       "    </tr>\n",
       "  </thead>\n",
       "  <tbody>\n",
       "    <tr>\n",
       "      <th>6</th>\n",
       "      <td>0.66001</td>\n",
       "      <td>0.706602</td>\n",
       "    </tr>\n",
       "    <tr>\n",
       "      <th>4</th>\n",
       "      <td>0.44001</td>\n",
       "      <td>0.701224</td>\n",
       "    </tr>\n",
       "    <tr>\n",
       "      <th>7</th>\n",
       "      <td>0.77001</td>\n",
       "      <td>0.700979</td>\n",
       "    </tr>\n",
       "    <tr>\n",
       "      <th>5</th>\n",
       "      <td>0.55001</td>\n",
       "      <td>0.700803</td>\n",
       "    </tr>\n",
       "    <tr>\n",
       "      <th>8</th>\n",
       "      <td>0.88001</td>\n",
       "      <td>0.699224</td>\n",
       "    </tr>\n",
       "    <tr>\n",
       "      <th>...</th>\n",
       "      <td>...</td>\n",
       "      <td>...</td>\n",
       "    </tr>\n",
       "    <tr>\n",
       "      <th>177</th>\n",
       "      <td>19.47001</td>\n",
       "      <td>0.590930</td>\n",
       "    </tr>\n",
       "    <tr>\n",
       "      <th>178</th>\n",
       "      <td>19.58001</td>\n",
       "      <td>0.589992</td>\n",
       "    </tr>\n",
       "    <tr>\n",
       "      <th>179</th>\n",
       "      <td>19.69001</td>\n",
       "      <td>0.589992</td>\n",
       "    </tr>\n",
       "    <tr>\n",
       "      <th>180</th>\n",
       "      <td>19.80001</td>\n",
       "      <td>0.589992</td>\n",
       "    </tr>\n",
       "    <tr>\n",
       "      <th>181</th>\n",
       "      <td>19.91001</td>\n",
       "      <td>0.589052</td>\n",
       "    </tr>\n",
       "  </tbody>\n",
       "</table>\n",
       "<p>182 rows × 2 columns</p>\n",
       "</div>"
      ],
      "text/plain": [
       "        alpha  f1_baies\n",
       "6     0.66001  0.706602\n",
       "4     0.44001  0.701224\n",
       "7     0.77001  0.700979\n",
       "5     0.55001  0.700803\n",
       "8     0.88001  0.699224\n",
       "..        ...       ...\n",
       "177  19.47001  0.590930\n",
       "178  19.58001  0.589992\n",
       "179  19.69001  0.589992\n",
       "180  19.80001  0.589992\n",
       "181  19.91001  0.589052\n",
       "\n",
       "[182 rows x 2 columns]"
      ]
     },
     "execution_count": 190,
     "metadata": {},
     "output_type": "execute_result"
    }
   ],
   "source": [
    "# Напишем функцию для поиска параметра альфа. И отсортируем датафрейм\n",
    "list_alpha = np.arange(1/100000, 20, 0.11)\n",
    "f1_test_baies = np.zeros(len(list_alpha))\n",
    "count = 0\n",
    "for alpha in list_alpha:\n",
    "    baies = MultinomialNB(alpha=alpha)\n",
    "    baies.fit(X_train, y_train)\n",
    "    from sklearn.metrics import f1_score\n",
    "    f1_test_baies[count] = f1_score(y_test, baies.predict(X_test), average='weighted')\n",
    "    count += 1\n",
    "\n",
    "df_baies = pd.DataFrame({'alpha': list_alpha,\n",
    "                         'f1_baies': f1_test_baies})\n",
    "df_baies.sort_values('f1_baies', ascending=False)"
   ]
  },
  {
   "cell_type": "code",
   "execution_count": 191,
   "id": "cebf0f8b",
   "metadata": {},
   "outputs": [
    {
     "name": "stdout",
     "output_type": "stream",
     "text": [
      "Алгоритм Байеса\n",
      "              precision    recall  f1-score   support\n",
      "\n",
      "           1       0.66      0.91      0.77       685\n",
      "           2       0.70      0.51      0.59       485\n",
      "           3       0.58      0.07      0.13        96\n",
      "           4       1.00      0.11      0.20        44\n",
      "\n",
      "    accuracy                           0.67      1310\n",
      "   macro avg       0.74      0.40      0.42      1310\n",
      "weighted avg       0.68      0.67      0.64      1310\n",
      "\n",
      "f1_score алгоритма Наивного байеса 0.6353079691774565\n"
     ]
    }
   ],
   "source": [
    "# Посчитаем предсказанные значения на тестовой выборке\n",
    "y_preds_baies = baies_model.predict(X_test)\n",
    "print('Алгоритм Байеса')\n",
    "print(classification_report(y_test, y_preds_baies))\n",
    "f1_score_baies = f1_score(y_test, y_preds_baies, average='weighted')\n",
    "print(f'f1_score алгоритма Наивного байеса {f1_score_baies}')"
   ]
  },
  {
   "cell_type": "markdown",
   "id": "5c8b10c4",
   "metadata": {},
   "source": [
    "У алгоритма наивного Байеса нужно копать в сторону настройки гиперпараметров и распределения ngram"
   ]
  },
  {
   "cell_type": "markdown",
   "id": "72ce4b63",
   "metadata": {},
   "source": [
    "## 5 Метод k-ближайших соседей (K-Nearest Neighbors)"
   ]
  },
  {
   "cell_type": "code",
   "execution_count": 120,
   "id": "4737843e",
   "metadata": {},
   "outputs": [],
   "source": [
    "from sklearn.neighbors import KNeighborsClassifier # импортируем необходимый класс из библиотеки sklearn"
   ]
  },
  {
   "cell_type": "markdown",
   "id": "04b50415",
   "metadata": {},
   "source": [
    "В методе KNN выбор значения k очень важен. При маленьком значении k \"шум\" будет оказывать сильное воздействие на итоговый результат. Большое значение делает его затратным с точки зрения вычислений и противоречит основной идее KNN, что близкие точки могут иметь схожие плотности или классы. Значение по умолчанию для количества k-соседей - 5."
   ]
  },
  {
   "cell_type": "code",
   "execution_count": 121,
   "id": "26b46bc1",
   "metadata": {},
   "outputs": [],
   "source": [
    "error_rate = []\n",
    "\n",
    "for i in range(1,40):\n",
    "    # создание KNN классификатора с заданным значением k\n",
    "    knn = KNeighborsClassifier(n_neighbors = i)\n",
    "    # обучение его на тренировочных данных\n",
    "    knn.fit(X_train, y_train)\n",
    "    # прогноз покупок на тестовых данных\n",
    "    pred_i = knn.predict(X_test)\n",
    "    # сохранение значения ошибки\n",
    "    error_rate.append(np.mean(pred_i != y_test))"
   ]
  },
  {
   "cell_type": "code",
   "execution_count": 56,
   "id": "df1ad620",
   "metadata": {},
   "outputs": [
    {
     "data": {
      "text/plain": [
       "Text(0, 0.5, 'Процент ошибок')"
      ]
     },
     "execution_count": 56,
     "metadata": {},
     "output_type": "execute_result"
    },
    {
     "data": {
      "image/png": "[encoded data removed]",
      "text/plain": [
       "<Figure size 600x600 with 1 Axes>"
      ]
     },
     "metadata": {},
     "output_type": "display_data"
    }
   ],
   "source": [
    "# графическое представление процента ошибок\n",
    "plt.figure(figsize=(6,6))\n",
    "plt.plot(range(1,40), error_rate, color='red', linestyle='dashed', marker='o', markerfacecolor='yellow', markersize=6)\n",
    "plt.title('Процент ошибок в зависимости от значения K')\n",
    "plt.xlabel('K')\n",
    "plt.ylabel('Процент ошибок')"
   ]
  },
  {
   "cell_type": "code",
   "execution_count": 122,
   "id": "0d4c692b",
   "metadata": {},
   "outputs": [
    {
     "name": "stdout",
     "output_type": "stream",
     "text": [
      "Алгоритм Ближайших соседей\n",
      "              precision    recall  f1-score   support\n",
      "\n",
      "           1       0.75      0.87      0.80       685\n",
      "           2       0.71      0.63      0.67       485\n",
      "           3       0.67      0.40      0.50        96\n",
      "           4       0.90      0.59      0.71        44\n",
      "\n",
      "    accuracy                           0.73      1310\n",
      "   macro avg       0.75      0.62      0.67      1310\n",
      "weighted avg       0.73      0.73      0.73      1310\n",
      "\n",
      "f1_score алгоритма Ближайших соседей 0.7263267257822714\n"
     ]
    }
   ],
   "source": [
    "clf_knn = KNeighborsClassifier(n_neighbors=19) # создадим модель 5ти ближайших соседей\n",
    "clf_knn.fit(X_train, y_train)  # оценим параметры модели\n",
    "y_pred_knn = clf_knn.predict(X_test)  # прогноз отношения к классу 0 или 1\n",
    "\n",
    "print('Алгоритм Ближайших соседей')\n",
    "print(classification_report(y_test, y_pred_knn))\n",
    "f1_score_knn = f1_score(y_test, y_pred_knn, average='weighted')\n",
    "print(f'f1_score алгоритма Ближайших соседей {f1_score_knn}')"
   ]
  },
  {
   "cell_type": "code",
   "execution_count": 192,
   "id": "1a3b8028",
   "metadata": {},
   "outputs": [
    {
     "data": {
      "text/html": [
       "<div>\n",
       "<style scoped>\n",
       "    .dataframe tbody tr th:only-of-type {\n",
       "        vertical-align: middle;\n",
       "    }\n",
       "\n",
       "    .dataframe tbody tr th {\n",
       "        vertical-align: top;\n",
       "    }\n",
       "\n",
       "    .dataframe thead th {\n",
       "        text-align: right;\n",
       "    }\n",
       "</style>\n",
       "<table border=\"1\" class=\"dataframe\">\n",
       "  <thead>\n",
       "    <tr style=\"text-align: right;\">\n",
       "      <th></th>\n",
       "      <th>name_algorithm</th>\n",
       "      <th>total_f1</th>\n",
       "    </tr>\n",
       "  </thead>\n",
       "  <tbody>\n",
       "    <tr>\n",
       "      <th>0</th>\n",
       "      <td>catboost</td>\n",
       "      <td>0.770977</td>\n",
       "    </tr>\n",
       "    <tr>\n",
       "      <th>1</th>\n",
       "      <td>naive_baies</td>\n",
       "      <td>0.706000</td>\n",
       "    </tr>\n",
       "    <tr>\n",
       "      <th>2</th>\n",
       "      <td>logreg</td>\n",
       "      <td>0.729347</td>\n",
       "    </tr>\n",
       "    <tr>\n",
       "      <th>3</th>\n",
       "      <td>randomforest</td>\n",
       "      <td>0.709338</td>\n",
       "    </tr>\n",
       "    <tr>\n",
       "      <th>4</th>\n",
       "      <td>baies</td>\n",
       "      <td>0.635308</td>\n",
       "    </tr>\n",
       "    <tr>\n",
       "      <th>5</th>\n",
       "      <td>knn</td>\n",
       "      <td>0.726327</td>\n",
       "    </tr>\n",
       "  </tbody>\n",
       "</table>\n",
       "</div>"
      ],
      "text/plain": [
       "  name_algorithm  total_f1\n",
       "0       catboost  0.770977\n",
       "1    naive_baies  0.706000\n",
       "2         logreg  0.729347\n",
       "3   randomforest  0.709338\n",
       "4          baies  0.635308\n",
       "5            knn  0.726327"
      ]
     },
     "execution_count": 192,
     "metadata": {},
     "output_type": "execute_result"
    }
   ],
   "source": [
    "name_algo = ['catboost', 'naive_baies', 'logreg', 'randomforest', 'baies', 'knn']\n",
    "f1_score = [f1_score_catb_model_0, 0.706, f1_score_logreg, f1_score_randomforest, f1_score_baies, f1_score_knn]\n",
    "\n",
    "df_cls = pd.DataFrame({'name_algorithm' : name_algo,\n",
    "                       'total_f1' : f1_score})\n",
    "\n",
    "df_cls "
   ]
  },
  {
   "cell_type": "code",
   "execution_count": 124,
   "id": "7b36135c",
   "metadata": {},
   "outputs": [
    {
     "data": {
      "text/plain": [
       "Text(0.5, 1.0, 'F1 при различных алгоритмах классификации')"
      ]
     },
     "execution_count": 124,
     "metadata": {},
     "output_type": "execute_result"
    },
    {
     "data": {
      "image/png": "[encoded data removed]",
      "text/plain": [
       "<Figure size 700x500 with 1 Axes>"
      ]
     },
     "metadata": {},
     "output_type": "display_data"
    }
   ],
   "source": [
    "fig, ax = plt.subplots(figsize = (7, 5))\n",
    "plt.ylim(0.5, 0.79)\n",
    "sns.barplot(x='name_algorithm', y='total_f1', data=df_cls)\n",
    "#ax.twinx()\n",
    "plt.axhline(np.array(f1_score).min(), color='black', linestyle='--')\n",
    "plt.axhline(np.array(f1_score).max(), color='red', linestyle='--')\n",
    "# задаем ориентацию меток по оси x\n",
    "plt.xticks(rotation=45)\n",
    "plt.grid()\n",
    "plt.title('F1 при различных алгоритмах классификации', size=10)"
   ]
  },
  {
   "cell_type": "markdown",
   "id": "645bb3f7",
   "metadata": {},
   "source": [
    "# Использование автоматической разметки с помощью тематического моделирования "
   ]
  },
  {
   "cell_type": "markdown",
   "id": "2e991a88",
   "metadata": {},
   "source": [
    " Напишем функцию токенизации текста и применим ее к **df3**"
   ]
  },
  {
   "cell_type": "code",
   "execution_count": 125,
   "id": "6c46be00",
   "metadata": {},
   "outputs": [],
   "source": [
    "def token(input_text):\n",
    "    tokenized_text = word_tokenize(input_text)\n",
    "    return tokenized_text"
   ]
  },
  {
   "cell_type": "code",
   "execution_count": 126,
   "id": "6db7289d",
   "metadata": {},
   "outputs": [],
   "source": [
    "df3[\"new_processed\"] = df3[\"text_features\"].map(token)"
   ]
  },
  {
   "cell_type": "code",
   "execution_count": 127,
   "id": "d8dda1c2",
   "metadata": {},
   "outputs": [
    {
     "data": {
      "text/html": [
       "<div>\n",
       "<style scoped>\n",
       "    .dataframe tbody tr th:only-of-type {\n",
       "        vertical-align: middle;\n",
       "    }\n",
       "\n",
       "    .dataframe tbody tr th {\n",
       "        vertical-align: top;\n",
       "    }\n",
       "\n",
       "    .dataframe thead th {\n",
       "        text-align: right;\n",
       "    }\n",
       "</style>\n",
       "<table border=\"1\" class=\"dataframe\">\n",
       "  <thead>\n",
       "    <tr style=\"text-align: right;\">\n",
       "      <th></th>\n",
       "      <th>text_features</th>\n",
       "      <th>target</th>\n",
       "      <th>new_processed</th>\n",
       "    </tr>\n",
       "  </thead>\n",
       "  <tbody>\n",
       "    <tr>\n",
       "      <th>0</th>\n",
       "      <td>присылать анекдот предложить новость группа ре...</td>\n",
       "      <td>1</td>\n",
       "      <td>[присылать, анекдот, предложить, новость, груп...</td>\n",
       "    </tr>\n",
       "    <tr>\n",
       "      <th>1</th>\n",
       "      <td>познавательный мем широкий охват уникальный ид...</td>\n",
       "      <td>1</td>\n",
       "      <td>[познавательный, мем, широкий, охват, уникальн...</td>\n",
       "    </tr>\n",
       "    <tr>\n",
       "      <th>2</th>\n",
       "      <td>хабра q a ответ любой тема it участник сообщес...</td>\n",
       "      <td>4</td>\n",
       "      <td>[хабра, q, a, ответ, любой, тема, it, участник...</td>\n",
       "    </tr>\n",
       "  </tbody>\n",
       "</table>\n",
       "</div>"
      ],
      "text/plain": [
       "                                       text_features  target  \\\n",
       "0  присылать анекдот предложить новость группа ре...       1   \n",
       "1  познавательный мем широкий охват уникальный ид...       1   \n",
       "2  хабра q a ответ любой тема it участник сообщес...       4   \n",
       "\n",
       "                                       new_processed  \n",
       "0  [присылать, анекдот, предложить, новость, груп...  \n",
       "1  [познавательный, мем, широкий, охват, уникальн...  \n",
       "2  [хабра, q, a, ответ, любой, тема, it, участник...  "
      ]
     },
     "execution_count": 127,
     "metadata": {},
     "output_type": "execute_result"
    }
   ],
   "source": [
    "df3.head(3)"
   ]
  },
  {
   "cell_type": "markdown",
   "id": "0edf3e30",
   "metadata": {},
   "source": [
    "### Создадим корпус в виде мешка слов"
   ]
  },
  {
   "cell_type": "code",
   "execution_count": 128,
   "id": "77a0ac4b",
   "metadata": {},
   "outputs": [],
   "source": [
    "import gensim\n",
    " \n",
    "gensim_dictionary = gensim.corpora.Dictionary(df3[\"new_processed\"])\n",
    "gensim_dictionary.filter_extremes(no_above=0.1, no_below=20)\n",
    "gensim_dictionary.compactify()"
   ]
  },
  {
   "cell_type": "code",
   "execution_count": 129,
   "id": "780055ae",
   "metadata": {},
   "outputs": [
    {
     "data": {
      "text/plain": [
       "[[(0, 1),\n",
       "  (1, 1),\n",
       "  (2, 2),\n",
       "  (3, 1),\n",
       "  (4, 1),\n",
       "  (5, 1),\n",
       "  (6, 1),\n",
       "  (7, 1),\n",
       "  (8, 1),\n",
       "  (9, 1),\n",
       "  (10, 1),\n",
       "  (11, 1),\n",
       "  (12, 1),\n",
       "  (13, 1),\n",
       "  (14, 1),\n",
       "  (15, 1),\n",
       "  (16, 2),\n",
       "  (17, 1),\n",
       "  (18, 1),\n",
       "  (19, 1),\n",
       "  (20, 1),\n",
       "  (21, 1),\n",
       "  (22, 1),\n",
       "  (23, 1),\n",
       "  (24, 1),\n",
       "  (25, 1),\n",
       "  (26, 1),\n",
       "  (27, 1),\n",
       "  (28, 1)]]"
      ]
     },
     "execution_count": 129,
     "metadata": {},
     "output_type": "execute_result"
    }
   ],
   "source": [
    "corpus = [gensim_dictionary.doc2bow(text) \n",
    "          for text in df3['new_processed']]\n",
    "# Выведем ряд значений\n",
    "corpus[:1]"
   ]
  },
  {
   "cell_type": "markdown",
   "id": "e73f098a",
   "metadata": {},
   "source": [
    "### Напишем функцию назначения метки наиболее вероятного топика"
   ]
  },
  {
   "cell_type": "code",
   "execution_count": 130,
   "id": "f1d289b4",
   "metadata": {},
   "outputs": [],
   "source": [
    "# Создаем модель тематического моделирования например из 4 топиков\n",
    "lda = gensim.models.LdaMulticore(corpus, \n",
    "                                 num_topics=4, \n",
    "                                 id2word=gensim_dictionary, \n",
    "                                 passes=10, random_state=7575)"
   ]
  },
  {
   "cell_type": "code",
   "execution_count": 131,
   "id": "de0e595c",
   "metadata": {},
   "outputs": [],
   "source": [
    "def get_topic(words, lda):\n",
    "    \"\"\"\n",
    "    Функция назначает документу наиболее вероятный топик\n",
    "    :param words: лемматизированный текст документа\n",
    "    :param lda: тематическая модель\n",
    "    :return: список из наиболее вероятного топика \n",
    "    и его вероятности\n",
    "    \"\"\"\n",
    "    bag = lda.id2word.doc2bow(words)\n",
    "    topics = lda.get_document_topics(bag)\n",
    "    topic_dictionary = {}\n",
    "    for topic in topics:\n",
    "        topic_dictionary[topic[1]] = str((topic[0])) \n",
    "    main_probability = max(topic_dictionary)\n",
    "    main_topic = topic_dictionary[main_probability]\n",
    "    return main_topic"
   ]
  },
  {
   "cell_type": "markdown",
   "id": "2a39470e",
   "metadata": {},
   "source": [
    "### Для каждого алгоритма выведем значения F1 при разных количествах тем"
   ]
  },
  {
   "cell_type": "code",
   "execution_count": 132,
   "id": "61015635",
   "metadata": {},
   "outputs": [
    {
     "name": "stdout",
     "output_type": "stream",
     "text": [
      "0:\tlearn: 0.5374056\ttest: 0.5276788\tbest: 0.5276788 (0)\ttotal: 249ms\tremaining: 20m 45s\n",
      "100:\tlearn: 0.6666994\ttest: 0.6311493\tbest: 0.6343679 (96)\ttotal: 8.44s\tremaining: 6m 49s\n",
      "200:\tlearn: 0.7260407\ttest: 0.6775429\tbest: 0.6780587 (197)\ttotal: 15.9s\tremaining: 6m 18s\n",
      "300:\tlearn: 0.7737005\ttest: 0.7219732\tbest: 0.7245754 (297)\ttotal: 23s\tremaining: 5m 59s\n",
      "400:\tlearn: 0.8054423\ttest: 0.7456689\tbest: 0.7458046 (398)\ttotal: 30.1s\tremaining: 5m 45s\n",
      "500:\tlearn: 0.8208279\ttest: 0.7526115\tbest: 0.7526619 (497)\ttotal: 36.9s\tremaining: 5m 31s\n",
      "600:\tlearn: 0.8344277\ttest: 0.7627020\tbest: 0.7635513 (582)\ttotal: 43.6s\tremaining: 5m 19s\n",
      "700:\tlearn: 0.8473642\ttest: 0.7782505\tbest: 0.7782505 (699)\ttotal: 50.2s\tremaining: 5m 7s\n",
      "800:\tlearn: 0.8587556\ttest: 0.7807024\tbest: 0.7846391 (768)\ttotal: 56.8s\tremaining: 4m 57s\n",
      "900:\tlearn: 0.8730433\ttest: 0.7817141\tbest: 0.7846391 (768)\ttotal: 1m 3s\tremaining: 4m 47s\n",
      "1000:\tlearn: 0.8810603\ttest: 0.7872753\tbest: 0.7880102 (992)\ttotal: 1m 9s\tremaining: 4m 37s\n",
      "1100:\tlearn: 0.8877209\ttest: 0.7910209\tbest: 0.7910209 (1098)\ttotal: 1m 15s\tremaining: 4m 28s\n",
      "1200:\tlearn: 0.8934130\ttest: 0.7928066\tbest: 0.7935292 (1198)\ttotal: 1m 21s\tremaining: 4m 19s\n",
      "1300:\tlearn: 0.9016677\ttest: 0.7920866\tbest: 0.7944217 (1266)\ttotal: 1m 28s\tremaining: 4m 10s\n",
      "1400:\tlearn: 0.9062881\ttest: 0.7928110\tbest: 0.7944217 (1266)\ttotal: 1m 34s\tremaining: 4m 1s\n",
      "1500:\tlearn: 0.9092695\ttest: 0.7928997\tbest: 0.7953097 (1471)\ttotal: 1m 40s\tremaining: 3m 53s\n",
      "1600:\tlearn: 0.9135616\ttest: 0.7953835\tbest: 0.7975963 (1551)\ttotal: 1m 46s\tremaining: 3m 45s\n",
      "1700:\tlearn: 0.9181627\ttest: 0.7940345\tbest: 0.7975963 (1551)\ttotal: 1m 52s\tremaining: 3m 37s\n",
      "1800:\tlearn: 0.9217995\ttest: 0.7940198\tbest: 0.7975963 (1551)\ttotal: 1m 58s\tremaining: 3m 29s\n",
      "1900:\tlearn: 0.9273964\ttest: 0.7932753\tbest: 0.7975963 (1551)\ttotal: 2m 4s\tremaining: 3m 22s\n",
      "2000:\tlearn: 0.9326881\ttest: 0.7932753\tbest: 0.7975963 (1551)\ttotal: 2m 9s\tremaining: 3m 14s\n",
      "2100:\tlearn: 0.9366845\ttest: 0.7947932\tbest: 0.7975963 (1551)\ttotal: 2m 15s\tremaining: 3m 7s\n",
      "2200:\tlearn: 0.9393458\ttest: 0.7987909\tbest: 0.7987909 (2185)\ttotal: 2m 21s\tremaining: 3m\n",
      "2300:\tlearn: 0.9403297\ttest: 0.7996224\tbest: 0.8012543 (2291)\ttotal: 2m 27s\tremaining: 2m 53s\n",
      "2400:\tlearn: 0.9432901\ttest: 0.8029145\tbest: 0.8037070 (2373)\ttotal: 2m 33s\tremaining: 2m 46s\n",
      "2500:\tlearn: 0.9462580\ttest: 0.8029137\tbest: 0.8044402 (2411)\ttotal: 2m 39s\tremaining: 2m 39s\n",
      "2600:\tlearn: 0.9498804\ttest: 0.8045134\tbest: 0.8045134 (2562)\ttotal: 2m 45s\tremaining: 2m 32s\n",
      "2700:\tlearn: 0.9531637\ttest: 0.8038144\tbest: 0.8045583 (2666)\ttotal: 2m 51s\tremaining: 2m 26s\n",
      "2800:\tlearn: 0.9548043\ttest: 0.8052931\tbest: 0.8060681 (2742)\ttotal: 2m 57s\tremaining: 2m 19s\n",
      "2900:\tlearn: 0.9577496\ttest: 0.8083246\tbest: 0.8083246 (2899)\ttotal: 3m 3s\tremaining: 2m 12s\n",
      "3000:\tlearn: 0.9600484\ttest: 0.8076723\tbest: 0.8084379 (2965)\ttotal: 3m 9s\tremaining: 2m 6s\n",
      "3100:\tlearn: 0.9616800\ttest: 0.8084578\tbest: 0.8092239 (3090)\ttotal: 3m 15s\tremaining: 1m 59s\n",
      "3200:\tlearn: 0.9626686\ttest: 0.8092021\tbest: 0.8092239 (3090)\ttotal: 3m 20s\tremaining: 1m 52s\n",
      "3300:\tlearn: 0.9643132\ttest: 0.8122997\tbest: 0.8122997 (3279)\ttotal: 3m 26s\tremaining: 1m 46s\n",
      "3400:\tlearn: 0.9659473\ttest: 0.8122074\tbest: 0.8122997 (3279)\ttotal: 3m 32s\tremaining: 1m 39s\n",
      "3500:\tlearn: 0.9692200\ttest: 0.8114834\tbest: 0.8122997 (3279)\ttotal: 3m 38s\tremaining: 1m 33s\n",
      "3600:\tlearn: 0.9718443\ttest: 0.8130267\tbest: 0.8138532 (3539)\ttotal: 3m 44s\tremaining: 1m 27s\n",
      "3700:\tlearn: 0.9744642\ttest: 0.8122245\tbest: 0.8138532 (3539)\ttotal: 3m 50s\tremaining: 1m 20s\n",
      "3800:\tlearn: 0.9764248\ttest: 0.8137458\tbest: 0.8145147 (3747)\ttotal: 3m 56s\tremaining: 1m 14s\n",
      "3900:\tlearn: 0.9780615\ttest: 0.8137458\tbest: 0.8145147 (3747)\ttotal: 4m 1s\tremaining: 1m 8s\n",
      "4000:\tlearn: 0.9790437\ttest: 0.8138011\tbest: 0.8145147 (3747)\ttotal: 4m 7s\tremaining: 1m 1s\n",
      "4100:\tlearn: 0.9810156\ttest: 0.8130089\tbest: 0.8145147 (3747)\ttotal: 4m 13s\tremaining: 55.6s\n",
      "4200:\tlearn: 0.9819976\ttest: 0.8137458\tbest: 0.8145147 (3747)\ttotal: 4m 19s\tremaining: 49.3s\n",
      "4300:\tlearn: 0.9839621\ttest: 0.8121784\tbest: 0.8145147 (3747)\ttotal: 4m 25s\tremaining: 43.1s\n",
      "4400:\tlearn: 0.9865811\ttest: 0.8114412\tbest: 0.8145147 (3747)\ttotal: 4m 31s\tremaining: 36.9s\n",
      "4500:\tlearn: 0.9882165\ttest: 0.8121825\tbest: 0.8145147 (3747)\ttotal: 4m 36s\tremaining: 30.7s\n",
      "4600:\tlearn: 0.9911615\ttest: 0.8121825\tbest: 0.8145147 (3747)\ttotal: 4m 42s\tremaining: 24.5s\n",
      "4700:\tlearn: 0.9927972\ttest: 0.8129493\tbest: 0.8145147 (3747)\ttotal: 4m 48s\tremaining: 18.3s\n",
      "4800:\tlearn: 0.9947630\ttest: 0.8121603\tbest: 0.8145147 (3747)\ttotal: 4m 54s\tremaining: 12.2s\n",
      "4900:\tlearn: 0.9964001\ttest: 0.8114237\tbest: 0.8145147 (3747)\ttotal: 5m\tremaining: 6.06s\n",
      "4999:\tlearn: 0.9964003\ttest: 0.8114412\tbest: 0.8145147 (3747)\ttotal: 5m 5s\tremaining: 0us\n",
      "bestTest = 0.8145147067\n",
      "bestIteration = 3747\n",
      "Shrink model to first 3748 iterations.\n",
      "0:\tlearn: 0.4905943\ttest: 0.4843996\tbest: 0.4843996 (0)\ttotal: 372ms\tremaining: 31m 1s\n",
      "100:\tlearn: 0.6613883\ttest: 0.5845066\tbest: 0.5846329 (99)\ttotal: 10.1s\tremaining: 8m 10s\n",
      "200:\tlearn: 0.7199537\ttest: 0.6523996\tbest: 0.6523996 (200)\ttotal: 19.2s\tremaining: 7m 37s\n",
      "300:\tlearn: 0.7563593\ttest: 0.6733079\tbest: 0.6750287 (292)\ttotal: 28s\tremaining: 7m 17s\n",
      "400:\tlearn: 0.7861256\ttest: 0.7017758\tbest: 0.7017758 (399)\ttotal: 36.6s\tremaining: 6m 59s\n",
      "500:\tlearn: 0.8102891\ttest: 0.7181597\tbest: 0.7181597 (500)\ttotal: 45s\tremaining: 6m 44s\n",
      "600:\tlearn: 0.8330156\ttest: 0.7319482\tbest: 0.7349141 (586)\ttotal: 53.4s\tremaining: 6m 31s\n",
      "700:\tlearn: 0.8457748\ttest: 0.7402111\tbest: 0.7442658 (683)\ttotal: 1m 1s\tremaining: 6m 17s\n",
      "800:\tlearn: 0.8568271\ttest: 0.7514941\tbest: 0.7514941 (799)\ttotal: 1m 9s\tremaining: 6m 5s\n",
      "900:\tlearn: 0.8658631\ttest: 0.7581547\tbest: 0.7581547 (899)\ttotal: 1m 17s\tremaining: 5m 52s\n",
      "1000:\tlearn: 0.8751275\ttest: 0.7606728\tbest: 0.7628488 (974)\ttotal: 1m 25s\tremaining: 5m 40s\n",
      "1100:\tlearn: 0.8820515\ttest: 0.7637637\tbest: 0.7645369 (1035)\ttotal: 1m 32s\tremaining: 5m 28s\n",
      "1200:\tlearn: 0.8887610\ttest: 0.7623065\tbest: 0.7661443 (1145)\ttotal: 1m 40s\tremaining: 5m 17s\n",
      "1300:\tlearn: 0.8907270\ttest: 0.7638979\tbest: 0.7661443 (1145)\ttotal: 1m 47s\tremaining: 5m 6s\n",
      "1400:\tlearn: 0.8952508\ttest: 0.7663541\tbest: 0.7663541 (1339)\ttotal: 1m 55s\tremaining: 4m 56s\n",
      "1500:\tlearn: 0.8996270\ttest: 0.7679734\tbest: 0.7680501 (1465)\ttotal: 2m 2s\tremaining: 4m 45s\n",
      "1600:\tlearn: 0.9039611\ttest: 0.7682291\tbest: 0.7689576 (1537)\ttotal: 2m 9s\tremaining: 4m 35s\n",
      "1700:\tlearn: 0.9095658\ttest: 0.7690731\tbest: 0.7698539 (1682)\ttotal: 2m 17s\tremaining: 4m 26s\n",
      "1800:\tlearn: 0.9154854\ttest: 0.7691438\tbest: 0.7698539 (1682)\ttotal: 2m 24s\tremaining: 4m 16s\n",
      "1900:\tlearn: 0.9184845\ttest: 0.7721482\tbest: 0.7721482 (1880)\ttotal: 2m 31s\tremaining: 4m 7s\n",
      "2000:\tlearn: 0.9207836\ttest: 0.7713416\tbest: 0.7728372 (1916)\ttotal: 2m 39s\tremaining: 3m 58s\n",
      "2100:\tlearn: 0.9223770\ttest: 0.7712746\tbest: 0.7736153 (2035)\ttotal: 2m 46s\tremaining: 3m 49s\n",
      "2200:\tlearn: 0.9247429\ttest: 0.7713450\tbest: 0.7736153 (2035)\ttotal: 2m 53s\tremaining: 3m 40s\n",
      "2300:\tlearn: 0.9257725\ttest: 0.7688635\tbest: 0.7736153 (2035)\ttotal: 3m\tremaining: 3m 31s\n",
      "2400:\tlearn: 0.9273978\ttest: 0.7719996\tbest: 0.7736153 (2035)\ttotal: 3m 7s\tremaining: 3m 23s\n",
      "2500:\tlearn: 0.9290283\ttest: 0.7712135\tbest: 0.7736153 (2035)\ttotal: 3m 14s\tremaining: 3m 14s\n",
      "2600:\tlearn: 0.9300028\ttest: 0.7728763\tbest: 0.7736153 (2035)\ttotal: 3m 22s\tremaining: 3m 6s\n",
      "2700:\tlearn: 0.9313388\ttest: 0.7750737\tbest: 0.7758619 (2699)\ttotal: 3m 29s\tremaining: 2m 58s\n",
      "2800:\tlearn: 0.9323209\ttest: 0.7744696\tbest: 0.7767030 (2773)\ttotal: 3m 36s\tremaining: 2m 49s\n",
      "2900:\tlearn: 0.9346419\ttest: 0.7737161\tbest: 0.7767030 (2773)\ttotal: 3m 43s\tremaining: 2m 41s\n",
      "3000:\tlearn: 0.9373043\ttest: 0.7737017\tbest: 0.7767030 (2773)\ttotal: 3m 50s\tremaining: 2m 33s\n",
      "3100:\tlearn: 0.9385844\ttest: 0.7759565\tbest: 0.7767030 (2773)\ttotal: 3m 57s\tremaining: 2m 25s\n",
      "3200:\tlearn: 0.9422112\ttest: 0.7752294\tbest: 0.7776028 (3155)\ttotal: 4m 5s\tremaining: 2m 17s\n",
      "3300:\tlearn: 0.9428665\ttest: 0.7759478\tbest: 0.7776028 (3155)\ttotal: 4m 12s\tremaining: 2m 9s\n",
      "3400:\tlearn: 0.9438634\ttest: 0.7769317\tbest: 0.7776672 (3335)\ttotal: 4m 19s\tremaining: 2m 1s\n",
      "3500:\tlearn: 0.9461898\ttest: 0.7783790\tbest: 0.7784000 (3457)\ttotal: 4m 26s\tremaining: 1m 54s\n",
      "3600:\tlearn: 0.9478081\ttest: 0.7783600\tbest: 0.7784000 (3457)\ttotal: 4m 33s\tremaining: 1m 46s\n"
     ]
    },
    {
     "name": "stdout",
     "output_type": "stream",
     "text": [
      "3700:\tlearn: 0.9487932\ttest: 0.7767672\tbest: 0.7791721 (3653)\ttotal: 4m 40s\tremaining: 1m 38s\n",
      "3800:\tlearn: 0.9517625\ttest: 0.7775221\tbest: 0.7791721 (3653)\ttotal: 4m 47s\tremaining: 1m 30s\n",
      "3900:\tlearn: 0.9537110\ttest: 0.7799612\tbest: 0.7799612 (3855)\ttotal: 4m 55s\tremaining: 1m 23s\n",
      "4000:\tlearn: 0.9550404\ttest: 0.7791436\tbest: 0.7807144 (3958)\ttotal: 5m 2s\tremaining: 1m 15s\n",
      "4100:\tlearn: 0.9566637\ttest: 0.7799297\tbest: 0.7807144 (3958)\ttotal: 5m 9s\tremaining: 1m 7s\n",
      "4200:\tlearn: 0.9573189\ttest: 0.7815364\tbest: 0.7815364 (4185)\ttotal: 5m 16s\tremaining: 1m\n",
      "4300:\tlearn: 0.9586558\ttest: 0.7831714\tbest: 0.7831714 (4265)\ttotal: 5m 23s\tremaining: 52.6s\n",
      "4400:\tlearn: 0.9599829\ttest: 0.7831714\tbest: 0.7831714 (4265)\ttotal: 5m 30s\tremaining: 45s\n",
      "4500:\tlearn: 0.9626103\ttest: 0.7831151\tbest: 0.7839816 (4445)\ttotal: 5m 37s\tremaining: 37.5s\n",
      "4600:\tlearn: 0.9649202\ttest: 0.7838700\tbest: 0.7839816 (4445)\ttotal: 5m 44s\tremaining: 29.9s\n",
      "4700:\tlearn: 0.9659237\ttest: 0.7838700\tbest: 0.7839816 (4445)\ttotal: 5m 52s\tremaining: 22.4s\n",
      "4800:\tlearn: 0.9685660\ttest: 0.7846242\tbest: 0.7846377 (4731)\ttotal: 5m 59s\tremaining: 14.9s\n",
      "4900:\tlearn: 0.9701862\ttest: 0.7831846\tbest: 0.7854316 (4850)\ttotal: 6m 6s\tremaining: 7.41s\n",
      "4999:\tlearn: 0.9721585\ttest: 0.7847081\tbest: 0.7854611 (4985)\ttotal: 6m 13s\tremaining: 0us\n",
      "bestTest = 0.7854611428\n",
      "bestIteration = 4985\n",
      "Shrink model to first 4986 iterations.\n",
      "0:\tlearn: 0.3688573\ttest: 0.3743696\tbest: 0.3743696 (0)\ttotal: 318ms\tremaining: 26m 27s\n",
      "100:\tlearn: 0.5986767\ttest: 0.5622088\tbest: 0.5622088 (100)\ttotal: 12.3s\tremaining: 9m 59s\n",
      "200:\tlearn: 0.6668377\ttest: 0.6117071\tbest: 0.6117071 (200)\ttotal: 23.5s\tremaining: 9m 20s\n",
      "300:\tlearn: 0.7060054\ttest: 0.6427804\tbest: 0.6427804 (300)\ttotal: 33.8s\tremaining: 8m 48s\n",
      "400:\tlearn: 0.7504524\ttest: 0.6646991\tbest: 0.6646991 (397)\ttotal: 43.8s\tremaining: 8m 22s\n",
      "500:\tlearn: 0.7740913\ttest: 0.6730407\tbest: 0.6733511 (482)\ttotal: 53.7s\tremaining: 8m 2s\n",
      "600:\tlearn: 0.7915286\ttest: 0.6905259\tbest: 0.6914662 (598)\ttotal: 1m 3s\tremaining: 7m 44s\n",
      "700:\tlearn: 0.8081601\ttest: 0.6976463\tbest: 0.6976463 (699)\ttotal: 1m 13s\tremaining: 7m 28s\n",
      "800:\tlearn: 0.8193846\ttest: 0.7052410\tbest: 0.7052410 (800)\ttotal: 1m 22s\tremaining: 7m 12s\n",
      "900:\tlearn: 0.8307030\ttest: 0.7085347\tbest: 0.7085347 (896)\ttotal: 1m 31s\tremaining: 6m 57s\n",
      "1000:\tlearn: 0.8398260\ttest: 0.7107787\tbest: 0.7107787 (997)\ttotal: 1m 41s\tremaining: 6m 43s\n",
      "1100:\tlearn: 0.8515170\ttest: 0.7131324\tbest: 0.7131969 (1056)\ttotal: 1m 50s\tremaining: 6m 30s\n",
      "1200:\tlearn: 0.8575655\ttest: 0.7153260\tbest: 0.7162095 (1197)\ttotal: 1m 59s\tremaining: 6m 17s\n",
      "1300:\tlearn: 0.8639562\ttest: 0.7206815\tbest: 0.7227962 (1278)\ttotal: 2m 8s\tremaining: 6m 4s\n",
      "1400:\tlearn: 0.8690812\ttest: 0.7236323\tbest: 0.7243517 (1376)\ttotal: 2m 16s\tremaining: 5m 51s\n",
      "1500:\tlearn: 0.8755475\ttest: 0.7280545\tbest: 0.7295791 (1493)\ttotal: 2m 25s\tremaining: 5m 40s\n",
      "1600:\tlearn: 0.8788777\ttest: 0.7304716\tbest: 0.7311952 (1597)\ttotal: 2m 34s\tremaining: 5m 28s\n",
      "1700:\tlearn: 0.8801578\ttest: 0.7304263\tbest: 0.7319899 (1665)\ttotal: 2m 43s\tremaining: 5m 17s\n",
      "1800:\tlearn: 0.8836969\ttest: 0.7335883\tbest: 0.7343623 (1798)\ttotal: 2m 52s\tremaining: 5m 6s\n",
      "1900:\tlearn: 0.8876142\ttest: 0.7343735\tbest: 0.7350751 (1860)\ttotal: 3m 1s\tremaining: 4m 55s\n",
      "2000:\tlearn: 0.8905635\ttest: 0.7366718\tbest: 0.7366718 (2000)\ttotal: 3m 9s\tremaining: 4m 44s\n",
      "2100:\tlearn: 0.8938508\ttest: 0.7350819\tbest: 0.7366995 (2046)\ttotal: 3m 18s\tremaining: 4m 33s\n",
      "2200:\tlearn: 0.8964940\ttest: 0.7374595\tbest: 0.7374595 (2187)\ttotal: 3m 26s\tremaining: 4m 23s\n",
      "2300:\tlearn: 0.8988306\ttest: 0.7373531\tbest: 0.7388865 (2273)\ttotal: 3m 35s\tremaining: 4m 12s\n",
      "2400:\tlearn: 0.9023872\ttest: 0.7410560\tbest: 0.7410560 (2391)\ttotal: 3m 44s\tremaining: 4m 2s\n",
      "2500:\tlearn: 0.9046890\ttest: 0.7416967\tbest: 0.7417997 (2411)\ttotal: 3m 52s\tremaining: 3m 52s\n",
      "2600:\tlearn: 0.9073071\ttest: 0.7447510\tbest: 0.7447510 (2576)\ttotal: 4m 1s\tremaining: 3m 42s\n",
      "2700:\tlearn: 0.9106470\ttest: 0.7463699\tbest: 0.7472065 (2679)\ttotal: 4m 9s\tremaining: 3m 32s\n",
      "2800:\tlearn: 0.9115829\ttest: 0.7454015\tbest: 0.7485153 (2758)\ttotal: 4m 18s\tremaining: 3m 22s\n",
      "2900:\tlearn: 0.9122273\ttest: 0.7462249\tbest: 0.7485153 (2758)\ttotal: 4m 26s\tremaining: 3m 12s\n",
      "3000:\tlearn: 0.9150927\ttest: 0.7461449\tbest: 0.7485153 (2758)\ttotal: 4m 35s\tremaining: 3m 3s\n",
      "3100:\tlearn: 0.9167319\ttest: 0.7453994\tbest: 0.7485153 (2758)\ttotal: 4m 43s\tremaining: 2m 53s\n",
      "3200:\tlearn: 0.9190082\ttest: 0.7477191\tbest: 0.7485153 (2758)\ttotal: 4m 52s\tremaining: 2m 44s\n",
      "3300:\tlearn: 0.9215904\ttest: 0.7484432\tbest: 0.7492268 (3279)\ttotal: 5m\tremaining: 2m 34s\n",
      "3400:\tlearn: 0.9242078\ttest: 0.7476418\tbest: 0.7492901 (3322)\ttotal: 5m 9s\tremaining: 2m 25s\n",
      "3500:\tlearn: 0.9271660\ttest: 0.7476418\tbest: 0.7492901 (3322)\ttotal: 5m 18s\tremaining: 2m 16s\n",
      "3600:\tlearn: 0.9291356\ttest: 0.7463178\tbest: 0.7492901 (3322)\ttotal: 5m 26s\tremaining: 2m 6s\n",
      "3700:\tlearn: 0.9317274\ttest: 0.7455265\tbest: 0.7492901 (3322)\ttotal: 5m 35s\tremaining: 1m 57s\n",
      "3800:\tlearn: 0.9343561\ttest: 0.7477447\tbest: 0.7492901 (3322)\ttotal: 5m 43s\tremaining: 1m 48s\n",
      "3900:\tlearn: 0.9385790\ttest: 0.7477343\tbest: 0.7493570 (3829)\ttotal: 5m 52s\tremaining: 1m 39s\n",
      "4000:\tlearn: 0.9402353\ttest: 0.7507429\tbest: 0.7507429 (3957)\ttotal: 6m\tremaining: 1m 30s\n",
      "4100:\tlearn: 0.9421837\ttest: 0.7506788\tbest: 0.7507429 (3957)\ttotal: 6m 9s\tremaining: 1m 20s\n",
      "4200:\tlearn: 0.9434806\ttest: 0.7498955\tbest: 0.7507429 (3957)\ttotal: 6m 17s\tremaining: 1m 11s\n",
      "4300:\tlearn: 0.9451418\ttest: 0.7507126\tbest: 0.7507526 (4283)\ttotal: 6m 26s\tremaining: 1m 2s\n",
      "4400:\tlearn: 0.9480964\ttest: 0.7523239\tbest: 0.7523239 (4385)\ttotal: 6m 34s\tremaining: 53.7s\n",
      "4500:\tlearn: 0.9490678\ttest: 0.7530709\tbest: 0.7539134 (4417)\ttotal: 6m 43s\tremaining: 44.7s\n",
      "4600:\tlearn: 0.9507048\ttest: 0.7516453\tbest: 0.7539134 (4417)\ttotal: 6m 51s\tremaining: 35.7s\n",
      "4700:\tlearn: 0.9520191\ttest: 0.7501659\tbest: 0.7539134 (4417)\ttotal: 7m\tremaining: 26.7s\n",
      "4800:\tlearn: 0.9542957\ttest: 0.7516998\tbest: 0.7539134 (4417)\ttotal: 7m 8s\tremaining: 17.8s\n",
      "4900:\tlearn: 0.9582274\ttest: 0.7508759\tbest: 0.7539134 (4417)\ttotal: 7m 17s\tremaining: 8.83s\n",
      "4999:\tlearn: 0.9608628\ttest: 0.7509524\tbest: 0.7539134 (4417)\ttotal: 7m 25s\tremaining: 0us\n",
      "bestTest = 0.7539133637\n",
      "bestIteration = 4417\n",
      "Shrink model to first 4418 iterations.\n",
      "0:\tlearn: 0.3357831\ttest: 0.3031601\tbest: 0.3031601 (0)\ttotal: 348ms\tremaining: 28m 57s\n",
      "100:\tlearn: 0.5418895\ttest: 0.5031752\tbest: 0.5031752 (100)\ttotal: 13.9s\tremaining: 11m 16s\n",
      "200:\tlearn: 0.6102728\ttest: 0.5544681\tbest: 0.5544681 (200)\ttotal: 26.5s\tremaining: 10m 33s\n",
      "300:\tlearn: 0.6640248\ttest: 0.5849273\tbest: 0.5859201 (297)\ttotal: 38.8s\tremaining: 10m 5s\n",
      "400:\tlearn: 0.7013711\ttest: 0.6126808\tbest: 0.6126808 (400)\ttotal: 51s\tremaining: 9m 44s\n",
      "500:\tlearn: 0.7324455\ttest: 0.6384185\tbest: 0.6408124 (496)\ttotal: 1m 2s\tremaining: 9m 24s\n",
      "600:\tlearn: 0.7556645\ttest: 0.6538347\tbest: 0.6547255 (599)\ttotal: 1m 14s\tremaining: 9m 7s\n",
      "700:\tlearn: 0.7709140\ttest: 0.6655556\tbest: 0.6663091 (694)\ttotal: 1m 26s\tremaining: 8m 48s\n",
      "800:\tlearn: 0.7865373\ttest: 0.6809473\tbest: 0.6809473 (798)\ttotal: 1m 37s\tremaining: 8m 31s\n",
      "900:\tlearn: 0.8036500\ttest: 0.6883061\tbest: 0.6890715 (896)\ttotal: 1m 48s\tremaining: 8m 15s\n",
      "1000:\tlearn: 0.8162307\ttest: 0.6934304\tbest: 0.6950011 (953)\ttotal: 2m\tremaining: 7m 59s\n",
      "1100:\tlearn: 0.8255913\ttest: 0.6974239\tbest: 0.6974239 (1100)\ttotal: 2m 10s\tremaining: 7m 43s\n",
      "1200:\tlearn: 0.8409795\ttest: 0.7091785\tbest: 0.7091785 (1198)\ttotal: 2m 21s\tremaining: 7m 28s\n",
      "1300:\tlearn: 0.8475310\ttest: 0.7090953\tbest: 0.7106972 (1211)\ttotal: 2m 32s\tremaining: 7m 14s\n",
      "1400:\tlearn: 0.8534912\ttest: 0.7139462\tbest: 0.7139462 (1400)\ttotal: 2m 43s\tremaining: 7m\n",
      "1500:\tlearn: 0.8614483\ttest: 0.7140281\tbest: 0.7140281 (1485)\ttotal: 2m 54s\tremaining: 6m 46s\n",
      "1600:\tlearn: 0.8650320\ttest: 0.7141016\tbest: 0.7149416 (1542)\ttotal: 3m 5s\tremaining: 6m 32s\n",
      "1700:\tlearn: 0.8686677\ttest: 0.7139758\tbest: 0.7149416 (1542)\ttotal: 3m 15s\tremaining: 6m 19s\n",
      "1800:\tlearn: 0.8732710\ttest: 0.7156130\tbest: 0.7171386 (1714)\ttotal: 3m 25s\tremaining: 6m 5s\n",
      "1900:\tlearn: 0.8798129\ttest: 0.7164769\tbest: 0.7180235 (1882)\ttotal: 3m 36s\tremaining: 5m 52s\n",
      "2000:\tlearn: 0.8857131\ttest: 0.7172373\tbest: 0.7180235 (1882)\ttotal: 3m 46s\tremaining: 5m 39s\n",
      "2100:\tlearn: 0.8893111\ttest: 0.7179204\tbest: 0.7187092 (2097)\ttotal: 3m 57s\tremaining: 5m 27s\n"
     ]
    },
    {
     "name": "stdout",
     "output_type": "stream",
     "text": [
      "2200:\tlearn: 0.8940100\ttest: 0.7194491\tbest: 0.7201256 (2177)\ttotal: 4m 7s\tremaining: 5m 14s\n",
      "2300:\tlearn: 0.8986050\ttest: 0.7201788\tbest: 0.7225807 (2250)\ttotal: 4m 17s\tremaining: 5m 2s\n",
      "2400:\tlearn: 0.9002508\ttest: 0.7217857\tbest: 0.7225807 (2250)\ttotal: 4m 28s\tremaining: 4m 50s\n",
      "2500:\tlearn: 0.9045012\ttest: 0.7224393\tbest: 0.7225807 (2250)\ttotal: 4m 38s\tremaining: 4m 38s\n",
      "2600:\tlearn: 0.9080864\ttest: 0.7217528\tbest: 0.7232922 (2503)\ttotal: 4m 48s\tremaining: 4m 26s\n",
      "2700:\tlearn: 0.9097015\ttest: 0.7202445\tbest: 0.7232922 (2503)\ttotal: 4m 58s\tremaining: 4m 14s\n",
      "2800:\tlearn: 0.9113610\ttest: 0.7217511\tbest: 0.7232922 (2503)\ttotal: 5m 9s\tremaining: 4m 2s\n",
      "2900:\tlearn: 0.9136308\ttest: 0.7218453\tbest: 0.7233113 (2843)\ttotal: 5m 19s\tremaining: 3m 51s\n",
      "3000:\tlearn: 0.9159066\ttest: 0.7225114\tbest: 0.7233113 (2843)\ttotal: 5m 29s\tremaining: 3m 39s\n",
      "3100:\tlearn: 0.9178553\ttest: 0.7240381\tbest: 0.7247655 (3075)\ttotal: 5m 39s\tremaining: 3m 28s\n",
      "3200:\tlearn: 0.9214518\ttest: 0.7248142\tbest: 0.7255802 (3166)\ttotal: 5m 50s\tremaining: 3m 16s\n",
      "3300:\tlearn: 0.9244097\ttest: 0.7248174\tbest: 0.7255802 (3166)\ttotal: 6m\tremaining: 3m 5s\n",
      "3400:\tlearn: 0.9253868\ttest: 0.7263421\tbest: 0.7271592 (3374)\ttotal: 6m 10s\tremaining: 2m 54s\n",
      "3500:\tlearn: 0.9280083\ttest: 0.7256057\tbest: 0.7271592 (3374)\ttotal: 6m 20s\tremaining: 2m 42s\n",
      "3600:\tlearn: 0.9309410\ttest: 0.7256057\tbest: 0.7271592 (3374)\ttotal: 6m 30s\tremaining: 2m 31s\n",
      "3700:\tlearn: 0.9329434\ttest: 0.7279562\tbest: 0.7279562 (3692)\ttotal: 6m 40s\tremaining: 2m 20s\n",
      "3800:\tlearn: 0.9335999\ttest: 0.7265285\tbest: 0.7279562 (3692)\ttotal: 6m 50s\tremaining: 2m 9s\n",
      "3900:\tlearn: 0.9358856\ttest: 0.7272550\tbest: 0.7279562 (3692)\ttotal: 7m\tremaining: 1m 58s\n",
      "4000:\tlearn: 0.9384893\ttest: 0.7278899\tbest: 0.7279562 (3692)\ttotal: 7m 10s\tremaining: 1m 47s\n",
      "4100:\tlearn: 0.9394793\ttest: 0.7270899\tbest: 0.7279562 (3692)\ttotal: 7m 21s\tremaining: 1m 36s\n",
      "4200:\tlearn: 0.9414583\ttest: 0.7272183\tbest: 0.7279562 (3692)\ttotal: 7m 31s\tremaining: 1m 25s\n",
      "4300:\tlearn: 0.9417741\ttest: 0.7264889\tbest: 0.7279562 (3692)\ttotal: 7m 41s\tremaining: 1m 14s\n",
      "4400:\tlearn: 0.9437576\ttest: 0.7263883\tbest: 0.7279980 (4371)\ttotal: 7m 51s\tremaining: 1m 4s\n",
      "4500:\tlearn: 0.9447446\ttest: 0.7264168\tbest: 0.7287309 (4411)\ttotal: 8m 1s\tremaining: 53.4s\n",
      "4600:\tlearn: 0.9466999\ttest: 0.7279366\tbest: 0.7287309 (4411)\ttotal: 8m 11s\tremaining: 42.6s\n",
      "4700:\tlearn: 0.9486789\ttest: 0.7280054\tbest: 0.7287309 (4411)\ttotal: 8m 21s\tremaining: 31.9s\n",
      "4800:\tlearn: 0.9493317\ttest: 0.7296329\tbest: 0.7296329 (4750)\ttotal: 8m 31s\tremaining: 21.2s\n",
      "4900:\tlearn: 0.9503258\ttest: 0.7274408\tbest: 0.7303604 (4803)\ttotal: 8m 42s\tremaining: 10.5s\n",
      "4999:\tlearn: 0.9513210\ttest: 0.7281943\tbest: 0.7303604 (4803)\ttotal: 8m 51s\tremaining: 0us\n",
      "bestTest = 0.7303604085\n",
      "bestIteration = 4803\n",
      "Shrink model to first 4804 iterations.\n",
      "0:\tlearn: 0.3157802\ttest: 0.3107808\tbest: 0.3107808 (0)\ttotal: 422ms\tremaining: 35m 9s\n",
      "100:\tlearn: 0.5361781\ttest: 0.4859686\tbest: 0.4861556 (98)\ttotal: 16s\tremaining: 12m 55s\n",
      "200:\tlearn: 0.6237629\ttest: 0.5471494\tbest: 0.5477884 (198)\ttotal: 30.2s\tremaining: 12m 1s\n",
      "300:\tlearn: 0.6676549\ttest: 0.5781307\tbest: 0.5781307 (300)\ttotal: 44s\tremaining: 11m 27s\n",
      "400:\tlearn: 0.7050625\ttest: 0.5957904\tbest: 0.5981547 (386)\ttotal: 57.7s\tremaining: 11m 2s\n",
      "500:\tlearn: 0.7289183\ttest: 0.6192507\tbest: 0.6205116 (493)\ttotal: 1m 11s\tremaining: 10m 38s\n",
      "600:\tlearn: 0.7557015\ttest: 0.6316618\tbest: 0.6332555 (588)\ttotal: 1m 24s\tremaining: 10m 19s\n",
      "700:\tlearn: 0.7689139\ttest: 0.6366665\tbest: 0.6366952 (692)\ttotal: 1m 37s\tremaining: 10m\n",
      "800:\tlearn: 0.7818857\ttest: 0.6424856\tbest: 0.6441341 (792)\ttotal: 1m 51s\tremaining: 9m 42s\n",
      "900:\tlearn: 0.7937293\ttest: 0.6539258\tbest: 0.6539258 (896)\ttotal: 2m 4s\tremaining: 9m 25s\n",
      "1000:\tlearn: 0.8034897\ttest: 0.6572535\tbest: 0.6580027 (979)\ttotal: 2m 16s\tremaining: 9m 6s\n",
      "1100:\tlearn: 0.8186690\ttest: 0.6638338\tbest: 0.6657825 (1088)\ttotal: 2m 29s\tremaining: 8m 49s\n",
      "1200:\tlearn: 0.8247421\ttest: 0.6683967\tbest: 0.6692353 (1177)\ttotal: 2m 41s\tremaining: 8m 32s\n",
      "1300:\tlearn: 0.8323724\ttest: 0.6712143\tbest: 0.6712397 (1295)\ttotal: 2m 54s\tremaining: 8m 15s\n",
      "1400:\tlearn: 0.8404358\ttest: 0.6729667\tbest: 0.6736548 (1393)\ttotal: 3m 6s\tremaining: 7m 58s\n",
      "1500:\tlearn: 0.8474508\ttest: 0.6775280\tbest: 0.6775400 (1492)\ttotal: 3m 18s\tremaining: 7m 42s\n",
      "1600:\tlearn: 0.8527730\ttest: 0.6803524\tbest: 0.6811279 (1597)\ttotal: 3m 30s\tremaining: 7m 26s\n",
      "1700:\tlearn: 0.8604062\ttest: 0.6828798\tbest: 0.6828798 (1698)\ttotal: 3m 42s\tremaining: 7m 10s\n",
      "1800:\tlearn: 0.8647030\ttest: 0.6838269\tbest: 0.6861331 (1774)\ttotal: 3m 53s\tremaining: 6m 55s\n",
      "1900:\tlearn: 0.8725828\ttest: 0.6872811\tbest: 0.6872811 (1889)\ttotal: 4m 5s\tremaining: 6m 40s\n",
      "2000:\tlearn: 0.8767707\ttest: 0.6863605\tbest: 0.6894757 (1947)\ttotal: 4m 17s\tremaining: 6m 25s\n",
      "2100:\tlearn: 0.8806439\ttest: 0.6893926\tbest: 0.6895746 (2066)\ttotal: 4m 29s\tremaining: 6m 11s\n",
      "2200:\tlearn: 0.8839227\ttest: 0.6893297\tbest: 0.6902193 (2141)\ttotal: 4m 40s\tremaining: 5m 57s\n",
      "2300:\tlearn: 0.8859447\ttest: 0.6883825\tbest: 0.6902193 (2141)\ttotal: 4m 52s\tremaining: 5m 42s\n",
      "2400:\tlearn: 0.8892553\ttest: 0.6893663\tbest: 0.6902582 (2380)\ttotal: 5m 4s\tremaining: 5m 29s\n",
      "2500:\tlearn: 0.8925648\ttest: 0.6893285\tbest: 0.6902582 (2380)\ttotal: 5m 15s\tremaining: 5m 15s\n",
      "2600:\tlearn: 0.8932511\ttest: 0.6901025\tbest: 0.6902582 (2380)\ttotal: 5m 27s\tremaining: 5m 1s\n",
      "2700:\tlearn: 0.8952018\ttest: 0.6916620\tbest: 0.6916855 (2675)\ttotal: 5m 38s\tremaining: 4m 48s\n",
      "2800:\tlearn: 0.8965172\ttest: 0.6908327\tbest: 0.6933254 (2733)\ttotal: 5m 50s\tremaining: 4m 34s\n",
      "2900:\tlearn: 0.8987920\ttest: 0.6901931\tbest: 0.6933254 (2733)\ttotal: 6m 1s\tremaining: 4m 21s\n",
      "3000:\tlearn: 0.9017014\ttest: 0.6896561\tbest: 0.6933254 (2733)\ttotal: 6m 13s\tremaining: 4m 8s\n",
      "3100:\tlearn: 0.9043496\ttest: 0.6936234\tbest: 0.6936234 (3086)\ttotal: 6m 25s\tremaining: 3m 55s\n",
      "3200:\tlearn: 0.9066204\ttest: 0.6909655\tbest: 0.6936234 (3086)\ttotal: 6m 36s\tremaining: 3m 42s\n",
      "3300:\tlearn: 0.9089740\ttest: 0.6926831\tbest: 0.6936234 (3086)\ttotal: 6m 47s\tremaining: 3m 29s\n",
      "3400:\tlearn: 0.9106254\ttest: 0.6926334\tbest: 0.6936234 (3086)\ttotal: 6m 59s\tremaining: 3m 17s\n",
      "3500:\tlearn: 0.9116368\ttest: 0.6942445\tbest: 0.6942572 (3459)\ttotal: 7m 10s\tremaining: 3m 4s\n",
      "3600:\tlearn: 0.9133042\ttest: 0.6966970\tbest: 0.6966970 (3578)\ttotal: 7m 22s\tremaining: 2m 51s\n",
      "3700:\tlearn: 0.9158862\ttest: 0.6952737\tbest: 0.6976168 (3644)\ttotal: 7m 33s\tremaining: 2m 39s\n",
      "3800:\tlearn: 0.9181421\ttest: 0.6969490\tbest: 0.6976168 (3644)\ttotal: 7m 45s\tremaining: 2m 26s\n",
      "3900:\tlearn: 0.9192060\ttest: 0.6969368\tbest: 0.6976168 (3644)\ttotal: 7m 56s\tremaining: 2m 14s\n",
      "4000:\tlearn: 0.9231100\ttest: 0.6977308\tbest: 0.6985280 (3967)\ttotal: 8m 7s\tremaining: 2m 1s\n",
      "4100:\tlearn: 0.9237486\ttest: 0.6970157\tbest: 0.6985280 (3967)\ttotal: 8m 19s\tremaining: 1m 49s\n",
      "4200:\tlearn: 0.9250676\ttest: 0.6961139\tbest: 0.6985280 (3967)\ttotal: 8m 30s\tremaining: 1m 37s\n",
      "4300:\tlearn: 0.9253708\ttest: 0.6970157\tbest: 0.6985280 (3967)\ttotal: 8m 43s\tremaining: 1m 25s\n",
      "4400:\tlearn: 0.9273388\ttest: 0.6969868\tbest: 0.6985280 (3967)\ttotal: 8m 55s\tremaining: 1m 12s\n",
      "4500:\tlearn: 0.9290056\ttest: 0.6960841\tbest: 0.6985280 (3967)\ttotal: 9m 7s\tremaining: 1m\n",
      "4600:\tlearn: 0.9296561\ttest: 0.6977279\tbest: 0.6985280 (3967)\ttotal: 9m 19s\tremaining: 48.5s\n",
      "4700:\tlearn: 0.9322242\ttest: 0.6960343\tbest: 0.6985280 (3967)\ttotal: 9m 31s\tremaining: 36.4s\n",
      "4800:\tlearn: 0.9342674\ttest: 0.6976145\tbest: 0.6985280 (3967)\ttotal: 9m 43s\tremaining: 24.2s\n",
      "4900:\tlearn: 0.9359154\ttest: 0.6976110\tbest: 0.6985280 (3967)\ttotal: 9m 55s\tremaining: 12s\n",
      "4999:\tlearn: 0.9355722\ttest: 0.6976110\tbest: 0.6985280 (3967)\ttotal: 10m 7s\tremaining: 0us\n",
      "bestTest = 0.6985280352\n",
      "bestIteration = 3967\n",
      "Shrink model to first 3968 iterations.\n",
      "0:\tlearn: 0.2898982\ttest: 0.2677088\tbest: 0.2677088 (0)\ttotal: 392ms\tremaining: 32m 37s\n",
      "100:\tlearn: 0.5110190\ttest: 0.4532079\tbest: 0.4551120 (97)\ttotal: 18.3s\tremaining: 14m 45s\n",
      "200:\tlearn: 0.5983734\ttest: 0.5181703\tbest: 0.5187259 (199)\ttotal: 34.9s\tremaining: 13m 53s\n",
      "300:\tlearn: 0.6545835\ttest: 0.5648589\tbest: 0.5648589 (300)\ttotal: 50.9s\tremaining: 13m 14s\n",
      "400:\tlearn: 0.6847709\ttest: 0.5821714\tbest: 0.5836931 (381)\ttotal: 1m 7s\tremaining: 12m 50s\n",
      "500:\tlearn: 0.7123457\ttest: 0.6040895\tbest: 0.6040895 (500)\ttotal: 1m 23s\tremaining: 12m 30s\n",
      "600:\tlearn: 0.7397817\ttest: 0.6194817\tbest: 0.6194817 (600)\ttotal: 1m 39s\tremaining: 12m 8s\n"
     ]
    },
    {
     "name": "stdout",
     "output_type": "stream",
     "text": [
      "700:\tlearn: 0.7561175\ttest: 0.6284039\tbest: 0.6285342 (696)\ttotal: 1m 55s\tremaining: 11m 49s\n",
      "800:\tlearn: 0.7725090\ttest: 0.6416558\tbest: 0.6424938 (795)\ttotal: 2m 11s\tremaining: 11m 27s\n",
      "900:\tlearn: 0.7849025\ttest: 0.6539472\tbest: 0.6541123 (893)\ttotal: 2m 27s\tremaining: 11m 8s\n",
      "1000:\tlearn: 0.7956286\ttest: 0.6582807\tbest: 0.6611726 (985)\ttotal: 2m 42s\tremaining: 10m 48s\n",
      "1100:\tlearn: 0.8108469\ttest: 0.6646791\tbest: 0.6662722 (1092)\ttotal: 2m 57s\tremaining: 10m 29s\n",
      "1200:\tlearn: 0.8195508\ttest: 0.6678459\tbest: 0.6700710 (1171)\ttotal: 3m 12s\tremaining: 10m 10s\n",
      "1300:\tlearn: 0.8277911\ttest: 0.6681512\tbest: 0.6705028 (1247)\ttotal: 3m 27s\tremaining: 9m 50s\n",
      "1400:\tlearn: 0.8347117\ttest: 0.6717895\tbest: 0.6726047 (1357)\ttotal: 3m 42s\tremaining: 9m 30s\n",
      "1500:\tlearn: 0.8398498\ttest: 0.6756820\tbest: 0.6772875 (1494)\ttotal: 3m 56s\tremaining: 9m 11s\n",
      "1600:\tlearn: 0.8457620\ttest: 0.6781488\tbest: 0.6795848 (1570)\ttotal: 4m 11s\tremaining: 8m 53s\n",
      "1700:\tlearn: 0.8510522\ttest: 0.6765261\tbest: 0.6795848 (1570)\ttotal: 4m 25s\tremaining: 8m 35s\n",
      "1800:\tlearn: 0.8606279\ttest: 0.6812179\tbest: 0.6812179 (1788)\ttotal: 4m 40s\tremaining: 8m 17s\n",
      "1900:\tlearn: 0.8645337\ttest: 0.6826636\tbest: 0.6834460 (1873)\ttotal: 4m 54s\tremaining: 8m\n",
      "2000:\tlearn: 0.8713915\ttest: 0.6836679\tbest: 0.6836727 (1989)\ttotal: 5m 8s\tremaining: 7m 42s\n",
      "2100:\tlearn: 0.8752656\ttest: 0.6873647\tbest: 0.6881965 (2065)\ttotal: 5m 23s\tremaining: 7m 26s\n",
      "2200:\tlearn: 0.8792038\ttest: 0.6903936\tbest: 0.6911346 (2186)\ttotal: 5m 37s\tremaining: 7m 9s\n",
      "2300:\tlearn: 0.8834381\ttest: 0.6887767\tbest: 0.6911346 (2186)\ttotal: 5m 51s\tremaining: 6m 52s\n",
      "2400:\tlearn: 0.8867461\ttest: 0.6925182\tbest: 0.6933115 (2376)\ttotal: 6m 5s\tremaining: 6m 35s\n",
      "2500:\tlearn: 0.8893874\ttest: 0.6933974\tbest: 0.6940913 (2430)\ttotal: 6m 19s\tremaining: 6m 19s\n",
      "2600:\tlearn: 0.8932622\ttest: 0.6920162\tbest: 0.6940913 (2430)\ttotal: 6m 33s\tremaining: 6m 2s\n",
      "2700:\tlearn: 0.8948836\ttest: 0.6934452\tbest: 0.6940913 (2430)\ttotal: 6m 47s\tremaining: 5m 46s\n",
      "2800:\tlearn: 0.8981165\ttest: 0.6941959\tbest: 0.6957661 (2740)\ttotal: 7m 1s\tremaining: 5m 31s\n",
      "2900:\tlearn: 0.9001014\ttest: 0.6941218\tbest: 0.6957661 (2740)\ttotal: 7m 15s\tremaining: 5m 15s\n",
      "3000:\tlearn: 0.9029973\ttest: 0.6948446\tbest: 0.6957661 (2740)\ttotal: 7m 30s\tremaining: 4m 59s\n",
      "3100:\tlearn: 0.9062956\ttest: 0.6954303\tbest: 0.6957661 (2740)\ttotal: 7m 44s\tremaining: 4m 44s\n",
      "3200:\tlearn: 0.9088810\ttest: 0.6947348\tbest: 0.6961964 (3173)\ttotal: 7m 58s\tremaining: 4m 28s\n",
      "3300:\tlearn: 0.9095483\ttest: 0.6947317\tbest: 0.6961964 (3173)\ttotal: 8m 12s\tremaining: 4m 13s\n",
      "3400:\tlearn: 0.9108509\ttest: 0.6938595\tbest: 0.6961964 (3173)\ttotal: 8m 26s\tremaining: 3m 58s\n",
      "3500:\tlearn: 0.9121548\ttest: 0.6924836\tbest: 0.6961964 (3173)\ttotal: 8m 40s\tremaining: 3m 42s\n",
      "3600:\tlearn: 0.9141276\ttest: 0.6938960\tbest: 0.6961964 (3173)\ttotal: 8m 54s\tremaining: 3m 27s\n",
      "3700:\tlearn: 0.9151530\ttest: 0.6948063\tbest: 0.6961964 (3173)\ttotal: 9m 8s\tremaining: 3m 12s\n",
      "3800:\tlearn: 0.9181319\ttest: 0.6939184\tbest: 0.6961964 (3173)\ttotal: 9m 22s\tremaining: 2m 57s\n",
      "3900:\tlearn: 0.9204345\ttest: 0.6946526\tbest: 0.6961964 (3173)\ttotal: 9m 36s\tremaining: 2m 42s\n",
      "4000:\tlearn: 0.9224229\ttest: 0.6954123\tbest: 0.6961964 (3173)\ttotal: 9m 50s\tremaining: 2m 27s\n",
      "4100:\tlearn: 0.9246841\ttest: 0.6946526\tbest: 0.6961964 (3173)\ttotal: 10m 4s\tremaining: 2m 12s\n",
      "4200:\tlearn: 0.9263481\ttest: 0.6946526\tbest: 0.6961964 (3173)\ttotal: 10m 18s\tremaining: 1m 57s\n",
      "4300:\tlearn: 0.9283374\ttest: 0.6947542\tbest: 0.6961964 (3173)\ttotal: 10m 32s\tremaining: 1m 42s\n",
      "4400:\tlearn: 0.9303208\ttest: 0.6940164\tbest: 0.6961964 (3173)\ttotal: 10m 45s\tremaining: 1m 27s\n",
      "4500:\tlearn: 0.9316347\ttest: 0.6947369\tbest: 0.6961964 (3173)\ttotal: 10m 59s\tremaining: 1m 13s\n",
      "4600:\tlearn: 0.9335770\ttest: 0.6961671\tbest: 0.6961964 (3173)\ttotal: 11m 13s\tremaining: 58.4s\n",
      "4700:\tlearn: 0.9348860\ttest: 0.6963495\tbest: 0.6970860 (4667)\ttotal: 11m 27s\tremaining: 43.7s\n",
      "4800:\tlearn: 0.9374917\ttest: 0.6970943\tbest: 0.6970943 (4792)\ttotal: 11m 41s\tremaining: 29.1s\n",
      "4900:\tlearn: 0.9371580\ttest: 0.6979327\tbest: 0.6979327 (4880)\ttotal: 11m 54s\tremaining: 14.4s\n",
      "4999:\tlearn: 0.9397651\ttest: 0.6984438\tbest: 0.6985148 (4987)\ttotal: 12m 8s\tremaining: 0us\n",
      "bestTest = 0.6985147944\n",
      "bestIteration = 4987\n",
      "Shrink model to first 4988 iterations.\n"
     ]
    },
    {
     "data": {
      "text/html": [
       "<div>\n",
       "<style scoped>\n",
       "    .dataframe tbody tr th:only-of-type {\n",
       "        vertical-align: middle;\n",
       "    }\n",
       "\n",
       "    .dataframe tbody tr th {\n",
       "        vertical-align: top;\n",
       "    }\n",
       "\n",
       "    .dataframe thead th {\n",
       "        text-align: right;\n",
       "    }\n",
       "</style>\n",
       "<table border=\"1\" class=\"dataframe\">\n",
       "  <thead>\n",
       "    <tr style=\"text-align: right;\">\n",
       "      <th></th>\n",
       "      <th>количество_тем</th>\n",
       "      <th>SVM</th>\n",
       "      <th>logreg</th>\n",
       "      <th>knn</th>\n",
       "      <th>catboost</th>\n",
       "    </tr>\n",
       "  </thead>\n",
       "  <tbody>\n",
       "    <tr>\n",
       "      <th>0</th>\n",
       "      <td>3</td>\n",
       "      <td>0.876761</td>\n",
       "      <td>0.856381</td>\n",
       "      <td>0.803785</td>\n",
       "      <td>0.814515</td>\n",
       "    </tr>\n",
       "    <tr>\n",
       "      <th>1</th>\n",
       "      <td>4</td>\n",
       "      <td>0.829263</td>\n",
       "      <td>0.848506</td>\n",
       "      <td>0.756301</td>\n",
       "      <td>0.785461</td>\n",
       "    </tr>\n",
       "    <tr>\n",
       "      <th>2</th>\n",
       "      <td>5</td>\n",
       "      <td>0.796141</td>\n",
       "      <td>0.800832</td>\n",
       "      <td>0.736424</td>\n",
       "      <td>0.753913</td>\n",
       "    </tr>\n",
       "    <tr>\n",
       "      <th>3</th>\n",
       "      <td>6</td>\n",
       "      <td>0.765622</td>\n",
       "      <td>0.779337</td>\n",
       "      <td>0.648797</td>\n",
       "      <td>0.730360</td>\n",
       "    </tr>\n",
       "    <tr>\n",
       "      <th>4</th>\n",
       "      <td>7</td>\n",
       "      <td>0.757666</td>\n",
       "      <td>0.761718</td>\n",
       "      <td>0.646847</td>\n",
       "      <td>0.698528</td>\n",
       "    </tr>\n",
       "    <tr>\n",
       "      <th>5</th>\n",
       "      <td>8</td>\n",
       "      <td>0.722256</td>\n",
       "      <td>0.731600</td>\n",
       "      <td>0.632749</td>\n",
       "      <td>0.698515</td>\n",
       "    </tr>\n",
       "  </tbody>\n",
       "</table>\n",
       "</div>"
      ],
      "text/plain": [
       "   количество_тем       SVM    logreg       knn  catboost\n",
       "0               3  0.876761  0.856381  0.803785  0.814515\n",
       "1               4  0.829263  0.848506  0.756301  0.785461\n",
       "2               5  0.796141  0.800832  0.736424  0.753913\n",
       "3               6  0.765622  0.779337  0.648797  0.730360\n",
       "4               7  0.757666  0.761718  0.646847  0.698528\n",
       "5               8  0.722256  0.731600  0.632749  0.698515"
      ]
     },
     "execution_count": 132,
     "metadata": {},
     "output_type": "execute_result"
    }
   ],
   "source": [
    "list_i_2 = []\n",
    "list_svc_2 = []\n",
    "list_logreg = []\n",
    "list_randomforest = []\n",
    "list_knn = []\n",
    "list_catb= []\n",
    "for i in range(3, 9):\n",
    "    lda = gensim.models.LdaMulticore(corpus, \n",
    "                                 num_topics=i, \n",
    "                                 id2word=gensim_dictionary, \n",
    "                                 passes=10, random_state=7575)\n",
    "    svm = SVC(probability=True, C=1, gamma=1, kernel='linear')\n",
    "    # Применим функцию к датасету\n",
    "    df3['new_target'] = df3[\"new_processed\"].apply(get_topic, lda=lda)\n",
    "    df3['new_target'] = df3['new_target'].astype('int')\n",
    "    X_train, X_test, y_train, y_test = train_test_split(modeltf, df3['new_target'].values, test_size=.3, \n",
    "                                                    random_state=7575, stratify =df3['new_target'].values)\n",
    "    # Обучаем модель SVM\n",
    "    svm.fit(X_train, y_train)\n",
    "    y_svm_pred = svm.predict(X_test)\n",
    "    \n",
    "    # Обучаем модель логрег\n",
    "    logreg = LogisticRegression(n_jobs=3, C=1e5, solver='saga',\n",
    "                                              multi_class= 'multinomial',\n",
    "                                              max_iter = 1000,\n",
    "                                              random_state = 7575)\n",
    "    logreg.fit(X_train, y_train)\n",
    "    y_logreg_pred = logreg.predict(X_test)\n",
    "    \n",
    "    # Обучаем KNN\n",
    "    clf_knn = KNeighborsClassifier(n_neighbors=19) # создадим модель 5ти ближайших соседей\n",
    "    clf_knn.fit(X_train, y_train)  # оценим параметры модели\n",
    "    y_pred_knn = clf_knn.predict(X_test)\n",
    "    \n",
    "    # Обучаем Catboost\n",
    "    # Указываем на текстовые признаки\n",
    "    text_features = []\n",
    "    cat_features = []\n",
    "\n",
    "    # Обучаем модель\n",
    "    train_pool = Pool(\n",
    "        X_train, y_train,\n",
    "        text_features=text_features,\n",
    "        cat_features=cat_features\n",
    "    )\n",
    "\n",
    "    validation_pool = Pool(\n",
    "        X_test, y_test,\n",
    "        text_features=text_features,\n",
    "        cat_features=cat_features\n",
    "    )\n",
    "\n",
    "\n",
    "    model_topic_catb = fit_model(train_pool, validation_pool)\n",
    "    y_catb_pred = model_topic_catb.predict(X_test)\n",
    "    \n",
    "    from sklearn.metrics import f1_score\n",
    "    # Добавляем в список оценки f1\n",
    "    list_svc_2.append(f1_score(y_test, y_svm_pred, average='weighted'))\n",
    "    list_i_2.append(i)\n",
    "    list_logreg.append(f1_score(y_test, y_logreg_pred, average='weighted'))\n",
    "    list_knn.append(f1_score(y_test, y_pred_knn, average='weighted'))\n",
    "    list_catb.append(f1_score(y_test, y_catb_pred, average='weighted'))\n",
    "    \n",
    "df_topic = pd.DataFrame({'количество_тем': list_i_2,\n",
    "                        'SVM': list_svc_2,\n",
    "                        'logreg' : list_logreg,\n",
    "                        'knn' : list_knn,\n",
    "                        'catboost' : list_catb})\n",
    "\n",
    "df_topic\n"
   ]
  },
  {
   "cell_type": "markdown",
   "id": "f41ddafe",
   "metadata": {},
   "source": [
    "### Определим метрику F1 при разных количествах тем для групп. Результат сведем в таблицу"
   ]
  },
  {
   "cell_type": "code",
   "execution_count": 133,
   "id": "a782c70a",
   "metadata": {},
   "outputs": [
    {
     "name": "stdout",
     "output_type": "stream",
     "text": [
      "0:\tlearn: 0.7356356\ttest: 0.7432898\tbest: 0.7432898 (0)\ttotal: 41.6ms\tremaining: 3m 28s\n",
      "100:\tlearn: 0.7807293\ttest: 0.7862391\tbest: 0.7870213 (94)\ttotal: 3.21s\tremaining: 2m 35s\n",
      "200:\tlearn: 0.7897384\ttest: 0.7873383\tbest: 0.7873383 (198)\ttotal: 6.09s\tremaining: 2m 25s\n",
      "300:\tlearn: 0.8154450\ttest: 0.8028613\tbest: 0.8036432 (298)\ttotal: 8.51s\tremaining: 2m 12s\n",
      "400:\tlearn: 0.8197806\ttest: 0.8044700\tbest: 0.8059847 (381)\ttotal: 10.7s\tremaining: 2m 2s\n",
      "500:\tlearn: 0.8240239\ttest: 0.8044526\tbest: 0.8059847 (381)\ttotal: 12.8s\tremaining: 1m 55s\n",
      "600:\tlearn: 0.8272748\ttest: 0.8052077\tbest: 0.8059847 (381)\ttotal: 15s\tremaining: 1m 50s\n",
      "700:\tlearn: 0.8308541\ttest: 0.8059456\tbest: 0.8059847 (381)\ttotal: 17.2s\tremaining: 1m 45s\n",
      "800:\tlearn: 0.8308673\ttest: 0.8082502\tbest: 0.8082502 (766)\ttotal: 19.3s\tremaining: 1m 41s\n",
      "900:\tlearn: 0.8334764\ttest: 0.8090294\tbest: 0.8097830 (896)\ttotal: 21.4s\tremaining: 1m 37s\n",
      "1000:\tlearn: 0.8350785\ttest: 0.8105819\tbest: 0.8105819 (931)\ttotal: 23.6s\tremaining: 1m 34s\n",
      "1100:\tlearn: 0.8373119\ttest: 0.8098023\tbest: 0.8113614 (1061)\ttotal: 25.7s\tremaining: 1m 31s\n",
      "1200:\tlearn: 0.8389415\ttest: 0.8098230\tbest: 0.8113614 (1061)\ttotal: 27.9s\tremaining: 1m 28s\n",
      "1300:\tlearn: 0.8422090\ttest: 0.8098484\tbest: 0.8113614 (1061)\ttotal: 30s\tremaining: 1m 25s\n",
      "1400:\tlearn: 0.8448364\ttest: 0.8098484\tbest: 0.8113660 (1364)\ttotal: 32.2s\tremaining: 1m 22s\n",
      "1500:\tlearn: 0.8481097\ttest: 0.8113673\tbest: 0.8121444 (1417)\ttotal: 34.3s\tremaining: 1m 19s\n",
      "1600:\tlearn: 0.8510884\ttest: 0.8106374\tbest: 0.8121463 (1515)\ttotal: 36.4s\tremaining: 1m 17s\n",
      "1700:\tlearn: 0.8527490\ttest: 0.8114149\tbest: 0.8121463 (1515)\ttotal: 38.6s\tremaining: 1m 14s\n",
      "1800:\tlearn: 0.8550239\ttest: 0.8114149\tbest: 0.8121710 (1799)\ttotal: 40.9s\tremaining: 1m 12s\n",
      "1900:\tlearn: 0.8582880\ttest: 0.8114149\tbest: 0.8121710 (1799)\ttotal: 43.1s\tremaining: 1m 10s\n",
      "2000:\tlearn: 0.8612163\ttest: 0.8114149\tbest: 0.8121710 (1799)\ttotal: 45.3s\tremaining: 1m 7s\n",
      "2100:\tlearn: 0.8628402\ttest: 0.8114149\tbest: 0.8121710 (1799)\ttotal: 47.7s\tremaining: 1m 5s\n",
      "2200:\tlearn: 0.8641415\ttest: 0.8114149\tbest: 0.8121710 (1799)\ttotal: 49.9s\tremaining: 1m 3s\n",
      "2300:\tlearn: 0.8677372\ttest: 0.8121919\tbest: 0.8121919 (2204)\ttotal: 52.1s\tremaining: 1m 1s\n",
      "2400:\tlearn: 0.8693803\ttest: 0.8114131\tbest: 0.8121919 (2204)\ttotal: 54.4s\tremaining: 58.9s\n",
      "2500:\tlearn: 0.8703523\ttest: 0.8114131\tbest: 0.8121919 (2204)\ttotal: 56.7s\tremaining: 56.6s\n",
      "2600:\tlearn: 0.8719898\ttest: 0.8114131\tbest: 0.8121919 (2204)\ttotal: 58.9s\tremaining: 54.4s\n",
      "2700:\tlearn: 0.8736204\ttest: 0.8114131\tbest: 0.8121919 (2204)\ttotal: 1m 1s\tremaining: 52.1s\n",
      "2800:\tlearn: 0.8762475\ttest: 0.8114131\tbest: 0.8121919 (2204)\ttotal: 1m 3s\tremaining: 49.8s\n",
      "2900:\tlearn: 0.8769004\ttest: 0.8114131\tbest: 0.8121919 (2204)\ttotal: 1m 5s\tremaining: 47.6s\n",
      "3000:\tlearn: 0.8788618\ttest: 0.8114131\tbest: 0.8121919 (2204)\ttotal: 1m 8s\tremaining: 45.3s\n",
      "3100:\tlearn: 0.8808261\ttest: 0.8121478\tbest: 0.8121919 (2204)\ttotal: 1m 10s\tremaining: 43.1s\n",
      "3200:\tlearn: 0.8844284\ttest: 0.8121478\tbest: 0.8129238 (3122)\ttotal: 1m 12s\tremaining: 40.9s\n",
      "3300:\tlearn: 0.8847549\ttest: 0.8121294\tbest: 0.8129238 (3122)\ttotal: 1m 14s\tremaining: 38.6s\n",
      "3400:\tlearn: 0.8886864\ttest: 0.8113535\tbest: 0.8129238 (3122)\ttotal: 1m 17s\tremaining: 36.3s\n",
      "3500:\tlearn: 0.8896824\ttest: 0.8105941\tbest: 0.8129238 (3122)\ttotal: 1m 19s\tremaining: 34.1s\n",
      "3600:\tlearn: 0.8916362\ttest: 0.8098168\tbest: 0.8129238 (3122)\ttotal: 1m 21s\tremaining: 31.8s\n",
      "3700:\tlearn: 0.8926276\ttest: 0.8105924\tbest: 0.8129238 (3122)\ttotal: 1m 24s\tremaining: 29.5s\n",
      "3800:\tlearn: 0.8949131\ttest: 0.8113722\tbest: 0.8129238 (3122)\ttotal: 1m 26s\tremaining: 27.3s\n",
      "3900:\tlearn: 0.8972159\ttest: 0.8121272\tbest: 0.8129238 (3122)\ttotal: 1m 28s\tremaining: 25s\n",
      "4000:\tlearn: 0.8978652\ttest: 0.8105924\tbest: 0.8129238 (3122)\ttotal: 1m 31s\tremaining: 22.7s\n",
      "4100:\tlearn: 0.8998264\ttest: 0.8113467\tbest: 0.8129238 (3122)\ttotal: 1m 33s\tremaining: 20.5s\n",
      "4200:\tlearn: 0.9001501\ttest: 0.8105684\tbest: 0.8129238 (3122)\ttotal: 1m 36s\tremaining: 18.3s\n",
      "4300:\tlearn: 0.9024333\ttest: 0.8097897\tbest: 0.8129238 (3122)\ttotal: 1m 38s\tremaining: 16.1s\n",
      "4400:\tlearn: 0.9037543\ttest: 0.8097897\tbest: 0.8129238 (3122)\ttotal: 1m 41s\tremaining: 13.8s\n",
      "4500:\tlearn: 0.9053949\ttest: 0.8105699\tbest: 0.8129238 (3122)\ttotal: 1m 43s\tremaining: 11.5s\n",
      "4600:\tlearn: 0.9066904\ttest: 0.8105699\tbest: 0.8129238 (3122)\ttotal: 1m 45s\tremaining: 9.18s\n",
      "4700:\tlearn: 0.9093012\ttest: 0.8105699\tbest: 0.8129238 (3122)\ttotal: 1m 48s\tremaining: 6.9s\n",
      "4800:\tlearn: 0.9119278\ttest: 0.8105699\tbest: 0.8129238 (3122)\ttotal: 1m 50s\tremaining: 4.59s\n",
      "4900:\tlearn: 0.9145516\ttest: 0.8105699\tbest: 0.8129238 (3122)\ttotal: 1m 53s\tremaining: 2.29s\n",
      "4999:\tlearn: 0.9148766\ttest: 0.8105699\tbest: 0.8129238 (3122)\ttotal: 1m 55s\tremaining: 0us\n",
      "bestTest = 0.8129238091\n",
      "bestIteration = 3122\n",
      "Shrink model to first 3123 iterations.\n",
      "0:\tlearn: 0.6901912\ttest: 0.7047530\tbest: 0.7047530 (0)\ttotal: 64.5ms\tremaining: 5m 22s\n",
      "100:\tlearn: 0.7495236\ttest: 0.7558124\tbest: 0.7558124 (100)\ttotal: 4.61s\tremaining: 3m 43s\n",
      "200:\tlearn: 0.7713009\ttest: 0.7580928\tbest: 0.7602931 (157)\ttotal: 9.02s\tremaining: 3m 35s\n",
      "300:\tlearn: 0.7840919\ttest: 0.7666716\tbest: 0.7681470 (279)\ttotal: 12s\tremaining: 3m 6s\n",
      "400:\tlearn: 0.7914971\ttest: 0.7659186\tbest: 0.7681470 (279)\ttotal: 14.7s\tremaining: 2m 48s\n",
      "500:\tlearn: 0.7959390\ttest: 0.7668652\tbest: 0.7681470 (279)\ttotal: 17.3s\tremaining: 2m 34s\n",
      "600:\tlearn: 0.8003555\ttest: 0.7668663\tbest: 0.7692179 (543)\ttotal: 19.9s\tremaining: 2m 25s\n",
      "700:\tlearn: 0.8042517\ttest: 0.7660971\tbest: 0.7692179 (543)\ttotal: 22.4s\tremaining: 2m 17s\n",
      "800:\tlearn: 0.8088209\ttest: 0.7630640\tbest: 0.7692179 (543)\ttotal: 25s\tremaining: 2m 11s\n",
      "900:\tlearn: 0.8128734\ttest: 0.7638840\tbest: 0.7692179 (543)\ttotal: 27.6s\tremaining: 2m 5s\n",
      "1000:\tlearn: 0.8163133\ttest: 0.7646352\tbest: 0.7692179 (543)\ttotal: 30.1s\tremaining: 2m\n",
      "1100:\tlearn: 0.8193081\ttest: 0.7629206\tbest: 0.7692179 (543)\ttotal: 32.7s\tremaining: 1m 55s\n",
      "1200:\tlearn: 0.8216560\ttest: 0.7653821\tbest: 0.7692179 (543)\ttotal: 35.2s\tremaining: 1m 51s\n",
      "1300:\tlearn: 0.8256352\ttest: 0.7637702\tbest: 0.7692179 (543)\ttotal: 37.8s\tremaining: 1m 47s\n",
      "1400:\tlearn: 0.8297044\ttest: 0.7646122\tbest: 0.7692179 (543)\ttotal: 40.4s\tremaining: 1m 43s\n",
      "1500:\tlearn: 0.8310445\ttest: 0.7630582\tbest: 0.7692179 (543)\ttotal: 42.9s\tremaining: 1m 40s\n",
      "1600:\tlearn: 0.8343619\ttest: 0.7629659\tbest: 0.7692179 (543)\ttotal: 45.5s\tremaining: 1m 36s\n",
      "1700:\tlearn: 0.8366792\ttest: 0.7637627\tbest: 0.7692179 (543)\ttotal: 48.2s\tremaining: 1m 33s\n",
      "1800:\tlearn: 0.8383816\ttest: 0.7629659\tbest: 0.7692179 (543)\ttotal: 50.7s\tremaining: 1m 30s\n",
      "1900:\tlearn: 0.8400472\ttest: 0.7629824\tbest: 0.7692179 (543)\ttotal: 53.3s\tremaining: 1m 26s\n",
      "2000:\tlearn: 0.8440517\ttest: 0.7630408\tbest: 0.7692179 (543)\ttotal: 55.8s\tremaining: 1m 23s\n",
      "2100:\tlearn: 0.8460210\ttest: 0.7646006\tbest: 0.7692179 (543)\ttotal: 58.4s\tremaining: 1m 20s\n",
      "2200:\tlearn: 0.8513927\ttest: 0.7646006\tbest: 0.7692179 (543)\ttotal: 1m 1s\tremaining: 1m 17s\n",
      "2300:\tlearn: 0.8527251\ttest: 0.7654540\tbest: 0.7692179 (543)\ttotal: 1m 3s\tremaining: 1m 14s\n",
      "2400:\tlearn: 0.8533529\ttest: 0.7662172\tbest: 0.7692179 (543)\ttotal: 1m 6s\tremaining: 1m 11s\n",
      "2500:\tlearn: 0.8556778\ttest: 0.7654540\tbest: 0.7692179 (543)\ttotal: 1m 8s\tremaining: 1m 8s\n",
      "2600:\tlearn: 0.8566559\ttest: 0.7662485\tbest: 0.7692179 (543)\ttotal: 1m 11s\tremaining: 1m 5s\n",
      "2700:\tlearn: 0.8599618\ttest: 0.7662028\tbest: 0.7692179 (543)\ttotal: 1m 13s\tremaining: 1m 2s\n",
      "2800:\tlearn: 0.8622554\ttest: 0.7677881\tbest: 0.7693229 (2747)\ttotal: 1m 16s\tremaining: 1m\n",
      "2900:\tlearn: 0.8645680\ttest: 0.7685116\tbest: 0.7693433 (2862)\ttotal: 1m 19s\tremaining: 57.2s\n",
      "3000:\tlearn: 0.8659062\ttest: 0.7685556\tbest: 0.7693433 (2862)\ttotal: 1m 21s\tremaining: 54.4s\n",
      "3100:\tlearn: 0.8675511\ttest: 0.7701023\tbest: 0.7701023 (3026)\ttotal: 1m 24s\tremaining: 51.6s\n",
      "3200:\tlearn: 0.8701854\ttest: 0.7708171\tbest: 0.7708171 (3169)\ttotal: 1m 26s\tremaining: 48.8s\n",
      "3300:\tlearn: 0.8711681\ttest: 0.7725040\tbest: 0.7725040 (3290)\ttotal: 1m 29s\tremaining: 46s\n",
      "3400:\tlearn: 0.8738430\ttest: 0.7741558\tbest: 0.7741558 (3392)\ttotal: 1m 31s\tremaining: 43.2s\n",
      "3500:\tlearn: 0.8758607\ttest: 0.7733303\tbest: 0.7741572 (3482)\ttotal: 1m 34s\tremaining: 40.5s\n",
      "3600:\tlearn: 0.8768377\ttest: 0.7733303\tbest: 0.7741572 (3482)\ttotal: 1m 37s\tremaining: 37.7s\n",
      "3700:\tlearn: 0.8775354\ttest: 0.7748177\tbest: 0.7748177 (3671)\ttotal: 1m 39s\tremaining: 35s\n"
     ]
    },
    {
     "name": "stdout",
     "output_type": "stream",
     "text": [
      "3800:\tlearn: 0.8805145\ttest: 0.7709010\tbest: 0.7748177 (3671)\ttotal: 1m 42s\tremaining: 32.3s\n",
      "3900:\tlearn: 0.8834989\ttest: 0.7709010\tbest: 0.7748177 (3671)\ttotal: 1m 44s\tremaining: 29.5s\n",
      "4000:\tlearn: 0.8858528\ttest: 0.7716710\tbest: 0.7748177 (3671)\ttotal: 1m 47s\tremaining: 26.8s\n",
      "4100:\tlearn: 0.8871760\ttest: 0.7724788\tbest: 0.7748177 (3671)\ttotal: 1m 50s\tremaining: 24.1s\n",
      "4200:\tlearn: 0.8884936\ttest: 0.7702311\tbest: 0.7748177 (3671)\ttotal: 1m 52s\tremaining: 21.4s\n",
      "4300:\tlearn: 0.8901606\ttest: 0.7701765\tbest: 0.7748177 (3671)\ttotal: 1m 55s\tremaining: 18.7s\n",
      "4400:\tlearn: 0.8918537\ttest: 0.7693818\tbest: 0.7748177 (3671)\ttotal: 1m 57s\tremaining: 16s\n",
      "4500:\tlearn: 0.8938388\ttest: 0.7693818\tbest: 0.7748177 (3671)\ttotal: 2m\tremaining: 13.4s\n",
      "4600:\tlearn: 0.8961757\ttest: 0.7686659\tbest: 0.7748177 (3671)\ttotal: 2m 3s\tremaining: 10.7s\n",
      "4700:\tlearn: 0.8981552\ttest: 0.7709783\tbest: 0.7748177 (3671)\ttotal: 2m 5s\tremaining: 7.99s\n",
      "4800:\tlearn: 0.8997978\ttest: 0.7718230\tbest: 0.7748177 (3671)\ttotal: 2m 8s\tremaining: 5.31s\n",
      "4900:\tlearn: 0.9011284\ttest: 0.7718230\tbest: 0.7748177 (3671)\ttotal: 2m 10s\tremaining: 2.64s\n",
      "4999:\tlearn: 0.9031420\ttest: 0.7709990\tbest: 0.7748177 (3671)\ttotal: 2m 13s\tremaining: 0us\n",
      "bestTest = 0.7748176577\n",
      "bestIteration = 3671\n",
      "Shrink model to first 3672 iterations.\n",
      "0:\tlearn: 0.6064853\ttest: 0.6181052\tbest: 0.6181052 (0)\ttotal: 56.6ms\tremaining: 4m 42s\n",
      "100:\tlearn: 0.6829913\ttest: 0.6907826\tbest: 0.6922160 (98)\ttotal: 5.11s\tremaining: 4m 7s\n",
      "200:\tlearn: 0.7111121\ttest: 0.6994724\tbest: 0.6995160 (194)\ttotal: 10.2s\tremaining: 4m 3s\n",
      "300:\tlearn: 0.7222575\ttest: 0.7020473\tbest: 0.7021098 (290)\ttotal: 13.7s\tremaining: 3m 34s\n",
      "400:\tlearn: 0.7274897\ttest: 0.7028122\tbest: 0.7035866 (393)\ttotal: 16.8s\tremaining: 3m 12s\n",
      "500:\tlearn: 0.7312308\ttest: 0.7071834\tbest: 0.7072043 (421)\ttotal: 19.7s\tremaining: 2m 56s\n",
      "600:\tlearn: 0.7365036\ttest: 0.7050466\tbest: 0.7080091 (530)\ttotal: 22.6s\tremaining: 2m 45s\n",
      "700:\tlearn: 0.7378021\ttest: 0.7058844\tbest: 0.7080091 (530)\ttotal: 25.5s\tremaining: 2m 36s\n",
      "800:\tlearn: 0.7408869\ttest: 0.7066238\tbest: 0.7080091 (530)\ttotal: 28.4s\tremaining: 2m 28s\n",
      "900:\tlearn: 0.7441967\ttest: 0.7074007\tbest: 0.7081690 (876)\ttotal: 31.3s\tremaining: 2m 22s\n",
      "1000:\tlearn: 0.7484656\ttest: 0.7081572\tbest: 0.7081690 (876)\ttotal: 34.1s\tremaining: 2m 16s\n",
      "1100:\tlearn: 0.7536793\ttest: 0.7082454\tbest: 0.7089886 (1075)\ttotal: 37s\tremaining: 2m 10s\n",
      "1200:\tlearn: 0.7585708\ttest: 0.7081680\tbest: 0.7089886 (1075)\ttotal: 39.8s\tremaining: 2m 5s\n",
      "1300:\tlearn: 0.7614659\ttest: 0.7097235\tbest: 0.7097235 (1298)\ttotal: 42.7s\tremaining: 2m 1s\n",
      "1400:\tlearn: 0.7673971\ttest: 0.7089187\tbest: 0.7097235 (1298)\ttotal: 45.5s\tremaining: 1m 56s\n",
      "1500:\tlearn: 0.7699873\ttest: 0.7081608\tbest: 0.7097235 (1298)\ttotal: 48.3s\tremaining: 1m 52s\n",
      "1600:\tlearn: 0.7755531\ttest: 0.7065744\tbest: 0.7097235 (1298)\ttotal: 51.2s\tremaining: 1m 48s\n",
      "1700:\tlearn: 0.7785370\ttest: 0.7073180\tbest: 0.7097235 (1298)\ttotal: 54s\tremaining: 1m 44s\n",
      "1800:\tlearn: 0.7811674\ttest: 0.7096299\tbest: 0.7097235 (1298)\ttotal: 56.8s\tremaining: 1m 40s\n",
      "1900:\tlearn: 0.7828108\ttest: 0.7095458\tbest: 0.7103608 (1811)\ttotal: 59.7s\tremaining: 1m 37s\n",
      "2000:\tlearn: 0.7876784\ttest: 0.7080582\tbest: 0.7103608 (1811)\ttotal: 1m 2s\tremaining: 1m 33s\n",
      "2100:\tlearn: 0.7899746\ttest: 0.7072587\tbest: 0.7103608 (1811)\ttotal: 1m 5s\tremaining: 1m 30s\n",
      "2200:\tlearn: 0.7942024\ttest: 0.7087995\tbest: 0.7103608 (1811)\ttotal: 1m 8s\tremaining: 1m 26s\n",
      "2300:\tlearn: 0.7958682\ttest: 0.7079981\tbest: 0.7103608 (1811)\ttotal: 1m 11s\tremaining: 1m 23s\n",
      "2400:\tlearn: 0.7988145\ttest: 0.7080219\tbest: 0.7103608 (1811)\ttotal: 1m 13s\tremaining: 1m 19s\n",
      "2500:\tlearn: 0.8014030\ttest: 0.7072530\tbest: 0.7103608 (1811)\ttotal: 1m 16s\tremaining: 1m 16s\n",
      "2600:\tlearn: 0.8036639\ttest: 0.7072566\tbest: 0.7103608 (1811)\ttotal: 1m 19s\tremaining: 1m 13s\n",
      "2700:\tlearn: 0.8075498\ttest: 0.7058330\tbest: 0.7103608 (1811)\ttotal: 1m 22s\tremaining: 1m 10s\n",
      "2800:\tlearn: 0.8108275\ttest: 0.7049889\tbest: 0.7103608 (1811)\ttotal: 1m 25s\tremaining: 1m 6s\n",
      "2900:\tlearn: 0.8124775\ttest: 0.7049843\tbest: 0.7103608 (1811)\ttotal: 1m 28s\tremaining: 1m 3s\n",
      "3000:\tlearn: 0.8196862\ttest: 0.7119231\tbest: 0.7119231 (2997)\ttotal: 1m 31s\tremaining: 1m\n",
      "3100:\tlearn: 0.8307907\ttest: 0.7127312\tbest: 0.7127312 (3099)\ttotal: 1m 34s\tremaining: 57.6s\n",
      "3200:\tlearn: 0.8364069\ttest: 0.7127564\tbest: 0.7127564 (3187)\ttotal: 1m 37s\tremaining: 54.5s\n",
      "3300:\tlearn: 0.8403263\ttest: 0.7178751\tbest: 0.7194109 (3226)\ttotal: 1m 39s\tremaining: 51.4s\n",
      "3400:\tlearn: 0.8455356\ttest: 0.7185837\tbest: 0.7208804 (3380)\ttotal: 1m 42s\tremaining: 48.3s\n",
      "3500:\tlearn: 0.8468478\ttest: 0.7216412\tbest: 0.7231728 (3483)\ttotal: 1m 45s\tremaining: 45.2s\n",
      "3600:\tlearn: 0.8488274\ttest: 0.7232843\tbest: 0.7240143 (3521)\ttotal: 1m 48s\tremaining: 42.1s\n",
      "3700:\tlearn: 0.8534307\ttest: 0.7216532\tbest: 0.7240365 (3653)\ttotal: 1m 51s\tremaining: 39.1s\n",
      "3800:\tlearn: 0.8547307\ttest: 0.7217356\tbest: 0.7240365 (3653)\ttotal: 1m 54s\tremaining: 36s\n",
      "3900:\tlearn: 0.8560446\ttest: 0.7210319\tbest: 0.7240365 (3653)\ttotal: 1m 56s\tremaining: 33s\n",
      "4000:\tlearn: 0.8580395\ttest: 0.7208918\tbest: 0.7240365 (3653)\ttotal: 1m 59s\tremaining: 29.9s\n",
      "4100:\tlearn: 0.8612591\ttest: 0.7232390\tbest: 0.7240365 (3653)\ttotal: 2m 2s\tremaining: 26.9s\n",
      "4200:\tlearn: 0.8648184\ttest: 0.7247419\tbest: 0.7247419 (4161)\ttotal: 2m 5s\tremaining: 23.9s\n",
      "4300:\tlearn: 0.8687834\ttest: 0.7232721\tbest: 0.7247419 (4161)\ttotal: 2m 8s\tremaining: 20.9s\n",
      "4400:\tlearn: 0.8720508\ttest: 0.7240007\tbest: 0.7254963 (4382)\ttotal: 2m 11s\tremaining: 17.9s\n",
      "4500:\tlearn: 0.8727101\ttest: 0.7255782\tbest: 0.7255782 (4490)\ttotal: 2m 14s\tremaining: 14.9s\n",
      "4600:\tlearn: 0.8753612\ttest: 0.7247636\tbest: 0.7263403 (4554)\ttotal: 2m 17s\tremaining: 11.9s\n",
      "4700:\tlearn: 0.8763644\ttest: 0.7240396\tbest: 0.7263403 (4554)\ttotal: 2m 20s\tremaining: 8.9s\n",
      "4800:\tlearn: 0.8783585\ttest: 0.7241654\tbest: 0.7263403 (4554)\ttotal: 2m 22s\tremaining: 5.92s\n",
      "4900:\tlearn: 0.8790167\ttest: 0.7256542\tbest: 0.7264339 (4828)\ttotal: 2m 25s\tremaining: 2.94s\n",
      "4999:\tlearn: 0.8816547\ttest: 0.7249987\tbest: 0.7264339 (4828)\ttotal: 2m 28s\tremaining: 0us\n",
      "bestTest = 0.7264339341\n",
      "bestIteration = 4828\n",
      "Shrink model to first 4829 iterations.\n",
      "0:\tlearn: 0.5868825\ttest: 0.5552883\tbest: 0.5552883 (0)\ttotal: 79.4ms\tremaining: 6m 36s\n",
      "100:\tlearn: 0.6666262\ttest: 0.6399878\tbest: 0.6399878 (100)\ttotal: 6.25s\tremaining: 5m 3s\n",
      "200:\tlearn: 0.6957844\ttest: 0.6650931\tbest: 0.6650931 (195)\ttotal: 11.8s\tremaining: 4m 40s\n",
      "300:\tlearn: 0.7060676\ttest: 0.6637646\tbest: 0.6650931 (195)\ttotal: 15.9s\tremaining: 4m 8s\n",
      "400:\tlearn: 0.7144706\ttest: 0.6627615\tbest: 0.6653301 (332)\ttotal: 19.5s\tremaining: 3m 43s\n",
      "500:\tlearn: 0.7194914\ttest: 0.6627934\tbest: 0.6653301 (332)\ttotal: 22.8s\tremaining: 3m 24s\n",
      "600:\tlearn: 0.7263698\ttest: 0.6658593\tbest: 0.6683143 (593)\ttotal: 26.1s\tremaining: 3m 11s\n",
      "700:\tlearn: 0.7307190\ttest: 0.6692174\tbest: 0.6707223 (680)\ttotal: 29.3s\tremaining: 2m 59s\n",
      "800:\tlearn: 0.7340581\ttest: 0.6681437\tbest: 0.6707223 (680)\ttotal: 32.5s\tremaining: 2m 50s\n",
      "900:\tlearn: 0.7366764\ttest: 0.6680263\tbest: 0.6707223 (680)\ttotal: 35.6s\tremaining: 2m 41s\n",
      "1000:\tlearn: 0.7412729\ttest: 0.6673818\tbest: 0.6707223 (680)\ttotal: 38.8s\tremaining: 2m 34s\n",
      "1100:\tlearn: 0.7463577\ttest: 0.6699570\tbest: 0.6707223 (680)\ttotal: 41.9s\tremaining: 2m 28s\n",
      "1200:\tlearn: 0.7497157\ttest: 0.6730846\tbest: 0.6732373 (1135)\ttotal: 45s\tremaining: 2m 22s\n",
      "1300:\tlearn: 0.7562685\ttest: 0.6724377\tbest: 0.6738166 (1252)\ttotal: 48.2s\tremaining: 2m 17s\n",
      "1400:\tlearn: 0.7609288\ttest: 0.6721944\tbest: 0.6738166 (1252)\ttotal: 51.3s\tremaining: 2m 11s\n",
      "1500:\tlearn: 0.7646926\ttest: 0.6699602\tbest: 0.6738166 (1252)\ttotal: 54.4s\tremaining: 2m 6s\n",
      "1600:\tlearn: 0.7691322\ttest: 0.6723854\tbest: 0.6738166 (1252)\ttotal: 57.6s\tremaining: 2m 2s\n",
      "1700:\tlearn: 0.7724054\ttest: 0.6723601\tbest: 0.6738166 (1252)\ttotal: 1m\tremaining: 1m 57s\n",
      "1800:\tlearn: 0.7747781\ttest: 0.6714137\tbest: 0.6738166 (1252)\ttotal: 1m 3s\tremaining: 1m 53s\n",
      "1900:\tlearn: 0.7797819\ttest: 0.6714268\tbest: 0.6738166 (1252)\ttotal: 1m 6s\tremaining: 1m 49s\n",
      "2000:\tlearn: 0.7817762\ttest: 0.6729939\tbest: 0.6738166 (1252)\ttotal: 1m 10s\tremaining: 1m 44s\n",
      "2100:\tlearn: 0.7846694\ttest: 0.6753789\tbest: 0.6754354 (2055)\ttotal: 1m 13s\tremaining: 1m 40s\n",
      "2200:\tlearn: 0.7887502\ttest: 0.6740353\tbest: 0.6754354 (2055)\ttotal: 1m 16s\tremaining: 1m 37s\n",
      "2300:\tlearn: 0.7921418\ttest: 0.6739829\tbest: 0.6754354 (2055)\ttotal: 1m 19s\tremaining: 1m 33s\n"
     ]
    },
    {
     "name": "stdout",
     "output_type": "stream",
     "text": [
      "2400:\tlearn: 0.7933445\ttest: 0.6715397\tbest: 0.6754354 (2055)\ttotal: 1m 22s\tremaining: 1m 29s\n",
      "2500:\tlearn: 0.7956723\ttest: 0.6730276\tbest: 0.6754354 (2055)\ttotal: 1m 25s\tremaining: 1m 25s\n",
      "2600:\tlearn: 0.7983320\ttest: 0.6731282\tbest: 0.6754354 (2055)\ttotal: 1m 28s\tremaining: 1m 21s\n",
      "2700:\tlearn: 0.8045788\ttest: 0.6730016\tbest: 0.6754354 (2055)\ttotal: 1m 32s\tremaining: 1m 18s\n",
      "2800:\tlearn: 0.8055665\ttest: 0.6738613\tbest: 0.6754354 (2055)\ttotal: 1m 35s\tremaining: 1m 14s\n",
      "2900:\tlearn: 0.8091517\ttest: 0.6722668\tbest: 0.6754354 (2055)\ttotal: 1m 38s\tremaining: 1m 11s\n",
      "3000:\tlearn: 0.8131019\ttest: 0.6722303\tbest: 0.6754354 (2055)\ttotal: 1m 41s\tremaining: 1m 7s\n",
      "3100:\tlearn: 0.8151003\ttest: 0.6723103\tbest: 0.6754354 (2055)\ttotal: 1m 44s\tremaining: 1m 4s\n",
      "3200:\tlearn: 0.8194661\ttest: 0.6728493\tbest: 0.6754354 (2055)\ttotal: 1m 47s\tremaining: 1m\n",
      "3300:\tlearn: 0.8221324\ttest: 0.6738699\tbest: 0.6754354 (2055)\ttotal: 1m 51s\tremaining: 57.2s\n",
      "3400:\tlearn: 0.8251502\ttest: 0.6746964\tbest: 0.6754354 (2055)\ttotal: 1m 54s\tremaining: 53.7s\n",
      "3500:\tlearn: 0.8301127\ttest: 0.6780600\tbest: 0.6780600 (3499)\ttotal: 1m 57s\tremaining: 50.3s\n",
      "3600:\tlearn: 0.8341531\ttest: 0.6774316\tbest: 0.6780600 (3499)\ttotal: 2m\tremaining: 46.8s\n",
      "3700:\tlearn: 0.8481944\ttest: 0.6839457\tbest: 0.6861088 (3673)\ttotal: 2m 3s\tremaining: 43.5s\n",
      "3800:\tlearn: 0.8562637\ttest: 0.6905674\tbest: 0.6919685 (3771)\ttotal: 2m 7s\tremaining: 40.1s\n",
      "3900:\tlearn: 0.8608661\ttest: 0.6904018\tbest: 0.6919685 (3771)\ttotal: 2m 10s\tremaining: 36.7s\n",
      "4000:\tlearn: 0.8638109\ttest: 0.6904417\tbest: 0.6919685 (3771)\ttotal: 2m 13s\tremaining: 33.4s\n",
      "4100:\tlearn: 0.8687865\ttest: 0.6910748\tbest: 0.6919685 (3771)\ttotal: 2m 16s\tremaining: 30s\n",
      "4200:\tlearn: 0.8717847\ttest: 0.6925207\tbest: 0.6926808 (4140)\ttotal: 2m 20s\tremaining: 26.6s\n",
      "4300:\tlearn: 0.8763630\ttest: 0.6934314\tbest: 0.6935071 (4254)\ttotal: 2m 23s\tremaining: 23.3s\n",
      "4400:\tlearn: 0.8783215\ttest: 0.6934305\tbest: 0.6942165 (4303)\ttotal: 2m 26s\tremaining: 19.9s\n",
      "4500:\tlearn: 0.8822892\ttest: 0.6950854\tbest: 0.6966436 (4493)\ttotal: 2m 29s\tremaining: 16.6s\n",
      "4600:\tlearn: 0.8839324\ttest: 0.6967645\tbest: 0.6974609 (4536)\ttotal: 2m 32s\tremaining: 13.3s\n",
      "4700:\tlearn: 0.8859012\ttest: 0.6975831\tbest: 0.6975831 (4700)\ttotal: 2m 36s\tremaining: 9.93s\n",
      "4800:\tlearn: 0.8904951\ttest: 0.6959579\tbest: 0.6976343 (4735)\ttotal: 2m 39s\tremaining: 6.6s\n",
      "4900:\tlearn: 0.8918175\ttest: 0.6973832\tbest: 0.6976343 (4735)\ttotal: 2m 42s\tremaining: 3.28s\n",
      "4999:\tlearn: 0.8934545\ttest: 0.6966561\tbest: 0.6976343 (4735)\ttotal: 2m 45s\tremaining: 0us\n",
      "bestTest = 0.6976342951\n",
      "bestIteration = 4735\n",
      "Shrink model to first 4736 iterations.\n",
      "0:\tlearn: 0.5553479\ttest: 0.5813997\tbest: 0.5813997 (0)\ttotal: 63.3ms\tremaining: 5m 16s\n",
      "100:\tlearn: 0.6130370\ttest: 0.6079122\tbest: 0.6083338 (99)\ttotal: 6.54s\tremaining: 5m 17s\n",
      "200:\tlearn: 0.6592158\ttest: 0.6223230\tbest: 0.6253693 (189)\ttotal: 12.2s\tremaining: 4m 51s\n",
      "300:\tlearn: 0.6783244\ttest: 0.6256289\tbest: 0.6285974 (238)\ttotal: 16.5s\tremaining: 4m 17s\n",
      "400:\tlearn: 0.6904139\ttest: 0.6280134\tbest: 0.6285974 (238)\ttotal: 20.2s\tremaining: 3m 52s\n",
      "500:\tlearn: 0.6977887\ttest: 0.6346611\tbest: 0.6355507 (499)\ttotal: 23.9s\tremaining: 3m 34s\n",
      "600:\tlearn: 0.7041355\ttest: 0.6387395\tbest: 0.6394573 (589)\ttotal: 27.5s\tremaining: 3m 21s\n",
      "700:\tlearn: 0.7087269\ttest: 0.6380018\tbest: 0.6410862 (617)\ttotal: 31.1s\tremaining: 3m 10s\n",
      "800:\tlearn: 0.7141066\ttest: 0.6400189\tbest: 0.6410862 (617)\ttotal: 34.7s\tremaining: 3m 1s\n",
      "900:\tlearn: 0.7164928\ttest: 0.6419405\tbest: 0.6419405 (900)\ttotal: 38.1s\tremaining: 2m 53s\n",
      "1000:\tlearn: 0.7205071\ttest: 0.6423876\tbest: 0.6433265 (949)\ttotal: 41.7s\tremaining: 2m 46s\n",
      "1100:\tlearn: 0.7261735\ttest: 0.6423947\tbest: 0.6433265 (949)\ttotal: 45.2s\tremaining: 2m 39s\n",
      "1200:\tlearn: 0.7302503\ttest: 0.6461620\tbest: 0.6461620 (1198)\ttotal: 48.7s\tremaining: 2m 33s\n",
      "1300:\tlearn: 0.7323062\ttest: 0.6475434\tbest: 0.6483694 (1222)\ttotal: 52.2s\tremaining: 2m 28s\n",
      "1400:\tlearn: 0.7358557\ttest: 0.6470593\tbest: 0.6493646 (1364)\ttotal: 55.6s\tremaining: 2m 22s\n",
      "1500:\tlearn: 0.7385581\ttest: 0.6484961\tbest: 0.6493646 (1364)\ttotal: 59s\tremaining: 2m 17s\n",
      "1600:\tlearn: 0.7469327\ttest: 0.6492202\tbest: 0.6493646 (1364)\ttotal: 1m 2s\tremaining: 2m 12s\n",
      "1700:\tlearn: 0.7518904\ttest: 0.6486169\tbest: 0.6493646 (1364)\ttotal: 1m 5s\tremaining: 2m 7s\n",
      "1800:\tlearn: 0.7559692\ttest: 0.6518864\tbest: 0.6518864 (1799)\ttotal: 1m 9s\tremaining: 2m 3s\n",
      "1900:\tlearn: 0.7611248\ttest: 0.6519504\tbest: 0.6527962 (1885)\ttotal: 1m 13s\tremaining: 1m 59s\n",
      "2000:\tlearn: 0.7666134\ttest: 0.6528828\tbest: 0.6535649 (1993)\ttotal: 1m 16s\tremaining: 1m 54s\n",
      "2100:\tlearn: 0.7706987\ttest: 0.6550826\tbest: 0.6552065 (2030)\ttotal: 1m 19s\tremaining: 1m 50s\n",
      "2200:\tlearn: 0.7737084\ttest: 0.6558701\tbest: 0.6560458 (2137)\ttotal: 1m 23s\tremaining: 1m 46s\n",
      "2300:\tlearn: 0.7778666\ttest: 0.6558169\tbest: 0.6573765 (2289)\ttotal: 1m 27s\tremaining: 1m 42s\n",
      "2400:\tlearn: 0.7802552\ttest: 0.6557984\tbest: 0.6573765 (2289)\ttotal: 1m 30s\tremaining: 1m 37s\n",
      "2500:\tlearn: 0.7836062\ttest: 0.6541907\tbest: 0.6573765 (2289)\ttotal: 1m 33s\tremaining: 1m 33s\n",
      "2600:\tlearn: 0.7889334\ttest: 0.6534174\tbest: 0.6573765 (2289)\ttotal: 1m 37s\tremaining: 1m 29s\n",
      "2700:\tlearn: 0.7916003\ttest: 0.6536316\tbest: 0.6573765 (2289)\ttotal: 1m 41s\tremaining: 1m 25s\n",
      "2800:\tlearn: 0.7951855\ttest: 0.6527650\tbest: 0.6573765 (2289)\ttotal: 1m 44s\tremaining: 1m 22s\n",
      "2900:\tlearn: 0.7994153\ttest: 0.6543237\tbest: 0.6573765 (2289)\ttotal: 1m 48s\tremaining: 1m 18s\n",
      "3000:\tlearn: 0.8044201\ttest: 0.6534678\tbest: 0.6573765 (2289)\ttotal: 1m 51s\tremaining: 1m 14s\n",
      "3100:\tlearn: 0.8082697\ttest: 0.6556248\tbest: 0.6573765 (2289)\ttotal: 1m 55s\tremaining: 1m 10s\n",
      "3200:\tlearn: 0.8129259\ttest: 0.6563278\tbest: 0.6578840 (3120)\ttotal: 1m 59s\tremaining: 1m 6s\n",
      "3300:\tlearn: 0.8155480\ttest: 0.6563449\tbest: 0.6578840 (3120)\ttotal: 2m 2s\tremaining: 1m 3s\n",
      "3400:\tlearn: 0.8188438\ttest: 0.6566749\tbest: 0.6578840 (3120)\ttotal: 2m 6s\tremaining: 59.3s\n",
      "3500:\tlearn: 0.8214120\ttest: 0.6564551\tbest: 0.6578840 (3120)\ttotal: 2m 9s\tremaining: 55.5s\n",
      "3600:\tlearn: 0.8253945\ttest: 0.6557256\tbest: 0.6578840 (3120)\ttotal: 2m 13s\tremaining: 51.7s\n",
      "3700:\tlearn: 0.8280570\ttest: 0.6565557\tbest: 0.6578840 (3120)\ttotal: 2m 16s\tremaining: 47.9s\n",
      "3800:\tlearn: 0.8326953\ttest: 0.6556692\tbest: 0.6580505 (3724)\ttotal: 2m 20s\tremaining: 44.2s\n",
      "3900:\tlearn: 0.8352734\ttest: 0.6572048\tbest: 0.6580505 (3724)\ttotal: 2m 23s\tremaining: 40.5s\n",
      "4000:\tlearn: 0.8392492\ttest: 0.6579827\tbest: 0.6580505 (3724)\ttotal: 2m 27s\tremaining: 36.7s\n",
      "4100:\tlearn: 0.8412206\ttest: 0.6556165\tbest: 0.6586470 (4031)\ttotal: 2m 30s\tremaining: 33s\n",
      "4200:\tlearn: 0.8451575\ttest: 0.6556165\tbest: 0.6586470 (4031)\ttotal: 2m 34s\tremaining: 29.3s\n",
      "4300:\tlearn: 0.8468035\ttest: 0.6562795\tbest: 0.6586470 (4031)\ttotal: 2m 37s\tremaining: 25.6s\n",
      "4400:\tlearn: 0.8510234\ttest: 0.6563787\tbest: 0.6586470 (4031)\ttotal: 2m 41s\tremaining: 21.9s\n",
      "4500:\tlearn: 0.8523914\ttest: 0.6578918\tbest: 0.6586470 (4031)\ttotal: 2m 44s\tremaining: 18.3s\n",
      "4600:\tlearn: 0.8553585\ttest: 0.6578206\tbest: 0.6586470 (4031)\ttotal: 2m 48s\tremaining: 14.6s\n",
      "4700:\tlearn: 0.8566417\ttest: 0.6586109\tbest: 0.6593252 (4695)\ttotal: 2m 51s\tremaining: 10.9s\n",
      "4800:\tlearn: 0.8592788\ttest: 0.6600831\tbest: 0.6600831 (4711)\ttotal: 2m 55s\tremaining: 7.27s\n",
      "4900:\tlearn: 0.8625256\ttest: 0.6593688\tbest: 0.6600831 (4711)\ttotal: 2m 58s\tremaining: 3.61s\n",
      "4999:\tlearn: 0.8638674\ttest: 0.6601808\tbest: 0.6608494 (4924)\ttotal: 3m 2s\tremaining: 0us\n",
      "bestTest = 0.6608494221\n",
      "bestIteration = 4924\n",
      "Shrink model to first 4925 iterations.\n",
      "0:\tlearn: 0.4942403\ttest: 0.5427287\tbest: 0.5427287 (0)\ttotal: 57.4ms\tremaining: 4m 47s\n",
      "100:\tlearn: 0.5888121\ttest: 0.6106900\tbest: 0.6130953 (97)\ttotal: 6.3s\tremaining: 5m 5s\n",
      "200:\tlearn: 0.6345799\ttest: 0.6283074\tbest: 0.6283646 (189)\ttotal: 13s\tremaining: 5m 9s\n",
      "300:\tlearn: 0.6550807\ttest: 0.6323943\tbest: 0.6332714 (261)\ttotal: 18.4s\tremaining: 4m 46s\n",
      "400:\tlearn: 0.6637563\ttest: 0.6322787\tbest: 0.6346537 (307)\ttotal: 22.8s\tremaining: 4m 21s\n",
      "500:\tlearn: 0.6699552\ttest: 0.6308759\tbest: 0.6346537 (307)\ttotal: 27s\tremaining: 4m 2s\n",
      "600:\tlearn: 0.6963473\ttest: 0.6341126\tbest: 0.6348441 (597)\ttotal: 31.5s\tremaining: 3m 50s\n",
      "700:\tlearn: 0.7104897\ttest: 0.6412155\tbest: 0.6427217 (691)\ttotal: 35.6s\tremaining: 3m 38s\n",
      "800:\tlearn: 0.7175969\ttest: 0.6450587\tbest: 0.6450587 (795)\ttotal: 39.6s\tremaining: 3m 27s\n"
     ]
    },
    {
     "name": "stdout",
     "output_type": "stream",
     "text": [
      "900:\tlearn: 0.7271508\ttest: 0.6466904\tbest: 0.6474548 (887)\ttotal: 43.5s\tremaining: 3m 17s\n",
      "1000:\tlearn: 0.7314921\ttest: 0.6466196\tbest: 0.6474971 (913)\ttotal: 47.4s\tremaining: 3m 9s\n",
      "1100:\tlearn: 0.7376048\ttest: 0.6490466\tbest: 0.6505763 (1065)\ttotal: 51.3s\tremaining: 3m 1s\n",
      "1200:\tlearn: 0.7455434\ttest: 0.6490349\tbest: 0.6505763 (1065)\ttotal: 55.4s\tremaining: 2m 55s\n",
      "1300:\tlearn: 0.7491870\ttest: 0.6504411\tbest: 0.6512228 (1276)\ttotal: 59.3s\tremaining: 2m 48s\n",
      "1400:\tlearn: 0.7537655\ttest: 0.6505300\tbest: 0.6519311 (1320)\ttotal: 1m 3s\tremaining: 2m 42s\n",
      "1500:\tlearn: 0.7599734\ttest: 0.6497514\tbest: 0.6519311 (1320)\ttotal: 1m 7s\tremaining: 2m 36s\n",
      "1600:\tlearn: 0.7652576\ttest: 0.6518501\tbest: 0.6526913 (1577)\ttotal: 1m 11s\tremaining: 2m 31s\n",
      "1700:\tlearn: 0.7698039\ttest: 0.6502713\tbest: 0.6526913 (1577)\ttotal: 1m 15s\tremaining: 2m 25s\n",
      "1800:\tlearn: 0.7760727\ttest: 0.6510534\tbest: 0.6526913 (1577)\ttotal: 1m 19s\tremaining: 2m 20s\n",
      "1900:\tlearn: 0.7826074\ttest: 0.6526487\tbest: 0.6526913 (1577)\ttotal: 1m 22s\tremaining: 2m 14s\n",
      "2000:\tlearn: 0.7872765\ttest: 0.6550186\tbest: 0.6550186 (2000)\ttotal: 1m 26s\tremaining: 2m 9s\n",
      "2100:\tlearn: 0.7906139\ttest: 0.6542406\tbest: 0.6550186 (2000)\ttotal: 1m 30s\tremaining: 2m 4s\n",
      "2200:\tlearn: 0.7946165\ttest: 0.6534806\tbest: 0.6550186 (2000)\ttotal: 1m 34s\tremaining: 1m 59s\n",
      "2300:\tlearn: 0.7995172\ttest: 0.6553130\tbest: 0.6560723 (2288)\ttotal: 1m 38s\tremaining: 1m 55s\n",
      "2400:\tlearn: 0.8048034\ttest: 0.6560550\tbest: 0.6561055 (2323)\ttotal: 1m 41s\tremaining: 1m 50s\n",
      "2500:\tlearn: 0.8097689\ttest: 0.6552790\tbest: 0.6575890 (2462)\ttotal: 1m 45s\tremaining: 1m 45s\n",
      "2600:\tlearn: 0.8127502\ttest: 0.6544373\tbest: 0.6575890 (2462)\ttotal: 1m 49s\tremaining: 1m 41s\n",
      "2700:\tlearn: 0.8150069\ttest: 0.6537782\tbest: 0.6575890 (2462)\ttotal: 1m 53s\tremaining: 1m 36s\n",
      "2800:\tlearn: 0.8189522\ttest: 0.6590532\tbest: 0.6590532 (2791)\ttotal: 1m 57s\tremaining: 1m 32s\n",
      "2900:\tlearn: 0.8242624\ttest: 0.6612791\tbest: 0.6612791 (2891)\ttotal: 2m 1s\tremaining: 1m 27s\n",
      "3000:\tlearn: 0.8284831\ttest: 0.6597488\tbest: 0.6612791 (2891)\ttotal: 2m 5s\tremaining: 1m 23s\n",
      "3100:\tlearn: 0.8344239\ttest: 0.6589316\tbest: 0.6612791 (2891)\ttotal: 2m 9s\tremaining: 1m 19s\n",
      "3200:\tlearn: 0.8360356\ttest: 0.6589633\tbest: 0.6612791 (2891)\ttotal: 2m 13s\tremaining: 1m 14s\n",
      "3300:\tlearn: 0.8376800\ttest: 0.6590922\tbest: 0.6612791 (2891)\ttotal: 2m 17s\tremaining: 1m 10s\n",
      "3400:\tlearn: 0.8409427\ttest: 0.6605911\tbest: 0.6621653 (3366)\ttotal: 2m 20s\tremaining: 1m 6s\n",
      "3500:\tlearn: 0.8432247\ttest: 0.6613011\tbest: 0.6635120 (3466)\ttotal: 2m 25s\tremaining: 1m 2s\n",
      "3600:\tlearn: 0.8465236\ttest: 0.6635041\tbest: 0.6642891 (3563)\ttotal: 2m 29s\tremaining: 57.9s\n",
      "3700:\tlearn: 0.8504421\ttest: 0.6627814\tbest: 0.6643131 (3613)\ttotal: 2m 32s\tremaining: 53.7s\n",
      "3800:\tlearn: 0.8521172\ttest: 0.6643268\tbest: 0.6658575 (3778)\ttotal: 2m 37s\tremaining: 49.5s\n",
      "3900:\tlearn: 0.8570604\ttest: 0.6650934\tbest: 0.6658825 (3858)\ttotal: 2m 40s\tremaining: 45.3s\n",
      "4000:\tlearn: 0.8612942\ttest: 0.6650385\tbest: 0.6658825 (3858)\ttotal: 2m 44s\tremaining: 41.1s\n",
      "4100:\tlearn: 0.8652718\ttest: 0.6671927\tbest: 0.6671927 (4086)\ttotal: 2m 48s\tremaining: 37s\n",
      "4200:\tlearn: 0.8665543\ttest: 0.6657592\tbest: 0.6671927 (4086)\ttotal: 2m 52s\tremaining: 32.9s\n",
      "4300:\tlearn: 0.8684890\ttest: 0.6642393\tbest: 0.6671927 (4086)\ttotal: 2m 56s\tremaining: 28.7s\n",
      "4400:\tlearn: 0.8717427\ttest: 0.6642967\tbest: 0.6671927 (4086)\ttotal: 3m\tremaining: 24.6s\n",
      "4500:\tlearn: 0.8743417\ttest: 0.6650078\tbest: 0.6671927 (4086)\ttotal: 3m 4s\tremaining: 20.5s\n",
      "4600:\tlearn: 0.8782841\ttest: 0.6642300\tbest: 0.6671927 (4086)\ttotal: 3m 8s\tremaining: 16.3s\n",
      "4700:\tlearn: 0.8802398\ttest: 0.6634680\tbest: 0.6671927 (4086)\ttotal: 3m 12s\tremaining: 12.3s\n",
      "4800:\tlearn: 0.8834925\ttest: 0.6627638\tbest: 0.6671927 (4086)\ttotal: 3m 16s\tremaining: 8.16s\n",
      "4900:\tlearn: 0.8864926\ttest: 0.6619287\tbest: 0.6671927 (4086)\ttotal: 3m 20s\tremaining: 4.06s\n",
      "4999:\tlearn: 0.8907799\ttest: 0.6627010\tbest: 0.6671927 (4086)\ttotal: 3m 24s\tremaining: 0us\n",
      "bestTest = 0.6671926529\n",
      "bestIteration = 4086\n",
      "Shrink model to first 4087 iterations.\n"
     ]
    },
    {
     "data": {
      "text/html": [
       "<div>\n",
       "<style scoped>\n",
       "    .dataframe tbody tr th:only-of-type {\n",
       "        vertical-align: middle;\n",
       "    }\n",
       "\n",
       "    .dataframe tbody tr th {\n",
       "        vertical-align: top;\n",
       "    }\n",
       "\n",
       "    .dataframe thead th {\n",
       "        text-align: right;\n",
       "    }\n",
       "</style>\n",
       "<table border=\"1\" class=\"dataframe\">\n",
       "  <thead>\n",
       "    <tr style=\"text-align: right;\">\n",
       "      <th></th>\n",
       "      <th>количество_тем</th>\n",
       "      <th>catboost_no_TFIDF</th>\n",
       "    </tr>\n",
       "  </thead>\n",
       "  <tbody>\n",
       "    <tr>\n",
       "      <th>0</th>\n",
       "      <td>3</td>\n",
       "      <td>0.812924</td>\n",
       "    </tr>\n",
       "    <tr>\n",
       "      <th>1</th>\n",
       "      <td>4</td>\n",
       "      <td>0.774818</td>\n",
       "    </tr>\n",
       "    <tr>\n",
       "      <th>2</th>\n",
       "      <td>5</td>\n",
       "      <td>0.726434</td>\n",
       "    </tr>\n",
       "    <tr>\n",
       "      <th>3</th>\n",
       "      <td>6</td>\n",
       "      <td>0.697634</td>\n",
       "    </tr>\n",
       "    <tr>\n",
       "      <th>4</th>\n",
       "      <td>7</td>\n",
       "      <td>0.660849</td>\n",
       "    </tr>\n",
       "    <tr>\n",
       "      <th>5</th>\n",
       "      <td>8</td>\n",
       "      <td>0.667193</td>\n",
       "    </tr>\n",
       "  </tbody>\n",
       "</table>\n",
       "</div>"
      ],
      "text/plain": [
       "   количество_тем  catboost_no_TFIDF\n",
       "0               3           0.812924\n",
       "1               4           0.774818\n",
       "2               5           0.726434\n",
       "3               6           0.697634\n",
       "4               7           0.660849\n",
       "5               8           0.667193"
      ]
     },
     "execution_count": 133,
     "metadata": {},
     "output_type": "execute_result"
    }
   ],
   "source": [
    "catboost_top = []\n",
    "list_iter_cat = []\n",
    "for i in range(3, 9):\n",
    "    lda = gensim.models.LdaMulticore(corpus, \n",
    "                                 num_topics=i, \n",
    "                                 id2word=gensim_dictionary, \n",
    "                                 passes=10, random_state=7575)\n",
    "    svm = SVC(probability=True, C=1, gamma=1, kernel='linear')\n",
    "    # Применим функцию к датасету\n",
    "    df3['new_target'] = df3[\"new_processed\"].apply(get_topic, lda=lda)\n",
    "    df3['new_target'] = df3['new_target'].astype('int')\n",
    "\n",
    "    df2['target'] = df3['new_target']\n",
    "    X_train, X_test, y_train, y_test = train_test_split(df2.drop('target', axis=1), \n",
    "                                                    df2['target'], test_size=.3, \n",
    "                                                    random_state=7575)\n",
    "    # Указываем признаки\n",
    "    # Текстовые и категориальные признаки\n",
    "    text_features = ['description_processed','name_processed']\n",
    "    cat_features = ['activity_processed']\n",
    "\n",
    "    train_pool = Pool(\n",
    "    X_train, y_train,\n",
    "    text_features=text_features,\n",
    "    cat_features=cat_features\n",
    "    )\n",
    "\n",
    "    validation_pool = Pool(\n",
    "    X_test, y_test,\n",
    "    text_features=text_features,\n",
    "    cat_features=cat_features\n",
    "    )\n",
    "\n",
    "    model_catb = fit_model(train_pool, validation_pool)\n",
    "    y_catb_pred = model_catb.predict(X_test)\n",
    "    from sklearn.metrics import f1_score\n",
    "    # Добавляем в список оценки f1\n",
    "    catboost_top.append(f1_score(y_test, y_catb_pred, average='weighted'))\n",
    "    list_iter_cat.append(i)\n",
    "    \n",
    "df_cat = pd.DataFrame({'количество_тем': list_iter_cat,\n",
    "                        'catboost_no_TFIDF': catboost_top})\n",
    "\n",
    "df_cat"
   ]
  },
  {
   "cell_type": "markdown",
   "id": "65b68a1b",
   "metadata": {},
   "source": [
    "### Соберем датафрейм с результататами"
   ]
  },
  {
   "cell_type": "code",
   "execution_count": 142,
   "id": "47756d44",
   "metadata": {
    "scrolled": true
   },
   "outputs": [
    {
     "data": {
      "text/html": [
       "<div>\n",
       "<style scoped>\n",
       "    .dataframe tbody tr th:only-of-type {\n",
       "        vertical-align: middle;\n",
       "    }\n",
       "\n",
       "    .dataframe tbody tr th {\n",
       "        vertical-align: top;\n",
       "    }\n",
       "\n",
       "    .dataframe thead th {\n",
       "        text-align: right;\n",
       "    }\n",
       "</style>\n",
       "<table border=\"1\" class=\"dataframe\">\n",
       "  <thead>\n",
       "    <tr style=\"text-align: right;\">\n",
       "      <th></th>\n",
       "      <th>количество_тем</th>\n",
       "      <th>SVM</th>\n",
       "      <th>logreg</th>\n",
       "      <th>knn</th>\n",
       "      <th>catboost</th>\n",
       "      <th>catboost_no_TFIDF</th>\n",
       "    </tr>\n",
       "  </thead>\n",
       "  <tbody>\n",
       "    <tr>\n",
       "      <th>0</th>\n",
       "      <td>3</td>\n",
       "      <td>0.876761</td>\n",
       "      <td>0.856381</td>\n",
       "      <td>0.803785</td>\n",
       "      <td>0.814515</td>\n",
       "      <td>0.812924</td>\n",
       "    </tr>\n",
       "    <tr>\n",
       "      <th>1</th>\n",
       "      <td>4</td>\n",
       "      <td>0.829263</td>\n",
       "      <td>0.848506</td>\n",
       "      <td>0.756301</td>\n",
       "      <td>0.785461</td>\n",
       "      <td>0.774818</td>\n",
       "    </tr>\n",
       "    <tr>\n",
       "      <th>2</th>\n",
       "      <td>5</td>\n",
       "      <td>0.796141</td>\n",
       "      <td>0.800832</td>\n",
       "      <td>0.736424</td>\n",
       "      <td>0.753913</td>\n",
       "      <td>0.726434</td>\n",
       "    </tr>\n",
       "    <tr>\n",
       "      <th>3</th>\n",
       "      <td>6</td>\n",
       "      <td>0.765622</td>\n",
       "      <td>0.779337</td>\n",
       "      <td>0.648797</td>\n",
       "      <td>0.730360</td>\n",
       "      <td>0.697634</td>\n",
       "    </tr>\n",
       "    <tr>\n",
       "      <th>4</th>\n",
       "      <td>7</td>\n",
       "      <td>0.757666</td>\n",
       "      <td>0.761718</td>\n",
       "      <td>0.646847</td>\n",
       "      <td>0.698528</td>\n",
       "      <td>0.660849</td>\n",
       "    </tr>\n",
       "    <tr>\n",
       "      <th>5</th>\n",
       "      <td>8</td>\n",
       "      <td>0.722256</td>\n",
       "      <td>0.731600</td>\n",
       "      <td>0.632749</td>\n",
       "      <td>0.698515</td>\n",
       "      <td>0.667193</td>\n",
       "    </tr>\n",
       "  </tbody>\n",
       "</table>\n",
       "</div>"
      ],
      "text/plain": [
       "   количество_тем       SVM    logreg       knn  catboost  catboost_no_TFIDF\n",
       "0               3  0.876761  0.856381  0.803785  0.814515           0.812924\n",
       "1               4  0.829263  0.848506  0.756301  0.785461           0.774818\n",
       "2               5  0.796141  0.800832  0.736424  0.753913           0.726434\n",
       "3               6  0.765622  0.779337  0.648797  0.730360           0.697634\n",
       "4               7  0.757666  0.761718  0.646847  0.698528           0.660849\n",
       "5               8  0.722256  0.731600  0.632749  0.698515           0.667193"
      ]
     },
     "execution_count": 142,
     "metadata": {},
     "output_type": "execute_result"
    }
   ],
   "source": [
    "df_result = pd.concat([df_topic, df_cat['catboost_no_TFIDF']], axis=1)\n",
    "df_result"
   ]
  },
  {
   "cell_type": "markdown",
   "id": "7e3e0156",
   "metadata": {},
   "source": [
    "### Выводы 11.03.23:\n",
    "\n",
    "1. Не смотря на то, что Catboost имеет встроенный алгоритм обработки текста. Результаты показывают, что он не самый лучший по выбранной метрике. Возможно следует лучше подбирать гиперпараметры.\n",
    "2. Алгоритм случайного леса не участвовал, в сравнении метрики F1. Так как достаточно долго считается. \n",
    "3. Тематическое моделирование проводилось в рамках эксперимента, так как после создания классификатора по текстам, будет создаваться бинарный классификатор уже для user_id и по этому классификатору уже можно отслеживать какое количество разбиений наиболее оптимально.\n",
    "4. Начал писать классификатор по Берту. Также хочу включить его в эксперимент по метрике F1.\n",
    "5. Сокращения типа **Q&A** на данный момент не почищены. Чистить буду путем replace список русско-английских сокращений будет взят с помощью **ChatGPT**\n",
    "6. CatBOOST хорошо работает без преобразования в векторное пространство.\n",
    "7. Naive Baies показал по дефолту 0.58, при использовании countvectorizer 0.7, tf_idf vectorizer 0.67\n",
    "\n",
    "**Последующие стадии работы**\n",
    "Очистить датасет для бинарной классификации. \"пригоден не пригоден\" для учебы \"прикладная информатика\". Желательно исключить `nan` по половому признаку, так как пол скорее всего будет хорошо влиять на предсказание. Сделать сбалансированные выборки. Провести эксперимент с тремя алгоритмами градиентного бустинга CatBoost, LightGBM, XGBBoost.\n",
    "\n",
    "Улучшить результаты с помощью перекрестной кроссвалидации.\n",
    "\n",
    "результаты по предсказанию метки текста можно улучшить с помощью бленденга(смешивания моделей). Результат на данный момент себя не включил, разбираюсь.  \n",
    "\n",
    "\n",
    "###  Выводы (3.03.23)\n",
    "1. Большая сложность возникает в моменте экспертной оценке. Необходимо быть предельно внимательным при оценке. При проставленной оценке легче обнаружить ошибки\n",
    "2. Нужна большая степень очистки текста (в этом моменте все пересмотреть)\n",
    "3. На данный момент сделана простейшая классификация, для улучшения модели можно сделать поиск гиперпараметров (grid search, optuna). Перекрестная кросс-валидация.\n",
    "4. Но на мой взгляд, для улушения качества классификации нужно еще раз пересмотреть разметку. Так как одинаковые метки могут иметь разные баллы и делать более четкое соотношение. Также можно попробовать переразметить для балансировки классов.\n",
    "5. Текст имеет неоднородную структуру. Разная длина, есть пустые значения. Разный язык, попадался английский, арабский...\n",
    "Поэтому модель трансформеров, скорее всего не подойдет или на данный момент пока непонятно, какую предоубученную модель у трансформеров использовать.\n",
    "\n",
    "\n",
    "### Дальнейшие шаги\n",
    "1. Проверка разметки. Проверка чистки данных.\n",
    "2. Предсказанные отметки пойдут во вторую модель для бинарной классификации подходит абитуриент для \" Прикладной математики или нет\"\n",
    "3. Также необходимо протестировать модели бинарной классификации на оценках полученных при помощи разметки и при помощи тематического моделирования. Если данные четко почистить, то вероятно соотношение классов будет лучше. То есть юмор с юмором, программирование с математикой итд."
   ]
  },
  {
   "cell_type": "code",
   "execution_count": null,
   "id": "18360a4f",
   "metadata": {},
   "outputs": [],
   "source": []
  }
 ],
 "metadata": {
  "kernelspec": {
   "display_name": "Python 3",
   "language": "python",
   "name": "python3"
  },
  "language_info": {
   "codemirror_mode": {
    "name": "ipython",
    "version": 3
   },
   "file_extension": ".py",
   "mimetype": "text/x-python",
   "name": "python",
   "nbconvert_exporter": "python",
   "pygments_lexer": "ipython3",
   "version": "3.8.8"
  }
 },
 "nbformat": 4,
 "nbformat_minor": 5
}
